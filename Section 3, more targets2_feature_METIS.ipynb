{
 "cells": [
  {
   "cell_type": "code",
   "execution_count": 81,
   "id": "a9ae7237",
   "metadata": {
    "scrolled": true
   },
   "outputs": [
    {
     "name": "stderr",
     "output_type": "stream",
     "text": [
      "/var/folders/6t/cpjtlkn10wv603vnph9nr3sh0000gn/T/ipykernel_39429/3224924207.py:80: VisibleDeprecationWarning: Creating an ndarray from ragged nested sequences (which is a list-or-tuple of lists-or-tuples-or ndarrays with different lengths or shapes) is deprecated. If you meant to do this, you must specify 'dtype=object' when creating the ndarray.\n",
      "  f_traErgsseccmA=np.array([np.array(f_tra0.ErgsseccmA),np.array(f_tra1.ErgsseccmA),np.array(f_tra2.ErgsseccmA),np.array(f_tra3.ErgsseccmA),np.array(f_tra4.ErgsseccmA),np.array(f_tra5.ErgsseccmA),np.array(f_tra6.ErgsseccmA),np.array(f_tra7.ErgsseccmA),np.array(f_tra8.ErgsseccmA),np.array(f_tra9.ErgsseccmA),np.array(f_tra10.ErgsseccmA),np.array(f_tra11.ErgsseccmA),np.array(f_tra12.ErgsseccmA),np.array(f_tra13.ErgsseccmA),np.array(f_tra14.ErgsseccmA),np.array(f_tra15.ErgsseccmA)])\n",
      "/var/folders/6t/cpjtlkn10wv603vnph9nr3sh0000gn/T/ipykernel_39429/3224924207.py:82: VisibleDeprecationWarning: Creating an ndarray from ragged nested sequences (which is a list-or-tuple of lists-or-tuples-or ndarrays with different lengths or shapes) is deprecated. If you meant to do this, you must specify 'dtype=object' when creating the ndarray.\n",
      "  f_traAng=np.array([np.array(f_tra0.Angstroem / 10000),np.array(f_tra1.Angstroem / 10000),np.array(f_tra2.Angstroem / 10000),np.array(f_tra3.Angstroem / 10000),np.array(f_tra4.Angstroem / 10000),np.array(f_tra5.Angstroem / 10000),np.array(f_tra6.Angstroem / 10000),np.array(f_tra7.Angstroem / 10000),np.array(f_tra8.Angstroem / 10000),np.array(f_tra9.Angstroem / 10000),np.array(f_tra10.Angstroem / 10000),np.array(f_tra11.Angstroem / 10000),np.array(f_tra12.Angstroem / 10000),np.array(f_tra13.Angstroem / 10000),np.array(f_tra14.Angstroem / 10000),np.array(f_tra15.Angstroem / 10000)])\n"
     ]
    }
   ],
   "source": [
    "import numpy as np\n",
    "import pandas as pd\n",
    "import matplotlib.pyplot as plt\n",
    "from astropy import units as u\n",
    "from astropy import constants as const\n",
    "absor1 = pd.read_csv('/Users/huihaoz/Downloads/GeometricA_Earth_HighCloud_UltraRes1.dat', comment = '#', delimiter='\\s+')\n",
    "absor2 = pd.read_csv('/Users/huihaoz/Downloads/mktrans_zmnq_16_15.dat', comment = '#', delimiter='\\s+')\n",
    "pts=pd.read_csv('/Users/huihaoz/Downloads/PT_PES.txt', sep=',')\n",
    "pts[\"Teq\"] = (pts.STK * ((pts.SRadiusSun *  const.R_sun/(2*pts.SMAAU * const.au)))**(1/2) * (1-0.3)**(0.25))\n",
    "pts.iloc[0,8]=181.7\n",
    "pts.iloc[3,8]=351\n",
    "pts.iloc[9,8]=468\n",
    "pts.iloc[11,8]=301\n",
    "# Split a Python List into Chunks using For Loops\n",
    "our_list = np.array(absor1.albH2O[:1079300])\n",
    "chunked_list = list()\n",
    "chunk_size = 251*2*5\n",
    "for i in range(0, len(our_list), chunk_size):\n",
    "    chunked_list.append(our_list[i:i+chunk_size])\n",
    "    \n",
    "our_listwl = np.array(absor1.nm[:1079300] / 1000)\n",
    "chunked_listwl = list()\n",
    "chunk_sizewl = 251*2*5\n",
    "for i in range(0, len(our_listwl), chunk_sizewl):\n",
    "    chunked_listwl.append(our_listwl[i:i+chunk_sizewl])\n",
    "    \n",
    "y_fit_index = np.linspace(0,429,430,dtype = int)\n",
    "wl_fit_index = [np.argmax(chunked_list[i]) for i in y_fit_index] #just for check\n",
    "\n",
    "pn_fit_non = [max(chunked_list[i]) for i in y_fit_index]\n",
    "wl_fit_non = [chunked_listwl[i][np.argmax(chunked_list[i])] for i in y_fit_index]\n",
    "alb_nogas = np.interp(absor1.nm/1000,wl_fit_non,np.array(pn_fit_non))\n",
    "wl_um2 = np.array(absor1.nm[:1079300])/1000 * u.um\n",
    "my_list_norabd = (absor1.totalb / alb_nogas) #normalized abd\n",
    "\n",
    "# Iterate over the list and replace any value greater than 1 with 1\n",
    "for i in range(len(my_list_norabd)):\n",
    "    if my_list_norabd[i] > 1:\n",
    "        my_list_norabd[i] = 1\n",
    "        \n",
    "#balckbody for target planets with normalzed abd\n",
    "tbd_planet=[]\n",
    "\n",
    "for i in range(len(pts.Teq)):\n",
    "    tbd_planet.append(np.array(my_list_norabd[:1079300]) * 2 * const.h *const.c**2 / ((wl_um2)**5 * (np.e**(const.c * const.h / (wl_um2 *const.k_B * pts.Teq[i] * u.K)) - 1)))\n",
    "\n",
    "#distance\n",
    "dis_2 = pts.DistancePC* const.pc\n",
    "\n",
    "#rad\n",
    "d_s_2 = pts.RadiusEar * const.R_earth\n",
    "\n",
    "#solid angle =  pi * r^2 / D^2\n",
    "ste = (d_s_2**2 * np.pi / dis_2**2)\n",
    "tbd_planet_earth = []\n",
    "for i in range(len(tbd_planet)):\n",
    "    tbd_planet_earth.append((tbd_planet[i] * ste[i]).to(u.erg/(u.s * u.cm**2 * u.um)))\n",
    "\n",
    "Flux_tbd_planet_earth =[]\n",
    "for i in range(len(tbd_planet_earth)):\n",
    "    Flux_tbd_planet_earth.append((tbd_planet_earth[i][1:] * np.diff(wl_um2)).to(u.W/u.m**2))\n",
    "\n",
    "\n",
    "f_tra0 = pd.read_csv('/Users/huihaoz/Downloads/lte030.0-5.0-0.0a+0.0.BT-Settl.spec.7.txt', comment = '#', delimiter='\\s+')\n",
    "f_tra1 = pd.read_csv('/Users/huihaoz/Downloads/lte030.0-5.0-0.0a+0.0.BT-Settl.spec.7.txt', comment = '#', delimiter='\\s+')\n",
    "f_tra2 = pd.read_csv('/Users/huihaoz/Downloads/lte036.0-5.0-0.0a+0.0.BT-Settl.spec.7.txt', comment = '#', delimiter='\\s+')\n",
    "f_tra3 = pd.read_csv('/Users/huihaoz/Downloads/lte035.0-5.0-0.0a+0.0.BT-Settl.spec.7.txt', comment = '#', delimiter='\\s+')\n",
    "f_tra4 = pd.read_csv('/Users/huihaoz/Downloads/lte034.0-5.0-0.0a+0.0.BT-Settl.spec.7.txt', comment = '#', delimiter='\\s+')\n",
    "f_tra5 = pd.read_csv('/Users/huihaoz/Downloads/lte037.0-5.0-0.0a+0.0.BT-Settl.spec.7.txt', comment = '#', delimiter='\\s+')\n",
    "f_tra6 = pd.read_csv('/Users/huihaoz/Downloads/lte035.0-5.0-0.0a+0.0.BT-Settl.spec.7.txt', comment = '#', delimiter='\\s+')\n",
    "f_tra7 = pd.read_csv('/Users/huihaoz/Downloads/lte034.0-4.5-0.0a+0.0.BT-Settl.spec.7.txt', comment = '#', delimiter='\\s+')\n",
    "f_tra8 = pd.read_csv('/Users/huihaoz/Downloads/lte030.0-5.0-0.0a+0.0.BT-Settl.spec.7.txt', comment = '#', delimiter='\\s+')\n",
    "f_tra9 = pd.read_csv('/Users/huihaoz/Downloads/lte037.0-5.0-0.0a+0.0.BT-Settl.spec.7.txt', comment = '#', delimiter='\\s+')\n",
    "f_tra10 = pd.read_csv('/Users/huihaoz/Downloads/lte029.0-5.0-0.0a+0.0.BT-Settl.spec.7.txt', comment = '#', delimiter='\\s+')\n",
    "f_tra11 = pd.read_csv('/Users/huihaoz/Downloads/lte032.0-5.0-0.0a+0.0.BT-Settl.spec.7.txt', comment = '#', delimiter='\\s+')\n",
    "f_tra12 = pd.read_csv('/Users/huihaoz/Downloads/lte029.0-5.5-0.0a+0.0.BT-Settl.spec.7.txt', comment = '#', delimiter='\\s+')\n",
    "f_tra13 = pd.read_csv('/Users/huihaoz/Downloads/lte033.0-5.0-0.0a+0.0.BT-Settl.spec.7.txt', comment = '#', delimiter='\\s+')\n",
    "f_tra14 = pd.read_csv('/Users/huihaoz/Downloads/lte026.0-5.0-0.0a+0.0.BT-Settl.spec.7.txt', comment = '#', delimiter='\\s+')\n",
    "f_tra15 = pd.read_csv('/Users/huihaoz/Downloads/lte026.0-5.0-0.0a+0.0.BT-Settl.spec.7.txt', comment = '#', delimiter='\\s+')\n",
    "f_traErgsseccmA=np.array([np.array(f_tra0.ErgsseccmA),np.array(f_tra1.ErgsseccmA),np.array(f_tra2.ErgsseccmA),np.array(f_tra3.ErgsseccmA),np.array(f_tra4.ErgsseccmA),np.array(f_tra5.ErgsseccmA),np.array(f_tra6.ErgsseccmA),np.array(f_tra7.ErgsseccmA),np.array(f_tra8.ErgsseccmA),np.array(f_tra9.ErgsseccmA),np.array(f_tra10.ErgsseccmA),np.array(f_tra11.ErgsseccmA),np.array(f_tra12.ErgsseccmA),np.array(f_tra13.ErgsseccmA),np.array(f_tra14.ErgsseccmA),np.array(f_tra15.ErgsseccmA)])\n",
    "f_tra1_fum0=[10**(i-8) * u.erg/(u.s * u.cm**2 *u.Angstrom) for i in f_traErgsseccmA]\n",
    "f_traAng=np.array([np.array(f_tra0.Angstroem / 10000),np.array(f_tra1.Angstroem / 10000),np.array(f_tra2.Angstroem / 10000),np.array(f_tra3.Angstroem / 10000),np.array(f_tra4.Angstroem / 10000),np.array(f_tra5.Angstroem / 10000),np.array(f_tra6.Angstroem / 10000),np.array(f_tra7.Angstroem / 10000),np.array(f_tra8.Angstroem / 10000),np.array(f_tra9.Angstroem / 10000),np.array(f_tra10.Angstroem / 10000),np.array(f_tra11.Angstroem / 10000),np.array(f_tra12.Angstroem / 10000),np.array(f_tra13.Angstroem / 10000),np.array(f_tra14.Angstroem / 10000),np.array(f_tra15.Angstroem / 10000)])\n"
   ]
  },
  {
   "cell_type": "code",
   "execution_count": 82,
   "id": "f3520984",
   "metadata": {},
   "outputs": [],
   "source": [
    "f_ref_earth_fit =[]\n",
    "for i in range(len(f_tra1_fum0)):\n",
    "    f_ref_earth_fit.append(np.interp(absor1.nm[:1079300]/1000,f_traAng[i],f_tra1_fum0[i]))"
   ]
  },
  {
   "cell_type": "code",
   "execution_count": 83,
   "id": "09b2763b",
   "metadata": {},
   "outputs": [],
   "source": [
    "Flux_surface = []\n",
    "for i in range(len(f_ref_earth_fit)):\n",
    "    Flux_surface.append((f_ref_earth_fit[i][1:] * np.diff(absor1.nm[:1079300]/1000) * u.um).to(u.W/u.m**2))"
   ]
  },
  {
   "cell_type": "code",
   "execution_count": 84,
   "id": "35945d05",
   "metadata": {},
   "outputs": [],
   "source": [
    "#delution factor\n",
    "df = (pts.SRadiusSun * const.R_sun / (pts.SMAAU * const.au))**2\n",
    "\n",
    "#flux of star on planet\n",
    "f_ref_p = np.array(Flux_surface)* np.array(df).reshape(-1,1)\n",
    "\n",
    "#flux of planet on earth, without abd\n",
    "f_ref_earth = f_ref_p* np.pi * np.array(((pts.RadiusEar * const.R_earth)**2 / (4 * np.pi * (pts.DistancePC * const.pc)**2))).reshape(-1,1)\n",
    "f_ref_earth_fit = f_ref_earth \n",
    "\n",
    "modern_earth_abd_fit = np.array(my_list_norabd[1:1079300])*0.3\n",
    "f_ref_planet_earth_fit = [i * modern_earth_abd_fit for i in f_ref_earth_fit] #w/m2\n",
    "\n",
    "#total flux of planet on earth\n",
    "flux_tot = np.array(f_ref_planet_earth_fit)+np.array(Flux_tbd_planet_earth)\n",
    "\n",
    "#target band\n",
    "wl_um_check = np.linspace(3.0,5.6,2600) * u.um\n",
    "\n",
    "#total flux after bin\n",
    "Range_min=wl_um_check-np.diff(wl_um_check)[1]*0.5\n",
    "Range_max=wl_um_check+np.diff(wl_um_check)[1]*0.5\n",
    "bin_range=[]\n",
    "for i in range(len(wl_um_check)):\n",
    "    bin_range.append(np.where((absor1.nm[1:1079300]/1000 < Range_max[i]/u.um) & (absor1.nm[1:1079300]/1000 > Range_min[i]/u.um)))\n",
    "flux_bin = [[],[],[],[],[],[],[],[],[],[],[],[],[],[],[],[]]#W/m**2\n",
    "for a in range(len(flux_tot)):\n",
    "    for i in range(len(bin_range)):\n",
    "        flux_bin[a].append(np.sum(flux_tot[a][bin_range[i]]))\n",
    "        \n",
    "\n",
    "# NO GAS flux\n",
    "#blackbody\n",
    "my_list_Noabd = alb_nogas*0+1\n",
    "tbd_planet_no=[]\n",
    "\n",
    "for i in range(len(pts.Teq)):\n",
    "    tbd_planet_no.append(np.array(my_list_Noabd[:1079300]) * 2 * const.h *const.c**2 / ((wl_um2)**5 * (np.e**(const.c * const.h / (wl_um2 *const.k_B * pts.Teq[i] * u.K)) - 1)))\n",
    "\n",
    "\n",
    "tbd_planet_earth_no = []\n",
    "for i in range(len(tbd_planet_no)):\n",
    "    tbd_planet_earth_no.append((tbd_planet_no[i] * ste[i]).to(u.erg/(u.s * u.cm**2 * u.um)))\n",
    "Flux_tbd_planet_earth_no =[]\n",
    "for i in range(len(tbd_planet_earth_no)):\n",
    "    Flux_tbd_planet_earth_no.append((tbd_planet_earth_no[i][1:] * np.diff(wl_um2)).to(u.W/u.m**2))\n",
    "##\n",
    "#reflection flux\n",
    "modern_earth_abd_fit_no = np.array(my_list_norabd[1:1079300])*0 + 0.3 # a 0.3 albedo assumed\n",
    "f_ref_planet_earth_fit_no = [i * modern_earth_abd_fit_no for i in f_ref_earth_fit]\n",
    "\n",
    "#total and bin\n",
    "flux_tot_no = np.array(f_ref_planet_earth_fit_no)+np.array(Flux_tbd_planet_earth_no)\n",
    "\n",
    "flux_bin_no = [[],[],[],[],[],[],[],[],[],[],[],[],[],[],[],[]]#W/m**2\n",
    "for a in range(len(flux_tot_no)):\n",
    "    for i in range(len(bin_range)):\n",
    "        flux_bin_no[a].append(np.sum(flux_tot_no[a][bin_range[i]]))"
   ]
  },
  {
   "cell_type": "markdown",
   "id": "ab9e01c5",
   "metadata": {},
   "source": [
    "---\n",
    "\n",
    "# Star"
   ]
  },
  {
   "cell_type": "code",
   "execution_count": 85,
   "id": "04d32c30",
   "metadata": {},
   "outputs": [],
   "source": [
    "import numpy as np\n",
    "import pandas as pd\n",
    "import matplotlib.pyplot as plt\n",
    "from astropy import units as u\n",
    "from astropy import constants as const\n",
    "from astropy.nddata import NDData"
   ]
  },
  {
   "cell_type": "code",
   "execution_count": 86,
   "id": "da8754ac",
   "metadata": {},
   "outputs": [],
   "source": [
    "# energy of photon\n",
    "h = const.h\n",
    "wl_um = np.linspace(3.0,5.6,2600) * u.um\n",
    "c = const.c #unit:m/s\n",
    "wl_m = (wl_um).to(u.m)\n",
    "pe_1 = h * c / (wl_um).to(u.um)\n",
    "wl_um_check = np.linspace(3.0,5.6,2600)*u.um"
   ]
  },
  {
   "cell_type": "code",
   "execution_count": 87,
   "id": "c5410217",
   "metadata": {},
   "outputs": [],
   "source": [
    "#delution factor of star on earth\n",
    "df_s = (pts.SRadiusSun * const.R_sun / (pts.DistancePC * const.pc))**2\n",
    "\n",
    "# flux of star on earth and bin\n",
    "f_s = np.array(Flux_surface)*np.array(df_s).reshape(-1,1)\n",
    "f_s_fit = f_s \n",
    "flux_bin_s = [[],[],[],[],[],[],[],[],[],[],[],[],[],[],[],[]]#W/m**2\n",
    "for a in range(len(f_s_fit)):\n",
    "    for i in range(len(bin_range)):\n",
    "        flux_bin_s[a].append(np.sum(f_s_fit[a][bin_range[i]])) #more resolution, more data points, less photon number"
   ]
  },
  {
   "cell_type": "code",
   "execution_count": 253,
   "id": "ad3f2965",
   "metadata": {},
   "outputs": [],
   "source": [
    "R = 1000 # here we set Reseolution = 1000\n",
    "t = 60*26*u.s # here we set time = 1h with unit:s\n",
    "S = (3930 * 0.5)**2 * np.pi *u.cm * u.cm #here we set diameter as the first diameter with unit:cm"
   ]
  },
  {
   "cell_type": "code",
   "execution_count": 254,
   "id": "0ddd82e2",
   "metadata": {},
   "outputs": [],
   "source": [
    "#photon number of star on ELT\n",
    "pn_0_elt=(np.array(flux_bin_s[0])*u.W/u.m**2 *S*t/(pe_1)).to(u.m/u.m)\n",
    "pn_1_elt=(np.array(flux_bin_s[1])*u.W/u.m**2 *S*t/(pe_1)).to(u.m/u.m)\n",
    "pn_2_elt=(np.array(flux_bin_s[2])*u.W/u.m**2 *S*t/(pe_1)).to(u.m/u.m)\n",
    "pn_3_elt=(np.array(flux_bin_s[3])*u.W/u.m**2 *S*t/(pe_1)).to(u.m/u.m)\n",
    "pn_4_elt=(np.array(flux_bin_s[4])*u.W/u.m**2 *S*t/(pe_1)).to(u.m/u.m)\n",
    "pn_5_elt=(np.array(flux_bin_s[5])*u.W/u.m**2 *S*t/(pe_1)).to(u.m/u.m)\n",
    "pn_6_elt=(np.array(flux_bin_s[6])*u.W/u.m**2 *S*t/(pe_1)).to(u.m/u.m)\n",
    "pn_7_elt=(np.array(flux_bin_s[7])*u.W/u.m**2 *S*t/(pe_1)).to(u.m/u.m)\n",
    "pn_8_elt=(np.array(flux_bin_s[8])*u.W/u.m**2 *S*t/(pe_1)).to(u.m/u.m)\n",
    "pn_9_elt=(np.array(flux_bin_s[9])*u.W/u.m**2 *S*t/(pe_1)).to(u.m/u.m)\n",
    "pn_10_elt=(np.array(flux_bin_s[10])*u.W/u.m**2 *S*t/(pe_1)).to(u.m/u.m)\n",
    "pn_11_elt=(np.array(flux_bin_s[11])*u.W/u.m**2 *S*t/(pe_1)).to(u.m/u.m)\n",
    "pn_12_elt=(np.array(flux_bin_s[12])*u.W/u.m**2 *S*t/(pe_1)).to(u.m/u.m)\n",
    "pn_13_elt=(np.array(flux_bin_s[13])*u.W/u.m**2 *S*t/(pe_1)).to(u.m/u.m)\n",
    "pn_14_elt=(np.array(flux_bin_s[14])*u.W/u.m**2 *S*t/(pe_1)).to(u.m/u.m)\n",
    "pn_15_elt=(np.array(flux_bin_s[15])*u.W/u.m**2 *S*t/(pe_1)).to(u.m/u.m)"
   ]
  },
  {
   "cell_type": "code",
   "execution_count": 255,
   "id": "9bec2633",
   "metadata": {},
   "outputs": [],
   "source": [
    "phe_1e=[i * u.W/u.m**2 for i in flux_bin] #new method, f_palnet"
   ]
  },
  {
   "cell_type": "code",
   "execution_count": 256,
   "id": "f5ce9a3b",
   "metadata": {},
   "outputs": [],
   "source": [
    "#photon number of planet on ELT\n",
    "pn_0e_elt=(np.array(phe_1e[0])*u.W/u.m**2 *S*t/(pe_1)).to(u.m/u.m)\n",
    "pn_1e_elt=(np.array(phe_1e[1])*u.W/u.m**2 *S*t/(pe_1)).to(u.m/u.m)\n",
    "pn_2e_elt=(np.array(phe_1e[2])*u.W/u.m**2 *S*t/(pe_1)).to(u.m/u.m)\n",
    "pn_3e_elt=(np.array(phe_1e[3])*u.W/u.m**2 *S*t/(pe_1)).to(u.m/u.m)\n",
    "pn_4e_elt=(np.array(phe_1e[4])*u.W/u.m**2 *S*t/(pe_1)).to(u.m/u.m)\n",
    "pn_5e_elt=(np.array(phe_1e[5])*u.W/u.m**2 *S*t/(pe_1)).to(u.m/u.m)\n",
    "pn_6e_elt=(np.array(phe_1e[6])*u.W/u.m**2 *S*t/(pe_1)).to(u.m/u.m)\n",
    "pn_7e_elt=(np.array(phe_1e[7])*u.W/u.m**2 *S*t/(pe_1)).to(u.m/u.m)\n",
    "pn_8e_elt=(np.array(phe_1e[8])*u.W/u.m**2 *S*t/(pe_1)).to(u.m/u.m)\n",
    "pn_9e_elt=(np.array(phe_1e[9])*u.W/u.m**2 *S*t/(pe_1)).to(u.m/u.m)\n",
    "pn_10e_elt=(np.array(phe_1e[10])*u.W/u.m**2 *S*t/(pe_1)).to(u.m/u.m)\n",
    "pn_11e_elt=(np.array(phe_1e[11])*u.W/u.m**2 *S*t/(pe_1)).to(u.m/u.m)\n",
    "pn_12e_elt=(np.array(phe_1e[12])*u.W/u.m**2 *S*t/(pe_1)).to(u.m/u.m)\n",
    "pn_13e_elt=(np.array(phe_1e[13])*u.W/u.m**2 *S*t/(pe_1)).to(u.m/u.m)\n",
    "pn_14e_elt=(np.array(phe_1e[14])*u.W/u.m**2 *S*t/(pe_1)).to(u.m/u.m)\n",
    "pn_15e_elt=(np.array(phe_1e[15])*u.W/u.m**2 *S*t/(pe_1)).to(u.m/u.m)"
   ]
  },
  {
   "cell_type": "markdown",
   "id": "4248dacf",
   "metadata": {},
   "source": [
    "# Noise"
   ]
  },
  {
   "cell_type": "code",
   "execution_count": 257,
   "id": "f7f9249b",
   "metadata": {},
   "outputs": [],
   "source": [
    "#sky\n",
    "pe_1 = h * c / (wl_um).to(u.um) #energy of photon\n",
    "\n",
    "# solid angle for ELT, working at 2um\n",
    "ste_atmo2 = ((2*u.um / (39.3*u.m))**2 * u.steradian).to(u.arcsec**2) #ste\n",
    "n_s = pd.read_csv('/Users/huihaoz/Documents/reseatch/radiance.dat.txt', comment = '#', delimiter='\\s+')\n",
    "wl_ns = (np.array(n_s[\"wavelength(nm)\"])*u.nm).to(u.um)\n",
    "bri_surface = np.array(n_s[\"ph/sec/arcsec^2/um/m^2\"])*u.ph/(u.m**2 * u.s * u.arcsec**2 *u.um)\n",
    "pe_ns = (h * c /wl_ns).to(u.J)/u.ph\n",
    "st = ste_atmo2\n",
    "\n",
    "#sky flux on earth\n",
    "f_n_s = ((bri_surface *pe_ns).to(u.W/(u.m**2 * u.um * u.steradian))*st*np.diff(wl_ns)[1]).to(u.W/u.m**2)\n",
    "bin_range_n = []\n",
    "\n",
    "for i in range(len(wl_um)):\n",
    "    bin_range_n.append(np.where((wl_ns/u.um < Range_max[i]/u.um) & (wl_ns/u.um > Range_min[i]/u.um)))\n",
    "    \n",
    "#flux of sky after bin\n",
    "f_r_n=[]\n",
    "for i in range(len(bin_range_n)):\n",
    "    f_r_n.append(np.sum(f_n_s[bin_range_n[i]]).value)\n",
    "pe_e = (h * c / wl_um).to(u.J)\n",
    "noif_sky =(np.array(f_r_n)*u.W/u.m**2)\n",
    "\n",
    "#photon number of sky on ELT\n",
    "pnsky_1_elt=(noif_sky*S*t*wl_um/(pe_1*u.um)).to(u.m/u.m)"
   ]
  },
  {
   "cell_type": "code",
   "execution_count": 258,
   "id": "05b0f8c5",
   "metadata": {},
   "outputs": [],
   "source": [
    "trans = pd.read_csv('/Users/huihaoz/Documents/reseatch/transmission.dat.txt', comment = '#', delimiter='\\s+')\n",
    "trans_use = np.interp(wl_um/u.um,trans[\"wavelength(nm)\"]/1000,trans[\"transmission\"])\n",
    "pn_pla_elt=[pn_0e_elt,pn_1e_elt,pn_2e_elt,pn_3e_elt,pn_4e_elt,pn_5e_elt,pn_6e_elt,pn_7e_elt,pn_8e_elt,pn_9e_elt,pn_10e_elt,pn_11e_elt,pn_12e_elt,pn_13e_elt,pn_14e_elt,pn_15e_elt]\n",
    "pn_star_elt=[pn_0_elt,pn_1_elt,pn_2_elt,pn_3_elt,pn_4_elt,pn_5_elt,pn_6_elt,pn_7_elt,pn_8_elt,pn_9_elt,pn_10_elt,pn_11_elt,pn_12_elt,pn_13_elt,pn_14_elt,pn_15_elt]\n",
    "nor_trans = np.random.normal(trans_use,0.001*trans_use)"
   ]
  },
  {
   "cell_type": "code",
   "execution_count": 259,
   "id": "be279303",
   "metadata": {},
   "outputs": [
    {
     "name": "stderr",
     "output_type": "stream",
     "text": [
      "/usr/local/anaconda3/envs/5300-env/lib/python3.9/site-packages/astropy/units/quantity.py:666: RuntimeWarning: divide by zero encountered in true_divide\n",
      "  result = super().__array_ufunc__(function, method, *arrays, **kwargs)\n"
     ]
    }
   ],
   "source": [
    "#noise, includ of dectector(sky, planet, star) and the remove section and transmission\n",
    "c_1 = 10**(-4)\n",
    "n_0 = ((((pn_0e_elt+2*c_1*pn_0_elt)*trans_use+2*pnsky_1_elt)**(1/2) / nor_trans)**2 + (0.01)**2 * pn_0e_elt**2)**(1/2)\n",
    "n_1 = ((((pn_1e_elt+2*c_1*pn_1_elt)*trans_use+2*pnsky_1_elt)**(1/2) / nor_trans)**2 + (0.01)**2 * pn_1e_elt**2)**(1/2)\n",
    "n_2 = ((((pn_2e_elt+2*c_1*pn_2_elt)*trans_use+2*pnsky_1_elt)**(1/2) / nor_trans)**2 + (0.01)**2 * pn_2e_elt**2)**(1/2)\n",
    "n_3 = ((((pn_3e_elt+2*c_1*pn_3_elt)*trans_use+2*pnsky_1_elt)**(1/2) / nor_trans)**2 + (0.01)**2 * pn_3e_elt**2)**(1/2)\n",
    "n_4 = ((((pn_4e_elt+2*c_1*pn_4_elt)*trans_use+2*pnsky_1_elt)**(1/2) / nor_trans)**2 + (0.01)**2 * pn_4e_elt**2)**(1/2)\n",
    "n_5 = ((((pn_5e_elt+2*c_1*pn_5_elt)*trans_use+2*pnsky_1_elt)**(1/2) / nor_trans)**2 + (0.01)**2 * pn_5e_elt**2)**(1/2)\n",
    "n_6 = ((((pn_6e_elt+2*c_1*pn_6_elt)*trans_use+2*pnsky_1_elt)**(1/2) / nor_trans)**2 + (0.01)**2 * pn_6e_elt**2)**(1/2)\n",
    "n_7 = ((((pn_7e_elt+2*c_1*pn_7_elt)*trans_use+2*pnsky_1_elt)**(1/2) / nor_trans)**2 + (0.01)**2 * pn_7e_elt**2)**(1/2)\n",
    "n_8 = ((((pn_8e_elt+2*c_1*pn_8_elt)*trans_use+2*pnsky_1_elt)**(1/2) / nor_trans)**2 + (0.01)**2 * pn_8e_elt**2)**(1/2)\n",
    "n_9 = ((((pn_9e_elt+2*c_1*pn_9_elt)*trans_use+2*pnsky_1_elt)**(1/2) / nor_trans)**2 + (0.01)**2 * pn_9e_elt**2)**(1/2)\n",
    "n_10 = ((((pn_10e_elt+2*c_1*pn_10_elt)*trans_use+2*pnsky_1_elt)**(1/2) / nor_trans)**2 + (0.01)**2 * pn_10e_elt**2)**(1/2)\n",
    "n_11 = ((((pn_11e_elt+2*c_1*pn_11_elt)*trans_use+2*pnsky_1_elt)**(1/2) / nor_trans)**2 + (0.01)**2 * pn_11e_elt**2)**(1/2)\n",
    "n_12 = ((((pn_12e_elt+2*c_1*pn_12_elt)*trans_use+2*pnsky_1_elt)**(1/2) / nor_trans)**2 + (0.01)**2 * pn_12e_elt**2)**(1/2)\n",
    "n_13 = ((((pn_13e_elt+2*c_1*pn_13_elt)*trans_use+2*pnsky_1_elt)**(1/2) / nor_trans)**2 + (0.01)**2 * pn_13e_elt**2)**(1/2)\n",
    "n_14 = ((((pn_14e_elt+2*c_1*pn_14_elt)*trans_use+2*pnsky_1_elt)**(1/2) / nor_trans)**2 + (0.01)**2 * pn_14e_elt**2)**(1/2)\n",
    "n_15 = ((((pn_15e_elt+2*c_1*pn_15_elt)*trans_use+2*pnsky_1_elt)**(1/2) / nor_trans)**2 + (0.01)**2 * pn_15e_elt**2)**(1/2)"
   ]
  },
  {
   "cell_type": "markdown",
   "id": "2fd8c43a",
   "metadata": {},
   "source": [
    "# No gas"
   ]
  },
  {
   "cell_type": "code",
   "execution_count": 260,
   "id": "cb40df65",
   "metadata": {},
   "outputs": [],
   "source": [
    "phe_1e_nogas=[i * u.W/u.m**2 for i in flux_bin_no] #changed"
   ]
  },
  {
   "cell_type": "code",
   "execution_count": 261,
   "id": "9078cb23",
   "metadata": {
    "scrolled": false
   },
   "outputs": [],
   "source": [
    "pn_0e_elt_nogas=(np.array(phe_1e_nogas[0])*u.W/u.m**2 *S*t/(pe_1)).to(u.m/u.m)\n",
    "pn_1e_elt_nogas=(np.array(phe_1e_nogas[1])*u.W/u.m**2 *S*t/(pe_1)).to(u.m/u.m)\n",
    "pn_2e_elt_nogas=(np.array(phe_1e_nogas[2])*u.W/u.m**2 *S*t/(pe_1)).to(u.m/u.m)\n",
    "pn_3e_elt_nogas=(np.array(phe_1e_nogas[3])*u.W/u.m**2 *S*t/(pe_1)).to(u.m/u.m)\n",
    "pn_4e_elt_nogas=(np.array(phe_1e_nogas[4])*u.W/u.m**2 *S*t/(pe_1)).to(u.m/u.m)\n",
    "pn_5e_elt_nogas=(np.array(phe_1e_nogas[5])*u.W/u.m**2 *S*t/(pe_1)).to(u.m/u.m)\n",
    "pn_6e_elt_nogas=(np.array(phe_1e_nogas[6])*u.W/u.m**2 *S*t/(pe_1)).to(u.m/u.m)\n",
    "pn_7e_elt_nogas=(np.array(phe_1e_nogas[7])*u.W/u.m**2 *S*t/(pe_1)).to(u.m/u.m)\n",
    "pn_8e_elt_nogas=(np.array(phe_1e_nogas[8])*u.W/u.m**2 *S*t/(pe_1)).to(u.m/u.m)\n",
    "pn_9e_elt_nogas=(np.array(phe_1e_nogas[9])*u.W/u.m**2 *S*t/(pe_1)).to(u.m/u.m)\n",
    "pn_10e_elt_nogas=(np.array(phe_1e_nogas[10])*u.W/u.m**2 *S*t/(pe_1)).to(u.m/u.m)\n",
    "pn_11e_elt_nogas=(np.array(phe_1e_nogas[11])*u.W/u.m**2 *S*t/(pe_1)).to(u.m/u.m)\n",
    "pn_12e_elt_nogas=(np.array(phe_1e_nogas[12])*u.W/u.m**2 *S*t/(pe_1)).to(u.m/u.m)\n",
    "pn_13e_elt_nogas=(np.array(phe_1e_nogas[13])*u.W/u.m**2 *S*t/(pe_1)).to(u.m/u.m)\n",
    "pn_14e_elt_nogas=(np.array(phe_1e_nogas[14])*u.W/u.m**2 *S*t/(pe_1)).to(u.m/u.m)\n",
    "pn_15e_elt_nogas=(np.array(phe_1e_nogas[15])*u.W/u.m**2 *S*t/(pe_1)).to(u.m/u.m)"
   ]
  },
  {
   "cell_type": "code",
   "execution_count": 262,
   "id": "09fa1bf8",
   "metadata": {},
   "outputs": [],
   "source": [
    "\n",
    "dn = np.array([pn_0e_elt_nogas-pn_0e_elt,pn_1e_elt_nogas-pn_1e_elt,pn_2e_elt_nogas-pn_2e_elt,pn_3e_elt_nogas-pn_3e_elt,pn_4e_elt_nogas-pn_4e_elt,pn_5e_elt_nogas-pn_5e_elt,pn_6e_elt_nogas-pn_6e_elt,pn_7e_elt_nogas-pn_7e_elt,pn_8e_elt_nogas-pn_8e_elt,pn_9e_elt_nogas-pn_9e_elt,pn_10e_elt_nogas-pn_10e_elt,pn_11e_elt_nogas-pn_11e_elt,pn_12e_elt_nogas-pn_12e_elt,pn_13e_elt_nogas-pn_13e_elt,pn_14e_elt_nogas-pn_14e_elt,pn_15e_elt_nogas-pn_15e_elt])\n",
    "dnr = np.array([n_0,n_1,n_2,n_3,n_4,n_5,n_6,n_7,n_8,n_9,n_10,n_11,n_12,n_13,n_14,n_15])"
   ]
  },
  {
   "cell_type": "markdown",
   "id": "132a20b3",
   "metadata": {},
   "source": [
    "# OK, all data debuged(above)\n",
    "---"
   ]
  },
  {
   "cell_type": "code",
   "execution_count": 263,
   "id": "e404c859",
   "metadata": {},
   "outputs": [],
   "source": [
    "h2o_f=(0.3-0.3*(absor1.albH2O[:1079300]/alb_nogas[:1079300]))\n",
    "co2_f=(0.3-0.3*(absor1.albco2[:1079300]/alb_nogas[:1079300]))\n",
    "ch4_f=(0.3-0.3*(absor1.albch4[:1079300]/alb_nogas[:1079300]))\n",
    "o2_f=(0.3-0.3*(absor1.albo2[:1079300]/alb_nogas[:1079300]))"
   ]
  },
  {
   "cell_type": "markdown",
   "id": "c6c1f13b",
   "metadata": {},
   "source": [
    "O2"
   ]
  },
  {
   "cell_type": "code",
   "execution_count": 264,
   "id": "c7874597",
   "metadata": {},
   "outputs": [],
   "source": [
    "# Split a Python List into Chunks using For Loops\n",
    "# find the envolop first\n",
    "our_list = np.array(o2_f)\n",
    "chunked_list = list()\n",
    "chunk_size = 251*5*2\n",
    "for i in range(0, len(our_list), chunk_size):\n",
    "    chunked_list.append(our_list[i:i+chunk_size])\n",
    "    \n",
    "our_listwl = np.array(absor1.nm[:1079300] / 1000)\n",
    "chunked_listwl = list()\n",
    "chunk_sizewl = 251*5*2\n",
    "for i in range(0, len(our_listwl), chunk_sizewl):\n",
    "    chunked_listwl.append(our_listwl[i:i+chunk_sizewl])\n",
    "    \n",
    "y_fit_index = np.linspace(0,429,430,dtype = int)\n",
    "wl_fit_index = [np.argmax(chunked_list[i]) for i in y_fit_index] #just for check\n",
    "\n",
    "pn_fit_non = [max(chunked_list[i]) for i in y_fit_index]\n",
    "wl_fit_non = [chunked_listwl[i][np.argmax(chunked_list[i])] for i in y_fit_index]\n",
    "interp_o2 = np.interp(wl_um/u.um,wl_fit_non,np.array(pn_fit_non))\n",
    "baseline_feat = absor1.albo2[300000]*0.5*0.5\n",
    "ind_o2 = np.where((interp_o2>0.15))"
   ]
  },
  {
   "cell_type": "code",
   "execution_count": 265,
   "id": "9339ce11",
   "metadata": {},
   "outputs": [],
   "source": [
    "# Split a Python List into Chunks using For Loops\n",
    "our_list = np.array(h2o_f)\n",
    "chunked_list = list()\n",
    "chunk_size = 251*5*2\n",
    "for i in range(0, len(our_list), chunk_size):\n",
    "    chunked_list.append(our_list[i:i+chunk_size])\n",
    "    \n",
    "our_listwl = np.array(absor1.nm[:1079300] / 1000)\n",
    "chunked_listwl = list()\n",
    "chunk_sizewl = 251*5*2\n",
    "for i in range(0, len(our_listwl), chunk_sizewl):\n",
    "    chunked_listwl.append(our_listwl[i:i+chunk_sizewl])\n",
    "    \n",
    "y_fit_index = np.linspace(0,429,430,dtype = int)\n",
    "wl_fit_index = [np.argmax(chunked_list[i]) for i in y_fit_index] #just for check\n",
    "\n",
    "pn_fit_non = [max(chunked_list[i]) for i in y_fit_index]\n",
    "wl_fit_non = [chunked_listwl[i][np.argmax(chunked_list[i])] for i in y_fit_index]\n",
    "interp_h2o = np.interp(wl_um/u.um,wl_fit_non,np.array(pn_fit_non))\n",
    "ind_h2o = np.where((interp_h2o>0.15))"
   ]
  },
  {
   "cell_type": "code",
   "execution_count": 266,
   "id": "b24745bd",
   "metadata": {},
   "outputs": [],
   "source": [
    "# Split a Python List into Chunks using For Loops\n",
    "our_list = np.array(ch4_f)\n",
    "chunked_list = list()\n",
    "chunk_size = 251*5*2\n",
    "for i in range(0, len(our_list), chunk_size):\n",
    "    chunked_list.append(our_list[i:i+chunk_size])\n",
    "    \n",
    "our_listwl = np.array(absor1.nm[:1079300] / 1000)\n",
    "chunked_listwl = list()\n",
    "chunk_sizewl = 251*5*2\n",
    "for i in range(0, len(our_listwl), chunk_sizewl):\n",
    "    chunked_listwl.append(our_listwl[i:i+chunk_sizewl])\n",
    "    \n",
    "y_fit_index = np.linspace(0,429,430,dtype = int)\n",
    "wl_fit_index = [np.argmax(chunked_list[i]) for i in y_fit_index] #just for check\n",
    "\n",
    "pn_fit_non = [max(chunked_list[i]) for i in y_fit_index]\n",
    "wl_fit_non = [chunked_listwl[i][np.argmax(chunked_list[i])] for i in y_fit_index]\n",
    "interp_ch4 = np.interp(wl_um/u.um,wl_fit_non,np.array(pn_fit_non))\n",
    "ind_ch4 = np.where((interp_ch4>0.15))"
   ]
  },
  {
   "cell_type": "code",
   "execution_count": 267,
   "id": "efc32027",
   "metadata": {},
   "outputs": [],
   "source": [
    "# Split a Python List into Chunks using For Loops\n",
    "our_list = np.array(co2_f)\n",
    "chunked_list = list()\n",
    "chunk_size = 251*5*2\n",
    "for i in range(0, len(our_list), chunk_size):\n",
    "    chunked_list.append(our_list[i:i+chunk_size])\n",
    "    \n",
    "our_listwl = np.array(absor1.nm[:1079300] / 1000)\n",
    "chunked_listwl = list()\n",
    "chunk_sizewl = 251*5*2\n",
    "for i in range(0, len(our_listwl), chunk_sizewl):\n",
    "    chunked_listwl.append(our_listwl[i:i+chunk_sizewl])\n",
    "    \n",
    "y_fit_index = np.linspace(0,429,430,dtype = int)\n",
    "wl_fit_index = [np.argmax(chunked_list[i]) for i in y_fit_index] #just for check\n",
    "\n",
    "pn_fit_non = [max(chunked_list[i]) for i in y_fit_index]\n",
    "wl_fit_non = [chunked_listwl[i][np.argmax(chunked_list[i])] for i in y_fit_index]\n",
    "interp_co2 = np.interp(wl_um/u.um,wl_fit_non,np.array(pn_fit_non))\n",
    "ind_co2 = np.where((interp_co2>0.15))"
   ]
  },
  {
   "cell_type": "code",
   "execution_count": 268,
   "id": "22b1b638",
   "metadata": {},
   "outputs": [],
   "source": [
    "lisco2 = ind_co2[0].tolist()\n",
    "lish2o = ind_h2o[0].tolist()\n",
    "liso2 = ind_o2[0].tolist()\n",
    "lisch4 = ind_ch4[0].tolist()\n",
    "set1 = set(lisco2)\n",
    "set2 = set(lish2o)\n",
    "set3 = set(liso2)\n",
    "set4 = set(lisch4)\n",
    "common = set1 & set2 | set1 & set3 | set1 & set4 | set2 & set3 | set2 & set4 | set3 & set4\n",
    "\n",
    "set1 -= common\n",
    "set2 -= common\n",
    "set3 -= common\n",
    "set4 -= common\n",
    "\n",
    "indco2 = list(set1)\n",
    "indh2o = list(set2)\n",
    "indo2 = list(set3)\n",
    "indch4 = list(set4)"
   ]
  },
  {
   "cell_type": "code",
   "execution_count": 269,
   "id": "b32b19c7",
   "metadata": {
    "scrolled": true
   },
   "outputs": [
    {
     "data": {
      "text/latex": [
       "$[3.15606,~4.6326279,~4.6906503,~5.1628319] \\; \\mathrm{\\mu m}$"
      ],
      "text/plain": [
       "<Quantity [3.15606002, 4.63262793, 4.69065025, 5.16283186] um>"
      ]
     },
     "execution_count": 269,
     "metadata": {},
     "output_type": "execute_result"
    }
   ],
   "source": [
    "wl_um[np.array(indh2o)[np.where(np.diff(wl_um[indh2o]).value>0.001000385)[0]]]"
   ]
  },
  {
   "cell_type": "code",
   "execution_count": 270,
   "id": "9bbd838d",
   "metadata": {},
   "outputs": [
    {
     "name": "stdout",
     "output_type": "stream",
     "text": [
      "[3.         3.00100038 3.00200077 3.00300115 3.00400154 3.00500192\n",
      " 3.00600231 3.00700269 3.00800308 3.00900346 3.01000385 3.01100423\n",
      " 3.01200462 3.013005   3.01400539 3.01500577 3.01600616 3.01700654\n",
      " 3.01800693 3.01900731 3.0200077  3.02100808 3.02200846 3.02300885\n",
      " 3.02400923 3.02500962 3.02601    3.02701039 3.02801077 3.02901116\n",
      " 3.03001154 3.03101193 3.03201231 3.0330127  3.03401308 3.03501347\n",
      " 3.03601385 3.03701424 3.03801462 3.03901501 3.04001539 3.04101578\n",
      " 3.04201616 3.04301654 3.04401693 3.04501731 3.0460177  3.04701808\n",
      " 3.04801847 3.04901885 3.05001924 3.05101962 3.05202001 3.05302039\n",
      " 3.05402078 3.05502116 3.05602155 3.05702193 3.05802232 3.0590227\n",
      " 3.06002309 3.06102347 3.06202386 3.06302424 3.06402462 3.06502501\n",
      " 3.06602539 3.06702578 3.06802616 3.06902655 3.07002693 3.07102732\n",
      " 3.0720277  3.07302809 3.07402847 3.07502886 3.07602924 3.07702963\n",
      " 3.07803001 3.0790304  3.08003078 3.08103117 3.08203155 3.08303194\n",
      " 3.08403232 3.0850327  3.08603309 3.08703347 3.08803386 3.08903424\n",
      " 3.09003463 3.09103501 3.0920354  3.09303578 3.09403617 3.09503655\n",
      " 3.09603694 3.09703732 3.09803771 3.09903809 3.10003848 3.10103886\n",
      " 3.10203925 3.10303963 3.10404002 3.1050404  3.10604078 3.10704117\n",
      " 3.10804155 3.10904194 3.11004232 3.11104271 3.11204309 3.11304348\n",
      " 3.11404386 3.11504425 3.11604463 3.11704502 3.1180454  3.11904579\n",
      " 3.12004617 3.12104656 3.12204694 3.12304733 3.12404771 3.1250481\n",
      " 3.12604848 3.12704886 3.12804925 3.12904963 3.13005002 3.1310504\n",
      " 3.13205079 3.13305117 3.13405156 3.13505194 3.13605233 3.13705271\n",
      " 3.1380531  3.13905348 3.14005387 3.14105425 3.14205464 3.14305502\n",
      " 3.14405541 3.14505579 3.14605618 3.14705656 3.14805694 3.14905733\n",
      " 3.15005771 3.1510581  3.15205848 3.15305887 3.15405925 3.15505964\n",
      " 3.15606002 4.62362447 4.62462486 4.62562524 4.62662563 4.62762601\n",
      " 4.62862639 4.62962678 4.63062716 4.63162755 4.63262793 4.66363986\n",
      " 4.66464025 4.66564063 4.66664102 4.6676414  4.66864179 4.66964217\n",
      " 4.67064255 4.67164294 4.67264332 4.67364371 4.67464409 4.67564448\n",
      " 4.67664486 4.67764525 4.67864563 4.67964602 4.6806464  4.68164679\n",
      " 4.68264717 4.68364756 4.68464794 4.68564833 4.68664871 4.6876491\n",
      " 4.68864948 4.68964987 4.69065025 4.94874952 4.9497499  4.95075029\n",
      " 4.95175067 4.95275106 4.95375144 4.95475183 4.95575221 4.9567526\n",
      " 4.95775298 4.95875337 4.95975375 4.96075414 4.96175452 4.96275491\n",
      " 4.96375529 4.96475568 4.96575606 4.96675644 4.96775683 4.96875721\n",
      " 4.9697576  4.97075798 4.97175837 4.97275875 4.97375914 4.97475952\n",
      " 4.97575991 4.97676029 4.97776068 4.97876106 4.97976145 4.98076183\n",
      " 4.98176222 4.9827626  4.98376299 4.98476337 4.98576376 4.98676414\n",
      " 4.98776452 4.98876491 4.98976529 4.99076568 4.99176606 4.99276645\n",
      " 4.99376683 4.99476722 4.9957676  4.99676799 4.99776837 4.99876876\n",
      " 4.99976914 5.00076953 5.00176991 5.0027703  5.00377068 5.00477107\n",
      " 5.00577145 5.00677184 5.00777222 5.0087726  5.00977299 5.01077337\n",
      " 5.01177376 5.01277414 5.01377453 5.01477491 5.0157753  5.01677568\n",
      " 5.01777607 5.01877645 5.01977684 5.02077722 5.02177761 5.02277799\n",
      " 5.02377838 5.02477876 5.02577915 5.02677953 5.02777992 5.0287803\n",
      " 5.02978068 5.03078107 5.03178145 5.03278184 5.03378222 5.03478261\n",
      " 5.03578299 5.03678338 5.03778376 5.03878415 5.03978453 5.04078492\n",
      " 5.0417853  5.04278569 5.04378607 5.04478646 5.04578684 5.04678723\n",
      " 5.04778761 5.048788   5.04978838 5.05078876 5.05178915 5.05278953\n",
      " 5.05378992 5.0547903  5.05579069 5.05679107 5.05779146 5.05879184\n",
      " 5.05979223 5.06079261 5.061793   5.06279338 5.06379377 5.06479415\n",
      " 5.06579454 5.06679492 5.06779531 5.06879569 5.06979608 5.07079646\n",
      " 5.07179684 5.07279723 5.07379761 5.074798   5.07579838 5.07679877\n",
      " 5.07779915 5.07879954 5.07979992 5.08080031 5.08180069 5.08280108\n",
      " 5.08380146 5.08480185 5.08580223 5.08680262 5.087803   5.08880339\n",
      " 5.08980377 5.09080416 5.09180454 5.09280492 5.09380531 5.09480569\n",
      " 5.09580608 5.09680646 5.09780685 5.09880723 5.09980762 5.100808\n",
      " 5.10180839 5.10280877 5.10380916 5.10480954 5.10580993 5.10681031\n",
      " 5.1078107  5.10881108 5.10981147 5.11081185 5.11181224 5.11281262\n",
      " 5.11381301 5.11481339 5.11581377 5.11681416 5.11781454 5.11881493\n",
      " 5.11981531 5.1208157  5.12181608 5.12281647 5.12381685 5.12481724\n",
      " 5.12581762 5.12681801 5.12781839 5.12881878 5.12981916 5.13081955\n",
      " 5.13181993 5.13282032 5.1338207  5.13482109 5.13582147 5.13682185\n",
      " 5.13782224 5.13882262 5.13982301 5.14082339 5.14182378 5.14282416\n",
      " 5.14382455 5.14482493 5.14582532 5.1468257  5.14782609 5.14882647\n",
      " 5.14982686 5.15082724 5.15182763 5.15282801 5.1538284  5.15482878\n",
      " 5.15582917 5.15682955 5.15782993 5.15883032 5.1598307  5.16083109\n",
      " 5.16183147 5.16283186 5.26587149 5.26687187 5.26787226 5.26887264\n",
      " 5.26987303 5.27087341 5.2718738  5.27287418 5.27387457 5.27487495\n",
      " 5.27587534 5.27687572 5.27787611 5.27887649 5.27987688 5.28087726\n",
      " 5.28187765 5.28287803 5.28387841 5.2848788  5.28587918 5.28687957\n",
      " 5.28787995 5.28888034 5.28988072 5.29088111 5.29188149 5.29288188\n",
      " 5.29388226 5.29488265 5.29588303 5.29688342 5.2978838  5.29888419\n",
      " 5.29988457 5.30088496 5.30188534 5.30288573 5.30388611 5.30488649\n",
      " 5.30588688 5.30688726 5.30788765 5.30888803 5.30988842 5.3108888\n",
      " 5.31188919 5.31288957 5.31388996 5.31489034 5.31589073 5.31689111\n",
      " 5.3178915  5.31889188 5.31989227 5.32089265 5.32189304 5.32289342\n",
      " 5.32389381 5.32489419 5.32589457 5.32689496 5.32789534 5.32889573\n",
      " 5.32989611 5.3308965  5.33189688 5.33289727 5.33389765 5.33489804\n",
      " 5.33589842 5.33689881 5.33789919 5.33889958 5.33989996 5.34090035\n",
      " 5.34190073 5.34290112 5.3439015  5.34490189 5.34590227 5.34690265\n",
      " 5.34790304 5.34890342 5.34990381 5.35090419 5.35190458 5.35290496\n",
      " 5.35390535 5.35490573 5.35590612 5.3569065  5.35790689 5.35890727\n",
      " 5.35990766 5.36090804 5.36190843 5.36290881 5.3639092  5.36490958\n",
      " 5.36590997 5.36691035 5.36791073 5.36891112 5.3699115  5.37091189\n",
      " 5.37191227 5.37291266 5.37391304 5.37491343 5.37591381 5.3769142\n",
      " 5.37791458 5.37891497 5.37991535 5.38091574 5.38191612 5.38291651\n",
      " 5.38391689 5.38491728 5.38591766 5.38691805 5.38791843 5.38891881\n",
      " 5.3899192  5.39091958 5.39191997 5.39292035 5.39392074 5.39492112\n",
      " 5.39592151 5.39692189 5.39792228 5.39892266 5.39992305 5.40092343\n",
      " 5.40192382 5.4029242  5.40392459 5.40492497 5.40592536 5.40692574\n",
      " 5.40792613 5.40892651 5.40992689 5.41092728 5.41192766 5.41292805\n",
      " 5.41392843 5.41492882 5.4159292  5.41692959 5.41792997 5.41893036\n",
      " 5.41993074 5.42093113 5.42193151 5.4229319  5.42393228 5.42493267\n",
      " 5.42593305 5.42693344 5.42793382 5.42893421 5.42993459 5.43093497\n",
      " 5.43193536 5.43293574 5.43393613 5.43493651 5.4359369  5.43693728\n",
      " 5.43793767 5.43893805 5.43993844 5.44093882 5.44193921 5.44293959\n",
      " 5.44393998 5.44494036 5.44594075 5.44694113 5.44794152 5.4489419\n",
      " 5.44994229 5.45094267 5.45194306 5.45294344 5.45394382 5.45494421\n",
      " 5.45594459 5.45694498 5.45794536 5.45894575 5.45994613 5.46094652\n",
      " 5.4619469  5.46294729 5.46394767 5.46494806 5.46594844 5.46694883\n",
      " 5.46794921 5.4689496  5.46994998 5.47095037 5.47195075 5.47295114\n",
      " 5.47395152 5.4749519  5.47595229 5.47695267 5.47795306 5.47895344\n",
      " 5.47995383 5.48095421 5.4819546  5.48295498 5.48395537 5.48495575\n",
      " 5.48595614 5.48695652 5.48795691 5.48895729 5.48995768 5.49095806\n",
      " 5.49195845 5.49295883 5.49395922 5.4949596  5.49595998 5.49696037\n",
      " 5.49796075 5.49896114 5.49996152 5.50096191 5.50196229 5.50296268\n",
      " 5.50396306 5.50496345 5.50596383 5.50696422 5.5079646  5.50896499\n",
      " 5.50996537 5.51096576 5.51196614 5.51296653 5.51396691 5.5149673\n",
      " 5.51596768 5.51696806 5.51796845 5.51896883 5.51996922 5.5209696\n",
      " 5.52196999 5.52297037 5.52397076 5.52497114 5.52597153 5.52697191\n",
      " 5.5279723  5.52897268 5.52997307 5.53097345 5.53197384 5.53297422\n",
      " 5.53397461 5.53497499 5.53597538 5.53697576 5.53797614 5.53897653\n",
      " 5.53997691 5.5409773  5.54197768 5.54297807 5.54397845 5.54497884\n",
      " 5.54597922 5.54697961 5.54797999 5.54898038 5.54998076 5.55098115\n",
      " 5.55198153 5.55298192 5.5539823  5.55498269 5.55598307 5.55698346\n",
      " 5.55798384 5.55898422 5.55998461 5.56098499 5.56198538 5.56298576\n",
      " 5.56398615 5.56498653 5.56598692 5.5669873  5.56798769 5.56898807\n",
      " 5.56998846 5.57098884 5.57198923 5.57298961 5.57399    5.57499038\n",
      " 5.57599077 5.57699115 5.57799154 5.57899192 5.5799923  5.58099269\n",
      " 5.58199307 5.58299346 5.58399384 5.58499423 5.58599461 5.586995\n",
      " 5.58799538 5.58899577 5.58999615 5.59099654 5.59199692 5.59299731\n",
      " 5.59399769 5.59499808 5.59599846 5.59699885 5.59799923 5.59899962\n",
      " 5.6       ] um\n"
     ]
    }
   ],
   "source": [
    "print(wl_um[indh2o])"
   ]
  },
  {
   "cell_type": "code",
   "execution_count": 271,
   "id": "8c9687dc",
   "metadata": {
    "scrolled": true
   },
   "outputs": [
    {
     "data": {
      "text/latex": [
       "$[4.5095806] \\; \\mathrm{\\mu m}$"
      ],
      "text/plain": [
       "<Quantity [4.50958061] um>"
      ]
     },
     "execution_count": 271,
     "metadata": {},
     "output_type": "execute_result"
    }
   ],
   "source": [
    "wl_um[np.array(indco2)[np.where(np.diff(wl_um[indco2]).value>0.001000385)[0]]]"
   ]
  },
  {
   "cell_type": "code",
   "execution_count": 272,
   "id": "f532e342",
   "metadata": {},
   "outputs": [
    {
     "name": "stdout",
     "output_type": "stream",
     "text": [
      "[4.1684494  4.16944979 4.17045017 4.17145056 4.17245094 4.17345133\n",
      " 4.17445171 4.1754521  4.17645248 4.17745287 4.17845325 4.17945364\n",
      " 4.18045402 4.18145441 4.18245479 4.18345518 4.18445556 4.18545594\n",
      " 4.18645633 4.18745671 4.1884571  4.18945748 4.19045787 4.19145825\n",
      " 4.19245864 4.19345902 4.19445941 4.19545979 4.19646018 4.19746056\n",
      " 4.19846095 4.19946133 4.20046172 4.2014621  4.20246249 4.20346287\n",
      " 4.20446326 4.20546364 4.20646402 4.20746441 4.20846479 4.20946518\n",
      " 4.21046556 4.21146595 4.21246633 4.21346672 4.2144671  4.21546749\n",
      " 4.21646787 4.21746826 4.21846864 4.21946903 4.22046941 4.2214698\n",
      " 4.22247018 4.22347057 4.22447095 4.22547134 4.22647172 4.2274721\n",
      " 4.22847249 4.22947287 4.23047326 4.23147364 4.23247403 4.23347441\n",
      " 4.2344748  4.23547518 4.23647557 4.23747595 4.23847634 4.23947672\n",
      " 4.24047711 4.24147749 4.24247788 4.24347826 4.24447865 4.24547903\n",
      " 4.24647942 4.2474798  4.24848018 4.24948057 4.25048095 4.25148134\n",
      " 4.25248172 4.25348211 4.25448249 4.25548288 4.25648326 4.25748365\n",
      " 4.25848403 4.25948442 4.2604848  4.26148519 4.26248557 4.26348596\n",
      " 4.26448634 4.26548673 4.26648711 4.2674875  4.26848788 4.26948826\n",
      " 4.27048865 4.27148903 4.27248942 4.2734898  4.27449019 4.27549057\n",
      " 4.27649096 4.27749134 4.27849173 4.27949211 4.2804925  4.28149288\n",
      " 4.28249327 4.28349365 4.28449404 4.28549442 4.28649481 4.28749519\n",
      " 4.28849558 4.28949596 4.29049634 4.29149673 4.29249711 4.2934975\n",
      " 4.29449788 4.29549827 4.29649865 4.29749904 4.29849942 4.29949981\n",
      " 4.30050019 4.30150058 4.30250096 4.30350135 4.30450173 4.30550212\n",
      " 4.3065025  4.30750289 4.30850327 4.30950366 4.31050404 4.31150442\n",
      " 4.31250481 4.31350519 4.31450558 4.31550596 4.31650635 4.31750673\n",
      " 4.31850712 4.3195075  4.32050789 4.32150827 4.32250866 4.32350904\n",
      " 4.32450943 4.32550981 4.3265102  4.32751058 4.32851097 4.32951135\n",
      " 4.33051174 4.33151212 4.3325125  4.33351289 4.33451327 4.33551366\n",
      " 4.33651404 4.33751443 4.33851481 4.3395152  4.34051558 4.34151597\n",
      " 4.34251635 4.34351674 4.34451712 4.34551751 4.34651789 4.34751828\n",
      " 4.34851866 4.34951905 4.35051943 4.35151982 4.3525202  4.35352058\n",
      " 4.35452097 4.35552135 4.35652174 4.35752212 4.35852251 4.35952289\n",
      " 4.36052328 4.36152366 4.36252405 4.36352443 4.36452482 4.3655252\n",
      " 4.36652559 4.36752597 4.36852636 4.36952674 4.37052713 4.37152751\n",
      " 4.3725279  4.37352828 4.37452866 4.37552905 4.37652943 4.37752982\n",
      " 4.3785302  4.37953059 4.38053097 4.38153136 4.38253174 4.38353213\n",
      " 4.38453251 4.3855329  4.38653328 4.38753367 4.38853405 4.38953444\n",
      " 4.39053482 4.39153521 4.39253559 4.39353598 4.39453636 4.39553674\n",
      " 4.39653713 4.39753751 4.3985379  4.39953828 4.40053867 4.40153905\n",
      " 4.40253944 4.40353982 4.40454021 4.40554059 4.40654098 4.40754136\n",
      " 4.40854175 4.40954213 4.41054252 4.4115429  4.41254329 4.41354367\n",
      " 4.41454406 4.41554444 4.41654482 4.41754521 4.41854559 4.41954598\n",
      " 4.42054636 4.42154675 4.42254713 4.42354752 4.4245479  4.42554829\n",
      " 4.42654867 4.42754906 4.42854944 4.42954983 4.43055021 4.4315506\n",
      " 4.43255098 4.43355137 4.43455175 4.43555214 4.43655252 4.4375529\n",
      " 4.43855329 4.43955367 4.44055406 4.44155444 4.44255483 4.44355521\n",
      " 4.4445556  4.44555598 4.44655637 4.44755675 4.44855714 4.44955752\n",
      " 4.45055791 4.45155829 4.45255868 4.45355906 4.45455945 4.45555983\n",
      " 4.45656022 4.4575606  4.45856098 4.45956137 4.46056175 4.46156214\n",
      " 4.46256252 4.46356291 4.46456329 4.46556368 4.46656406 4.46756445\n",
      " 4.46856483 4.46956522 4.4705656  4.47156599 4.47256637 4.47356676\n",
      " 4.47456714 4.47556753 4.47656791 4.4775683  4.47856868 4.47956907\n",
      " 4.48056945 4.48156983 4.48257022 4.4835706  4.48457099 4.48557137\n",
      " 4.48657176 4.48757214 4.48857253 4.48957291 4.4905733  4.49157368\n",
      " 4.49257407 4.49357445 4.49457484 4.49557522 4.49657561 4.49757599\n",
      " 4.49857638 4.49957676 4.50057715 4.50157753 4.50257791 4.5035783\n",
      " 4.50457868 4.50557907 4.50657945 4.50757984 4.50858022 4.50958061\n",
      " 4.7596768  4.76067718] um\n"
     ]
    }
   ],
   "source": [
    "print(wl_um[indco2])"
   ]
  },
  {
   "cell_type": "code",
   "execution_count": 273,
   "id": "a81a06f9",
   "metadata": {
    "scrolled": true
   },
   "outputs": [
    {
     "data": {
      "text/latex": [
       "$[3.4061562,~3.7142747,~3.8213159,~3.9173528] \\; \\mathrm{\\mu m}$"
      ],
      "text/plain": [
       "<Quantity [3.40615621, 3.71427472, 3.82131589, 3.91735283] um>"
      ]
     },
     "execution_count": 273,
     "metadata": {},
     "output_type": "execute_result"
    }
   ],
   "source": [
    "wl_um[np.array(indch4)[np.where(np.diff(wl_um[indch4]).value>0.001000385)[0]]]"
   ]
  },
  {
   "cell_type": "code",
   "execution_count": 274,
   "id": "77e472fc",
   "metadata": {},
   "outputs": [
    {
     "name": "stdout",
     "output_type": "stream",
     "text": [
      "[3.38814929 3.38914967 3.39015006 3.39115044 3.39215083 3.39315121\n",
      " 3.3941516  3.39515198 3.39615237 3.39715275 3.39815314 3.39915352\n",
      " 3.40015391 3.40115429 3.40215467 3.40315506 3.40415544 3.40515583\n",
      " 3.40615621 3.40815698 3.40915737 3.41015775 3.41115814 3.41215852\n",
      " 3.41315891 3.41415929 3.41515968 3.41616006 3.41716045 3.41816083\n",
      " 3.41916122 3.4201616  3.42116199 3.42216237 3.42316275 3.42416314\n",
      " 3.42516352 3.42616391 3.42716429 3.42816468 3.42916506 3.43016545\n",
      " 3.43116583 3.43216622 3.4331666  3.43416699 3.43516737 3.43616776\n",
      " 3.43716814 3.43816853 3.43916891 3.4401693  3.44116968 3.44217007\n",
      " 3.44317045 3.44417083 3.44517122 3.4461716  3.44717199 3.44817237\n",
      " 3.44917276 3.45017314 3.45117353 3.45217391 3.4531743  3.45417468\n",
      " 3.45517507 3.45617545 3.45717584 3.45817622 3.45917661 3.46017699\n",
      " 3.46117738 3.46217776 3.46317815 3.46417853 3.46517891 3.4661793\n",
      " 3.46717968 3.46818007 3.46918045 3.47018084 3.47118122 3.47218161\n",
      " 3.47318199 3.47418238 3.47518276 3.47618315 3.47718353 3.47818392\n",
      " 3.4791843  3.48018469 3.48118507 3.48218546 3.48318584 3.48418623\n",
      " 3.48518661 3.48618699 3.48718738 3.48818776 3.48918815 3.49018853\n",
      " 3.49118892 3.4921893  3.49318969 3.49419007 3.49519046 3.49619084\n",
      " 3.49719123 3.49819161 3.499192   3.50019238 3.50119277 3.50219315\n",
      " 3.50319354 3.50419392 3.50519431 3.50619469 3.50719508 3.50819546\n",
      " 3.50919584 3.51019623 3.51119661 3.512197   3.51319738 3.51419777\n",
      " 3.51519815 3.51619854 3.51719892 3.51819931 3.51919969 3.52020008\n",
      " 3.52120046 3.52220085 3.52320123 3.52420162 3.525202   3.52620239\n",
      " 3.52720277 3.52820316 3.52920354 3.53020392 3.53120431 3.53220469\n",
      " 3.53320508 3.53420546 3.53520585 3.53620623 3.53720662 3.538207\n",
      " 3.53920739 3.54020777 3.54120816 3.54220854 3.54320893 3.54420931\n",
      " 3.5452097  3.54621008 3.54721047 3.54821085 3.54921124 3.55021162\n",
      " 3.551212   3.55221239 3.55321277 3.55421316 3.55521354 3.55621393\n",
      " 3.55721431 3.5582147  3.55921508 3.56021547 3.56121585 3.56221624\n",
      " 3.56321662 3.56421701 3.56521739 3.56621778 3.56721816 3.56821855\n",
      " 3.56921893 3.57021932 3.5712197  3.57222008 3.57322047 3.57422085\n",
      " 3.57522124 3.57622162 3.57722201 3.57822239 3.57922278 3.58022316\n",
      " 3.58122355 3.58222393 3.58322432 3.5842247  3.58522509 3.58622547\n",
      " 3.58722586 3.58822624 3.58922663 3.59022701 3.5912274  3.59222778\n",
      " 3.59322816 3.59422855 3.59522893 3.59622932 3.5972297  3.59823009\n",
      " 3.59923047 3.60023086 3.60123124 3.60223163 3.60323201 3.6042324\n",
      " 3.60523278 3.60623317 3.60723355 3.60823394 3.60923432 3.61023471\n",
      " 3.61123509 3.61223548 3.61323586 3.61423624 3.61523663 3.61623701\n",
      " 3.6172374  3.61823778 3.61923817 3.62023855 3.62123894 3.62223932\n",
      " 3.62323971 3.62424009 3.62524048 3.62624086 3.62724125 3.62824163\n",
      " 3.62924202 3.6302424  3.63124279 3.63224317 3.63324356 3.63424394\n",
      " 3.63524432 3.63624471 3.63724509 3.63824548 3.63924586 3.64024625\n",
      " 3.64124663 3.64224702 3.6432474  3.64424779 3.64524817 3.64624856\n",
      " 3.64724894 3.64824933 3.64924971 3.6502501  3.65125048 3.65225087\n",
      " 3.65325125 3.65425164 3.65525202 3.6562524  3.65725279 3.65825317\n",
      " 3.65925356 3.66025394 3.66125433 3.66225471 3.6632551  3.66425548\n",
      " 3.66525587 3.66625625 3.66725664 3.66825702 3.66925741 3.67025779\n",
      " 3.67125818 3.67225856 3.67325895 3.67425933 3.67525972 3.6762601\n",
      " 3.67726048 3.67826087 3.67926125 3.68026164 3.68126202 3.68226241\n",
      " 3.68326279 3.68426318 3.68526356 3.68626395 3.68726433 3.68826472\n",
      " 3.6892651  3.69026549 3.69126587 3.69226626 3.69326664 3.69426703\n",
      " 3.69526741 3.6962678  3.69726818 3.69826856 3.69926895 3.70026933\n",
      " 3.70126972 3.7022701  3.70327049 3.70427087 3.70527126 3.70627164\n",
      " 3.70727203 3.70827241 3.7092728  3.71027318 3.71127357 3.71227395\n",
      " 3.71327434 3.71427472 3.79130435 3.79230473 3.79330512 3.7943055\n",
      " 3.79530589 3.79630627 3.79730666 3.79830704 3.79930743 3.80030781\n",
      " 3.8013082  3.80230858 3.80330896 3.80430935 3.80530973 3.80631012\n",
      " 3.8073105  3.80831089 3.80931127 3.81031166 3.81131204 3.81231243\n",
      " 3.81331281 3.8143132  3.81531358 3.81631397 3.81731435 3.81831474\n",
      " 3.81931512 3.82031551 3.82131589 3.88333975 3.88434013 3.88534052\n",
      " 3.8863409  3.88734129 3.88834167 3.88934205 3.89034244 3.89134282\n",
      " 3.89234321 3.89334359 3.89434398 3.89534436 3.89634475 3.89734513\n",
      " 3.89834552 3.8993459  3.90034629 3.90134667 3.90234706 3.90334744\n",
      " 3.90434783 3.90534821 3.9063486  3.90734898 3.90834937 3.90934975\n",
      " 3.91035013 3.91135052 3.9123509  3.91335129 3.91435167 3.91535206\n",
      " 3.91635244 3.91735283 3.98037707 3.98137745] um\n"
     ]
    }
   ],
   "source": [
    "print(wl_um[indch4])"
   ]
  },
  {
   "cell_type": "code",
   "execution_count": 275,
   "id": "f433c40f",
   "metadata": {
    "scrolled": true
   },
   "outputs": [
    {
     "ename": "IndexError",
     "evalue": "arrays used as indices must be of integer (or boolean) type",
     "output_type": "error",
     "traceback": [
      "\u001b[0;31m---------------------------------------------------------------------------\u001b[0m",
      "\u001b[0;31mIndexError\u001b[0m                                Traceback (most recent call last)",
      "\u001b[1;32m/Users/huihaoz/Downloads/Section 3, more targets2_feature_METIS.ipynb Cell 35\u001b[0m in \u001b[0;36m<cell line: 1>\u001b[0;34m()\u001b[0m\n\u001b[0;32m----> <a href='vscode-notebook-cell:/Users/huihaoz/Downloads/Section%203%2C%20more%20targets2_feature_METIS.ipynb#X46sZmlsZQ%3D%3D?line=0'>1</a>\u001b[0m wl_um[np\u001b[39m.\u001b[39;49marray(indo2)[np\u001b[39m.\u001b[39;49mwhere(np\u001b[39m.\u001b[39;49mdiff(wl_um[indo2])\u001b[39m.\u001b[39;49mvalue\u001b[39m>\u001b[39;49m\u001b[39m0.001000385\u001b[39;49m)[\u001b[39m0\u001b[39;49m]]]\n",
      "File \u001b[0;32m/usr/local/anaconda3/envs/5300-env/lib/python3.9/site-packages/astropy/units/quantity.py:1294\u001b[0m, in \u001b[0;36mQuantity.__getitem__\u001b[0;34m(self, key)\u001b[0m\n\u001b[1;32m   1289\u001b[0m     \u001b[39mreturn\u001b[39;00m \u001b[39mself\u001b[39m\u001b[39m.\u001b[39m_new_view(\n\u001b[1;32m   1290\u001b[0m         \u001b[39mself\u001b[39m\u001b[39m.\u001b[39mview(np\u001b[39m.\u001b[39mndarray)[key], \u001b[39mself\u001b[39m\u001b[39m.\u001b[39munit[key], propagate_info\u001b[39m=\u001b[39m\u001b[39mFalse\u001b[39;00m\n\u001b[1;32m   1291\u001b[0m     )\n\u001b[1;32m   1293\u001b[0m \u001b[39mtry\u001b[39;00m:\n\u001b[0;32m-> 1294\u001b[0m     out \u001b[39m=\u001b[39m \u001b[39msuper\u001b[39;49m()\u001b[39m.\u001b[39;49m\u001b[39m__getitem__\u001b[39;49m(key)\n\u001b[1;32m   1295\u001b[0m \u001b[39mexcept\u001b[39;00m \u001b[39mIndexError\u001b[39;00m:\n\u001b[1;32m   1296\u001b[0m     \u001b[39m# We want zero-dimensional Quantity objects to behave like scalars,\u001b[39;00m\n\u001b[1;32m   1297\u001b[0m     \u001b[39m# so they should raise a TypeError rather than an IndexError.\u001b[39;00m\n\u001b[1;32m   1298\u001b[0m     \u001b[39mif\u001b[39;00m \u001b[39mself\u001b[39m\u001b[39m.\u001b[39misscalar:\n",
      "\u001b[0;31mIndexError\u001b[0m: arrays used as indices must be of integer (or boolean) type"
     ]
    }
   ],
   "source": [
    "wl_um[np.array(indo2)[np.where(np.diff(wl_um[indo2]).value>0.001000385)[0]]]"
   ]
  },
  {
   "cell_type": "code",
   "execution_count": 276,
   "id": "8d3b8c29",
   "metadata": {},
   "outputs": [
    {
     "name": "stdout",
     "output_type": "stream",
     "text": [
      "[] um\n"
     ]
    }
   ],
   "source": [
    "print(wl_um[indo2])"
   ]
  },
  {
   "cell_type": "code",
   "execution_count": 277,
   "id": "a6193068",
   "metadata": {},
   "outputs": [],
   "source": [
    "indtotno = indco2+ indh2o + indo2 + indch4"
   ]
  },
  {
   "cell_type": "code",
   "execution_count": 278,
   "id": "43697343",
   "metadata": {},
   "outputs": [],
   "source": [
    "snr_o2_total=[[],[],[],[],[],[],[],[],[],[],[],[],[],[],[],[]]\n",
    "for a in range(16):\n",
    "    snr_o2_total[a].append(np.sum((dn[a][indo2]/dnr[a][indo2])**2)**(1/2))"
   ]
  },
  {
   "cell_type": "code",
   "execution_count": 279,
   "id": "951ef41d",
   "metadata": {},
   "outputs": [
    {
     "data": {
      "text/plain": [
       "[[0.0],\n",
       " [0.0],\n",
       " [0.0],\n",
       " [0.0],\n",
       " [0.0],\n",
       " [0.0],\n",
       " [0.0],\n",
       " [0.0],\n",
       " [0.0],\n",
       " [0.0],\n",
       " [0.0],\n",
       " [0.0],\n",
       " [0.0],\n",
       " [0.0],\n",
       " [0.0],\n",
       " [0.0]]"
      ]
     },
     "execution_count": 279,
     "metadata": {},
     "output_type": "execute_result"
    }
   ],
   "source": [
    "snr_o2_total"
   ]
  },
  {
   "cell_type": "markdown",
   "id": "35336700",
   "metadata": {},
   "source": [
    "H2O"
   ]
  },
  {
   "cell_type": "code",
   "execution_count": 280,
   "id": "7f524927",
   "metadata": {},
   "outputs": [],
   "source": [
    "snr_h2o_total=[[],[],[],[],[],[],[],[],[],[],[],[],[],[],[],[]]\n",
    "for a in range(16):\n",
    "    snr_h2o_total[a].append(np.sum((dn[a][indh2o]/dnr[a][indh2o])**2)**(1/2))"
   ]
  },
  {
   "cell_type": "code",
   "execution_count": 281,
   "id": "62381cfd",
   "metadata": {},
   "outputs": [
    {
     "data": {
      "text/plain": [
       "[[0.027291208057662362],\n",
       " [0.11678773468708074],\n",
       " [3.3082140598901786],\n",
       " [1.4629002427327489],\n",
       " [0.1446386133188686],\n",
       " [4.166418476642716],\n",
       " [0.29158451749937325],\n",
       " [0.08296575268742193],\n",
       " [0.30118979510012744],\n",
       " [27.01465354230896],\n",
       " [0.4202876564926711],\n",
       " [0.4511215629022707],\n",
       " [0.061003694890701586],\n",
       " [0.35730000132245066],\n",
       " [0.010765118038515351],\n",
       " [0.001584450142676875]]"
      ]
     },
     "execution_count": 281,
     "metadata": {},
     "output_type": "execute_result"
    }
   ],
   "source": [
    "snr_h2o_total"
   ]
  },
  {
   "cell_type": "markdown",
   "id": "bd4561a8",
   "metadata": {},
   "source": [
    "CH4"
   ]
  },
  {
   "cell_type": "code",
   "execution_count": 282,
   "id": "c438462f",
   "metadata": {},
   "outputs": [],
   "source": [
    "snr_ch4_total=[[],[],[],[],[],[],[],[],[],[],[],[],[],[],[],[]]\n",
    "for a in range(16):\n",
    "    snr_ch4_total[a].append(np.sum((dn[a][indch4]/dnr[a][indch4])**2)**(1/2))"
   ]
  },
  {
   "cell_type": "code",
   "execution_count": 283,
   "id": "e1b14158",
   "metadata": {},
   "outputs": [
    {
     "data": {
      "text/plain": [
       "[[0.08016174125141409],\n",
       " [0.3117304205158674],\n",
       " [2.3719336735525722],\n",
       " [1.32124524009851],\n",
       " [0.29140999953896396],\n",
       " [2.380865447887303],\n",
       " [0.4374114371019228],\n",
       " [0.1902661029284005],\n",
       " [0.6746533749959388],\n",
       " [17.523802822961965],\n",
       " [0.9477418809628126],\n",
       " [0.6530643414957289],\n",
       " [0.18653095941921144],\n",
       " [0.6017216790347935],\n",
       " [0.04097927596387544],\n",
       " [0.006144046814957534]]"
      ]
     },
     "execution_count": 283,
     "metadata": {},
     "output_type": "execute_result"
    }
   ],
   "source": [
    "snr_ch4_total"
   ]
  },
  {
   "cell_type": "markdown",
   "id": "253a3fa4",
   "metadata": {},
   "source": [
    "CO2"
   ]
  },
  {
   "cell_type": "code",
   "execution_count": 284,
   "id": "882f8e3c",
   "metadata": {},
   "outputs": [],
   "source": [
    "snr_co2_total=[[],[],[],[],[],[],[],[],[],[],[],[],[],[],[],[]]\n",
    "for a in range(16):\n",
    "    snr_co2_total[a].append(np.sum((dn[a][indco2]/dnr[a][indco2])**2)**(1/2))"
   ]
  },
  {
   "cell_type": "code",
   "execution_count": 285,
   "id": "3798046d",
   "metadata": {},
   "outputs": [
    {
     "data": {
      "text/plain": [
       "[[0.004152249143600779],\n",
       " [0.022170301008120896],\n",
       " [1.3040626413870355],\n",
       " [0.5517821322534346],\n",
       " [0.03833981178875845],\n",
       " [1.6311895154923401],\n",
       " [0.09585316235946988],\n",
       " [0.01776305638926862],\n",
       " [0.07847128829433557],\n",
       " [12.055831589077318],\n",
       " [0.11091558157648533],\n",
       " [0.15143979879653663],\n",
       " [0.009250116978543273],\n",
       " [0.11082771968635835],\n",
       " [0.0016718169270556968],\n",
       " [0.00021658349788340243]]"
      ]
     },
     "execution_count": 285,
     "metadata": {},
     "output_type": "execute_result"
    }
   ],
   "source": [
    "snr_co2_total"
   ]
  },
  {
   "cell_type": "code",
   "execution_count": 286,
   "id": "f812b023",
   "metadata": {},
   "outputs": [
    {
     "data": {
      "text/html": [
       "<div>\n",
       "<style scoped>\n",
       "    .dataframe tbody tr th:only-of-type {\n",
       "        vertical-align: middle;\n",
       "    }\n",
       "\n",
       "    .dataframe tbody tr th {\n",
       "        vertical-align: top;\n",
       "    }\n",
       "\n",
       "    .dataframe thead th {\n",
       "        text-align: right;\n",
       "    }\n",
       "</style>\n",
       "<table border=\"1\" class=\"dataframe\">\n",
       "  <thead>\n",
       "    <tr style=\"text-align: right;\">\n",
       "      <th></th>\n",
       "      <th>Planet</th>\n",
       "      <th>MassEar</th>\n",
       "      <th>RadiusEar</th>\n",
       "      <th>SMAAU</th>\n",
       "      <th>DistancePC</th>\n",
       "      <th>SRadiusSun</th>\n",
       "      <th>Slogg</th>\n",
       "      <th>STK</th>\n",
       "      <th>Teq</th>\n",
       "      <th>SNR_o2</th>\n",
       "      <th>SNR_ch4</th>\n",
       "      <th>SNR_h2o</th>\n",
       "      <th>SNR_co2</th>\n",
       "      <th>SNR_total</th>\n",
       "      <th>mag</th>\n",
       "    </tr>\n",
       "  </thead>\n",
       "  <tbody>\n",
       "    <tr>\n",
       "      <th>0</th>\n",
       "      <td>GJ 1002 c</td>\n",
       "      <td>1.360</td>\n",
       "      <td>1.089911</td>\n",
       "      <td>0.073800</td>\n",
       "      <td>4.848670</td>\n",
       "      <td>0.1400</td>\n",
       "      <td>5.100</td>\n",
       "      <td>3024.0</td>\n",
       "      <td>181.700000</td>\n",
       "      <td>0.0</td>\n",
       "      <td>0.078588</td>\n",
       "      <td>0.026756</td>\n",
       "      <td>0.004072</td>\n",
       "      <td>0.083117</td>\n",
       "      <td>34.788015</td>\n",
       "    </tr>\n",
       "    <tr>\n",
       "      <th>1</th>\n",
       "      <td>GJ 1061 d</td>\n",
       "      <td>1.640</td>\n",
       "      <td>1.148567</td>\n",
       "      <td>0.054000</td>\n",
       "      <td>3.672780</td>\n",
       "      <td>0.1600</td>\n",
       "      <td>5.160</td>\n",
       "      <td>2953.0</td>\n",
       "      <td>224.199359</td>\n",
       "      <td>0.0</td>\n",
       "      <td>0.305598</td>\n",
       "      <td>0.114495</td>\n",
       "      <td>0.021739</td>\n",
       "      <td>0.327065</td>\n",
       "      <td>33.102570</td>\n",
       "    </tr>\n",
       "    <tr>\n",
       "      <th>2</th>\n",
       "      <td>GJ 15 A b</td>\n",
       "      <td>3.030</td>\n",
       "      <td>1.592166</td>\n",
       "      <td>0.072000</td>\n",
       "      <td>3.562280</td>\n",
       "      <td>0.3800</td>\n",
       "      <td>4.870</td>\n",
       "      <td>3607.0</td>\n",
       "      <td>365.493367</td>\n",
       "      <td>0.0</td>\n",
       "      <td>2.325149</td>\n",
       "      <td>3.243406</td>\n",
       "      <td>1.278694</td>\n",
       "      <td>4.190592</td>\n",
       "      <td>30.325816</td>\n",
       "    </tr>\n",
       "    <tr>\n",
       "      <th>3</th>\n",
       "      <td>GJ 251 b</td>\n",
       "      <td>4.000</td>\n",
       "      <td>1.875654</td>\n",
       "      <td>0.081800</td>\n",
       "      <td>5.580570</td>\n",
       "      <td>0.3600</td>\n",
       "      <td>4.960</td>\n",
       "      <td>3451.0</td>\n",
       "      <td>351.000000</td>\n",
       "      <td>0.0</td>\n",
       "      <td>1.295205</td>\n",
       "      <td>1.434217</td>\n",
       "      <td>0.541040</td>\n",
       "      <td>2.006803</td>\n",
       "      <td>31.452784</td>\n",
       "    </tr>\n",
       "    <tr>\n",
       "      <th>4</th>\n",
       "      <td>GJ 273 b</td>\n",
       "      <td>2.890</td>\n",
       "      <td>1.548342</td>\n",
       "      <td>0.091101</td>\n",
       "      <td>5.921535</td>\n",
       "      <td>0.2900</td>\n",
       "      <td>4.910</td>\n",
       "      <td>3382.0</td>\n",
       "      <td>266.145323</td>\n",
       "      <td>0.0</td>\n",
       "      <td>0.285671</td>\n",
       "      <td>0.141800</td>\n",
       "      <td>0.037594</td>\n",
       "      <td>0.321136</td>\n",
       "      <td>32.922557</td>\n",
       "    </tr>\n",
       "    <tr>\n",
       "      <th>5</th>\n",
       "      <td>GJ 411 b</td>\n",
       "      <td>2.690</td>\n",
       "      <td>1.484195</td>\n",
       "      <td>0.078790</td>\n",
       "      <td>2.550000</td>\n",
       "      <td>0.3700</td>\n",
       "      <td>4.890</td>\n",
       "      <td>3719.0</td>\n",
       "      <td>355.467007</td>\n",
       "      <td>0.0</td>\n",
       "      <td>2.333895</td>\n",
       "      <td>4.084848</td>\n",
       "      <td>1.599477</td>\n",
       "      <td>4.969041</td>\n",
       "      <td>29.931415</td>\n",
       "    </tr>\n",
       "    <tr>\n",
       "      <th>6</th>\n",
       "      <td>GJ 625 b</td>\n",
       "      <td>2.820</td>\n",
       "      <td>1.526104</td>\n",
       "      <td>0.078361</td>\n",
       "      <td>6.472490</td>\n",
       "      <td>0.3100</td>\n",
       "      <td>4.940</td>\n",
       "      <td>3499.0</td>\n",
       "      <td>306.960584</td>\n",
       "      <td>0.0</td>\n",
       "      <td>0.428797</td>\n",
       "      <td>0.285865</td>\n",
       "      <td>0.093987</td>\n",
       "      <td>0.523850</td>\n",
       "      <td>32.557859</td>\n",
       "    </tr>\n",
       "    <tr>\n",
       "      <th>7</th>\n",
       "      <td>GJ 667 C c</td>\n",
       "      <td>3.800</td>\n",
       "      <td>1.819741</td>\n",
       "      <td>0.125000</td>\n",
       "      <td>7.243960</td>\n",
       "      <td>0.3300</td>\n",
       "      <td>4.690</td>\n",
       "      <td>3350.0</td>\n",
       "      <td>240.079224</td>\n",
       "      <td>0.0</td>\n",
       "      <td>0.186519</td>\n",
       "      <td>0.081337</td>\n",
       "      <td>0.017417</td>\n",
       "      <td>0.204227</td>\n",
       "      <td>33.402379</td>\n",
       "    </tr>\n",
       "    <tr>\n",
       "      <th>8</th>\n",
       "      <td>GJ 682 b</td>\n",
       "      <td>4.400</td>\n",
       "      <td>1.984149</td>\n",
       "      <td>0.080000</td>\n",
       "      <td>5.006710</td>\n",
       "      <td>0.3000</td>\n",
       "      <td>4.930</td>\n",
       "      <td>3028.0</td>\n",
       "      <td>258.630246</td>\n",
       "      <td>0.0</td>\n",
       "      <td>0.661363</td>\n",
       "      <td>0.295278</td>\n",
       "      <td>0.076944</td>\n",
       "      <td>0.728362</td>\n",
       "      <td>32.074692</td>\n",
       "    </tr>\n",
       "    <tr>\n",
       "      <th>9</th>\n",
       "      <td>GJ 887 b</td>\n",
       "      <td>4.200</td>\n",
       "      <td>1.930431</td>\n",
       "      <td>0.068000</td>\n",
       "      <td>3.290000</td>\n",
       "      <td>0.4700</td>\n",
       "      <td>4.780</td>\n",
       "      <td>3688.0</td>\n",
       "      <td>468.000000</td>\n",
       "      <td>0.0</td>\n",
       "      <td>17.183161</td>\n",
       "      <td>26.512130</td>\n",
       "      <td>11.825452</td>\n",
       "      <td>33.734187</td>\n",
       "      <td>28.297214</td>\n",
       "    </tr>\n",
       "    <tr>\n",
       "      <th>10</th>\n",
       "      <td>Proxima Cen b</td>\n",
       "      <td>1.070</td>\n",
       "      <td>1.019125</td>\n",
       "      <td>0.048560</td>\n",
       "      <td>1.301190</td>\n",
       "      <td>0.1400</td>\n",
       "      <td>5.160</td>\n",
       "      <td>2900.0</td>\n",
       "      <td>217.185329</td>\n",
       "      <td>0.0</td>\n",
       "      <td>0.929041</td>\n",
       "      <td>0.412036</td>\n",
       "      <td>0.108759</td>\n",
       "      <td>1.022116</td>\n",
       "      <td>31.274318</td>\n",
       "    </tr>\n",
       "    <tr>\n",
       "      <th>11</th>\n",
       "      <td>Ross 128 b</td>\n",
       "      <td>1.400</td>\n",
       "      <td>1.098793</td>\n",
       "      <td>0.049600</td>\n",
       "      <td>3.374540</td>\n",
       "      <td>0.2000</td>\n",
       "      <td>5.040</td>\n",
       "      <td>3192.0</td>\n",
       "      <td>301.000000</td>\n",
       "      <td>0.0</td>\n",
       "      <td>0.640198</td>\n",
       "      <td>0.442274</td>\n",
       "      <td>0.148491</td>\n",
       "      <td>0.792155</td>\n",
       "      <td>32.107548</td>\n",
       "    </tr>\n",
       "    <tr>\n",
       "      <th>12</th>\n",
       "      <td>Teegarden's Star c</td>\n",
       "      <td>1.110</td>\n",
       "      <td>1.029652</td>\n",
       "      <td>0.044300</td>\n",
       "      <td>3.830780</td>\n",
       "      <td>0.1100</td>\n",
       "      <td>5.265</td>\n",
       "      <td>2904.0</td>\n",
       "      <td>201.836125</td>\n",
       "      <td>0.0</td>\n",
       "      <td>0.182869</td>\n",
       "      <td>0.059807</td>\n",
       "      <td>0.009070</td>\n",
       "      <td>0.192614</td>\n",
       "      <td>33.944692</td>\n",
       "    </tr>\n",
       "    <tr>\n",
       "      <th>13</th>\n",
       "      <td>Wolf 1061 c</td>\n",
       "      <td>3.410</td>\n",
       "      <td>1.707113</td>\n",
       "      <td>0.089000</td>\n",
       "      <td>4.305920</td>\n",
       "      <td>0.3100</td>\n",
       "      <td>4.900</td>\n",
       "      <td>3342.0</td>\n",
       "      <td>275.106022</td>\n",
       "      <td>0.0</td>\n",
       "      <td>0.589857</td>\n",
       "      <td>0.350291</td>\n",
       "      <td>0.108671</td>\n",
       "      <td>0.694582</td>\n",
       "      <td>31.914890</td>\n",
       "    </tr>\n",
       "    <tr>\n",
       "      <th>14</th>\n",
       "      <td>TRAPPIST-1 e</td>\n",
       "      <td>0.692</td>\n",
       "      <td>0.920000</td>\n",
       "      <td>0.029250</td>\n",
       "      <td>12.100000</td>\n",
       "      <td>0.1192</td>\n",
       "      <td>5.240</td>\n",
       "      <td>2566.0</td>\n",
       "      <td>228.475508</td>\n",
       "      <td>0.0</td>\n",
       "      <td>0.040178</td>\n",
       "      <td>0.010554</td>\n",
       "      <td>0.001639</td>\n",
       "      <td>0.041574</td>\n",
       "      <td>36.010225</td>\n",
       "    </tr>\n",
       "    <tr>\n",
       "      <th>15</th>\n",
       "      <td>TRAPPIST-1 h</td>\n",
       "      <td>0.326</td>\n",
       "      <td>0.755000</td>\n",
       "      <td>0.061890</td>\n",
       "      <td>12.100000</td>\n",
       "      <td>0.1192</td>\n",
       "      <td>5.240</td>\n",
       "      <td>2566.0</td>\n",
       "      <td>157.069675</td>\n",
       "      <td>0.0</td>\n",
       "      <td>0.006024</td>\n",
       "      <td>0.001553</td>\n",
       "      <td>0.000212</td>\n",
       "      <td>0.006225</td>\n",
       "      <td>38.067173</td>\n",
       "    </tr>\n",
       "  </tbody>\n",
       "</table>\n",
       "</div>"
      ],
      "text/plain": [
       "                Planet  MassEar  RadiusEar     SMAAU  DistancePC  SRadiusSun  \\\n",
       "0            GJ 1002 c    1.360   1.089911  0.073800    4.848670      0.1400   \n",
       "1            GJ 1061 d    1.640   1.148567  0.054000    3.672780      0.1600   \n",
       "2            GJ 15 A b    3.030   1.592166  0.072000    3.562280      0.3800   \n",
       "3             GJ 251 b    4.000   1.875654  0.081800    5.580570      0.3600   \n",
       "4             GJ 273 b    2.890   1.548342  0.091101    5.921535      0.2900   \n",
       "5             GJ 411 b    2.690   1.484195  0.078790    2.550000      0.3700   \n",
       "6             GJ 625 b    2.820   1.526104  0.078361    6.472490      0.3100   \n",
       "7           GJ 667 C c    3.800   1.819741  0.125000    7.243960      0.3300   \n",
       "8             GJ 682 b    4.400   1.984149  0.080000    5.006710      0.3000   \n",
       "9             GJ 887 b    4.200   1.930431  0.068000    3.290000      0.4700   \n",
       "10       Proxima Cen b    1.070   1.019125  0.048560    1.301190      0.1400   \n",
       "11          Ross 128 b    1.400   1.098793  0.049600    3.374540      0.2000   \n",
       "12  Teegarden's Star c    1.110   1.029652  0.044300    3.830780      0.1100   \n",
       "13         Wolf 1061 c    3.410   1.707113  0.089000    4.305920      0.3100   \n",
       "14        TRAPPIST-1 e    0.692   0.920000  0.029250   12.100000      0.1192   \n",
       "15        TRAPPIST-1 h    0.326   0.755000  0.061890   12.100000      0.1192   \n",
       "\n",
       "    Slogg     STK         Teq  SNR_o2    SNR_ch4    SNR_h2o    SNR_co2  \\\n",
       "0   5.100  3024.0  181.700000     0.0   0.078588   0.026756   0.004072   \n",
       "1   5.160  2953.0  224.199359     0.0   0.305598   0.114495   0.021739   \n",
       "2   4.870  3607.0  365.493367     0.0   2.325149   3.243406   1.278694   \n",
       "3   4.960  3451.0  351.000000     0.0   1.295205   1.434217   0.541040   \n",
       "4   4.910  3382.0  266.145323     0.0   0.285671   0.141800   0.037594   \n",
       "5   4.890  3719.0  355.467007     0.0   2.333895   4.084848   1.599477   \n",
       "6   4.940  3499.0  306.960584     0.0   0.428797   0.285865   0.093987   \n",
       "7   4.690  3350.0  240.079224     0.0   0.186519   0.081337   0.017417   \n",
       "8   4.930  3028.0  258.630246     0.0   0.661363   0.295278   0.076944   \n",
       "9   4.780  3688.0  468.000000     0.0  17.183161  26.512130  11.825452   \n",
       "10  5.160  2900.0  217.185329     0.0   0.929041   0.412036   0.108759   \n",
       "11  5.040  3192.0  301.000000     0.0   0.640198   0.442274   0.148491   \n",
       "12  5.265  2904.0  201.836125     0.0   0.182869   0.059807   0.009070   \n",
       "13  4.900  3342.0  275.106022     0.0   0.589857   0.350291   0.108671   \n",
       "14  5.240  2566.0  228.475508     0.0   0.040178   0.010554   0.001639   \n",
       "15  5.240  2566.0  157.069675     0.0   0.006024   0.001553   0.000212   \n",
       "\n",
       "    SNR_total        mag  \n",
       "0    0.083117  34.788015  \n",
       "1    0.327065  33.102570  \n",
       "2    4.190592  30.325816  \n",
       "3    2.006803  31.452784  \n",
       "4    0.321136  32.922557  \n",
       "5    4.969041  29.931415  \n",
       "6    0.523850  32.557859  \n",
       "7    0.204227  33.402379  \n",
       "8    0.728362  32.074692  \n",
       "9   33.734187  28.297214  \n",
       "10   1.022116  31.274318  \n",
       "11   0.792155  32.107548  \n",
       "12   0.192614  33.944692  \n",
       "13   0.694582  31.914890  \n",
       "14   0.041574  36.010225  \n",
       "15   0.006225  38.067173  "
      ]
     },
     "execution_count": 286,
     "metadata": {},
     "output_type": "execute_result"
    }
   ],
   "source": [
    "pts"
   ]
  },
  {
   "cell_type": "code",
   "execution_count": 287,
   "id": "bb4f430b",
   "metadata": {},
   "outputs": [],
   "source": [
    "Total_modern = (np.array(snr_ch4_total)**2+np.array(snr_co2_total)**2+np.array(snr_h2o_total)**2+np.array(snr_o2_total)**2)**(1/2)"
   ]
  },
  {
   "cell_type": "code",
   "execution_count": 288,
   "id": "a13a3aa2",
   "metadata": {
    "scrolled": true
   },
   "outputs": [
    {
     "data": {
      "text/plain": [
       "array([[8.47818139e-02],\n",
       "       [3.33626666e-01],\n",
       "       [4.27445072e+00],\n",
       "       [2.04700504e+00],\n",
       "       [3.27582138e-01],\n",
       "       [5.06836684e+00],\n",
       "       [5.34357675e-01],\n",
       "       [2.08326744e-01],\n",
       "       [7.42987357e-01],\n",
       "       [3.43834007e+01],\n",
       "       [1.04266900e+00],\n",
       "       [8.08045612e-01],\n",
       "       [1.96470899e-01],\n",
       "       [7.08530206e-01],\n",
       "       [4.24026390e-02],\n",
       "       [6.34875594e-03]])"
      ]
     },
     "execution_count": 288,
     "metadata": {},
     "output_type": "execute_result"
    }
   ],
   "source": [
    "Total_modern"
   ]
  },
  {
   "cell_type": "markdown",
   "id": "43a930cf",
   "metadata": {},
   "source": [
    "# Total_no_OVERLEAP(SNR from datafile)"
   ]
  },
  {
   "cell_type": "raw",
   "id": "c9348535",
   "metadata": {},
   "source": [
    "total_f = (0.3-0.3*(absor1.totalb[:1079300]/alb_nogas[:1079300]))\n",
    "our_list = np.array(total_f)\n",
    "chunked_list = list()\n",
    "chunk_size = 251*5*2\n",
    "for i in range(0, len(our_list), chunk_size):\n",
    "    chunked_list.append(our_list[i:i+chunk_size])\n",
    "    \n",
    "our_listwl = np.array(absor1.nm[:1079300] / 1000)\n",
    "chunked_listwl = list()\n",
    "chunk_sizewl = 251*5*2\n",
    "for i in range(0, len(our_listwl), chunk_sizewl):\n",
    "    chunked_listwl.append(our_listwl[i:i+chunk_sizewl])\n",
    "    \n",
    "y_fit_index = np.linspace(0,429,430,dtype = int)\n",
    "wl_fit_index = [np.argmax(chunked_list[i]) for i in y_fit_index] #just for check\n",
    "\n",
    "pn_fit_non = [max(chunked_list[i]) for i in y_fit_index]\n",
    "wl_fit_non = [chunked_listwl[i][np.argmax(chunked_list[i])] for i in y_fit_index]\n",
    "interp_tot_no = np.interp(wl_um/u.um,wl_fit_non,np.array(pn_fit_non))\n",
    "ind_tot_no = np.where((interp_tot_no>0.15))"
   ]
  },
  {
   "cell_type": "raw",
   "id": "d915018e",
   "metadata": {},
   "source": [
    "snr_total=[[],[],[],[],[],[],[],[],[],[],[],[],[],[],[],[]]\n",
    "for a in range(16):\n",
    "    snr_total[a].append(np.sum((dn[a][ind_tot_no[0]]/dnr[a][ind_tot_no[0]])**2)**(1/2))"
   ]
  },
  {
   "cell_type": "raw",
   "id": "e953e71b",
   "metadata": {},
   "source": [
    "snr_total"
   ]
  },
  {
   "cell_type": "raw",
   "id": "77dc16dc",
   "metadata": {},
   "source": [
    "fig_4 = plt.figure(figsize=(16,8))\n",
    "\n",
    "ax_4a = fig_4.add_subplot(1,5,1)\n",
    "ax_4a.plot(x_1, y_1, color='blue', label='m_1' )\n",
    "ax_4a.plot(x_2, y_2, color='red', label='m_2')\n",
    "ax_4a.set_ylabel('y'), label='m_1' )\n",
    "ax_4d.plot(x_2, y_2, color='red', label='m_2')\n",
    "ax_4d.set_ylabel('y')\n",
    "ax_4d.set_xlabel('x')\n",
    "ax_4d.set_title('orbit')\n",
    "ax_4d.legend()\n",
    "\n",
    "ax_4e = fig_4.add_subplot(1,5,5)\n",
    "ax_4e.plot(x_1, y_1, color='blue', label='m_1' )\n",
    "ax_4e.plot(x_2, y_2, color='red', label='m_2')\n",
    "ax_4e.set_ylabel('y')\n",
    "ax_4e.set_xlabel('x')\n",
    "ax_4e.set_title('orbit')\n",
    "ax_4e.legend()"
   ]
  },
  {
   "cell_type": "markdown",
   "id": "56b6e94f",
   "metadata": {},
   "source": [
    "# Check"
   ]
  },
  {
   "cell_type": "code",
   "execution_count": 289,
   "id": "201d0b32",
   "metadata": {},
   "outputs": [],
   "source": [
    "def mag(f, f_0):\n",
    "    m=-2.5 * (np.log(f/f_0)/np.log(10))\n",
    "    return m"
   ]
  },
  {
   "cell_type": "code",
   "execution_count": 290,
   "id": "44b5546c",
   "metadata": {},
   "outputs": [],
   "source": [
    "mag_pt=[]\n",
    "for i in range(len(flux_bin)):\n",
    "    mag_pt.append(mag(flux_bin[i][3],2.16e-8/75))"
   ]
  },
  {
   "cell_type": "code",
   "execution_count": 291,
   "id": "5ae66a90",
   "metadata": {},
   "outputs": [
    {
     "data": {
      "text/plain": [
       "[34.7880150296317,\n",
       " 33.10256959242098,\n",
       " 30.32581587413982,\n",
       " 31.4527842094085,\n",
       " 32.922557280138705,\n",
       " 29.93141450569571,\n",
       " 32.557859440142785,\n",
       " 33.402379198862846,\n",
       " 32.07469214977711,\n",
       " 28.2972143629516,\n",
       " 31.274318278414658,\n",
       " 32.107548234790485,\n",
       " 33.94469221079794,\n",
       " 31.914890147875496,\n",
       " 36.01022500717249,\n",
       " 38.06717281123468]"
      ]
     },
     "execution_count": 291,
     "metadata": {},
     "output_type": "execute_result"
    }
   ],
   "source": [
    "mag_pt"
   ]
  },
  {
   "cell_type": "code",
   "execution_count": 292,
   "id": "9b85e4e6",
   "metadata": {},
   "outputs": [
    {
     "data": {
      "text/plain": [
       "11.739906921285447"
      ]
     },
     "execution_count": 292,
     "metadata": {},
     "output_type": "execute_result"
    }
   ],
   "source": [
    "mag(flux_bin_s[9][3], 2.16e-8/75)"
   ]
  },
  {
   "cell_type": "code",
   "execution_count": 293,
   "id": "7448fd10",
   "metadata": {},
   "outputs": [],
   "source": [
    "pts[\"SNR_o2\"]=np.array(snr_o2_total)\n",
    "pts[\"SNR_ch4\"]=np.array(snr_ch4_total)\n",
    "pts[\"SNR_h2o\"]=np.array(snr_h2o_total)\n",
    "pts[\"SNR_co2\"]=np.array(snr_co2_total)\n",
    "pts[\"SNR_total\"]=np.array(Total_modern)\n",
    "#pts[\"NO_OVER\"]=np.array(snr_total)\n",
    "pts[\"mag\"]=mag_pt\n",
    "\n",
    "\n"
   ]
  },
  {
   "cell_type": "code",
   "execution_count": 294,
   "id": "33cfa17d",
   "metadata": {},
   "outputs": [
    {
     "data": {
      "text/plain": [
       "[0.006348755935659678,\n",
       " 0.04240263903042142,\n",
       " 0.08478181391463509,\n",
       " 0.19647089931154194,\n",
       " 0.2083267438780712,\n",
       " 0.3275821384967465,\n",
       " 0.33362666604324387,\n",
       " 0.5343576750522281,\n",
       " 0.7085302064247877,\n",
       " 0.7429873566571913,\n",
       " 0.8080456121458571,\n",
       " 1.0426690047025862,\n",
       " 2.0470050381336757,\n",
       " 4.274450723829787,\n",
       " 5.068366841390385,\n",
       " 34.38340074357437]"
      ]
     },
     "execution_count": 294,
     "metadata": {},
     "output_type": "execute_result"
    }
   ],
   "source": [
    "pts[['Planet','SNR_total']].sort_values(by=['SNR_total'])['SNR_total'].tolist()"
   ]
  },
  {
   "cell_type": "code",
   "execution_count": 295,
   "id": "8d4518f7",
   "metadata": {},
   "outputs": [
    {
     "name": "stderr",
     "output_type": "stream",
     "text": [
      "/var/folders/6t/cpjtlkn10wv603vnph9nr3sh0000gn/T/ipykernel_39429/1026330911.py:3: FutureWarning: In future versions `DataFrame.to_latex` is expected to utilise the base implementation of `Styler.to_latex` for formatting and rendering. The arguments signature may therefore change. It is recommended instead to use `DataFrame.style.to_latex` which also contains additional functionality.\n",
      "  SNR_table.to_latex()\n"
     ]
    },
    {
     "data": {
      "text/plain": [
       "\"\\\\begin{tabular}{llrrrrr}\\n\\\\toprule\\n{} &              Planet &  SNR\\\\_total &  SNR\\\\_h2o &  SNR\\\\_ch4 &  SNR\\\\_co2 &  SNR\\\\_o2 \\\\\\\\\\n\\\\midrule\\n9  &            GJ 887 b &      34.38 &    27.01 &    17.52 &    12.06 &     0.0 \\\\\\\\\\n5  &            GJ 411 b &       5.07 &     4.17 &     2.38 &     1.63 &     0.0 \\\\\\\\\\n2  &           GJ 15 A b &       4.27 &     3.31 &     2.37 &     1.30 &     0.0 \\\\\\\\\\n3  &            GJ 251 b &       2.05 &     1.46 &     1.32 &     0.55 &     0.0 \\\\\\\\\\n10 &       Proxima Cen b &       1.04 &     0.42 &     0.95 &     0.11 &     0.0 \\\\\\\\\\n11 &          Ross 128 b &       0.81 &     0.45 &     0.65 &     0.15 &     0.0 \\\\\\\\\\n8  &            GJ 682 b &       0.74 &     0.30 &     0.67 &     0.08 &     0.0 \\\\\\\\\\n13 &         Wolf 1061 c &       0.71 &     0.36 &     0.60 &     0.11 &     0.0 \\\\\\\\\\n6  &            GJ 625 b &       0.53 &     0.29 &     0.44 &     0.10 &     0.0 \\\\\\\\\\n1  &           GJ 1061 d &       0.33 &     0.12 &     0.31 &     0.02 &     0.0 \\\\\\\\\\n4  &            GJ 273 b &       0.33 &     0.14 &     0.29 &     0.04 &     0.0 \\\\\\\\\\n7  &          GJ 667 C c &       0.21 &     0.08 &     0.19 &     0.02 &     0.0 \\\\\\\\\\n12 &  Teegarden's Star c &       0.20 &     0.06 &     0.19 &     0.01 &     0.0 \\\\\\\\\\n0  &           GJ 1002 c &       0.08 &     0.03 &     0.08 &     0.00 &     0.0 \\\\\\\\\\n14 &        TRAPPIST-1 e &       0.04 &     0.01 &     0.04 &     0.00 &     0.0 \\\\\\\\\\n15 &        TRAPPIST-1 h &       0.01 &     0.00 &     0.01 &     0.00 &     0.0 \\\\\\\\\\n\\\\bottomrule\\n\\\\end{tabular}\\n\""
      ]
     },
     "execution_count": 295,
     "metadata": {},
     "output_type": "execute_result"
    }
   ],
   "source": [
    "SNR_table  = pts[['Planet','SNR_total','SNR_h2o','SNR_ch4','SNR_co2','SNR_o2']].sort_values(by='SNR_total',ascending=False).round(2)\n",
    "#pts[['Planet','SNR_total']]\n",
    "SNR_table.to_latex()"
   ]
  },
  {
   "cell_type": "code",
   "execution_count": 296,
   "id": "6aea10cb",
   "metadata": {},
   "outputs": [
    {
     "data": {
      "text/html": [
       "<div>\n",
       "<style scoped>\n",
       "    .dataframe tbody tr th:only-of-type {\n",
       "        vertical-align: middle;\n",
       "    }\n",
       "\n",
       "    .dataframe tbody tr th {\n",
       "        vertical-align: top;\n",
       "    }\n",
       "\n",
       "    .dataframe thead th {\n",
       "        text-align: right;\n",
       "    }\n",
       "</style>\n",
       "<table border=\"1\" class=\"dataframe\">\n",
       "  <thead>\n",
       "    <tr style=\"text-align: right;\">\n",
       "      <th></th>\n",
       "      <th>Planet</th>\n",
       "      <th>SNR_total</th>\n",
       "      <th>SNR_h2o</th>\n",
       "      <th>SNR_ch4</th>\n",
       "      <th>SNR_co2</th>\n",
       "      <th>SNR_o2</th>\n",
       "    </tr>\n",
       "  </thead>\n",
       "  <tbody>\n",
       "    <tr>\n",
       "      <th>9</th>\n",
       "      <td>GJ 887 b</td>\n",
       "      <td>34.38</td>\n",
       "      <td>27.01</td>\n",
       "      <td>17.52</td>\n",
       "      <td>12.06</td>\n",
       "      <td>0.0</td>\n",
       "    </tr>\n",
       "    <tr>\n",
       "      <th>5</th>\n",
       "      <td>GJ 411 b</td>\n",
       "      <td>5.07</td>\n",
       "      <td>4.17</td>\n",
       "      <td>2.38</td>\n",
       "      <td>1.63</td>\n",
       "      <td>0.0</td>\n",
       "    </tr>\n",
       "    <tr>\n",
       "      <th>2</th>\n",
       "      <td>GJ 15 A b</td>\n",
       "      <td>4.27</td>\n",
       "      <td>3.31</td>\n",
       "      <td>2.37</td>\n",
       "      <td>1.30</td>\n",
       "      <td>0.0</td>\n",
       "    </tr>\n",
       "    <tr>\n",
       "      <th>3</th>\n",
       "      <td>GJ 251 b</td>\n",
       "      <td>2.05</td>\n",
       "      <td>1.46</td>\n",
       "      <td>1.32</td>\n",
       "      <td>0.55</td>\n",
       "      <td>0.0</td>\n",
       "    </tr>\n",
       "    <tr>\n",
       "      <th>10</th>\n",
       "      <td>Proxima Cen b</td>\n",
       "      <td>1.04</td>\n",
       "      <td>0.42</td>\n",
       "      <td>0.95</td>\n",
       "      <td>0.11</td>\n",
       "      <td>0.0</td>\n",
       "    </tr>\n",
       "    <tr>\n",
       "      <th>11</th>\n",
       "      <td>Ross 128 b</td>\n",
       "      <td>0.81</td>\n",
       "      <td>0.45</td>\n",
       "      <td>0.65</td>\n",
       "      <td>0.15</td>\n",
       "      <td>0.0</td>\n",
       "    </tr>\n",
       "    <tr>\n",
       "      <th>8</th>\n",
       "      <td>GJ 682 b</td>\n",
       "      <td>0.74</td>\n",
       "      <td>0.30</td>\n",
       "      <td>0.67</td>\n",
       "      <td>0.08</td>\n",
       "      <td>0.0</td>\n",
       "    </tr>\n",
       "    <tr>\n",
       "      <th>13</th>\n",
       "      <td>Wolf 1061 c</td>\n",
       "      <td>0.71</td>\n",
       "      <td>0.36</td>\n",
       "      <td>0.60</td>\n",
       "      <td>0.11</td>\n",
       "      <td>0.0</td>\n",
       "    </tr>\n",
       "    <tr>\n",
       "      <th>6</th>\n",
       "      <td>GJ 625 b</td>\n",
       "      <td>0.53</td>\n",
       "      <td>0.29</td>\n",
       "      <td>0.44</td>\n",
       "      <td>0.10</td>\n",
       "      <td>0.0</td>\n",
       "    </tr>\n",
       "    <tr>\n",
       "      <th>1</th>\n",
       "      <td>GJ 1061 d</td>\n",
       "      <td>0.33</td>\n",
       "      <td>0.12</td>\n",
       "      <td>0.31</td>\n",
       "      <td>0.02</td>\n",
       "      <td>0.0</td>\n",
       "    </tr>\n",
       "    <tr>\n",
       "      <th>4</th>\n",
       "      <td>GJ 273 b</td>\n",
       "      <td>0.33</td>\n",
       "      <td>0.14</td>\n",
       "      <td>0.29</td>\n",
       "      <td>0.04</td>\n",
       "      <td>0.0</td>\n",
       "    </tr>\n",
       "    <tr>\n",
       "      <th>7</th>\n",
       "      <td>GJ 667 C c</td>\n",
       "      <td>0.21</td>\n",
       "      <td>0.08</td>\n",
       "      <td>0.19</td>\n",
       "      <td>0.02</td>\n",
       "      <td>0.0</td>\n",
       "    </tr>\n",
       "    <tr>\n",
       "      <th>12</th>\n",
       "      <td>Teegarden's Star c</td>\n",
       "      <td>0.20</td>\n",
       "      <td>0.06</td>\n",
       "      <td>0.19</td>\n",
       "      <td>0.01</td>\n",
       "      <td>0.0</td>\n",
       "    </tr>\n",
       "    <tr>\n",
       "      <th>0</th>\n",
       "      <td>GJ 1002 c</td>\n",
       "      <td>0.08</td>\n",
       "      <td>0.03</td>\n",
       "      <td>0.08</td>\n",
       "      <td>0.00</td>\n",
       "      <td>0.0</td>\n",
       "    </tr>\n",
       "    <tr>\n",
       "      <th>14</th>\n",
       "      <td>TRAPPIST-1 e</td>\n",
       "      <td>0.04</td>\n",
       "      <td>0.01</td>\n",
       "      <td>0.04</td>\n",
       "      <td>0.00</td>\n",
       "      <td>0.0</td>\n",
       "    </tr>\n",
       "    <tr>\n",
       "      <th>15</th>\n",
       "      <td>TRAPPIST-1 h</td>\n",
       "      <td>0.01</td>\n",
       "      <td>0.00</td>\n",
       "      <td>0.01</td>\n",
       "      <td>0.00</td>\n",
       "      <td>0.0</td>\n",
       "    </tr>\n",
       "  </tbody>\n",
       "</table>\n",
       "</div>"
      ],
      "text/plain": [
       "                Planet  SNR_total  SNR_h2o  SNR_ch4  SNR_co2  SNR_o2\n",
       "9             GJ 887 b      34.38    27.01    17.52    12.06     0.0\n",
       "5             GJ 411 b       5.07     4.17     2.38     1.63     0.0\n",
       "2            GJ 15 A b       4.27     3.31     2.37     1.30     0.0\n",
       "3             GJ 251 b       2.05     1.46     1.32     0.55     0.0\n",
       "10       Proxima Cen b       1.04     0.42     0.95     0.11     0.0\n",
       "11          Ross 128 b       0.81     0.45     0.65     0.15     0.0\n",
       "8             GJ 682 b       0.74     0.30     0.67     0.08     0.0\n",
       "13         Wolf 1061 c       0.71     0.36     0.60     0.11     0.0\n",
       "6             GJ 625 b       0.53     0.29     0.44     0.10     0.0\n",
       "1            GJ 1061 d       0.33     0.12     0.31     0.02     0.0\n",
       "4             GJ 273 b       0.33     0.14     0.29     0.04     0.0\n",
       "7           GJ 667 C c       0.21     0.08     0.19     0.02     0.0\n",
       "12  Teegarden's Star c       0.20     0.06     0.19     0.01     0.0\n",
       "0            GJ 1002 c       0.08     0.03     0.08     0.00     0.0\n",
       "14        TRAPPIST-1 e       0.04     0.01     0.04     0.00     0.0\n",
       "15        TRAPPIST-1 h       0.01     0.00     0.01     0.00     0.0"
      ]
     },
     "execution_count": 296,
     "metadata": {},
     "output_type": "execute_result"
    }
   ],
   "source": [
    "SNR_table"
   ]
  },
  {
   "cell_type": "markdown",
   "id": "1440e95d",
   "metadata": {},
   "source": [
    "# GJ 887 b\n",
    "\n",
    "run 1 first"
   ]
  },
  {
   "cell_type": "code",
   "execution_count": 1702,
   "id": "6aa9d63a",
   "metadata": {},
   "outputs": [],
   "source": [
    "pn_9e_elt=(np.array(phe_1e[9])*u.W/u.m**2 *S*t/(pe_1)).to(u.m/u.m)"
   ]
  },
  {
   "cell_type": "code",
   "execution_count": 1436,
   "id": "ce61f9c1",
   "metadata": {},
   "outputs": [],
   "source": [
    "#len(gp_f_pla[9][0])"
   ]
  },
  {
   "cell_type": "code",
   "execution_count": 1437,
   "id": "6559846c",
   "metadata": {},
   "outputs": [
    {
     "name": "stderr",
     "output_type": "stream",
     "text": [
      "No artists with labels found to put in legend.  Note that artists whose label start with an underscore are ignored when legend() is called with no argument.\n",
      "No artists with labels found to put in legend.  Note that artists whose label start with an underscore are ignored when legend() is called with no argument.\n"
     ]
    },
    {
     "data": {
      "text/plain": [
       "<matplotlib.legend.Legend at 0x16cbda160>"
      ]
     },
     "execution_count": 1437,
     "metadata": {},
     "output_type": "execute_result"
    },
    {
     "data": {
      "image/png": "[encoded data removed]",
      "text/plain": [
       "<Figure size 864x432 with 1 Axes>"
      ]
     },
     "metadata": {
      "needs_background": "light"
     },
     "output_type": "display_data"
    }
   ],
   "source": [
    "plt.figure(figsize=(12, 6))\n",
    "#plt.plot(wl_um_check, tbd_tra1_erg_check/(1/ang2_1.to(u.steradian)),'-',color = '#1f77b4', label='Blackbody flux we simulated',linewidth=3)\n",
    "#plt.plot(sim_x, sim_y,'o',color = '#ff7f0e', label ='Data come from SIMBAD')\n",
    "plt.plot(wl_um,pn_9e_elt_nogas,linewidth=3,color = '#1f77b4' )\n",
    "#plt.plot(wl_um_rem,pn_planet_elt_rem[9][0],linewidth=3,color = 'red' )\n",
    "#plt.errorbar(wl_um[:765], pn_15e_elt_nogas[:765],\n",
    "#             yerr = dnr[15][:765],\n",
    "#             fmt ='o')\n",
    "plt.legend()\n",
    "plt.xlabel(\"Wavelength(um)\",fontdict={ 'size'   : 16})\n",
    "plt.ylabel(\"$PN$\",fontdict={ 'size'   : 16})\n",
    "#plt.xlim(0.9,5.6)\n",
    "#plt.ylim(0,0.5e3)\n",
    "#plt.title(\"ELT-R150-TRA1\")\n",
    "plt.xticks(size = 15)\n",
    "plt.yticks(size = 15)\n",
    "plt.legend(prop={'size': 15})"
   ]
  },
  {
   "cell_type": "code",
   "execution_count": 857,
   "id": "552b1cd7",
   "metadata": {
    "scrolled": false
   },
   "outputs": [
    {
     "name": "stderr",
     "output_type": "stream",
     "text": [
      "No artists with labels found to put in legend.  Note that artists whose label start with an underscore are ignored when legend() is called with no argument.\n",
      "No artists with labels found to put in legend.  Note that artists whose label start with an underscore are ignored when legend() is called with no argument.\n"
     ]
    },
    {
     "data": {
      "text/plain": [
       "<matplotlib.legend.Legend at 0x16cdf46d0>"
      ]
     },
     "execution_count": 857,
     "metadata": {},
     "output_type": "execute_result"
    },
    {
     "data": {
      "image/png": "[encoded data removed]",
      "text/plain": [
       "<Figure size 864x432 with 1 Axes>"
      ]
     },
     "metadata": {
      "needs_background": "light"
     },
     "output_type": "display_data"
    }
   ],
   "source": [
    "plt.figure(figsize=(12, 6))\n",
    "#plt.plot(wl_um_check, tbd_tra1_erg_check/(1/ang2_1.to(u.steradian)),'-',color = '#1f77b4', label='Blackbody flux we simulated',linewidth=3)\n",
    "#plt.plot(sim_x, sim_y,'o',color = '#ff7f0e', label ='Data come from SIMBAD')\n",
    "plt.plot(wl_um,pn_9e_elt_nogas,linewidth=3,color = '#1f77b4' )\n",
    "plt.plot(wl_um,pn_9e_elt,linewidth=3,color = 'red' )\n",
    "plt.legend()\n",
    "plt.xlabel(\"Wavelength(um)\",fontdict={ 'size'   : 16})\n",
    "plt.ylabel(\"$PN$\",fontdict={ 'size'   : 16})\n",
    "#plt.xlim(0.9,5.6)\n",
    "#plt.title(\"ELT-R150-TRA1\")\n",
    "plt.xticks(size = 15)\n",
    "plt.yticks(size = 15)\n",
    "plt.legend(prop={'size': 15})"
   ]
  },
  {
   "cell_type": "code",
   "execution_count": 585,
   "id": "2a525757",
   "metadata": {},
   "outputs": [
    {
     "ename": "NameError",
     "evalue": "name 'ch4_tot_ind' is not defined",
     "output_type": "error",
     "traceback": [
      "\u001b[0;31m---------------------------------------------------------------------------\u001b[0m",
      "\u001b[0;31mNameError\u001b[0m                                 Traceback (most recent call last)",
      "\u001b[1;32m/Users/huihaoz/Downloads/Section 3, more targets2_feature_METIS.ipynb Cell 71\u001b[0m in \u001b[0;36m<cell line: 3>\u001b[0;34m()\u001b[0m\n\u001b[1;32m      <a href='vscode-notebook-cell:/Users/huihaoz/Downloads/Section%203%2C%20more%20targets2_feature_METIS.ipynb#Y126sZmlsZQ%3D%3D?line=0'>1</a>\u001b[0m plt\u001b[39m.\u001b[39mfigure(figsize\u001b[39m=\u001b[39m(\u001b[39m12\u001b[39m, \u001b[39m6\u001b[39m))\n\u001b[1;32m      <a href='vscode-notebook-cell:/Users/huihaoz/Downloads/Section%203%2C%20more%20targets2_feature_METIS.ipynb#Y126sZmlsZQ%3D%3D?line=1'>2</a>\u001b[0m plt\u001b[39m.\u001b[39mplot(wl_um, dn[\u001b[39m9\u001b[39m] \u001b[39m/\u001b[39mn_9 )\n\u001b[0;32m----> <a href='vscode-notebook-cell:/Users/huihaoz/Downloads/Section%203%2C%20more%20targets2_feature_METIS.ipynb#Y126sZmlsZQ%3D%3D?line=2'>3</a>\u001b[0m plt\u001b[39m.\u001b[39mplot(wl_um[ch4_tot_ind], dn[\u001b[39m9\u001b[39m][ch4_tot_ind] \u001b[39m/\u001b[39mn_9[ch4_tot_ind],\u001b[39m'\u001b[39m\u001b[39mo\u001b[39m\u001b[39m'\u001b[39m,color \u001b[39m=\u001b[39m \u001b[39m'\u001b[39m\u001b[39mred\u001b[39m\u001b[39m'\u001b[39m, label \u001b[39m=\u001b[39m\u001b[39m'\u001b[39m\u001b[39mData come from SIMBAD\u001b[39m\u001b[39m'\u001b[39m,ms\u001b[39m=\u001b[39m\u001b[39m3\u001b[39m)\n\u001b[1;32m      <a href='vscode-notebook-cell:/Users/huihaoz/Downloads/Section%203%2C%20more%20targets2_feature_METIS.ipynb#Y126sZmlsZQ%3D%3D?line=3'>4</a>\u001b[0m plt\u001b[39m.\u001b[39mxlim(\u001b[39m0.9\u001b[39m,\u001b[39m5\u001b[39m)\n\u001b[1;32m      <a href='vscode-notebook-cell:/Users/huihaoz/Downloads/Section%203%2C%20more%20targets2_feature_METIS.ipynb#Y126sZmlsZQ%3D%3D?line=4'>5</a>\u001b[0m plt\u001b[39m.\u001b[39mylim(\u001b[39m0\u001b[39m,\u001b[39m50\u001b[39m)\n",
      "\u001b[0;31mNameError\u001b[0m: name 'ch4_tot_ind' is not defined"
     ]
    },
    {
     "data": {
      "image/png": "[encoded data removed]",
      "text/plain": [
       "<Figure size 864x432 with 1 Axes>"
      ]
     },
     "metadata": {
      "needs_background": "light"
     },
     "output_type": "display_data"
    }
   ],
   "source": [
    "plt.figure(figsize=(12, 6))\n",
    "plt.plot(wl_um, dn[9] /n_9 )\n",
    "plt.plot(wl_um[ch4_tot_ind], dn[9][ch4_tot_ind] /n_9[ch4_tot_ind],'o',color = 'red', label ='Data come from SIMBAD',ms=3)\n",
    "plt.xlim(0.9,5)\n",
    "plt.ylim(0,50)\n"
   ]
  },
  {
   "cell_type": "code",
   "execution_count": null,
   "id": "c63a54c3",
   "metadata": {},
   "outputs": [],
   "source": [
    "np.sum((dn[9][ch4_tot_ind] /n_9[ch4_tot_ind])**2)**(0.5)"
   ]
  },
  {
   "cell_type": "code",
   "execution_count": null,
   "id": "4c5d58da",
   "metadata": {},
   "outputs": [],
   "source": [
    "plt.figure(figsize=(12, 6))\n",
    "plt.plot(wl_um, pn_14e_elt /n_14 )\n",
    "plt.plot(wl_um[result], pn_14e_elt[result] /n_14[result],'o',color = 'red', label ='Data come from SIMBAD',ms=3)"
   ]
  },
  {
   "cell_type": "code",
   "execution_count": null,
   "id": "b4219863",
   "metadata": {},
   "outputs": [],
   "source": [
    "plt.figure(figsize=(12, 6))\n",
    "#plt.plot(wl_um_check, tbd_tra1_erg_check/(1/ang2_1.to(u.steradian)),'-',color = '#1f77b4', label='Blackbody flux we simulated',linewidth=3)\n",
    "#plt.plot(sim_x, sim_y,'o',color = '#ff7f0e', label ='Data come from SIMBAD')\n",
    "plt.plot(wl_um[:765],pn_9_elt[:765],linewidth=3,color = 'red' )\n",
    "plt.legend()\n",
    "plt.xlabel(\"Wavelength(um)\",fontdict={ 'size'   : 16})\n",
    "plt.ylabel(\"$PN$\",fontdict={ 'size'   : 16})\n",
    "plt.xlim(0.9,5.6)\n",
    "#plt.title(\"ELT-R150-TRA1\")\n",
    "plt.xticks(size = 15)\n",
    "plt.yticks(size = 15)\n",
    "plt.legend(prop={'size': 15})"
   ]
  },
  {
   "cell_type": "code",
   "execution_count": null,
   "id": "ebcb48a5",
   "metadata": {},
   "outputs": [],
   "source": [
    "flux_bin_the = [[],[],[],[],[],[],[],[],[],[],[],[],[],[],[]]#W/m**2\n",
    "for a in range(len(Flux_tbd_planet_earth)):\n",
    "    for i in range(len(bin_range)):\n",
    "        flux_bin_the[a].append(np.sum(Flux_tbd_planet_earth[a][bin_range[i]].value))\n",
    "        \n",
    "        "
   ]
  },
  {
   "cell_type": "code",
   "execution_count": null,
   "id": "c3fc2bdb",
   "metadata": {},
   "outputs": [],
   "source": [
    "flux_bin_ref = [[],[],[],[],[],[],[],[],[],[],[],[],[],[],[]]#W/m**2\n",
    "for a in range(len(f_ref_planet_earth_fit)):\n",
    "    for i in range(len(bin_range)):\n",
    "        flux_bin_ref[a].append(np.sum(f_ref_planet_earth_fit[a][bin_range[i]]))"
   ]
  },
  {
   "cell_type": "code",
   "execution_count": null,
   "id": "41c2664f",
   "metadata": {},
   "outputs": [],
   "source": [
    "plt.figure(figsize=(12, 6))\n",
    "#plt.plot(wl_um_check, tbd_tra1_erg_check/(1/ang2_1.to(u.steradian)),'-',color = '#1f77b4', label='Blackbody flux we simulated',linewidth=3)\n",
    "#plt.plot(sim_x, sim_y,'o',color = '#ff7f0e', label ='Data come from SIMBAD')\n",
    "plt.plot(wl_um,flux_bin_ref[9],linewidth=3,color = '#1f77b4' )\n",
    "plt.legend()\n",
    "plt.xlabel(\"Wavelength(um)\",fontdict={ 'size'   : 16})\n",
    "plt.ylabel(\"$W/m2$\",fontdict={ 'size'   : 16})\n",
    "plt.xlim(0.9,5.6)\n",
    "#plt.title(\"ELT-R150-TRA1\")\n",
    "plt.xticks(size = 15)\n",
    "plt.yticks(size = 15)\n",
    "plt.legend(prop={'size': 15})"
   ]
  },
  {
   "cell_type": "code",
   "execution_count": null,
   "id": "85f1fe0b",
   "metadata": {},
   "outputs": [],
   "source": [
    "plt.figure(figsize=(12, 6))\n",
    "#plt.plot(wl_um_check, tbd_tra1_erg_check/(1/ang2_1.to(u.steradian)),'-',color = '#1f77b4', label='Blackbody flux we simulated',linewidth=3)\n",
    "#plt.plot(sim_x, sim_y,'o',color = '#ff7f0e', label ='Data come from SIMBAD')\n",
    "plt.plot(wl_um,flux_bin_the[9],linewidth=3,color = '#1f77b4' )\n",
    "plt.legend()\n",
    "plt.xlabel(\"Wavelength(um)\",fontdict={ 'size'   : 16})\n",
    "plt.ylabel(\"$W/m2$\",fontdict={ 'size'   : 16})\n",
    "plt.xlim(0.9,5.6)\n",
    "#plt.title(\"ELT-R150-TRA1\")\n",
    "plt.xticks(size = 15)\n",
    "plt.yticks(size = 15)\n",
    "plt.legend(prop={'size': 15})"
   ]
  },
  {
   "cell_type": "code",
   "execution_count": null,
   "id": "9c4970f3",
   "metadata": {},
   "outputs": [],
   "source": [
    "plt.figure(figsize=(12, 6))\n",
    "#plt.plot(wl_um_check, tbd_tra1_erg_check/(1/ang2_1.to(u.steradian)),'-',color = '#1f77b4', label='Blackbody flux we simulated',linewidth=3)\n",
    "#plt.plot(sim_x, sim_y,'o',color = '#ff7f0e', label ='Data come from SIMBAD')\n",
    "plt.plot(wl_um,(np.array(flux_bin_the[9])+np.array(flux_bin_ref[9])),linewidth=3,color = '#1f77b4' )\n",
    "plt.legend()\n",
    "plt.xlabel(\"Wavelength(um)\",fontdict={ 'size'   : 16})\n",
    "plt.ylabel(\"$W/m2$\",fontdict={ 'size'   : 16})\n",
    "plt.xlim(0.9,5.6)\n",
    "#plt.title(\"ELT-R150-TRA1\")\n",
    "plt.xticks(size = 15)\n",
    "plt.yticks(size = 15)\n",
    "plt.legend(prop={'size': 15})"
   ]
  },
  {
   "cell_type": "markdown",
   "id": "5b72b857",
   "metadata": {},
   "source": [
    "## STAR"
   ]
  },
  {
   "cell_type": "code",
   "execution_count": null,
   "id": "d7486ff5",
   "metadata": {},
   "outputs": [],
   "source": [
    "pts"
   ]
  },
  {
   "cell_type": "code",
   "execution_count": null,
   "id": "06515c64",
   "metadata": {},
   "outputs": [],
   "source": [
    "print(pts[[\"Planet\",\"SNR_total\"]].to_latex())"
   ]
  },
  {
   "cell_type": "code",
   "execution_count": null,
   "id": "85b9376f",
   "metadata": {
    "scrolled": false
   },
   "outputs": [],
   "source": [
    "pts[[\"Planet\",\"SNR_h2o\",\"SNR_ch4\",\"SNR_co2\",\"SNR_o2\",\"SNR_total\"]]\n",
    "#pts[['Planet','SNR_total']].sort_values(by='SNR_total',ascending=False).to_latex()"
   ]
  },
  {
   "cell_type": "code",
   "execution_count": null,
   "id": "da1c7d85",
   "metadata": {},
   "outputs": [],
   "source": [
    "len(f_s[1])"
   ]
  },
  {
   "cell_type": "code",
   "execution_count": null,
   "id": "becde7ca",
   "metadata": {},
   "outputs": [],
   "source": [
    "df_s = (pts.SRadiusSun * const.R_sun / (pts.DistancePC * const.pc))**2\n",
    "f_s = np.array(Flux_surface)*np.array(df_s).reshape(-1,1)\n",
    "f_s_fit = f_s \n",
    "flux_bin_s = [[],[],[],[],[],[],[],[],[],[],[],[],[],[],[]]#W/m**2\n",
    "for a in range(len(f_s_fit)):\n",
    "    for i in range(len(bin_range)):\n",
    "        flux_bin_s[a].append(np.sum(f_s_fit[a][bin_range[i]]))"
   ]
  },
  {
   "cell_type": "code",
   "execution_count": null,
   "id": "581d97f4",
   "metadata": {},
   "outputs": [],
   "source": [
    "plt.figure(figsize=(12, 6))\n",
    "#plt.plot(wl_um_check, tbd_tra1_erg_check/(1/ang2_1.to(u.steradian)),'-',color = '#1f77b4', label='Blackbody flux we simulated',linewidth=3)\n",
    "#plt.plot(sim_x, sim_y,'o',color = '#ff7f0e', label ='Data come from SIMBAD')\n",
    "plt.plot(wl_um,flux_bin_s[9],linewidth=3,color = '#1f77b4' )\n",
    "plt.legend()\n",
    "plt.xlabel(\"Wavelength(um)\",fontdict={ 'size'   : 16})\n",
    "plt.ylabel(\"$W/m2$\",fontdict={ 'size'   : 16})\n",
    "plt.xlim(0.9,5.6)\n",
    "#plt.title(\"ELT-R150-TRA1\")\n",
    "plt.xticks(size = 15)\n",
    "plt.yticks(size = 15)\n",
    "plt.legend(prop={'size': 15})"
   ]
  },
  {
   "cell_type": "code",
   "execution_count": null,
   "id": "a6fa5687",
   "metadata": {},
   "outputs": [],
   "source": [
    "#AT EARTH\n",
    "plt.figure(figsize=(12, 6))\n",
    "#plt.plot(wl_um_check, tbd_tra1_erg_check/(1/ang2_1.to(u.steradian)),'-',color = '#1f77b4', label='Blackbody flux we simulated',linewidth=3)\n",
    "#plt.plot(sim_x, sim_y,'o',color = '#ff7f0e', label ='Data come from SIMBAD')\n",
    "plt.plot(absor1.nm[1:1079300]/1000,f_s[9],linewidth=3,color = '#1f77b4' )\n",
    "plt.legend()\n",
    "plt.xlabel(\"Wavelength(um)\",fontdict={ 'size'   : 16})\n",
    "plt.ylabel(\"$W/m2$\",fontdict={ 'size'   : 16})\n",
    "plt.xlim(0.9,5.6)\n",
    "#plt.title(\"ELT-R150-TRA1\")\n",
    "plt.xticks(size = 15)\n",
    "plt.yticks(size = 15)\n",
    "plt.legend(prop={'size': 15})"
   ]
  },
  {
   "cell_type": "code",
   "execution_count": null,
   "id": "25401e4c",
   "metadata": {},
   "outputs": [],
   "source": [
    "#SURFACE\n",
    "plt.figure(figsize=(12, 6))\n",
    "#plt.plot(wl_um_check, tbd_tra1_erg_check/(1/ang2_1.to(u.steradian)),'-',color = '#1f77b4', label='Blackbody flux we simulated',linewidth=3)\n",
    "#plt.plot(sim_x, sim_y,'o',color = '#ff7f0e', label ='Data come from SIMBAD')\n",
    "plt.plot(f_traAng[9],f_tra1_fum0[9],linewidth=3,color = '#1f77b4' )\n",
    "plt.legend()\n",
    "plt.xlabel(\"Wavelength(um)\",fontdict={ 'size'   : 16})\n",
    "plt.ylabel(\"$erg/ s\\ cm^2\\ A$\",fontdict={ 'size'   : 16})\n",
    "plt.xlim(0.9,5.6)\n",
    "#plt.title(\"ELT-R150-TRA1\")\n",
    "plt.xticks(size = 15)\n",
    "plt.yticks(size = 15)\n",
    "plt.legend(prop={'size': 15})"
   ]
  },
  {
   "cell_type": "code",
   "execution_count": null,
   "id": "790a3e66",
   "metadata": {},
   "outputs": [],
   "source": [
    "\n",
    "plt.figure(figsize=(12, 6))\n",
    "#plt.plot(wl_um_check, tbd_tra1_erg_check/(1/ang2_1.to(u.steradian)),'-',color = '#1f77b4', label='Blackbody flux we simulated',linewidth=3)\n",
    "#plt.plot(sim_x, sim_y,'o',color = '#ff7f0e', label ='Data come from SIMBAD')\n",
    "plt.plot(wl_um,n_9,linewidth=3,color = '#1f77b4' )\n",
    "plt.legend()\n",
    "plt.xlabel(\"Wavelength(um)\",fontdict={ 'size'   : 16})\n",
    "plt.ylabel(\"$PN$\",fontdict={ 'size'   : 16})\n",
    "plt.xlim(0.9,5.6)\n",
    "#plt.ylim(0,0.00006)\n",
    "#plt.title(\"ELT-R150-TRA1\")\n",
    "plt.xticks(size = 15)\n",
    "plt.yticks(size = 15)\n",
    "plt.legend(prop={'size': 15})"
   ]
  },
  {
   "cell_type": "markdown",
   "id": "e8c487e9",
   "metadata": {},
   "source": [
    "# check contrast form 10-3 to 10-6"
   ]
  },
  {
   "cell_type": "code",
   "execution_count": null,
   "id": "c5eb921e",
   "metadata": {},
   "outputs": [],
   "source": [
    "n_9_3=((((pn_9e_elt+2* 10**(-3) *pn_9_elt)*trans_use+2*pnsky_1_elt)**(1/2) / nor_trans)**2 + (0.001)**2 * pn_9e_elt**2)**(1/2)\n",
    "n_9_4=((((pn_9e_elt+2* 10**(-4) *pn_9_elt)*trans_use+2*pnsky_1_elt)**(1/2) / nor_trans)**2 + (0.001)**2 * pn_9e_elt**2)**(1/2)\n",
    "n_9_6=((((pn_9e_elt+2* 10**(-6) *pn_9_elt)*trans_use+2*pnsky_1_elt)**(1/2) / nor_trans)**2 + (0.001)**2 * pn_9e_elt**2)**(1/2)\n",
    "n_9_5=((((pn_9e_elt+2* 10**(-5) *pn_9_elt)*trans_use+2*pnsky_1_elt)**(1/2) / nor_trans)**2 + (0.001)**2 * pn_9e_elt**2)**(1/2)"
   ]
  },
  {
   "cell_type": "code",
   "execution_count": null,
   "id": "bd42536f",
   "metadata": {},
   "outputs": [],
   "source": [
    "print(\"SNR(h2o) with instrument contrast 10-3:\",np.sum((dn[9][indh2o]/n_9_3[indh2o])**2)**(1/2))\n",
    "print(\"SNR(h2o) with instrument contrast 10-4:\",np.sum((dn[9][indh2o]/n_9_4[indh2o])**2)**(1/2))\n",
    "print(\"SNR(h2o) with instrument contrast 10-5:\",np.sum((dn[9][indh2o]/n_9_5[indh2o])**2)**(1/2))\n",
    "print(\"SNR(h2o) with instrument contrast 10-6:\",np.sum((dn[9][indh2o]/n_9_6[indh2o])**2)**(1/2))"
   ]
  },
  {
   "cell_type": "code",
   "execution_count": null,
   "id": "bd3a7c6d",
   "metadata": {},
   "outputs": [],
   "source": [
    "print(\"SNR(ch4) with instrument contrast 10-3:\",np.sum((dn[9][indch4]/n_9_3[indch4])**2)**(1/2))\n",
    "print(\"SNR(ch4) with instrument contrast 10-4:\",np.sum((dn[9][indch4]/n_9_4[indch4])**2)**(1/2))\n",
    "print(\"SNR(ch4) with instrument contrast 10-5:\",np.sum((dn[9][indch4]/n_9_5[indch4])**2)**(1/2))\n",
    "print(\"SNR(ch4) with instrument contrast 10-6:\",np.sum((dn[9][indch4]/n_9_6[indch4])**2)**(1/2))"
   ]
  },
  {
   "cell_type": "code",
   "execution_count": null,
   "id": "382a6b86",
   "metadata": {},
   "outputs": [],
   "source": [
    "print(\"SNR(co2) with instrument contrast 10-3:\",np.sum((dn[9][indco2]/n_9_3[indco2])**2)**(1/2))\n",
    "print(\"SNR(co2) with instrument contrast 10-4:\",np.sum((dn[9][indco2]/n_9_4[indco2])**2)**(1/2))\n",
    "print(\"SNR(co2) with instrument contrast 10-5:\",np.sum((dn[9][indco2]/n_9_5[indco2])**2)**(1/2))\n",
    "print(\"SNR(co2) with instrument contrast 10-6:\",np.sum((dn[9][indco2]/n_9_6[indco2])**2)**(1/2))"
   ]
  },
  {
   "cell_type": "code",
   "execution_count": null,
   "id": "dab392f4",
   "metadata": {},
   "outputs": [],
   "source": [
    "print(\"SNR(o2) with instrument contrast 10-3:\",np.sum((dn[9][indo2]/n_9_3[indo2])**2)**(1/2))\n",
    "print(\"SNR(o2) with instrument contrast 10-4:\",np.sum((dn[9][indo2]/n_9_4[indo2])**2)**(1/2))\n",
    "print(\"SNR(o2) with instrument contrast 10-5:\",np.sum((dn[9][indo2]/n_9_5[indo2])**2)**(1/2))\n",
    "print(\"SNR(o2) with instrument contrast 10-6:\",np.sum((dn[9][indo2]/n_9_6[indo2])**2)**(1/2))"
   ]
  },
  {
   "cell_type": "code",
   "execution_count": null,
   "id": "ff75e550",
   "metadata": {},
   "outputs": [],
   "source": [
    "print(\"SNR(total) with instrument contrast 10-3:\",np.sum((dn[9][indtotno]/n_9_3[indtotno])**2)**(1/2))\n",
    "print(\"SNR(total) with instrument contrast 10-4:\",np.sum((dn[9][indtotno]/n_9_4[indtotno])**2)**(1/2))\n",
    "print(\"SNR(total) with instrument contrast 10-5:\",np.sum((dn[9][indtotno]/n_9_5[indtotno])**2)**(1/2))\n",
    "print(\"SNR(total) with instrument contrast 10-6:\",np.sum((dn[9][indtotno]/n_9_6[indtotno])**2)**(1/2))"
   ]
  },
  {
   "cell_type": "markdown",
   "id": "8d6a13df",
   "metadata": {},
   "source": [
    "# TRAPPIST-1"
   ]
  },
  {
   "cell_type": "code",
   "execution_count": null,
   "id": "5015ae71",
   "metadata": {},
   "outputs": [],
   "source": [
    "pts"
   ]
  },
  {
   "cell_type": "code",
   "execution_count": null,
   "id": "74200d89",
   "metadata": {},
   "outputs": [],
   "source": [
    "pts.DistancePC[14]*u.pc"
   ]
  },
  {
   "cell_type": "code",
   "execution_count": null,
   "id": "3f945553",
   "metadata": {},
   "outputs": [],
   "source": [
    "pts.RadiusEar[14]*u.R_earth"
   ]
  },
  {
   "cell_type": "code",
   "execution_count": null,
   "id": "91baa90c",
   "metadata": {},
   "outputs": [],
   "source": [
    "pts.SMAAU[14]*u.au"
   ]
  },
  {
   "cell_type": "code",
   "execution_count": null,
   "id": "895e76ec",
   "metadata": {},
   "outputs": [],
   "source": [
    "((pts.RadiusEar[14]*u.R_earth / (pts.SMAAU[14]*u.au))**2).to(u.m/u.m)"
   ]
  },
  {
   "cell_type": "markdown",
   "id": "4a33cfdc",
   "metadata": {},
   "source": [
    "## Sep"
   ]
  },
  {
   "cell_type": "markdown",
   "id": "a963c2ba",
   "metadata": {},
   "source": [
    "### arctan(a / D)"
   ]
  },
  {
   "cell_type": "code",
   "execution_count": null,
   "id": "4d5540c4",
   "metadata": {},
   "outputs": [],
   "source": [
    "np.arctan((pts.SMAAU[14]*u.au/(pts.DistancePC[14]*u.pc)).to(u.m/u.m)).to(u.arcsec)"
   ]
  },
  {
   "cell_type": "markdown",
   "id": "5ce7ce57",
   "metadata": {},
   "source": [
    "## Contrast"
   ]
  },
  {
   "cell_type": "code",
   "execution_count": null,
   "id": "b3140957",
   "metadata": {},
   "outputs": [],
   "source": [
    "((((pts.RadiusEar[14]*u.R_earth / (pts.SMAAU[14]*u.au))**2).to(u.m/u.m)))*0.3"
   ]
  },
  {
   "cell_type": "markdown",
   "id": "16be4cf0",
   "metadata": {},
   "source": [
    "# H"
   ]
  },
  {
   "cell_type": "code",
   "execution_count": null,
   "id": "3cc34d40",
   "metadata": {},
   "outputs": [],
   "source": [
    "np.arctan((pts.SMAAU[15]*u.au/(pts.DistancePC[15]*u.pc)).to(u.m/u.m)).to(u.arcsec)"
   ]
  },
  {
   "cell_type": "code",
   "execution_count": null,
   "id": "b3c56f0c",
   "metadata": {},
   "outputs": [],
   "source": [
    "((((pts.RadiusEar[15]*u.R_earth / (pts.SMAAU[15]*u.au))**2).to(u.m/u.m)))*0.3"
   ]
  },
  {
   "cell_type": "code",
   "execution_count": null,
   "id": "4c8b8e0f",
   "metadata": {},
   "outputs": [],
   "source": []
  }
 ],
 "metadata": {
  "kernelspec": {
   "display_name": "Python 3 (ipykernel)",
   "language": "python",
   "name": "python3"
  },
  "language_info": {
   "codemirror_mode": {
    "name": "ipython",
    "version": 3
   },
   "file_extension": ".py",
   "mimetype": "text/x-python",
   "name": "python",
   "nbconvert_exporter": "python",
   "pygments_lexer": "ipython3",
   "version": "3.9.12"
  }
 },
 "nbformat": 4,
 "nbformat_minor": 5
}
