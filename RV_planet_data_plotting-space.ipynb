{
 "cells": [
  {
   "cell_type": "code",
   "execution_count": 1,
   "metadata": {},
   "outputs": [],
   "source": [
    "import numpy as np\n",
    "import matplotlib.pyplot as plt\n",
    "import astropy.io.ascii \n",
    "from astropy import units as u"
   ]
  },
  {
   "cell_type": "code",
   "execution_count": 2,
   "metadata": {},
   "outputs": [],
   "source": [
    "tab = astropy.io.ascii.read(\"/Users/huihaoz/Downloads/PS_2023.02.22_19.19.00.csv\")"
   ]
  },
  {
   "cell_type": "code",
   "execution_count": 3,
   "metadata": {},
   "outputs": [
    {
     "name": "stdout",
     "output_type": "stream",
     "text": [
      "['pl_name', 'hostname', 'default_flag', 'sy_snum', 'sy_pnum', 'discoverymethod', 'disc_year', 'disc_facility', 'soltype', 'pl_controv_flag', 'pl_refname', 'pl_orbper', 'pl_orbpererr1', 'pl_orbpererr2', 'pl_orbperlim', 'pl_orbsmax', 'pl_orbsmaxerr1', 'pl_orbsmaxerr2', 'pl_orbsmaxlim', 'pl_rade', 'pl_radeerr1', 'pl_radeerr2', 'pl_radelim', 'pl_radj', 'pl_radjerr1', 'pl_radjerr2', 'pl_radjlim', 'pl_bmasse', 'pl_bmasseerr1', 'pl_bmasseerr2', 'pl_bmasselim', 'pl_bmassj', 'pl_bmassjerr1', 'pl_bmassjerr2', 'pl_bmassjlim', 'pl_bmassprov', 'pl_orbeccen', 'pl_orbeccenerr1', 'pl_orbeccenerr2', 'pl_orbeccenlim', 'pl_insol', 'pl_insolerr1', 'pl_insolerr2', 'pl_insollim', 'pl_eqt', 'pl_eqterr1', 'pl_eqterr2', 'pl_eqtlim', 'ttv_flag', 'st_refname', 'st_spectype', 'st_teff', 'st_tefferr1', 'st_tefferr2', 'st_tefflim', 'st_rad', 'st_raderr1', 'st_raderr2', 'st_radlim', 'st_mass', 'st_masserr1', 'st_masserr2', 'st_masslim', 'st_met', 'st_meterr1', 'st_meterr2', 'st_metlim', 'st_metratio', 'st_logg', 'st_loggerr1', 'st_loggerr2', 'st_logglim', 'sy_refname', 'rastr', 'ra', 'decstr', 'dec', 'sy_dist', 'sy_disterr1', 'sy_disterr2', 'sy_vmag', 'sy_vmagerr1', 'sy_vmagerr2', 'sy_kmag', 'sy_kmagerr1', 'sy_kmagerr2', 'sy_gaiamag', 'sy_gaiamagerr1', 'sy_gaiamagerr2', 'rowupdate', 'pl_pubdate', 'releasedate']\n"
     ]
    }
   ],
   "source": [
    "print(tab.colnames)"
   ]
  },
  {
   "cell_type": "markdown",
   "metadata": {},
   "source": [
    "## calculate contrast and separation"
   ]
  },
  {
   "cell_type": "markdown",
   "metadata": {},
   "source": []
  },
  {
   "cell_type": "markdown",
   "metadata": {},
   "source": [
    "Change: use the new datafile, and from gaia_dist to sy_dist\n",
    "\n",
    "the number in cal_rad?"
   ]
  },
  {
   "cell_type": "code",
   "execution_count": 4,
   "metadata": {},
   "outputs": [
    {
     "data": {
      "text/plain": [
       "5433.8019215270415"
      ]
     },
     "execution_count": 4,
     "metadata": {},
     "output_type": "execute_result"
    }
   ],
   "source": [
    "np.mean(tab['st_teff'])"
   ]
  },
  {
   "cell_type": "code",
   "execution_count": 5,
   "metadata": {},
   "outputs": [
    {
     "data": {
      "text/html": [
       "<div><i>Table length=5250</i>\n",
       "<table id=\"table4694239216\" class=\"table-striped table-bordered table-condensed\">\n",
       "<thead><tr><th>pl_name</th><th>hostname</th><th>default_flag</th><th>sy_snum</th><th>sy_pnum</th><th>discoverymethod</th><th>disc_year</th><th>disc_facility</th><th>soltype</th><th>pl_controv_flag</th><th>pl_refname</th><th>pl_orbper</th><th>pl_orbpererr1</th><th>pl_orbpererr2</th><th>pl_orbperlim</th><th>pl_orbsmax</th><th>pl_orbsmaxerr1</th><th>pl_orbsmaxerr2</th><th>pl_orbsmaxlim</th><th>pl_rade</th><th>pl_radeerr1</th><th>pl_radeerr2</th><th>pl_radelim</th><th>pl_radj</th><th>pl_radjerr1</th><th>pl_radjerr2</th><th>pl_radjlim</th><th>pl_bmasse</th><th>pl_bmasseerr1</th><th>pl_bmasseerr2</th><th>pl_bmasselim</th><th>pl_bmassj</th><th>pl_bmassjerr1</th><th>pl_bmassjerr2</th><th>pl_bmassjlim</th><th>pl_bmassprov</th><th>pl_orbeccen</th><th>pl_orbeccenerr1</th><th>pl_orbeccenerr2</th><th>pl_orbeccenlim</th><th>pl_insol</th><th>pl_insolerr1</th><th>pl_insolerr2</th><th>pl_insollim</th><th>pl_eqt</th><th>pl_eqterr1</th><th>pl_eqterr2</th><th>pl_eqtlim</th><th>ttv_flag</th><th>st_refname</th><th>st_spectype</th><th>st_teff</th><th>st_tefferr1</th><th>st_tefferr2</th><th>st_tefflim</th><th>st_rad</th><th>st_raderr1</th><th>st_raderr2</th><th>st_radlim</th><th>st_mass</th><th>st_masserr1</th><th>st_masserr2</th><th>st_masslim</th><th>st_met</th><th>st_meterr1</th><th>st_meterr2</th><th>st_metlim</th><th>st_metratio</th><th>st_logg</th><th>st_loggerr1</th><th>st_loggerr2</th><th>st_logglim</th><th>sy_refname</th><th>rastr</th><th>ra</th><th>decstr</th><th>dec</th><th>sy_dist</th><th>sy_disterr1</th><th>sy_disterr2</th><th>sy_vmag</th><th>sy_vmagerr1</th><th>sy_vmagerr2</th><th>sy_kmag</th><th>sy_kmagerr1</th><th>sy_kmagerr2</th><th>sy_gaiamag</th><th>sy_gaiamagerr1</th><th>sy_gaiamagerr2</th><th>rowupdate</th><th>pl_pubdate</th><th>releasedate</th></tr></thead>\n",
       "<thead><tr><th>str29</th><th>str27</th><th>int64</th><th>int64</th><th>int64</th><th>str29</th><th>int64</th><th>str46</th><th>str19</th><th>int64</th><th>str178</th><th>float64</th><th>float64</th><th>float64</th><th>int64</th><th>float64</th><th>float64</th><th>float64</th><th>int64</th><th>float64</th><th>float64</th><th>float64</th><th>int64</th><th>float64</th><th>float64</th><th>float64</th><th>int64</th><th>float64</th><th>float64</th><th>float64</th><th>int64</th><th>float64</th><th>float64</th><th>float64</th><th>int64</th><th>str14</th><th>float64</th><th>float64</th><th>float64</th><th>int64</th><th>float64</th><th>float64</th><th>float64</th><th>int64</th><th>int64</th><th>int64</th><th>int64</th><th>int64</th><th>int64</th><th>str178</th><th>str17</th><th>float64</th><th>float64</th><th>float64</th><th>int64</th><th>float64</th><th>float64</th><th>float64</th><th>int64</th><th>float64</th><th>float64</th><th>float64</th><th>int64</th><th>float64</th><th>float64</th><th>float64</th><th>int64</th><th>str6</th><th>float64</th><th>float64</th><th>float64</th><th>int64</th><th>str160</th><th>str13</th><th>float64</th><th>str14</th><th>float64</th><th>float64</th><th>float64</th><th>float64</th><th>float64</th><th>float64</th><th>float64</th><th>float64</th><th>float64</th><th>float64</th><th>float64</th><th>float64</th><th>float64</th><th>str10</th><th>str7</th><th>str10</th></tr></thead>\n",
       "<tr><td>11 Com b</td><td>11 Com</td><td>1</td><td>2</td><td>1</td><td>Radial Velocity</td><td>2007</td><td>Xinglong Station</td><td>Published Confirmed</td><td>0</td><td>&lt;a refstr=LIU_ET_AL__2008 href=https://ui.adsabs.harvard.edu/abs/2008ApJ...672..553L/abstract target=ref&gt; Liu et al. 2008 &lt;/a&gt;</td><td>326.03</td><td>0.32</td><td>-0.32</td><td>0</td><td>1.29</td><td>0.05</td><td>-0.05</td><td>0</td><td>--</td><td>--</td><td>--</td><td>--</td><td>--</td><td>--</td><td>--</td><td>--</td><td>6165.6</td><td>476.7</td><td>-476.7</td><td>0</td><td>19.4</td><td>1.5</td><td>-1.5</td><td>0</td><td>Msini</td><td>0.231</td><td>0.005</td><td>-0.005</td><td>0</td><td>--</td><td>--</td><td>--</td><td>--</td><td>--</td><td>--</td><td>--</td><td>--</td><td>0</td><td>&lt;a refstr=LIU_ET_AL__2008 href=https://ui.adsabs.harvard.edu/abs/2008ApJ...672..553L/abstract target=ref&gt; Liu et al. 2008 &lt;/a&gt;</td><td>G8 III</td><td>4742.0</td><td>100.0</td><td>-100.0</td><td>0</td><td>19.0</td><td>2.0</td><td>-2.0</td><td>0</td><td>2.7</td><td>0.3</td><td>-0.3</td><td>0</td><td>-0.35</td><td>0.09</td><td>-0.09</td><td>0</td><td>[Fe/H]</td><td>2.31</td><td>0.1</td><td>-0.1</td><td>0</td><td>&lt;a refstr=STASSUN_ET_AL__2019 href=https://ui.adsabs.harvard.edu/abs/2019AJ....158..138S/abstract target=ref&gt;TICv8&lt;/a&gt;</td><td>12h20m42.91s</td><td>185.1787793</td><td>+17d47m35.71s</td><td>17.7932516</td><td>93.1846</td><td>1.9238</td><td>-1.9238</td><td>4.72307</td><td>0.023</td><td>-0.023</td><td>2.282</td><td>0.346</td><td>-0.346</td><td>4.44038</td><td>0.0038479</td><td>-0.0038479</td><td>2014-05-14</td><td>2008-01</td><td>2014-05-14</td></tr>\n",
       "<tr><td>11 UMi b</td><td>11 UMi</td><td>1</td><td>1</td><td>1</td><td>Radial Velocity</td><td>2009</td><td>Thueringer Landessternwarte Tautenburg</td><td>Published Confirmed</td><td>0</td><td>&lt;a refstr=STASSUN_ET_AL__2017 href=https://ui.adsabs.harvard.edu/abs/2017AJ....153..136S/abstract target=ref&gt;Stassun et al. 2017&lt;/a&gt;</td><td>516.21997</td><td>3.2</td><td>-3.2</td><td>0</td><td>1.53</td><td>0.07</td><td>-0.07</td><td>0</td><td>--</td><td>--</td><td>--</td><td>--</td><td>--</td><td>--</td><td>--</td><td>--</td><td>4684.8142</td><td>794.575</td><td>-794.575</td><td>0</td><td>14.74</td><td>2.5</td><td>-2.5</td><td>0</td><td>Msini</td><td>0.08</td><td>0.03</td><td>-0.03</td><td>0</td><td>--</td><td>--</td><td>--</td><td>--</td><td>--</td><td>--</td><td>--</td><td>--</td><td>0</td><td>&lt;a refstr=STASSUN_ET_AL__2017 href=https://ui.adsabs.harvard.edu/abs/2017AJ....153..136S/abstract target=ref&gt;Stassun et al. 2017&lt;/a&gt;</td><td>--</td><td>4213.0</td><td>46.0</td><td>-46.0</td><td>0</td><td>29.79</td><td>2.84</td><td>-2.84</td><td>0</td><td>2.78</td><td>0.69</td><td>-0.69</td><td>0</td><td>-0.02</td><td>--</td><td>--</td><td>0</td><td>[Fe/H]</td><td>1.93</td><td>0.07</td><td>-0.07</td><td>0</td><td>&lt;a refstr=STASSUN_ET_AL__2019 href=https://ui.adsabs.harvard.edu/abs/2019AJ....158..138S/abstract target=ref&gt;TICv8&lt;/a&gt;</td><td>15h17m05.90s</td><td>229.2745954</td><td>+71d49m26.19s</td><td>71.8239428</td><td>125.321</td><td>1.9765</td><td>-1.9765</td><td>5.013</td><td>0.005</td><td>-0.005</td><td>1.939</td><td>0.27</td><td>-0.27</td><td>4.56216</td><td>0.0039035</td><td>-0.0039035</td><td>2018-09-04</td><td>2017-03</td><td>2018-09-06</td></tr>\n",
       "<tr><td>14 And b</td><td>14 And</td><td>1</td><td>1</td><td>1</td><td>Radial Velocity</td><td>2008</td><td>Okayama Astrophysical Observatory</td><td>Published Confirmed</td><td>0</td><td>&lt;a refstr=SATO_ET_AL__2008 href=https://ui.adsabs.harvard.edu/abs/2008PASJ...60.1317S/abstract target=ref&gt; Sato et al. 2008 &lt;/a&gt;</td><td>185.84</td><td>0.23</td><td>-0.23</td><td>0</td><td>0.83</td><td>--</td><td>--</td><td>0</td><td>--</td><td>--</td><td>--</td><td>--</td><td>--</td><td>--</td><td>--</td><td>--</td><td>1525.5</td><td>--</td><td>--</td><td>0</td><td>4.8</td><td>--</td><td>--</td><td>0</td><td>Msini</td><td>0.0</td><td>--</td><td>--</td><td>0</td><td>--</td><td>--</td><td>--</td><td>--</td><td>--</td><td>--</td><td>--</td><td>--</td><td>0</td><td>&lt;a refstr=SATO_ET_AL__2008 href=https://ui.adsabs.harvard.edu/abs/2008PASJ...60.1317S/abstract target=ref&gt; Sato et al. 2008 &lt;/a&gt;</td><td>K0 III</td><td>4813.0</td><td>20.0</td><td>-20.0</td><td>0</td><td>11.0</td><td>1.0</td><td>-1.0</td><td>0</td><td>2.2</td><td>0.1</td><td>-0.2</td><td>0</td><td>-0.24</td><td>0.03</td><td>-0.03</td><td>0</td><td>[Fe/H]</td><td>2.63</td><td>0.07</td><td>-0.07</td><td>0</td><td>&lt;a refstr=STASSUN_ET_AL__2019 href=https://ui.adsabs.harvard.edu/abs/2019AJ....158..138S/abstract target=ref&gt;TICv8&lt;/a&gt;</td><td>23h31m17.80s</td><td>352.82415</td><td>+39d14m09.01s</td><td>39.2358367</td><td>75.4392</td><td>0.714</td><td>-0.714</td><td>5.23133</td><td>0.023</td><td>-0.023</td><td>2.331</td><td>0.24</td><td>-0.24</td><td>4.91781</td><td>0.0028262</td><td>-0.0028262</td><td>2014-05-14</td><td>2008-12</td><td>2014-05-14</td></tr>\n",
       "<tr><td>14 Her b</td><td>14 Her</td><td>1</td><td>1</td><td>2</td><td>Radial Velocity</td><td>2002</td><td>W. M. Keck Observatory</td><td>Published Confirmed</td><td>0</td><td>&lt;a refstr=FENG_ET_AL__2022 href=https://ui.adsabs.harvard.edu/abs/2022ApJS..262...21F/abstract target=ref&gt;Feng et al. 2022&lt;/a&gt;</td><td>1765.03890112</td><td>1.67708897</td><td>-1.87256063</td><td>0</td><td>2.773069</td><td>0.110517</td><td>-0.118828</td><td>0</td><td>--</td><td>--</td><td>--</td><td>--</td><td>--</td><td>--</td><td>--</td><td>--</td><td>2586.74645</td><td>492.67126</td><td>-308.97002</td><td>0</td><td>8.13881</td><td>1.55012</td><td>-0.97213</td><td>0</td><td>Mass</td><td>0.372689</td><td>0.008388</td><td>-0.00603</td><td>0</td><td>--</td><td>--</td><td>--</td><td>--</td><td>--</td><td>--</td><td>--</td><td>--</td><td>0</td><td>&lt;a refstr=FENG_ET_AL__2022 href=https://ui.adsabs.harvard.edu/abs/2022ApJS..262...21F/abstract target=ref&gt;Feng et al. 2022&lt;/a&gt;</td><td>--</td><td>--</td><td>--</td><td>--</td><td>--</td><td>--</td><td>--</td><td>--</td><td>--</td><td>0.91</td><td>0.11</td><td>-0.11</td><td>0</td><td>--</td><td>--</td><td>--</td><td>--</td><td>--</td><td>--</td><td>--</td><td>--</td><td>--</td><td>&lt;a refstr=STASSUN_ET_AL__2019 href=https://ui.adsabs.harvard.edu/abs/2019AJ....158..138S/abstract target=ref&gt;TICv8&lt;/a&gt;</td><td>16h10m24.50s</td><td>242.6021014</td><td>+43d48m58.90s</td><td>43.8163621</td><td>17.9323</td><td>0.0073</td><td>-0.0073</td><td>6.61935</td><td>0.023</td><td>-0.023</td><td>4.714</td><td>0.016</td><td>-0.016</td><td>6.383</td><td>0.0003512</td><td>-0.0003512</td><td>2022-09-19</td><td>2022-09</td><td>2022-09-19</td></tr>\n",
       "<tr><td>16 Cyg B b</td><td>16 Cyg B</td><td>1</td><td>3</td><td>1</td><td>Radial Velocity</td><td>1996</td><td>Multiple Observatories</td><td>Published Confirmed</td><td>0</td><td>&lt;a refstr=STASSUN_ET_AL__2017 href=https://ui.adsabs.harvard.edu/abs/2017AJ....153..136S/abstract target=ref&gt;Stassun et al. 2017&lt;/a&gt;</td><td>798.5</td><td>1.0</td><td>-1.0</td><td>0</td><td>1.66</td><td>0.03</td><td>-0.03</td><td>0</td><td>--</td><td>--</td><td>--</td><td>--</td><td>--</td><td>--</td><td>--</td><td>--</td><td>565.7374</td><td>25.4264</td><td>-25.4264</td><td>0</td><td>1.78</td><td>0.08</td><td>-0.08</td><td>0</td><td>Msini</td><td>0.68</td><td>0.02</td><td>-0.02</td><td>0</td><td>--</td><td>--</td><td>--</td><td>--</td><td>--</td><td>--</td><td>--</td><td>--</td><td>0</td><td>&lt;a refstr=STASSUN_ET_AL__2017 href=https://ui.adsabs.harvard.edu/abs/2017AJ....153..136S/abstract target=ref&gt;Stassun et al. 2017&lt;/a&gt;</td><td>--</td><td>5750.0</td><td>8.0</td><td>-8.0</td><td>0</td><td>1.13</td><td>0.01</td><td>-0.01</td><td>0</td><td>1.08</td><td>0.04</td><td>-0.04</td><td>0</td><td>0.06</td><td>--</td><td>--</td><td>0</td><td>[Fe/H]</td><td>4.36</td><td>0.01</td><td>-0.01</td><td>0</td><td>&lt;a refstr=STASSUN_ET_AL__2019 href=https://ui.adsabs.harvard.edu/abs/2019AJ....158..138S/abstract target=ref&gt;TICv8&lt;/a&gt;</td><td>19h41m51.75s</td><td>295.4656422</td><td>+50d31m00.57s</td><td>50.5168243</td><td>21.1397</td><td>0.011</td><td>-0.0111</td><td>6.215</td><td>0.016</td><td>-0.016</td><td>4.651</td><td>0.016</td><td>-0.016</td><td>6.06428</td><td>0.0006029</td><td>-0.0006029</td><td>2018-09-04</td><td>2017-03</td><td>2018-09-06</td></tr>\n",
       "<tr><td>17 Sco b</td><td>17 Sco</td><td>1</td><td>1</td><td>1</td><td>Radial Velocity</td><td>2020</td><td>Lick Observatory</td><td>Published Confirmed</td><td>0</td><td>&lt;a refstr=TALA_PINTO_ET_AL__2020 href=https://ui.adsabs.harvard.edu/abs/2020A&amp;A...644A...1T/abstract target=ref&gt;Tala Pinto et al. 2020&lt;/a&gt;</td><td>578.38</td><td>2.01</td><td>-2.09</td><td>0</td><td>1.45</td><td>0.02</td><td>-0.02</td><td>0</td><td>--</td><td>--</td><td>--</td><td>--</td><td>--</td><td>--</td><td>--</td><td>--</td><td>1373.01872</td><td>47.67426</td><td>-38.13941</td><td>0</td><td>4.32</td><td>0.15</td><td>-0.12</td><td>0</td><td>Msini</td><td>0.06</td><td>0.03</td><td>-0.02</td><td>0</td><td>--</td><td>--</td><td>--</td><td>--</td><td>--</td><td>--</td><td>--</td><td>--</td><td>0</td><td>&lt;a refstr=TALA_PINTO_ET_AL__2020 href=https://ui.adsabs.harvard.edu/abs/2020A&amp;A...644A...1T/abstract target=ref&gt;Tala Pinto et al. 2020&lt;/a&gt;</td><td>K3 III</td><td>4157.0</td><td>11.0</td><td>-10.0</td><td>0</td><td>25.92</td><td>0.78</td><td>-0.74</td><td>0</td><td>1.22</td><td>0.13</td><td>-0.14</td><td>0</td><td>-0.01</td><td>0.1</td><td>-0.1</td><td>0</td><td>[Fe/H]</td><td>1.7</td><td>0.04</td><td>-0.06</td><td>0</td><td>&lt;a refstr=STASSUN_ET_AL__2019 href=https://ui.adsabs.harvard.edu/abs/2019AJ....158..138S/abstract target=ref&gt;TICv8&lt;/a&gt;</td><td>16h13m50.90s</td><td>243.4620874</td><td>-11d50m16.05s</td><td>-11.8377905</td><td>124.953</td><td>2.59</td><td>-2.59</td><td>5.22606</td><td>0.023</td><td>-0.023</td><td>2.094</td><td>0.244</td><td>-0.244</td><td>4.75429</td><td>0.005055</td><td>-0.005055</td><td>2021-10-25</td><td>2020-12</td><td>2021-10-25</td></tr>\n",
       "<tr><td>18 Del b</td><td>18 Del</td><td>1</td><td>2</td><td>1</td><td>Radial Velocity</td><td>2008</td><td>Okayama Astrophysical Observatory</td><td>Published Confirmed</td><td>0</td><td>&lt;a refstr=SATO_ET_AL__2008 href=https://ui.adsabs.harvard.edu/abs/2008PASJ...60..539S/abstract target=ref&gt; Sato et al. 2008 &lt;/a&gt;</td><td>993.3</td><td>3.2</td><td>-3.2</td><td>0</td><td>2.6</td><td>--</td><td>--</td><td>0</td><td>--</td><td>--</td><td>--</td><td>--</td><td>--</td><td>--</td><td>--</td><td>--</td><td>3273.5</td><td>--</td><td>--</td><td>0</td><td>10.3</td><td>--</td><td>--</td><td>0</td><td>Msini</td><td>0.08</td><td>0.01</td><td>-0.01</td><td>0</td><td>--</td><td>--</td><td>--</td><td>--</td><td>--</td><td>--</td><td>--</td><td>--</td><td>0</td><td>&lt;a refstr=SATO_ET_AL__2008 href=https://ui.adsabs.harvard.edu/abs/2008PASJ...60..539S/abstract target=ref&gt; Sato et al. 2008 &lt;/a&gt;</td><td>G6 III</td><td>4979.0</td><td>18.0</td><td>-18.0</td><td>0</td><td>8.5</td><td>--</td><td>--</td><td>0</td><td>2.3</td><td>--</td><td>--</td><td>0</td><td>-0.052</td><td>0.023</td><td>-0.023</td><td>0</td><td>[Fe/H]</td><td>2.82</td><td>0.06</td><td>-0.06</td><td>0</td><td>&lt;a refstr=STASSUN_ET_AL__2019 href=https://ui.adsabs.harvard.edu/abs/2019AJ....158..138S/abstract target=ref&gt;TICv8&lt;/a&gt;</td><td>20h58m25.88s</td><td>314.6078375</td><td>+10d50m20.90s</td><td>10.8391378</td><td>76.222</td><td>0.6217</td><td>-0.6217</td><td>5.51048</td><td>0.023</td><td>-0.023</td><td>3.366</td><td>0.204</td><td>-0.204</td><td>5.27476</td><td>0.0026539</td><td>-0.0026539</td><td>2014-05-14</td><td>2008-06</td><td>2014-05-14</td></tr>\n",
       "<tr><td>1RXS J160929.1-210524 b</td><td>1RXS J160929.1-210524</td><td>1</td><td>1</td><td>1</td><td>Imaging</td><td>2008</td><td>Gemini Observatory</td><td>Published Confirmed</td><td>0</td><td>&lt;a refstr=LACHAPELLE_ET_AL__2015 href=https://ui.adsabs.harvard.edu/abs/2015ApJ...802...61L/abstract target=ref&gt;Lachapelle et al. 2015&lt;/a&gt;</td><td>--</td><td>--</td><td>--</td><td>--</td><td>330.0</td><td>--</td><td>--</td><td>0</td><td>--</td><td>--</td><td>--</td><td>--</td><td>--</td><td>--</td><td>--</td><td>--</td><td>3000.0</td><td>300.0</td><td>-300.0</td><td>0</td><td>8.0</td><td>1.0</td><td>-1.0</td><td>0</td><td>Mass</td><td>--</td><td>--</td><td>--</td><td>--</td><td>--</td><td>--</td><td>--</td><td>--</td><td>1700</td><td>100</td><td>-100</td><td>0</td><td>0</td><td>&lt;a refstr=LACHAPELLE_ET_AL__2015 href=https://ui.adsabs.harvard.edu/abs/2015ApJ...802...61L/abstract target=ref&gt;Lachapelle et al. 2015&lt;/a&gt;</td><td>K7 V</td><td>4060.0</td><td>300.0</td><td>-200.0</td><td>0</td><td>--</td><td>--</td><td>--</td><td>--</td><td>0.85</td><td>0.2</td><td>-0.1</td><td>0</td><td>--</td><td>--</td><td>--</td><td>--</td><td>--</td><td>--</td><td>--</td><td>--</td><td>--</td><td>&lt;a refstr=STASSUN_ET_AL__2019 href=https://ui.adsabs.harvard.edu/abs/2019AJ....158..138S/abstract target=ref&gt;TICv8&lt;/a&gt;</td><td>16h09m30.30s</td><td>242.3762343</td><td>-21d04m59.31s</td><td>-21.0831403</td><td>139.135</td><td>1.332</td><td>-1.307</td><td>12.618</td><td>0.069</td><td>-0.069</td><td>8.916</td><td>0.021</td><td>-0.021</td><td>12.0572</td><td>0.002275</td><td>-0.002275</td><td>2015-04-01</td><td>2015-03</td><td>2015-04-01</td></tr>\n",
       "<tr><td>24 Boo b</td><td>24 Boo</td><td>1</td><td>1</td><td>1</td><td>Radial Velocity</td><td>2018</td><td>Okayama Astrophysical Observatory</td><td>Published Confirmed</td><td>0</td><td>&lt;a refstr=TAKARADA_ET_AL__2018 href=https://ui.adsabs.harvard.edu/abs/2018PASJ...70...59T/abstract target=ref&gt;Takarada et al. 2018&lt;/a&gt;</td><td>30.3506</td><td>0.0078</td><td>-0.0077</td><td>0</td><td>0.19</td><td>0.012</td><td>-0.009</td><td>0</td><td>--</td><td>--</td><td>--</td><td>--</td><td>--</td><td>--</td><td>--</td><td>--</td><td>289.2253</td><td>41.3179</td><td>-31.783</td><td>0</td><td>0.91</td><td>0.13</td><td>-0.1</td><td>0</td><td>Msini</td><td>0.042</td><td>0.048</td><td>-0.029</td><td>0</td><td>--</td><td>--</td><td>--</td><td>--</td><td>--</td><td>--</td><td>--</td><td>--</td><td>0</td><td>&lt;a refstr=TAKARADA_ET_AL__2018 href=https://ui.adsabs.harvard.edu/abs/2018PASJ...70...59T/abstract target=ref&gt;Takarada et al. 2018&lt;/a&gt;</td><td>G3 IV</td><td>4893.0</td><td>15.0</td><td>-15.0</td><td>0</td><td>10.64</td><td>0.84</td><td>-0.59</td><td>0</td><td>0.99</td><td>0.19</td><td>-0.13</td><td>0</td><td>-0.77</td><td>0.03</td><td>-0.03</td><td>0</td><td>[Fe/H]</td><td>2.42</td><td>0.1</td><td>-0.1</td><td>0</td><td>&lt;a refstr=STASSUN_ET_AL__2019 href=https://ui.adsabs.harvard.edu/abs/2019AJ....158..138S/abstract target=ref&gt;TICv8&lt;/a&gt;</td><td>14h28m37.33s</td><td>217.1555242</td><td>+49d50m40.74s</td><td>49.8446488</td><td>95.9863</td><td>0.63685</td><td>-0.63685</td><td>5.59</td><td>0.001</td><td>-0.001</td><td>3.159</td><td>0.28</td><td>-0.28</td><td>5.3339</td><td>0.0019998</td><td>-0.0019998</td><td>2018-04-25</td><td>2018-08</td><td>2018-04-26</td></tr>\n",
       "<tr><td>24 Sex b</td><td>24 Sex</td><td>1</td><td>1</td><td>2</td><td>Radial Velocity</td><td>2010</td><td>Lick Observatory</td><td>Published Confirmed</td><td>0</td><td>&lt;a refstr=JOHNSON_ET_AL__2010 href=https://ui.adsabs.harvard.edu/abs/2010arXiv1007.4552J/abstract target=ref&gt; Johnson et al. 2010 &lt;/a&gt;</td><td>452.8</td><td>2.1</td><td>-4.5</td><td>0</td><td>1.333</td><td>0.004</td><td>-0.009</td><td>0</td><td>--</td><td>--</td><td>--</td><td>--</td><td>--</td><td>--</td><td>--</td><td>--</td><td>632.46</td><td>82.63</td><td>-120.77</td><td>0</td><td>1.99</td><td>0.26</td><td>-0.38</td><td>0</td><td>Msini</td><td>0.09</td><td>0.14</td><td>-0.06</td><td>0</td><td>--</td><td>--</td><td>--</td><td>--</td><td>--</td><td>--</td><td>--</td><td>--</td><td>0</td><td>&lt;a refstr=JOHNSON_ET_AL__2010 href=https://ui.adsabs.harvard.edu/abs/2010arXiv1007.4552J/abstract target=ref&gt; Johnson et al. 2010 &lt;/a&gt;</td><td>--</td><td>5098.0</td><td>44.0</td><td>-44.0</td><td>0</td><td>4.9</td><td>0.08</td><td>-0.08</td><td>0</td><td>1.54</td><td>0.08</td><td>-0.08</td><td>0</td><td>-0.03</td><td>0.04</td><td>-0.04</td><td>0</td><td>[Fe/H]</td><td>3.5</td><td>0.1</td><td>-0.1</td><td>0</td><td>&lt;a refstr=STASSUN_ET_AL__2019 href=https://ui.adsabs.harvard.edu/abs/2019AJ....158..138S/abstract target=ref&gt;TICv8&lt;/a&gt;</td><td>10h23m28.44s</td><td>155.8684866</td><td>-00d54m08.64s</td><td>-0.9023998</td><td>72.0691</td><td>0.6854</td><td>-0.6728</td><td>6.4535</td><td>0.023</td><td>-0.023</td><td>4.285</td><td>0.016</td><td>-0.016</td><td>6.20374</td><td>0.0004976</td><td>-0.0004976</td><td>2014-05-14</td><td>2011-01</td><td>2014-05-14</td></tr>\n",
       "<tr><td>...</td><td>...</td><td>...</td><td>...</td><td>...</td><td>...</td><td>...</td><td>...</td><td>...</td><td>...</td><td>...</td><td>...</td><td>...</td><td>...</td><td>...</td><td>...</td><td>...</td><td>...</td><td>...</td><td>...</td><td>...</td><td>...</td><td>...</td><td>...</td><td>...</td><td>...</td><td>...</td><td>...</td><td>...</td><td>...</td><td>...</td><td>...</td><td>...</td><td>...</td><td>...</td><td>...</td><td>...</td><td>...</td><td>...</td><td>...</td><td>...</td><td>...</td><td>...</td><td>...</td><td>...</td><td>...</td><td>...</td><td>...</td><td>...</td><td>...</td><td>...</td><td>...</td><td>...</td><td>...</td><td>...</td><td>...</td><td>...</td><td>...</td><td>...</td><td>...</td><td>...</td><td>...</td><td>...</td><td>...</td><td>...</td><td>...</td><td>...</td><td>...</td><td>...</td><td>...</td><td>...</td><td>...</td><td>...</td><td>...</td><td>...</td><td>...</td><td>...</td><td>...</td><td>...</td><td>...</td><td>...</td><td>...</td><td>...</td><td>...</td><td>...</td><td>...</td><td>...</td><td>...</td><td>...</td><td>...</td><td>...</td><td>...</td></tr>\n",
       "<tr><td>tau Cet e</td><td>tau Cet</td><td>1</td><td>1</td><td>4</td><td>Radial Velocity</td><td>2017</td><td>Multiple Observatories</td><td>Published Confirmed</td><td>0</td><td>&lt;a refstr=FENG_ET_AL__2017 href=https://ui.adsabs.harvard.edu/abs/2017AJ....154..135F/abstract target=ref&gt;Feng et al. 2017&lt;/a&gt;</td><td>162.87</td><td>1.08</td><td>-0.46</td><td>0</td><td>0.538</td><td>0.06</td><td>-0.06</td><td>0</td><td>--</td><td>--</td><td>--</td><td>--</td><td>--</td><td>--</td><td>--</td><td>--</td><td>3.93</td><td>0.83</td><td>-0.64</td><td>0</td><td>0.01237</td><td>0.00261</td><td>-0.00201</td><td>0</td><td>Msini</td><td>0.18</td><td>0.18</td><td>-0.14</td><td>0</td><td>--</td><td>--</td><td>--</td><td>--</td><td>--</td><td>--</td><td>--</td><td>--</td><td>0</td><td>&lt;a refstr=FENG_ET_AL__2017 href=https://ui.adsabs.harvard.edu/abs/2017AJ....154..135F/abstract target=ref&gt;Feng et al. 2017&lt;/a&gt;</td><td>--</td><td>--</td><td>--</td><td>--</td><td>--</td><td>--</td><td>--</td><td>--</td><td>--</td><td>0.78</td><td>0.01</td><td>-0.01</td><td>0</td><td>--</td><td>--</td><td>--</td><td>--</td><td>--</td><td>--</td><td>--</td><td>--</td><td>--</td><td>&lt;a refstr=STASSUN_ET_AL__2019 href=https://ui.adsabs.harvard.edu/abs/2019AJ....158..138S/abstract target=ref&gt;TICv8&lt;/a&gt;</td><td>01h44m02.23s</td><td>26.0093029</td><td>-15d56m01.68s</td><td>-15.9337987</td><td>3.60304</td><td>0.00678</td><td>-0.00675</td><td>3.49607</td><td>0.023</td><td>-0.023</td><td>1.794</td><td>0.274</td><td>-0.274</td><td>3.24854</td><td>0.0103988</td><td>-0.0103988</td><td>2017-08-14</td><td>2017-10</td><td>2017-08-17</td></tr>\n",
       "<tr><td>tau Cet f</td><td>tau Cet</td><td>1</td><td>1</td><td>4</td><td>Radial Velocity</td><td>2017</td><td>Multiple Observatories</td><td>Published Confirmed</td><td>0</td><td>&lt;a refstr=FENG_ET_AL__2017 href=https://ui.adsabs.harvard.edu/abs/2017AJ....154..135F/abstract target=ref&gt;Feng et al. 2017&lt;/a&gt;</td><td>636.13</td><td>11.7</td><td>-47.69</td><td>0</td><td>1.334</td><td>0.017</td><td>-0.044</td><td>0</td><td>--</td><td>--</td><td>--</td><td>--</td><td>--</td><td>--</td><td>--</td><td>--</td><td>3.93</td><td>1.05</td><td>-1.37</td><td>0</td><td>0.01237</td><td>0.0033</td><td>-0.00431</td><td>0</td><td>Msini</td><td>0.16</td><td>0.07</td><td>-0.16</td><td>0</td><td>--</td><td>--</td><td>--</td><td>--</td><td>--</td><td>--</td><td>--</td><td>--</td><td>0</td><td>&lt;a refstr=FENG_ET_AL__2017 href=https://ui.adsabs.harvard.edu/abs/2017AJ....154..135F/abstract target=ref&gt;Feng et al. 2017&lt;/a&gt;</td><td>--</td><td>--</td><td>--</td><td>--</td><td>--</td><td>--</td><td>--</td><td>--</td><td>--</td><td>0.78</td><td>0.01</td><td>-0.01</td><td>0</td><td>--</td><td>--</td><td>--</td><td>--</td><td>--</td><td>--</td><td>--</td><td>--</td><td>--</td><td>&lt;a refstr=STASSUN_ET_AL__2019 href=https://ui.adsabs.harvard.edu/abs/2019AJ....158..138S/abstract target=ref&gt;TICv8&lt;/a&gt;</td><td>01h44m02.23s</td><td>26.0093029</td><td>-15d56m01.68s</td><td>-15.9337987</td><td>3.60304</td><td>0.00678</td><td>-0.00675</td><td>3.49607</td><td>0.023</td><td>-0.023</td><td>1.794</td><td>0.274</td><td>-0.274</td><td>3.24854</td><td>0.0103988</td><td>-0.0103988</td><td>2017-08-14</td><td>2017-10</td><td>2017-08-17</td></tr>\n",
       "<tr><td>tau Cet g</td><td>tau Cet</td><td>1</td><td>1</td><td>4</td><td>Radial Velocity</td><td>2017</td><td>Multiple Observatories</td><td>Published Confirmed</td><td>0</td><td>&lt;a refstr=FENG_ET_AL__2017 href=https://ui.adsabs.harvard.edu/abs/2017AJ....154..135F/abstract target=ref&gt;Feng et al. 2017&lt;/a&gt;</td><td>20.0</td><td>0.02</td><td>-0.01</td><td>0</td><td>0.133</td><td>0.001</td><td>-0.002</td><td>0</td><td>--</td><td>--</td><td>--</td><td>--</td><td>--</td><td>--</td><td>--</td><td>--</td><td>1.75</td><td>0.25</td><td>-0.4</td><td>0</td><td>0.00551</td><td>0.00079</td><td>-0.00126</td><td>0</td><td>Msini</td><td>0.06</td><td>0.13</td><td>-0.06</td><td>0</td><td>--</td><td>--</td><td>--</td><td>--</td><td>--</td><td>--</td><td>--</td><td>--</td><td>0</td><td>&lt;a refstr=FENG_ET_AL__2017 href=https://ui.adsabs.harvard.edu/abs/2017AJ....154..135F/abstract target=ref&gt;Feng et al. 2017&lt;/a&gt;</td><td>--</td><td>--</td><td>--</td><td>--</td><td>--</td><td>--</td><td>--</td><td>--</td><td>--</td><td>0.78</td><td>0.01</td><td>-0.01</td><td>0</td><td>--</td><td>--</td><td>--</td><td>--</td><td>--</td><td>--</td><td>--</td><td>--</td><td>--</td><td>&lt;a refstr=STASSUN_ET_AL__2019 href=https://ui.adsabs.harvard.edu/abs/2019AJ....158..138S/abstract target=ref&gt;TICv8&lt;/a&gt;</td><td>01h44m02.23s</td><td>26.0093029</td><td>-15d56m01.68s</td><td>-15.9337987</td><td>3.60304</td><td>0.00678</td><td>-0.00675</td><td>3.49607</td><td>0.023</td><td>-0.023</td><td>1.794</td><td>0.274</td><td>-0.274</td><td>3.24854</td><td>0.0103988</td><td>-0.0103988</td><td>2017-08-14</td><td>2017-10</td><td>2017-08-17</td></tr>\n",
       "<tr><td>tau Cet h</td><td>tau Cet</td><td>1</td><td>1</td><td>4</td><td>Radial Velocity</td><td>2017</td><td>Multiple Observatories</td><td>Published Confirmed</td><td>0</td><td>&lt;a refstr=FENG_ET_AL__2017 href=https://ui.adsabs.harvard.edu/abs/2017AJ....154..135F/abstract target=ref&gt;Feng et al. 2017&lt;/a&gt;</td><td>49.41</td><td>0.08</td><td>-0.1</td><td>0</td><td>0.243</td><td>0.003</td><td>-0.003</td><td>0</td><td>--</td><td>--</td><td>--</td><td>--</td><td>--</td><td>--</td><td>--</td><td>--</td><td>1.83</td><td>0.68</td><td>-0.26</td><td>0</td><td>0.00576</td><td>0.00214</td><td>-0.00082</td><td>0</td><td>Msini</td><td>0.23</td><td>0.16</td><td>-0.15</td><td>0</td><td>--</td><td>--</td><td>--</td><td>--</td><td>--</td><td>--</td><td>--</td><td>--</td><td>0</td><td>&lt;a refstr=FENG_ET_AL__2017 href=https://ui.adsabs.harvard.edu/abs/2017AJ....154..135F/abstract target=ref&gt;Feng et al. 2017&lt;/a&gt;</td><td>--</td><td>--</td><td>--</td><td>--</td><td>--</td><td>--</td><td>--</td><td>--</td><td>--</td><td>0.78</td><td>0.01</td><td>-0.01</td><td>0</td><td>--</td><td>--</td><td>--</td><td>--</td><td>--</td><td>--</td><td>--</td><td>--</td><td>--</td><td>&lt;a refstr=STASSUN_ET_AL__2019 href=https://ui.adsabs.harvard.edu/abs/2019AJ....158..138S/abstract target=ref&gt;TICv8&lt;/a&gt;</td><td>01h44m02.23s</td><td>26.0093029</td><td>-15d56m01.68s</td><td>-15.9337987</td><td>3.60304</td><td>0.00678</td><td>-0.00675</td><td>3.49607</td><td>0.023</td><td>-0.023</td><td>1.794</td><td>0.274</td><td>-0.274</td><td>3.24854</td><td>0.0103988</td><td>-0.0103988</td><td>2017-08-14</td><td>2017-10</td><td>2017-08-17</td></tr>\n",
       "<tr><td>tau Gem b</td><td>tau Gem</td><td>1</td><td>1</td><td>1</td><td>Radial Velocity</td><td>2013</td><td>Lick Observatory</td><td>Published Confirmed</td><td>0</td><td>&lt;a refstr=MITCHELL_ET_AL__2013 href=https://ui.adsabs.harvard.edu/abs/2013A%26A...555A..87M/abstract target=ref&gt; Mitchell et al. 2013 &lt;/a&gt;</td><td>305.5</td><td>0.1</td><td>-0.1</td><td>0</td><td>1.17</td><td>--</td><td>--</td><td>0</td><td>--</td><td>--</td><td>--</td><td>--</td><td>--</td><td>--</td><td>--</td><td>--</td><td>6547.0</td><td>--</td><td>--</td><td>0</td><td>20.6</td><td>--</td><td>--</td><td>0</td><td>Msini</td><td>0.031</td><td>0.009</td><td>-0.009</td><td>0</td><td>--</td><td>--</td><td>--</td><td>--</td><td>--</td><td>--</td><td>--</td><td>--</td><td>0</td><td>&lt;a refstr=MITCHELL_ET_AL__2013 href=https://ui.adsabs.harvard.edu/abs/2013A%26A...555A..87M/abstract target=ref&gt; Mitchell et al. 2013 &lt;/a&gt;</td><td>K2 III</td><td>4388.0</td><td>25.0</td><td>-25.0</td><td>0</td><td>26.8</td><td>0.7</td><td>-0.7</td><td>0</td><td>2.3</td><td>0.3</td><td>-0.3</td><td>0</td><td>0.14</td><td>0.1</td><td>-0.1</td><td>0</td><td>[Fe/H]</td><td>1.96</td><td>0.08</td><td>-0.08</td><td>0</td><td>&lt;a refstr=STASSUN_ET_AL__2019 href=https://ui.adsabs.harvard.edu/abs/2019AJ....158..138S/abstract target=ref&gt;TICv8&lt;/a&gt;</td><td>07h11m08.33s</td><td>107.7847232</td><td>+30d14m41.84s</td><td>30.2449545</td><td>112.537</td><td>4.253</td><td>-3.959</td><td>4.37799</td><td>0.023</td><td>-0.023</td><td>1.681</td><td>0.254</td><td>-0.254</td><td>4.03996</td><td>0.0067088</td><td>-0.0067088</td><td>2014-05-14</td><td>2013-07</td><td>2014-05-14</td></tr>\n",
       "<tr><td>ups And b</td><td>ups And</td><td>1</td><td>2</td><td>3</td><td>Radial Velocity</td><td>1996</td><td>Lick Observatory</td><td>Published Confirmed</td><td>0</td><td>&lt;a refstr=CURIEL_ET_AL__2011 href=https://ui.adsabs.harvard.edu/abs/2011A&amp;A...525A..78C/abstract target=ref&gt; Curiel et al. 2011 &lt;/a&gt;</td><td>4.617033</td><td>2.3e-05</td><td>-2.3e-05</td><td>0</td><td>0.059222</td><td>0.0</td><td>0.0</td><td>0</td><td>--</td><td>--</td><td>--</td><td>--</td><td>--</td><td>--</td><td>--</td><td>--</td><td>218.531</td><td>1.39839</td><td>-1.39839</td><td>0</td><td>0.6876</td><td>0.0044</td><td>-0.0044</td><td>0</td><td>Msini</td><td>0.0215</td><td>0.0007</td><td>-0.0007</td><td>0</td><td>--</td><td>--</td><td>--</td><td>--</td><td>--</td><td>--</td><td>--</td><td>--</td><td>0</td><td>&lt;a refstr=CURIEL_ET_AL__2011 href=https://ui.adsabs.harvard.edu/abs/2011A&amp;A...525A..78C/abstract target=ref&gt; Curiel et al. 2011 &lt;/a&gt;</td><td>F8 V</td><td>--</td><td>--</td><td>--</td><td>--</td><td>1.56</td><td>--</td><td>--</td><td>0</td><td>1.3</td><td>--</td><td>--</td><td>0</td><td>--</td><td>--</td><td>--</td><td>--</td><td>--</td><td>--</td><td>--</td><td>--</td><td>--</td><td>&lt;a refstr=STASSUN_ET_AL__2019 href=https://ui.adsabs.harvard.edu/abs/2019AJ....158..138S/abstract target=ref&gt;TICv8&lt;/a&gt;</td><td>01h36m47.60s</td><td>24.1983534</td><td>+41d24m13.73s</td><td>41.4038147</td><td>13.4054</td><td>0.0635</td><td>-0.0629</td><td>4.09565</td><td>0.023</td><td>-0.023</td><td>2.859</td><td>0.274</td><td>-0.274</td><td>3.98687</td><td>0.0089371</td><td>-0.0089371</td><td>2019-01-28</td><td>2011-01</td><td>2019-01-31</td></tr>\n",
       "<tr><td>ups And c</td><td>ups And</td><td>1</td><td>2</td><td>3</td><td>Radial Velocity</td><td>1999</td><td>Multiple Observatories</td><td>Published Confirmed</td><td>0</td><td>&lt;a refstr=CURIEL_ET_AL__2011 href=https://ui.adsabs.harvard.edu/abs/2011A&amp;A...525A..78C/abstract target=ref&gt; Curiel et al. 2011 &lt;/a&gt;</td><td>241.258</td><td>0.064</td><td>-0.064</td><td>0</td><td>0.827774</td><td>1.5e-05</td><td>-1.5e-05</td><td>0</td><td>--</td><td>--</td><td>--</td><td>--</td><td>--</td><td>--</td><td>--</td><td>--</td><td>629.595</td><td>6.03852</td><td>-6.03852</td><td>0</td><td>1.981</td><td>0.019</td><td>-0.019</td><td>0</td><td>Msini</td><td>0.2596</td><td>0.0079</td><td>-0.0079</td><td>0</td><td>--</td><td>--</td><td>--</td><td>--</td><td>--</td><td>--</td><td>--</td><td>--</td><td>0</td><td>&lt;a refstr=CURIEL_ET_AL__2011 href=https://ui.adsabs.harvard.edu/abs/2011A&amp;A...525A..78C/abstract target=ref&gt; Curiel et al. 2011 &lt;/a&gt;</td><td>F8 V</td><td>--</td><td>--</td><td>--</td><td>--</td><td>1.56</td><td>--</td><td>--</td><td>0</td><td>1.3</td><td>--</td><td>--</td><td>0</td><td>--</td><td>--</td><td>--</td><td>--</td><td>--</td><td>--</td><td>--</td><td>--</td><td>--</td><td>&lt;a refstr=STASSUN_ET_AL__2019 href=https://ui.adsabs.harvard.edu/abs/2019AJ....158..138S/abstract target=ref&gt;TICv8&lt;/a&gt;</td><td>01h36m47.60s</td><td>24.1983534</td><td>+41d24m13.73s</td><td>41.4038147</td><td>13.4054</td><td>0.0635</td><td>-0.0629</td><td>4.09565</td><td>0.023</td><td>-0.023</td><td>2.859</td><td>0.274</td><td>-0.274</td><td>3.98687</td><td>0.0089371</td><td>-0.0089371</td><td>2019-01-28</td><td>2011-01</td><td>2019-01-31</td></tr>\n",
       "<tr><td>ups And d</td><td>ups And</td><td>1</td><td>2</td><td>3</td><td>Radial Velocity</td><td>1999</td><td>Multiple Observatories</td><td>Published Confirmed</td><td>0</td><td>&lt;a refstr=CURIEL_ET_AL__2011 href=https://ui.adsabs.harvard.edu/abs/2011A&amp;A...525A..78C/abstract target=ref&gt; Curiel et al. 2011 &lt;/a&gt;</td><td>1276.46</td><td>0.57</td><td>-0.57</td><td>0</td><td>2.51329</td><td>0.00075</td><td>-0.00075</td><td>0</td><td>--</td><td>--</td><td>--</td><td>--</td><td>--</td><td>--</td><td>--</td><td>--</td><td>1313.22</td><td>9.21668</td><td>-9.21668</td><td>0</td><td>4.132</td><td>0.029</td><td>-0.029</td><td>0</td><td>Msini</td><td>0.2987</td><td>0.0072</td><td>-0.0072</td><td>0</td><td>--</td><td>--</td><td>--</td><td>--</td><td>--</td><td>--</td><td>--</td><td>--</td><td>0</td><td>&lt;a refstr=CURIEL_ET_AL__2011 href=https://ui.adsabs.harvard.edu/abs/2011A&amp;A...525A..78C/abstract target=ref&gt; Curiel et al. 2011 &lt;/a&gt;</td><td>F8 V</td><td>--</td><td>--</td><td>--</td><td>--</td><td>1.56</td><td>--</td><td>--</td><td>0</td><td>1.3</td><td>--</td><td>--</td><td>0</td><td>--</td><td>--</td><td>--</td><td>--</td><td>--</td><td>--</td><td>--</td><td>--</td><td>--</td><td>&lt;a refstr=STASSUN_ET_AL__2019 href=https://ui.adsabs.harvard.edu/abs/2019AJ....158..138S/abstract target=ref&gt;TICv8&lt;/a&gt;</td><td>01h36m47.60s</td><td>24.1983534</td><td>+41d24m13.73s</td><td>41.4038147</td><td>13.4054</td><td>0.0635</td><td>-0.0629</td><td>4.09565</td><td>0.023</td><td>-0.023</td><td>2.859</td><td>0.274</td><td>-0.274</td><td>3.98687</td><td>0.0089371</td><td>-0.0089371</td><td>2019-01-28</td><td>2011-01</td><td>2019-01-31</td></tr>\n",
       "<tr><td>ups Leo b</td><td>ups Leo</td><td>1</td><td>1</td><td>1</td><td>Radial Velocity</td><td>2021</td><td>Okayama Astrophysical Observatory</td><td>Published Confirmed</td><td>0</td><td>&lt;a refstr=TENG_ET_AL__2021 href=https://ui.adsabs.harvard.edu/abs/2021PASJ..tmp..128T/abstract target=ref&gt;Teng et al. 2021&lt;/a&gt;</td><td>385.2</td><td>2.8</td><td>-1.3</td><td>0</td><td>1.18</td><td>0.11</td><td>-0.32</td><td>0</td><td>--</td><td>--</td><td>--</td><td>--</td><td>--</td><td>--</td><td>--</td><td>--</td><td>162.09249</td><td>19.0697</td><td>-82.63539</td><td>0</td><td>0.51</td><td>0.06</td><td>-0.26</td><td>0</td><td>Msini</td><td>0.32</td><td>0.134</td><td>-0.218</td><td>0</td><td>--</td><td>--</td><td>--</td><td>--</td><td>--</td><td>--</td><td>--</td><td>--</td><td>0</td><td>&lt;a refstr=TENG_ET_AL__2021 href=https://ui.adsabs.harvard.edu/abs/2021PASJ..tmp..128T/abstract target=ref&gt;Teng et al. 2021&lt;/a&gt;</td><td>G9 III</td><td>4836.0</td><td>--</td><td>--</td><td>0</td><td>11.22</td><td>3.15</td><td>-0.45</td><td>0</td><td>1.48</td><td>0.9</td><td>-0.38</td><td>0</td><td>-0.2</td><td>0.09</td><td>-0.08</td><td>0</td><td>[Fe/H]</td><td>2.46</td><td>0.09</td><td>-0.09</td><td>0</td><td>&lt;a refstr=STASSUN_ET_AL__2019 href=https://ui.adsabs.harvard.edu/abs/2019AJ....158..138S/abstract target=ref&gt;TICv8&lt;/a&gt;</td><td>11h36m56.93s</td><td>174.2372188</td><td>-00d49m24.83s</td><td>-0.8235643</td><td>52.5973</td><td>0.9272</td><td>-0.8963</td><td>4.3049</td><td>0.023</td><td>-0.023</td><td>2.184</td><td>0.248</td><td>-0.248</td><td>4.0304</td><td>0.008513</td><td>-0.008513</td><td>2022-01-10</td><td>2021-12</td><td>2022-01-10</td></tr>\n",
       "<tr><td>xi Aql b</td><td>xi Aql</td><td>1</td><td>1</td><td>1</td><td>Radial Velocity</td><td>2007</td><td>Okayama Astrophysical Observatory</td><td>Published Confirmed</td><td>0</td><td>&lt;a refstr=SATO_ET_AL__2008 href=https://ui.adsabs.harvard.edu/abs/2008PASJ...60..539S/abstract target=ref&gt; Sato et al. 2008 &lt;/a&gt;</td><td>136.75</td><td>0.25</td><td>-0.25</td><td>0</td><td>0.68</td><td>--</td><td>--</td><td>0</td><td>--</td><td>--</td><td>--</td><td>--</td><td>--</td><td>--</td><td>--</td><td>--</td><td>890.0</td><td>--</td><td>--</td><td>0</td><td>2.8</td><td>--</td><td>--</td><td>0</td><td>Msini</td><td>0.0</td><td>--</td><td>--</td><td>0</td><td>--</td><td>--</td><td>--</td><td>--</td><td>--</td><td>--</td><td>--</td><td>--</td><td>0</td><td>&lt;a refstr=SATO_ET_AL__2008 href=https://ui.adsabs.harvard.edu/abs/2008PASJ...60..539S/abstract target=ref&gt; Sato et al. 2008 &lt;/a&gt;</td><td>--</td><td>4780.0</td><td>30.0</td><td>-30.0</td><td>0</td><td>12.0</td><td>--</td><td>--</td><td>0</td><td>2.2</td><td>--</td><td>--</td><td>0</td><td>-0.205</td><td>0.039</td><td>-0.039</td><td>0</td><td>[Fe/H]</td><td>2.66</td><td>0.11</td><td>-0.11</td><td>0</td><td>&lt;a refstr=STASSUN_ET_AL__2019 href=https://ui.adsabs.harvard.edu/abs/2019AJ....158..138S/abstract target=ref&gt;TICv8&lt;/a&gt;</td><td>19h54m14.99s</td><td>298.5624491</td><td>+08d27m39.98s</td><td>8.4611051</td><td>56.1858</td><td>0.55975</td><td>-0.55975</td><td>4.70964</td><td>0.023</td><td>-0.023</td><td>2.171</td><td>0.22</td><td>-0.22</td><td>4.42501</td><td>0.0038369</td><td>-0.0038369</td><td>2014-05-14</td><td>2008-06</td><td>2014-05-14</td></tr>\n",
       "</table></div>"
      ],
      "text/plain": [
       "<Table length=5250>\n",
       "        pl_name                hostname       ... pl_pubdate releasedate\n",
       "         str29                  str27         ...    str7       str10   \n",
       "----------------------- --------------------- ... ---------- -----------\n",
       "               11 Com b                11 Com ...    2008-01  2014-05-14\n",
       "               11 UMi b                11 UMi ...    2017-03  2018-09-06\n",
       "               14 And b                14 And ...    2008-12  2014-05-14\n",
       "               14 Her b                14 Her ...    2022-09  2022-09-19\n",
       "             16 Cyg B b              16 Cyg B ...    2017-03  2018-09-06\n",
       "               17 Sco b                17 Sco ...    2020-12  2021-10-25\n",
       "               18 Del b                18 Del ...    2008-06  2014-05-14\n",
       "1RXS J160929.1-210524 b 1RXS J160929.1-210524 ...    2015-03  2015-04-01\n",
       "               24 Boo b                24 Boo ...    2018-08  2018-04-26\n",
       "               24 Sex b                24 Sex ...    2011-01  2014-05-14\n",
       "                    ...                   ... ...        ...         ...\n",
       "              tau Cet e               tau Cet ...    2017-10  2017-08-17\n",
       "              tau Cet f               tau Cet ...    2017-10  2017-08-17\n",
       "              tau Cet g               tau Cet ...    2017-10  2017-08-17\n",
       "              tau Cet h               tau Cet ...    2017-10  2017-08-17\n",
       "              tau Gem b               tau Gem ...    2013-07  2014-05-14\n",
       "              ups And b               ups And ...    2011-01  2019-01-31\n",
       "              ups And c               ups And ...    2011-01  2019-01-31\n",
       "              ups And d               ups And ...    2011-01  2019-01-31\n",
       "              ups Leo b               ups Leo ...    2021-12  2022-01-10\n",
       "               xi Aql b                xi Aql ...    2008-06  2014-05-14"
      ]
     },
     "execution_count": 5,
     "metadata": {},
     "output_type": "execute_result"
    }
   ],
   "source": [
    "tab"
   ]
  },
  {
   "cell_type": "code",
   "execution_count": 6,
   "metadata": {},
   "outputs": [
    {
     "data": {
      "text/plain": [
       "array([False, False, False, ..., False,  True, False])"
      ]
     },
     "execution_count": 6,
     "metadata": {},
     "output_type": "execute_result"
    }
   ],
   "source": [
    "tab['dec']<0"
   ]
  },
  {
   "cell_type": "code",
   "execution_count": 7,
   "metadata": {},
   "outputs": [],
   "source": [
    "contrast_arr = np.zeros((len(tab)))\n",
    "sma_arr = np.zeros((len(tab)))\n",
    "sep_arr = np.zeros((len(tab)))\n",
    "rad_arr = np.zeros((len(tab)))\n",
    "dis_arr = np.zeros((len(tab)))\n",
    "\n",
    "def cal_rad(mass):\n",
    "    if mass < (2.0 * u.earthMass):\n",
    "        rad = (((mass / (1.0 * u.earthMass)).decompose())**(0.28) * u.earthRad).to(u.jupiterRad)\n",
    "    elif mass < (0.41 * u.jupiterMass):\n",
    "        rad = (((mass / (14.5 * u.earthMass)).decompose())**(0.59) * (4.01 * u.earthRad)).to(u.jupiterRad)\n",
    "    elif mass < (0.08 * u.solMass):\n",
    "        rad = ((mass / (1 * u.jupiterMass)).decompose())**(-0.04) * (1.1 * u.jupiterRad)\n",
    "    else:\n",
    "        rad = ((mass / (0.08 * u.solMass)).decompose())**(0.88) * (0.95 * u.jupiterRad) \n",
    "    return(rad)\n",
    "\n",
    "k = 0\n",
    "for i, tmp in enumerate(tab[\"pl_name\"]):\n",
    "    if tab[\"pl_orbper\"].mask[i] == False:\n",
    "        # calculating sma\n",
    "        if tab[\"pl_orbsmax\"].mask[i] == True:\n",
    "            if tab[\"st_mass\"].mask[i] == True:\n",
    "                sma = ((tab[\"pl_orbper\"][i] / 365.0)**2 * 1.0)**(0.33) * u.AU\n",
    "            else:\n",
    "                sma = ((tab[\"pl_orbper\"][i] / 365.0)**2 * tab[\"st_mass\"][i])**(0.33) * u.AU\n",
    "        else:\n",
    "            sma = tab[\"pl_orbsmax\"][i] * u.AU\n",
    "\n",
    "        # calculating angular separation\n",
    "        if tab[\"sy_dist\"].mask[i] == True:\n",
    "            if tab[\"sy_dist\"].mask[i] == True:\n",
    "                dis = 999 * u.parsec\n",
    "            else:\n",
    "                dis = tab[\"sy_dist\"][i] * u.parsec\n",
    "        else:\n",
    "            dis = tab[\"sy_dist\"][i] * u.parsec\n",
    "        sep = ((sma / dis).decompose() * u.radian).to(u.arcsec)\n",
    "\n",
    "        # calculating planet radius, https://arxiv.org/pdf/1603.08614.pdf\n",
    "        if tab[\"pl_radj\"].mask[i] == True:\n",
    "            if tab[\"pl_bmassj\"].mask[i] == False:\n",
    "                mass = tab[\"pl_bmassj\"][i] * u.jupiterMass\n",
    "                rad = cal_rad(mass)\n",
    "            else:\n",
    "                rad = 1.0 * u.jupiterRad\n",
    "        else:\n",
    "            rad = tab[\"pl_radj\"][i] * u.jupiterRad\n",
    "            \n",
    "        # calculating contrast\n",
    "        albedo = 0.3\n",
    "        con = ((rad / sma).decompose())**2 * albedo\n",
    "\n",
    "\n",
    "        if (con > 1e-7) & (sep.value > 5e-3) & (tab[\"dec\"][i] > -100.0) & (rad < (0.2 * u.jupiterRad)):\n",
    "#             print(tab[\"pl_name\"][i], tab[\"pl_orbper\"][i], sma.value, tab[\"pl_bmassj\"][i], rad.value, \\\n",
    "#                   dis.value, tab[\"st_teff\"][i], tab[\"st_mass\"][i], con, sep.value, tab[\"dec\"][i], \\\n",
    "#                   tab[\"st_k\"][i], tab[\"st_wise1\"][i])\n",
    "            k = k + 1\n",
    "#         elif tab[\"pl_name\"][i] == \"Ross 128 b\":\n",
    "#              print(tab[\"pl_name\"][i], tab[\"pl_orbper\"][i], sma.value, tab[\"pl_bmassj\"][i], rad.value, \\\n",
    "#                   dis.value, tab[\"st_teff\"][i], tab[\"st_mass\"][i], con, sep.value, tab[\"dec\"][i])           \n",
    "        else:\n",
    "            1 == 1\n",
    "\n",
    "        sma_arr[i] = sma.value\n",
    "        sep_arr[i] = sep.value\n",
    "        rad_arr[i] = rad.value\n",
    "        contrast_arr[i] = con\n",
    "        dis_arr[i] = dis.value\n",
    "    else:\n",
    "        sma_arr[i] = 1.0\n",
    "        sep_arr[i] = 1e-5\n",
    "        rad_arr[i] = 1.0\n",
    "        contrast_arr[i] = 1e-10       \n",
    "        dis_arr[i] = 1e3"
   ]
  },
  {
   "cell_type": "code",
   "execution_count": 8,
   "metadata": {},
   "outputs": [],
   "source": [
    "sep = ((sma / dis).decompose() * u.radian).to(u.arcsec)"
   ]
  },
  {
   "cell_type": "markdown",
   "metadata": {},
   "source": [
    "## Plot seleted targets"
   ]
  },
  {
   "cell_type": "markdown",
   "metadata": {},
   "source": [
    "Only changed lambda_D,\n",
    "\n",
    "1$\\mu$m to 2$\\mu$m, 30 m to 39.3 m"
   ]
  },
  {
   "cell_type": "code",
   "execution_count": 9,
   "metadata": {},
   "outputs": [
    {
     "data": {
      "image/png": "[encoded data removed]",
      "text/plain": [
       "<Figure size 432x432 with 1 Axes>"
      ]
     },
     "metadata": {
      "needs_background": "light"
     },
     "output_type": "display_data"
    }
   ],
   "source": [
    "con_threshold = 1e-7\n",
    "sep_threshold = 5e-3\n",
    "rad_threshold = 0.2\n",
    "\n",
    "plt.figure(figsize=(6,6))\n",
    "\n",
    "font_size = 15\n",
    "\n",
    "plt.plot(sep_arr, contrast_arr, 'k.')\n",
    "\n",
    "plt.xscale(\"log\")\n",
    "plt.yscale(\"log\")\n",
    "plt.xlabel(\"Separation [arcsec]\", fontsize=font_size)\n",
    "plt.ylabel(\"Contrast\", fontsize=font_size)\n",
    "plt.gca().tick_params(labelsize=font_size)\n",
    "plt.xlim(5e-3, 1e-1)\n",
    "plt.ylim(1e-7, 2e-6)\n",
    "\n",
    "\n",
    "lambda_D = (((2.0 * u.micron) / (39.3 * u.meter).decompose()) * u.radian).to(u.arcsec)\n",
    "plt.vlines(lambda_D.value, 1e-10, 1e-5, color=\"black\", linestyle=\"dotted\")\n",
    "\n",
    "# lambda_D = (((2.0 * u.micron) / (22.4 * u.meter).decompose()) * u.radian).to(u.arcsec)\n",
    "# plt.vlines(lambda_D.value, 1e-10, 1e-5, color=\"blue\", linestyle=\"dashed\")\n",
    "\n",
    "# plt.hlines(5e-7, 1e-3, 1e-1, color=\"k\", linestyle=\"solid\")\n",
    "\n",
    "ind = np.where((contrast_arr > con_threshold) & (sep_arr > sep_threshold) & (rad_arr < 0.2))\n",
    "rot_arr = np.zeros((len(contrast_arr[ind]), ))\n",
    "for ii, i in enumerate(np.array(ind).flatten()):\n",
    "    if (tab[\"dec\"][i] > 0.0):\n",
    "        plt.plot(sep_arr[i], contrast_arr[i], color=\"r\", ms=15, marker=\"+\")\n",
    "        plt.annotate(tab[\"pl_name\"][i], xy=(sep_arr[i] * 1.1, contrast_arr[i]), rotation=rot_arr[ii], color=\"red\")\n",
    "    else:\n",
    "        plt.plot(sep_arr[i], contrast_arr[i], color=\"b\", ms=8, marker=\"x\")\n",
    "        plt.annotate(tab[\"pl_name\"][i], xy=(sep_arr[i] * 1.1, contrast_arr[i]), rotation=rot_arr[ii], color=\"blue\")\n",
    "\n",
    "\n"
   ]
  },
  {
   "cell_type": "code",
   "execution_count": 10,
   "metadata": {},
   "outputs": [],
   "source": [
    "temp = [183.707, 224.199, 365.493, 319.321, 266.145, 355.467, 306.961, 240.079, 258.630, 427.655, 217.185, 282.712, 201.836, 275.106]\n",
    "temp = [230.9,182,278.48206,224,240,259,468,217,423.81807,275]"
   ]
  },
  {
   "cell_type": "code",
   "execution_count": 11,
   "metadata": {},
   "outputs": [
    {
     "data": {
      "text/plain": [
       "array([3716.98865454,  831.23508608,  945.59285816,  949.29882663,\n",
       "       1084.84720779, 1049.97632267, 2016.783496  , 2801.30255565,\n",
       "       1907.37039786,  872.86094533, 1251.43717645, 2312.07817206,\n",
       "       1074.81507024, 1752.37352961, 3953.86274338, 1853.01752781,\n",
       "       2647.05842061, 3132.34970684, 2964.79712436, 2190.4       ,\n",
       "       2044.9       , 1822.5       , 2041.77872752, 2131.6       ,\n",
       "       1345.6       ,  827.11979992,  960.34918381,  817.45429331,\n",
       "        843.48606451, 1143.57690784, 2319.72940614,  856.93634727,\n",
       "        835.33442596])"
      ]
     },
     "execution_count": 11,
     "metadata": {},
     "output_type": "execute_result"
    }
   ],
   "source": [
    "rad_arr[ind]**2 * 100000"
   ]
  },
  {
   "cell_type": "code",
   "execution_count": 12,
   "metadata": {},
   "outputs": [
    {
     "data": {
      "text/plain": [
       "array([343.07407464,  25.42493906,  44.3967844 ,  44.99183115,\n",
       "        66.00957456,  60.73438801, 184.34324356, 263.60458283,\n",
       "       172.13424982,  32.47332917,  90.11439479, 215.73120969,\n",
       "        64.50073492, 154.2225679 , 361.97960704, 165.93899955,\n",
       "       248.99759725, 293.65422747, 278.6549561 , 203.05562845,\n",
       "       187.42680238, 162.42068068, 187.08554047, 196.80409802,\n",
       "       103.03114162,  24.71861664,  46.75926361,  23.05274655,\n",
       "        27.51733459,  74.70594297, 216.51698384,  29.79713988,\n",
       "        26.1267884 ])"
      ]
     },
     "execution_count": 12,
     "metadata": {},
     "output_type": "execute_result"
    }
   ],
   "source": [
    "(((rad_arr[ind]- np.mean(rad_arr[ind]))/ np.std(rad_arr[ind]))) * 100 + 140"
   ]
  },
  {
   "cell_type": "code",
   "execution_count": 13,
   "metadata": {},
   "outputs": [
    {
     "data": {
      "text/latex": [
       "$[2.1610347,~1.0219463,~1.0899792,~1.092113,~1.1674826,~1.1485658,~1.5918266,~1.8760574,~1.5480452,~1.0472218,~1.2539224,~1.7043837,~1.1620719,~1.483814,~2.2288299,~1.5258291,~1.8236769,~1.9838153,~1.930028,~1.6589291,~1.6028842,~1.5132124,~1.6016605,~1.6365112,~1.3002418,~1.0194134,~1.0984511,~1.0134396,~1.0294496,~1.1986677,~1.7072015,~1.0376249,~1.0244631] \\; \\mathrm{R_{\\oplus}}$"
      ],
      "text/plain": [
       "<Quantity [2.1610347 , 1.02194625, 1.08997921, 1.09211304, 1.16748258,\n",
       "           1.14856579, 1.59182662, 1.87605744, 1.54804522, 1.04722175,\n",
       "           1.25392237, 1.70438373, 1.16207189, 1.483814  , 2.22882986,\n",
       "           1.52582908, 1.82367685, 1.98381534, 1.93002801, 1.65892915,\n",
       "           1.60288424, 1.5132124 , 1.60166048, 1.63651119, 1.30024176,\n",
       "           1.01941338, 1.09845105, 1.01343958, 1.02944957, 1.19866772,\n",
       "           1.70720151, 1.03762495, 1.02446308] earthRad>"
      ]
     },
     "execution_count": 13,
     "metadata": {},
     "output_type": "execute_result"
    }
   ],
   "source": [
    "(rad_arr[ind]*u.R_jupiter).to(u.R_earth)"
   ]
  },
  {
   "cell_type": "code",
   "execution_count": 14,
   "metadata": {},
   "outputs": [
    {
     "data": {
      "text/latex": [
       "$10.496937 \\; \\mathrm{mas}$"
      ],
      "text/plain": [
       "<Quantity 10.4969367 mas>"
      ]
     },
     "execution_count": 14,
     "metadata": {},
     "output_type": "execute_result"
    }
   ],
   "source": [
    "lambda_D.to(u.mas)"
   ]
  },
  {
   "cell_type": "code",
   "execution_count": 15,
   "metadata": {},
   "outputs": [
    {
     "data": {
      "text/html": [
       "<div><i>Table length=33</i>\n",
       "<table id=\"table4695616384\" class=\"table-striped table-bordered table-condensed\">\n",
       "<thead><tr><th>pl_name</th><th>pl_bmasse</th><th>pl_rade</th><th>pl_orbsmax</th><th>sy_dist</th><th>st_logg</th><th>st_teff</th></tr></thead>\n",
       "<thead><tr><th>str29</th><th>float64</th><th>float64</th><th>float64</th><th>float64</th><th>float64</th><th>float64</th></tr></thead>\n",
       "<tr><td>61 Vir b</td><td>5.1</td><td>--</td><td>0.050201</td><td>8.50332</td><td>4.34</td><td>5577.0</td></tr>\n",
       "<tr><td>GJ 1002 b</td><td>1.08</td><td>--</td><td>0.0457</td><td>4.84867</td><td>5.1</td><td>3024.0</td></tr>\n",
       "<tr><td>GJ 1002 c</td><td>1.36</td><td>--</td><td>0.0738</td><td>4.84867</td><td>5.1</td><td>3024.0</td></tr>\n",
       "<tr><td>GJ 1061 b</td><td>1.37</td><td>--</td><td>0.021</td><td>3.67278</td><td>--</td><td>2953.0</td></tr>\n",
       "<tr><td>GJ 1061 c</td><td>1.74</td><td>--</td><td>0.035</td><td>3.67278</td><td>--</td><td>2953.0</td></tr>\n",
       "<tr><td>GJ 1061 d</td><td>1.64</td><td>--</td><td>0.054</td><td>3.67278</td><td>--</td><td>2953.0</td></tr>\n",
       "<tr><td>GJ 15 A b</td><td>3.03</td><td>--</td><td>0.072</td><td>3.56228</td><td>4.87</td><td>3607.0</td></tr>\n",
       "<tr><td>GJ 251 b</td><td>4.0</td><td>--</td><td>0.0818</td><td>5.58057</td><td>4.96</td><td>3451.0</td></tr>\n",
       "<tr><td>GJ 273 b</td><td>2.89</td><td>--</td><td>0.091101</td><td>5.921535</td><td>--</td><td>3382.0</td></tr>\n",
       "<tr><td>GJ 273 c</td><td>1.18</td><td>--</td><td>0.036467</td><td>5.921535</td><td>--</td><td>3382.0</td></tr>\n",
       "<tr><td>...</td><td>...</td><td>...</td><td>...</td><td>...</td><td>...</td><td>...</td></tr>\n",
       "<tr><td>LHS 1140 b</td><td>6.38</td><td>1.635</td><td>0.0957</td><td>14.9861</td><td>--</td><td>2988.0</td></tr>\n",
       "<tr><td>LTT 1445 A b</td><td>2.87</td><td>1.305</td><td>0.03813</td><td>6.86929</td><td>--</td><td>3340.0</td></tr>\n",
       "<tr><td>Proxima Cen b</td><td>1.07</td><td>--</td><td>0.04856</td><td>1.30119</td><td>--</td><td>2900.0</td></tr>\n",
       "<tr><td>Ross 128 b</td><td>1.4</td><td>--</td><td>0.0496</td><td>3.37454</td><td>--</td><td>3192.0</td></tr>\n",
       "<tr><td>Teegarden&apos;s Star b</td><td>1.05</td><td>--</td><td>0.0252</td><td>3.83078</td><td>--</td><td>2904.0</td></tr>\n",
       "<tr><td>Teegarden&apos;s Star c</td><td>1.11</td><td>--</td><td>0.0443</td><td>3.83078</td><td>--</td><td>2904.0</td></tr>\n",
       "<tr><td>Wolf 1061 b</td><td>1.91</td><td>--</td><td>0.0375</td><td>4.30592</td><td>--</td><td>3342.0</td></tr>\n",
       "<tr><td>Wolf 1061 c</td><td>3.41</td><td>--</td><td>0.089</td><td>4.30592</td><td>--</td><td>3342.0</td></tr>\n",
       "<tr><td>YZ Cet c</td><td>1.14</td><td>--</td><td>0.02156</td><td>3.71207</td><td>5.17</td><td>3151.0</td></tr>\n",
       "<tr><td>YZ Cet d</td><td>1.09</td><td>--</td><td>0.02851</td><td>3.71207</td><td>5.17</td><td>3151.0</td></tr>\n",
       "</table></div>"
      ],
      "text/plain": [
       "<Table length=33>\n",
       "     pl_name       pl_bmasse pl_rade pl_orbsmax sy_dist  st_logg st_teff\n",
       "      str29         float64  float64  float64   float64  float64 float64\n",
       "------------------ --------- ------- ---------- -------- ------- -------\n",
       "          61 Vir b       5.1      --   0.050201  8.50332    4.34  5577.0\n",
       "         GJ 1002 b      1.08      --     0.0457  4.84867     5.1  3024.0\n",
       "         GJ 1002 c      1.36      --     0.0738  4.84867     5.1  3024.0\n",
       "         GJ 1061 b      1.37      --      0.021  3.67278      --  2953.0\n",
       "         GJ 1061 c      1.74      --      0.035  3.67278      --  2953.0\n",
       "         GJ 1061 d      1.64      --      0.054  3.67278      --  2953.0\n",
       "         GJ 15 A b      3.03      --      0.072  3.56228    4.87  3607.0\n",
       "          GJ 251 b       4.0      --     0.0818  5.58057    4.96  3451.0\n",
       "          GJ 273 b      2.89      --   0.091101 5.921535      --  3382.0\n",
       "          GJ 273 c      1.18      --   0.036467 5.921535      --  3382.0\n",
       "               ...       ...     ...        ...      ...     ...     ...\n",
       "        LHS 1140 b      6.38   1.635     0.0957  14.9861      --  2988.0\n",
       "      LTT 1445 A b      2.87   1.305    0.03813  6.86929      --  3340.0\n",
       "     Proxima Cen b      1.07      --    0.04856  1.30119      --  2900.0\n",
       "        Ross 128 b       1.4      --     0.0496  3.37454      --  3192.0\n",
       "Teegarden's Star b      1.05      --     0.0252  3.83078      --  2904.0\n",
       "Teegarden's Star c      1.11      --     0.0443  3.83078      --  2904.0\n",
       "       Wolf 1061 b      1.91      --     0.0375  4.30592      --  3342.0\n",
       "       Wolf 1061 c      3.41      --      0.089  4.30592      --  3342.0\n",
       "          YZ Cet c      1.14      --    0.02156  3.71207    5.17  3151.0\n",
       "          YZ Cet d      1.09      --    0.02851  3.71207    5.17  3151.0"
      ]
     },
     "execution_count": 15,
     "metadata": {},
     "output_type": "execute_result"
    }
   ],
   "source": [
    "tab[\"pl_name\",\"pl_bmasse\",\"pl_rade\",\"pl_orbsmax\",\"sy_dist\",\"st_logg\",\"st_teff\"][ind]"
   ]
  },
  {
   "cell_type": "code",
   "execution_count": 16,
   "metadata": {},
   "outputs": [
    {
     "data": {
      "text/latex": [
       "$15.745405 \\; \\mathrm{mas}$"
      ],
      "text/plain": [
       "<Quantity 15.74540506 mas>"
      ]
     },
     "execution_count": 16,
     "metadata": {},
     "output_type": "execute_result"
    }
   ],
   "source": [
    "lambda_D = (((3.0 * u.micron) / (39.3 * u.meter).decompose()) * u.radian).to(u.arcsec)\n",
    "lambda_D.to(u.mas)"
   ]
  },
  {
   "cell_type": "code",
   "execution_count": 17,
   "metadata": {},
   "outputs": [
    {
     "data": {
      "text/plain": [
       "(array([  33,  173,  174,  175,  176,  177,  187,  202,  204,  205,  220,\n",
       "         230,  237,  241,  254,  258,  261,  271,  286,  585,  872,  873,\n",
       "        4546, 4547, 4560, 4734, 4748, 4985, 4986, 5189, 5190, 5204, 5205]),)"
      ]
     },
     "execution_count": 17,
     "metadata": {},
     "output_type": "execute_result"
    }
   ],
   "source": [
    "ind"
   ]
  },
  {
   "cell_type": "code",
   "execution_count": 18,
   "metadata": {},
   "outputs": [],
   "source": [
    "#temp = [183.707, 224.199, 365.493, 319.321, 266.145, 355.467, 306.961, 240.079, 258.630, 427.655, 217.185, 282.712, 201.836, 275.106]"
   ]
  },
  {
   "cell_type": "code",
   "execution_count": 19,
   "metadata": {},
   "outputs": [
    {
     "data": {
      "text/plain": [
       "5190"
      ]
     },
     "execution_count": 19,
     "metadata": {},
     "output_type": "execute_result"
    }
   ],
   "source": [
    "ind[0][-3]"
   ]
  },
  {
   "cell_type": "code",
   "execution_count": 20,
   "metadata": {},
   "outputs": [],
   "source": [
    "ind = np.where((contrast_arr > con_threshold) & (sep_arr > sep_threshold) & (rad_arr < 0.2) & (tab['dec']<0))"
   ]
  },
  {
   "cell_type": "code",
   "execution_count": 21,
   "metadata": {},
   "outputs": [
    {
     "data": {
      "text/latex": [
       "$15.745405 \\; \\mathrm{mas}$"
      ],
      "text/plain": [
       "<Quantity 15.74540506 mas>"
      ]
     },
     "execution_count": 21,
     "metadata": {},
     "output_type": "execute_result"
    }
   ],
   "source": [
    "lambda_D.to(u.mas)"
   ]
  },
  {
   "cell_type": "code",
   "execution_count": 22,
   "metadata": {},
   "outputs": [
    {
     "ename": "NameError",
     "evalue": "name 'lambda_D2' is not defined",
     "output_type": "error",
     "traceback": [
      "\u001b[0;31m---------------------------------------------------------------------------\u001b[0m",
      "\u001b[0;31mNameError\u001b[0m                                 Traceback (most recent call last)",
      "\u001b[1;32m/Users/huihaoz/Downloads/VFN-master/RV_planet_data_plotting-space.ipynb Cell 26\u001b[0m line \u001b[0;36m<cell line: 1>\u001b[0;34m()\u001b[0m\n\u001b[0;32m----> <a href='vscode-notebook-cell:/Users/huihaoz/Downloads/VFN-master/RV_planet_data_plotting-space.ipynb#X34sZmlsZQ%3D%3D?line=0'>1</a>\u001b[0m lambda_D2\u001b[39m.\u001b[39mto(u\u001b[39m.\u001b[39mmas)\n",
      "\u001b[0;31mNameError\u001b[0m: name 'lambda_D2' is not defined"
     ]
    }
   ],
   "source": [
    "lambda_D2.to(u.mas)"
   ]
  },
  {
   "cell_type": "code",
   "execution_count": 23,
   "metadata": {},
   "outputs": [
    {
     "data": {
      "text/latex": [
       "$15.745405 \\; \\mathrm{mas}$"
      ],
      "text/plain": [
       "<Quantity 15.74540506 mas>"
      ]
     },
     "execution_count": 23,
     "metadata": {},
     "output_type": "execute_result"
    }
   ],
   "source": [
    "lambda_D.to(u.mas)"
   ]
  },
  {
   "cell_type": "code",
   "execution_count": 26,
   "metadata": {
    "scrolled": false
   },
   "outputs": [
    {
     "data": {
      "image/png": "[encoded data removed]",
      "text/plain": [
       "<Figure size 864x576 with 2 Axes>"
      ]
     },
     "metadata": {},
     "output_type": "display_data"
    }
   ],
   "source": [
    "lambda_D = (((1.5 * u.micron) / (39.3 * u.meter).decompose()) * u.radian).to(u.arcsec)\n",
    "lambda_D2 = (((3 * u.micron) / (39.3 * u.meter).decompose()) * u.radian).to(u.arcsec)\n",
    "lambda_D3 = (((2.5 * u.micron) / (39.3 * u.meter).decompose()) * u.radian).to(u.arcsec)\n",
    "\n",
    "con_threshold = 1e-7\n",
    "sep_threshold = lambda_D.value\n",
    "rad_threshold = 0.2\n",
    "fig, ax = plt.subplots(figsize=(12, 8))\n",
    "\n",
    "font_size = 18\n",
    "\n",
    "ind = np.where((contrast_arr > con_threshold) & (sep_arr > sep_threshold) & (rad_arr < 0.2) & (tab['dec'] < 0.0))\n",
    "tab[\"pl_name\"][ind[0][-3]] = 'Proxima b'\n",
    "ind2 = np.where( (tab[ind]['dec'] < 0.0) )\n",
    "rot_arr = np.zeros((len(contrast_arr[ind]), ))\n",
    "#for ii, i in enumerate(np.array(ind).flatten()):\n",
    "#    if (tab[\"dec\"][i] > 0.0):\n",
    "#        plt.annotate(tab[\"pl_name\"][i], xy=(sep_arr[i] * 1.04, contrast_arr[i] * 1.04), rotation=0, color=\"black\",size=15)\n",
    "#    else:\n",
    "#        plt.annotate(tab[\"pl_name\"][i], xy=(sep_arr[i] * 1.04, contrast_arr[i] * 1.04), rotation=0, color=\"black\",size=15)\n",
    "plt.annotate(tab[\"pl_name\"][ind[0][0]], xy=(sep_arr[ind[0][0]] * 1.04, contrast_arr[ind[0][0]] * 1.04), rotation=0, color=\"black\",size=15)\n",
    "plt.annotate(tab[\"pl_name\"][ind[0][1]], xy=(sep_arr[ind[0][1]] * 1.04, contrast_arr[ind[0][1]] * 1.04), rotation=0, color=\"black\",size=15)\n",
    "plt.annotate(tab[\"pl_name\"][ind[0][2]], xy=(sep_arr[ind[0][2]] * 1.04, contrast_arr[ind[0][2]] * 1.04), rotation=0, color=\"black\",size=15)\n",
    "plt.annotate(tab[\"pl_name\"][ind[0][3]], xy=(sep_arr[ind[0][3]] * 1.04, contrast_arr[ind[0][3]] * 1.04), rotation=0, color=\"black\",size=15)\n",
    "plt.annotate(tab[\"pl_name\"][ind[0][4]], xy=(sep_arr[ind[0][4]] * 1.04, contrast_arr[ind[0][4]] * 0.96), rotation=0, color=\"black\",size=15)\n",
    "plt.annotate(tab[\"pl_name\"][ind[0][5]], xy=(sep_arr[ind[0][5]] * 1.04, contrast_arr[ind[0][5]] * 1.04), rotation=0, color=\"black\",size=15)\n",
    "plt.annotate(tab[\"pl_name\"][ind[0][6]], xy=(sep_arr[ind[0][6]] * 1.04, contrast_arr[ind[0][6]] * 1.04), rotation=0, color=\"black\",size=15)\n",
    "plt.annotate(tab[\"pl_name\"][ind[0][7]], xy=(sep_arr[ind[0][7]] * 1.02, contrast_arr[ind[0][7]] * 1.04), rotation=0, color=\"black\",size=15)\n",
    "plt.annotate(tab[\"pl_name\"][ind[0][8]], xy=(sep_arr[ind[0][8]] * 1.04, contrast_arr[ind[0][8]] * 0.96), rotation=0, color=\"black\",size=15)\n",
    "plt.annotate(tab[\"pl_name\"][ind[0][9]], xy=(sep_arr[ind[0][9]] * 1.04, contrast_arr[ind[0][9]] * 1.04), rotation=0, color=\"black\",size=15)\n",
    "plt.plot(sep_arr, contrast_arr, 'o',color=\"grey\",ms=5,label=\"Planets from NEA\",zorder=-1)\n",
    "\n",
    "sc =plt.scatter(sep_arr[ind], contrast_arr[ind],s=rad_arr[ind]**3 * 100000, c=temp,label=\"Target Planets\",zorder=1)\n",
    "cbar = plt.colorbar(sc)\n",
    "cbar.ax.tick_params(labelsize=15)\n",
    "cbar.set_label('Equilibrium Temperature(K)',size=18)\n",
    "fig.patch.set_facecolor('white')\n",
    "plt.vlines(lambda_D2.value, 1e-7, 1e-6, color=\"blue\", linestyle=\"dotted\",label = 'Separation limit \\nof METIS')\n",
    "#plt.vlines(lambda_D3.value, 1e-7, 1e-6, color=\"black\", linestyle=\"dotted\")\n",
    "plt.legend( prop={'size': 14},loc='upper right')\n",
    "plt.xscale(\"log\")\n",
    "plt.yscale(\"log\")\n",
    "plt.xlabel(r'Separation [$arcsec$]', fontsize=font_size)\n",
    "plt.ylabel(r'Contrast', fontsize=font_size)\n",
    "plt.xlim(lambda_D.value, 0.5e-1)\n",
    "plt.ylim(1e-7, 1e-6)\n",
    "ax.tick_params(axis='both', which='major', labelsize=15)\n",
    "ax.tick_params(axis='both', which='minor', labelsize=15)\n"
   ]
  },
  {
   "cell_type": "code",
   "execution_count": 22,
   "metadata": {},
   "outputs": [
    {
     "data": {
      "text/plain": [
       "4.3"
      ]
     },
     "execution_count": 22,
     "metadata": {},
     "output_type": "execute_result"
    }
   ],
   "source": [
    "(3+5.6)/2"
   ]
  },
  {
   "cell_type": "code",
   "execution_count": 179,
   "metadata": {},
   "outputs": [
    {
     "data": {
      "text/plain": [
       "<enumerate at 0x16b6e35c0>"
      ]
     },
     "execution_count": 179,
     "metadata": {},
     "output_type": "execute_result"
    }
   ],
   "source": [
    "enumerate(np.array(ind).flatten())"
   ]
  },
  {
   "cell_type": "code",
   "execution_count": 180,
   "metadata": {},
   "outputs": [
    {
     "ename": "KeyError",
     "evalue": "''",
     "output_type": "error",
     "traceback": [
      "\u001b[0;31m---------------------------------------------------------------------------\u001b[0m",
      "\u001b[0;31mKeyError\u001b[0m                                  Traceback (most recent call last)",
      "\u001b[1;32m/Users/huihaoz/Downloads/VFN-master/RV_planet_data_plotting-space.ipynb Cell 28\u001b[0m line \u001b[0;36m<cell line: 1>\u001b[0;34m()\u001b[0m\n\u001b[0;32m----> <a href='vscode-notebook-cell:/Users/huihaoz/Downloads/VFN-master/RV_planet_data_plotting-space.ipynb#Y105sZmlsZQ%3D%3D?line=0'>1</a>\u001b[0m tab[\u001b[39m\"\u001b[39;49m\u001b[39m\"\u001b[39;49m][ind]\n",
      "File \u001b[0;32m/usr/local/anaconda3/envs/5300-env/lib/python3.9/site-packages/astropy/table/table.py:2055\u001b[0m, in \u001b[0;36mTable.__getitem__\u001b[0;34m(self, item)\u001b[0m\n\u001b[1;32m   2053\u001b[0m \u001b[39mdef\u001b[39;00m \u001b[39m__getitem__\u001b[39m(\u001b[39mself\u001b[39m, item):\n\u001b[1;32m   2054\u001b[0m     \u001b[39mif\u001b[39;00m \u001b[39misinstance\u001b[39m(item, \u001b[39mstr\u001b[39m):\n\u001b[0;32m-> 2055\u001b[0m         \u001b[39mreturn\u001b[39;00m \u001b[39mself\u001b[39;49m\u001b[39m.\u001b[39;49mcolumns[item]\n\u001b[1;32m   2056\u001b[0m     \u001b[39melif\u001b[39;00m \u001b[39misinstance\u001b[39m(item, (\u001b[39mint\u001b[39m, np\u001b[39m.\u001b[39minteger)):\n\u001b[1;32m   2057\u001b[0m         \u001b[39mreturn\u001b[39;00m \u001b[39mself\u001b[39m\u001b[39m.\u001b[39mRow(\u001b[39mself\u001b[39m, item)\n",
      "File \u001b[0;32m/usr/local/anaconda3/envs/5300-env/lib/python3.9/site-packages/astropy/table/table.py:264\u001b[0m, in \u001b[0;36mTableColumns.__getitem__\u001b[0;34m(self, item)\u001b[0m\n\u001b[1;32m    253\u001b[0m \u001b[39m\"\"\"Get items from a TableColumns object.\u001b[39;00m\n\u001b[1;32m    254\u001b[0m \n\u001b[1;32m    255\u001b[0m \u001b[39m::\u001b[39;00m\n\u001b[0;32m   (...)\u001b[0m\n\u001b[1;32m    261\u001b[0m \u001b[39m  tc[1:3] # <TableColumns names=('b', 'c')>\u001b[39;00m\n\u001b[1;32m    262\u001b[0m \u001b[39m\"\"\"\u001b[39;00m\n\u001b[1;32m    263\u001b[0m \u001b[39mif\u001b[39;00m \u001b[39misinstance\u001b[39m(item, \u001b[39mstr\u001b[39m):\n\u001b[0;32m--> 264\u001b[0m     \u001b[39mreturn\u001b[39;00m OrderedDict\u001b[39m.\u001b[39;49m\u001b[39m__getitem__\u001b[39;49m(\u001b[39mself\u001b[39;49m, item)\n\u001b[1;32m    265\u001b[0m \u001b[39melif\u001b[39;00m \u001b[39misinstance\u001b[39m(item, (\u001b[39mint\u001b[39m, np\u001b[39m.\u001b[39minteger)):\n\u001b[1;32m    266\u001b[0m     \u001b[39mreturn\u001b[39;00m \u001b[39mlist\u001b[39m(\u001b[39mself\u001b[39m\u001b[39m.\u001b[39mvalues())[item]\n",
      "\u001b[0;31mKeyError\u001b[0m: ''"
     ]
    }
   ],
   "source": [
    "tab[\"\"][ind]"
   ]
  },
  {
   "cell_type": "code",
   "execution_count": 181,
   "metadata": {},
   "outputs": [
    {
     "data": {
      "text/html": [
       "&lt;Column name=&apos;pl_name&apos; dtype=&apos;str29&apos; length=10&gt;\n",
       "<table>\n",
       "<tr><td>GJ 1002 b</td></tr>\n",
       "<tr><td>GJ 1002 c</td></tr>\n",
       "<tr><td>GJ 1061 c</td></tr>\n",
       "<tr><td>GJ 1061 d</td></tr>\n",
       "<tr><td>GJ 667 C c</td></tr>\n",
       "<tr><td>GJ 682 b</td></tr>\n",
       "<tr><td>GJ 887 b</td></tr>\n",
       "<tr><td>Proxima b</td></tr>\n",
       "<tr><td>Wolf 1061 b</td></tr>\n",
       "<tr><td>Wolf 1061 c</td></tr>\n",
       "</table>"
      ],
      "text/plain": [
       "<Column name='pl_name' dtype='str29' length=10>\n",
       "  GJ 1002 b\n",
       "  GJ 1002 c\n",
       "  GJ 1061 c\n",
       "  GJ 1061 d\n",
       " GJ 667 C c\n",
       "   GJ 682 b\n",
       "   GJ 887 b\n",
       "  Proxima b\n",
       "Wolf 1061 b\n",
       "Wolf 1061 c"
      ]
     },
     "execution_count": 181,
     "metadata": {},
     "output_type": "execute_result"
    }
   ],
   "source": [
    "tab[\"pl_name\"][ind]"
   ]
  },
  {
   "cell_type": "code",
   "execution_count": 182,
   "metadata": {},
   "outputs": [
    {
     "data": {
      "text/latex": [
       "$[0.14,~0.14,~0.16,~0.16,~0,~0,~0.47,~0.14,~0.31,~0.31] \\; \\mathrm{R_{\\odot}}$"
      ],
      "text/plain": [
       "<Quantity [0.14, 0.14, 0.16, 0.16, 0.  , 0.  , 0.47, 0.14, 0.31, 0.31] solRad>"
      ]
     },
     "execution_count": 182,
     "metadata": {},
     "output_type": "execute_result"
    }
   ],
   "source": [
    "tab[\"st_rad\"][ind] * u.solRad"
   ]
  },
  {
   "cell_type": "code",
   "execution_count": 183,
   "metadata": {},
   "outputs": [
    {
     "data": {
      "text/latex": [
       "$[233.45088,~183.70688,~278.48206,~224.19936,~0,~0,~427.65464,~217.18533,~423.81807,~275.10602] \\; \\mathrm{k}$"
      ],
      "text/plain": [
       "<Quantity [233.45087844, 183.70688433, 278.48206069, 224.19935881,\n",
       "             0.        ,   0.        , 427.65464432, 217.18532874,\n",
       "           423.81806707, 275.10602193] k>"
      ]
     },
     "execution_count": 183,
     "metadata": {},
     "output_type": "execute_result"
    }
   ],
   "source": [
    "(((tab[\"st_rad\"][ind] * u.solRad)/ (u.AU * 2 *  tab[\"pl_orbsmax\"][ind]))**(1/2) * (1-0.3)**(0.25)).to(u.m/u.m) * tab[\"st_teff\"][ind] * u.k"
   ]
  },
  {
   "cell_type": "code",
   "execution_count": 184,
   "metadata": {},
   "outputs": [
    {
     "data": {
      "text/html": [
       "&lt;MaskedColumn name=&apos;pl_orbsmax&apos; dtype=&apos;float64&apos; length=10&gt;\n",
       "<table>\n",
       "<tr><td>0.0457</td></tr>\n",
       "<tr><td>0.0738</td></tr>\n",
       "<tr><td>0.035</td></tr>\n",
       "<tr><td>0.054</td></tr>\n",
       "<tr><td>0.125</td></tr>\n",
       "<tr><td>0.08</td></tr>\n",
       "<tr><td>0.068</td></tr>\n",
       "<tr><td>0.04856</td></tr>\n",
       "<tr><td>0.0375</td></tr>\n",
       "<tr><td>0.089</td></tr>\n",
       "</table>"
      ],
      "text/plain": [
       "<MaskedColumn name='pl_orbsmax' dtype='float64' length=10>\n",
       " 0.0457\n",
       " 0.0738\n",
       "  0.035\n",
       "  0.054\n",
       "  0.125\n",
       "   0.08\n",
       "  0.068\n",
       "0.04856\n",
       " 0.0375\n",
       "  0.089"
      ]
     },
     "execution_count": 184,
     "metadata": {},
     "output_type": "execute_result"
    }
   ],
   "source": [
    "tab[\"pl_orbsmax\"][ind]"
   ]
  },
  {
   "cell_type": "code",
   "execution_count": 185,
   "metadata": {},
   "outputs": [
    {
     "data": {
      "text/html": [
       "&lt;Column name=&apos;pl_name&apos; dtype=&apos;str29&apos; length=10&gt;\n",
       "<table>\n",
       "<tr><td>GJ 1002 b</td></tr>\n",
       "<tr><td>GJ 1002 c</td></tr>\n",
       "<tr><td>GJ 1061 c</td></tr>\n",
       "<tr><td>GJ 1061 d</td></tr>\n",
       "<tr><td>GJ 667 C c</td></tr>\n",
       "<tr><td>GJ 682 b</td></tr>\n",
       "<tr><td>GJ 887 b</td></tr>\n",
       "<tr><td>Proxima b</td></tr>\n",
       "<tr><td>Wolf 1061 b</td></tr>\n",
       "<tr><td>Wolf 1061 c</td></tr>\n",
       "</table>"
      ],
      "text/plain": [
       "<Column name='pl_name' dtype='str29' length=10>\n",
       "  GJ 1002 b\n",
       "  GJ 1002 c\n",
       "  GJ 1061 c\n",
       "  GJ 1061 d\n",
       " GJ 667 C c\n",
       "   GJ 682 b\n",
       "   GJ 887 b\n",
       "  Proxima b\n",
       "Wolf 1061 b\n",
       "Wolf 1061 c"
      ]
     },
     "execution_count": 185,
     "metadata": {},
     "output_type": "execute_result"
    }
   ],
   "source": [
    "tab[\"pl_name\"][ind]"
   ]
  },
  {
   "cell_type": "code",
   "execution_count": 186,
   "metadata": {},
   "outputs": [],
   "source": [
    "temp = [230.9,182,278.48206,224,240,259,468,217,423.81807,275]"
   ]
  },
  {
   "cell_type": "code",
   "execution_count": 187,
   "metadata": {},
   "outputs": [
    {
     "data": {
      "text/html": [
       "&lt;Column name=&apos;pl_name&apos; dtype=&apos;str29&apos; length=10&gt;\n",
       "<table>\n",
       "<tr><td>GJ 1002 b</td></tr>\n",
       "<tr><td>GJ 1002 c</td></tr>\n",
       "<tr><td>GJ 1061 c</td></tr>\n",
       "<tr><td>GJ 1061 d</td></tr>\n",
       "<tr><td>GJ 667 C c</td></tr>\n",
       "<tr><td>GJ 682 b</td></tr>\n",
       "<tr><td>GJ 887 b</td></tr>\n",
       "<tr><td>Proxima b</td></tr>\n",
       "<tr><td>Wolf 1061 b</td></tr>\n",
       "<tr><td>Wolf 1061 c</td></tr>\n",
       "</table>"
      ],
      "text/plain": [
       "<Column name='pl_name' dtype='str29' length=10>\n",
       "  GJ 1002 b\n",
       "  GJ 1002 c\n",
       "  GJ 1061 c\n",
       "  GJ 1061 d\n",
       " GJ 667 C c\n",
       "   GJ 682 b\n",
       "   GJ 887 b\n",
       "  Proxima b\n",
       "Wolf 1061 b\n",
       "Wolf 1061 c"
      ]
     },
     "execution_count": 187,
     "metadata": {},
     "output_type": "execute_result"
    }
   ],
   "source": [
    "tab[\"pl_name\"][ind]"
   ]
  },
  {
   "cell_type": "code",
   "execution_count": 188,
   "metadata": {},
   "outputs": [
    {
     "data": {
      "text/latex": [
       "$[1.7958125,~2.9000211,~1.8156852,~2.8013428,~3.2877697,~3.0444228,~3.9380428,~7.1105858,~1.6593299,~3.9381429] \\; \\mathrm{\\mu m}$"
      ],
      "text/plain": [
       "<Quantity [1.7958125 , 2.90002106, 1.81568517, 2.80134284, 3.28776968,\n",
       "           3.04442281, 3.9380428 , 7.11058575, 1.65932986, 3.93814286] micron>"
      ]
     },
     "execution_count": 188,
     "metadata": {},
     "output_type": "execute_result"
    }
   ],
   "source": [
    "(((sep_arr[ind]*u.arcsec).to(u.radian) / u.radian) * 39.3*u.meter).to(u.micron)"
   ]
  },
  {
   "cell_type": "code",
   "execution_count": 189,
   "metadata": {},
   "outputs": [],
   "source": [
    "lambda_D3 = (((2.45 * u.micron) / (39.3 * u.meter).decompose()) * u.radian).to(u.arcsec)"
   ]
  },
  {
   "cell_type": "code",
   "execution_count": 94,
   "metadata": {},
   "outputs": [
    {
     "data": {
      "text/latex": [
       "$0.062340967 \\; \\mathrm{\\frac{\\mu m\\,rad}{m}}$"
      ],
      "text/plain": [
       "<Quantity 0.06234097 micron rad / m>"
      ]
     },
     "execution_count": 94,
     "metadata": {},
     "output_type": "execute_result"
    }
   ],
   "source": [
    "((2.45 * u.micron) / (39.3 * u.meter).decompose()) * u.radian"
   ]
  },
  {
   "cell_type": "code",
   "execution_count": null,
   "metadata": {},
   "outputs": [],
   "source": []
  },
  {
   "cell_type": "code",
   "execution_count": null,
   "metadata": {},
   "outputs": [],
   "source": [
    "lambda_D2"
   ]
  },
  {
   "cell_type": "code",
   "execution_count": null,
   "metadata": {},
   "outputs": [],
   "source": [
    "rot_arr"
   ]
  },
  {
   "cell_type": "code",
   "execution_count": null,
   "metadata": {},
   "outputs": [],
   "source": [
    "def cal_rad(mass):\n",
    "    if mass < (2.0 * u.earthMass):\n",
    "        rad = (((mass / (1.0 * u.earthMass)).decompose())**(0.28) * u.earthRad).to(u.R_earth)\n",
    "    elif mass < ((0.41 * u.jupiterMass).to(u.earthMass)):\n",
    "        rad = (((mass / (14.5 * u.earthMass)).decompose())**(0.59) * (4.01 * u.earthRad)).to(u.R_earth)\n",
    "    elif mass < ((0.08 * u.solMass).to(u.earthMass)):\n",
    "        rad = (((mass / (1 * u.jupiterMass)).decompose())**(-0.04) * (1.1 * u.jupiterRad)).to(u.R_earth)\n",
    "    else:\n",
    "        rad = (((mass / (0.08 * u.solMass)).decompose())**(0.88) * (0.95 * u.jupiterRad)).to(u.R_earth)\n",
    "    return(rad)\n"
   ]
  },
  {
   "cell_type": "markdown",
   "metadata": {},
   "source": [
    "set i = 90"
   ]
  },
  {
   "cell_type": "code",
   "execution_count": null,
   "metadata": {},
   "outputs": [],
   "source": [
    "ind = np.where((contrast_arr > con_threshold) & (sep_arr > sep_threshold) & (rad_arr < 0.2))\n",
    "rot_arr = np.zeros((len(contrast_arr[ind]), ))\n",
    "for ii, i in enumerate(np.array(ind).flatten()):\n",
    "    if (tab[\"dec\"][i] > 0.0):\n",
    "        print(tab[\"pl_name\"][i],tab[\"pl_bmasse\"][i],cal_rad(tab[\"pl_bmasse\"][i]*u.earthMass),tab[\"pl_orbsmax\"][i],tab[\"sy_dist\"][i],tab[\"st_rad\"][i],tab[\"st_logg\"][i],tab[\"st_teff\"][i])\n",
    "    else:\n",
    "        print(tab[\"pl_name\"][i],tab[\"pl_bmasse\"][i],cal_rad(tab[\"pl_bmasse\"][i]*u.earthMass), tab[\"pl_orbsmax\"][i],tab[\"sy_dist\"][i],tab[\"st_rad\"][i],tab[\"st_logg\"][i],tab[\"st_teff\"][i])"
   ]
  },
  {
   "cell_type": "code",
   "execution_count": null,
   "metadata": {},
   "outputs": [],
   "source": [
    "cal_rad(1)"
   ]
  },
  {
   "cell_type": "code",
   "execution_count": null,
   "metadata": {},
   "outputs": [],
   "source": [
    "tab[\"pl_bmasse\"]*u.earthMass"
   ]
  },
  {
   "cell_type": "code",
   "execution_count": null,
   "metadata": {},
   "outputs": [],
   "source": [
    "import pandas as pd"
   ]
  },
  {
   "cell_type": "code",
   "execution_count": null,
   "metadata": {},
   "outputs": [],
   "source": [
    "data = pd.read_csv('/Users/huihaoz/Documents/reseatch/PT_PES.txt', sep=\",\")"
   ]
  },
  {
   "cell_type": "code",
   "execution_count": null,
   "metadata": {},
   "outputs": [],
   "source": [
    "data"
   ]
  },
  {
   "cell_type": "code",
   "execution_count": null,
   "metadata": {},
   "outputs": [],
   "source": []
  }
 ],
 "metadata": {
  "kernelspec": {
   "display_name": "Python 3 (ipykernel)",
   "language": "python",
   "name": "python3"
  },
  "language_info": {
   "codemirror_mode": {
    "name": "ipython",
    "version": 3
   },
   "file_extension": ".py",
   "mimetype": "text/x-python",
   "name": "python",
   "nbconvert_exporter": "python",
   "pygments_lexer": "ipython3",
   "version": "3.9.12"
  }
 },
 "nbformat": 4,
 "nbformat_minor": 4
}
