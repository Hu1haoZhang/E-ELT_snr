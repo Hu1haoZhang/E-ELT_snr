{
 "cells": [
  {
   "cell_type": "code",
   "execution_count": 1,
   "id": "a9ae7237",
   "metadata": {
    "scrolled": true
   },
   "outputs": [
    {
     "name": "stderr",
     "output_type": "stream",
     "text": [
      "/var/folders/6t/cpjtlkn10wv603vnph9nr3sh0000gn/T/ipykernel_1274/2248924930.py:72: VisibleDeprecationWarning: Creating an ndarray from ragged nested sequences (which is a list-or-tuple of lists-or-tuples-or ndarrays with different lengths or shapes) is deprecated. If you meant to do this, you must specify 'dtype=object' when creating the ndarray.\n",
      "  f_traErgsseccmA=np.array([np.array(f_tra0.ErgsseccmA),np.array(f_tra1.ErgsseccmA),np.array(f_tra2.ErgsseccmA),np.array(f_tra3.ErgsseccmA),np.array(f_tra4.ErgsseccmA),np.array(f_tra5.ErgsseccmA),np.array(f_tra6.ErgsseccmA),np.array(f_tra7.ErgsseccmA),np.array(f_tra8.ErgsseccmA),np.array(f_tra9.ErgsseccmA),np.array(f_tra10.ErgsseccmA),np.array(f_tra11.ErgsseccmA),np.array(f_tra12.ErgsseccmA),np.array(f_tra13.ErgsseccmA),np.array(f_tra14.ErgsseccmA),np.array(f_tra15.ErgsseccmA)])\n",
      "/var/folders/6t/cpjtlkn10wv603vnph9nr3sh0000gn/T/ipykernel_1274/2248924930.py:74: VisibleDeprecationWarning: Creating an ndarray from ragged nested sequences (which is a list-or-tuple of lists-or-tuples-or ndarrays with different lengths or shapes) is deprecated. If you meant to do this, you must specify 'dtype=object' when creating the ndarray.\n",
      "  f_traAng=np.array([np.array(f_tra0.Angstroem / 10000),np.array(f_tra1.Angstroem / 10000),np.array(f_tra2.Angstroem / 10000),np.array(f_tra3.Angstroem / 10000),np.array(f_tra4.Angstroem / 10000),np.array(f_tra5.Angstroem / 10000),np.array(f_tra6.Angstroem / 10000),np.array(f_tra7.Angstroem / 10000),np.array(f_tra8.Angstroem / 10000),np.array(f_tra9.Angstroem / 10000),np.array(f_tra10.Angstroem / 10000),np.array(f_tra11.Angstroem / 10000),np.array(f_tra12.Angstroem / 10000),np.array(f_tra13.Angstroem / 10000),np.array(f_tra14.Angstroem / 10000),np.array(f_tra15.Angstroem / 10000)])\n"
     ]
    }
   ],
   "source": [
    "import numpy as np\n",
    "import pandas as pd\n",
    "import matplotlib.pyplot as plt\n",
    "from astropy import units as u\n",
    "from astropy import constants as const\n",
    "absor1 = pd.read_csv('/Users/huihaoz/Downloads/GeometricA_Earth_HighCloud_UltraRes1.dat', comment = '#', delimiter='\\s+')\n",
    "absor2 = pd.read_csv('/Users/huihaoz/Downloads/mktrans_zmnq_16_15.dat', comment = '#', delimiter='\\s+')\n",
    "pts=pd.read_csv('/Users/huihaoz/Downloads/PT_PES2.txt', sep=',')\n",
    "pts[\"Teq\"] = (pts.STK * ((pts.SRadiusSun *  const.R_sun/(2*pts.SMAAU * const.au)))**(1/2) * (1-0.3)**(0.25))\n",
    "pts.iloc[0,8]=181.7\n",
    "pts.iloc[3,8]=351\n",
    "pts.iloc[9,8]=468\n",
    "pts.iloc[11,8]=301\n",
    "# Split a Python List into Chunks using For Loops\n",
    "our_list = np.array(absor1.albH2O[:1079300])\n",
    "chunked_list = list()\n",
    "chunk_size = 251*2*5\n",
    "for i in range(0, len(our_list), chunk_size):\n",
    "    chunked_list.append(our_list[i:i+chunk_size])\n",
    "    \n",
    "our_listwl = np.array(absor1.nm[:1079300] / 1000)\n",
    "chunked_listwl = list()\n",
    "chunk_sizewl = 251*2*5\n",
    "for i in range(0, len(our_listwl), chunk_sizewl):\n",
    "    chunked_listwl.append(our_listwl[i:i+chunk_sizewl])\n",
    "    \n",
    "y_fit_index = np.linspace(0,429,430,dtype = int)\n",
    "wl_fit_index = [np.argmax(chunked_list[i]) for i in y_fit_index] #just for check\n",
    "\n",
    "pn_fit_non = [max(chunked_list[i]) for i in y_fit_index]\n",
    "wl_fit_non = [chunked_listwl[i][np.argmax(chunked_list[i])] for i in y_fit_index]\n",
    "alb_nogas = np.interp(absor1.nm/1000,wl_fit_non,np.array(pn_fit_non))\n",
    "wl_um2 = np.array(absor1.nm[:1079300])/1000 * u.um\n",
    "my_list_norabd = (absor1.totalb / alb_nogas)\n",
    "\n",
    "# Iterate over the list and replace any value greater than 1 with 1\n",
    "for i in range(len(my_list_norabd)):\n",
    "    if my_list_norabd[i] > 1:\n",
    "        my_list_norabd[i] = 1\n",
    "tbd_planet=[]\n",
    "\n",
    "for i in range(len(pts.Teq)):\n",
    "    tbd_planet.append(np.array(my_list_norabd[:1079300]) * 2 * const.h *const.c**2 / ((wl_um2)**5 * (np.e**(const.c * const.h / (wl_um2 *const.k_B * pts.Teq[i] * u.K)) - 1)))\n",
    "dis_2 = pts.DistancePC* const.pc\n",
    "d_s_2 = pts.RadiusEar * const.R_earth\n",
    "ste = (d_s_2**2 * np.pi / dis_2**2)\n",
    "tbd_planet_earth = []\n",
    "for i in range(len(tbd_planet)):\n",
    "\n",
    "    tbd_planet_earth.append((tbd_planet[i] * ste[i]).to(u.erg/(u.s * u.cm**2 * u.um)))\n",
    "Flux_tbd_planet_earth =[]\n",
    "for i in range(len(tbd_planet_earth)):\n",
    "    Flux_tbd_planet_earth.append((tbd_planet_earth[i][1:] * np.diff(wl_um2)).to(u.W/u.m**2))\n",
    "\n",
    "\n",
    "f_tra0 = pd.read_csv('/Users/huihaoz/Downloads/lte030.0-5.0-0.0a+0.0.BT-Settl.spec.7.txt', comment = '#', delimiter='\\s+')\n",
    "f_tra1 = pd.read_csv('/Users/huihaoz/Downloads/lte030.0-5.0-0.0a+0.0.BT-Settl.spec.7.txt', comment = '#', delimiter='\\s+')\n",
    "f_tra2 = pd.read_csv('/Users/huihaoz/Downloads/lte036.0-5.0-0.0a+0.0.BT-Settl.spec.7.txt', comment = '#', delimiter='\\s+')\n",
    "f_tra3 = pd.read_csv('/Users/huihaoz/Downloads/lte035.0-5.0-0.0a+0.0.BT-Settl.spec.7.txt', comment = '#', delimiter='\\s+')\n",
    "f_tra4 = pd.read_csv('/Users/huihaoz/Downloads/lte034.0-5.0-0.0a+0.0.BT-Settl.spec.7.txt', comment = '#', delimiter='\\s+')\n",
    "f_tra5 = pd.read_csv('/Users/huihaoz/Downloads/lte037.0-5.0-0.0a+0.0.BT-Settl.spec.7.txt', comment = '#', delimiter='\\s+')\n",
    "f_tra6 = pd.read_csv('/Users/huihaoz/Downloads/lte035.0-5.0-0.0a+0.0.BT-Settl.spec.7.txt', comment = '#', delimiter='\\s+')\n",
    "f_tra7 = pd.read_csv('/Users/huihaoz/Downloads/lte034.0-4.5-0.0a+0.0.BT-Settl.spec.7.txt', comment = '#', delimiter='\\s+')\n",
    "f_tra8 = pd.read_csv('/Users/huihaoz/Downloads/lte030.0-5.0-0.0a+0.0.BT-Settl.spec.7.txt', comment = '#', delimiter='\\s+')\n",
    "f_tra9 = pd.read_csv('/Users/huihaoz/Downloads/lte037.0-5.0-0.0a+0.0.BT-Settl.spec.7.txt', comment = '#', delimiter='\\s+')\n",
    "f_tra10 = pd.read_csv('/Users/huihaoz/Downloads/lte029.0-5.0-0.0a+0.0.BT-Settl.spec.7.txt', comment = '#', delimiter='\\s+')\n",
    "f_tra11 = pd.read_csv('/Users/huihaoz/Downloads/lte032.0-5.0-0.0a+0.0.BT-Settl.spec.7.txt', comment = '#', delimiter='\\s+')\n",
    "f_tra12 = pd.read_csv('/Users/huihaoz/Downloads/lte029.0-5.5-0.0a+0.0.BT-Settl.spec.7.txt', comment = '#', delimiter='\\s+')\n",
    "f_tra13 = pd.read_csv('/Users/huihaoz/Downloads/lte033.0-5.0-0.0a+0.0.BT-Settl.spec.7.txt', comment = '#', delimiter='\\s+')\n",
    "f_tra14 = pd.read_csv('/Users/huihaoz/Downloads/lte026.0-5.0-0.0a+0.0.BT-Settl.spec.7.txt', comment = '#', delimiter='\\s+')\n",
    "f_tra15 = pd.read_csv('/Users/huihaoz/Downloads/lte026.0-5.0-0.0a+0.0.BT-Settl.spec.7.txt', comment = '#', delimiter='\\s+')\n",
    "f_traErgsseccmA=np.array([np.array(f_tra0.ErgsseccmA),np.array(f_tra1.ErgsseccmA),np.array(f_tra2.ErgsseccmA),np.array(f_tra3.ErgsseccmA),np.array(f_tra4.ErgsseccmA),np.array(f_tra5.ErgsseccmA),np.array(f_tra6.ErgsseccmA),np.array(f_tra7.ErgsseccmA),np.array(f_tra8.ErgsseccmA),np.array(f_tra9.ErgsseccmA),np.array(f_tra10.ErgsseccmA),np.array(f_tra11.ErgsseccmA),np.array(f_tra12.ErgsseccmA),np.array(f_tra13.ErgsseccmA),np.array(f_tra14.ErgsseccmA),np.array(f_tra15.ErgsseccmA)])\n",
    "f_tra1_fum0=[10**(i-8) * u.erg/(u.s * u.cm**2 *u.Angstrom) for i in f_traErgsseccmA]\n",
    "f_traAng=np.array([np.array(f_tra0.Angstroem / 10000),np.array(f_tra1.Angstroem / 10000),np.array(f_tra2.Angstroem / 10000),np.array(f_tra3.Angstroem / 10000),np.array(f_tra4.Angstroem / 10000),np.array(f_tra5.Angstroem / 10000),np.array(f_tra6.Angstroem / 10000),np.array(f_tra7.Angstroem / 10000),np.array(f_tra8.Angstroem / 10000),np.array(f_tra9.Angstroem / 10000),np.array(f_tra10.Angstroem / 10000),np.array(f_tra11.Angstroem / 10000),np.array(f_tra12.Angstroem / 10000),np.array(f_tra13.Angstroem / 10000),np.array(f_tra14.Angstroem / 10000),np.array(f_tra15.Angstroem / 10000)])\n"
   ]
  },
  {
   "cell_type": "code",
   "execution_count": 2,
   "id": "eaa20a69",
   "metadata": {},
   "outputs": [
    {
     "data": {
      "text/plain": [
       "900.001555"
      ]
     },
     "execution_count": 2,
     "metadata": {},
     "output_type": "execute_result"
    }
   ],
   "source": [
    "absor1.nm[255273]"
   ]
  },
  {
   "cell_type": "code",
   "execution_count": 3,
   "id": "60ddc215",
   "metadata": {},
   "outputs": [
    {
     "data": {
      "text/plain": [
       "array([0.5513832, 0.5513832, 0.5513832, ..., 2.585659 , 2.585659 ,\n",
       "       2.585659 ])"
      ]
     },
     "execution_count": 3,
     "metadata": {},
     "output_type": "execute_result"
    }
   ],
   "source": [
    "alb_nogas"
   ]
  },
  {
   "cell_type": "code",
   "execution_count": 4,
   "id": "8b0b3431",
   "metadata": {},
   "outputs": [
    {
     "ename": "NameError",
     "evalue": "name 'o2_f' is not defined",
     "output_type": "error",
     "traceback": [
      "\u001b[0;31m---------------------------------------------------------------------------\u001b[0m",
      "\u001b[0;31mNameError\u001b[0m                                 Traceback (most recent call last)",
      "\u001b[1;32m/Users/huihaoz/Downloads/Section 3, more targets2_feature ELT.ipynb Cell 4\u001b[0m line \u001b[0;36m<cell line: 2>\u001b[0;34m()\u001b[0m\n\u001b[1;32m      <a href='vscode-notebook-cell:/Users/huihaoz/Downloads/Section%203%2C%20more%20targets2_feature%20ELT.ipynb#W3sZmlsZQ%3D%3D?line=0'>1</a>\u001b[0m \u001b[39m# Split a Python List into Chunks using For Loops\u001b[39;00m\n\u001b[0;32m----> <a href='vscode-notebook-cell:/Users/huihaoz/Downloads/Section%203%2C%20more%20targets2_feature%20ELT.ipynb#W3sZmlsZQ%3D%3D?line=1'>2</a>\u001b[0m our_list \u001b[39m=\u001b[39m np\u001b[39m.\u001b[39marray(o2_f)\n\u001b[1;32m      <a href='vscode-notebook-cell:/Users/huihaoz/Downloads/Section%203%2C%20more%20targets2_feature%20ELT.ipynb#W3sZmlsZQ%3D%3D?line=2'>3</a>\u001b[0m chunked_list \u001b[39m=\u001b[39m \u001b[39mlist\u001b[39m()\n\u001b[1;32m      <a href='vscode-notebook-cell:/Users/huihaoz/Downloads/Section%203%2C%20more%20targets2_feature%20ELT.ipynb#W3sZmlsZQ%3D%3D?line=3'>4</a>\u001b[0m chunk_size \u001b[39m=\u001b[39m \u001b[39m251\u001b[39m\u001b[39m*\u001b[39m\u001b[39m5\u001b[39m\u001b[39m*\u001b[39m\u001b[39m2\u001b[39m\n",
      "\u001b[0;31mNameError\u001b[0m: name 'o2_f' is not defined"
     ]
    }
   ],
   "source": [
    "# Split a Python List into Chunks using For Loops\n",
    "our_list = np.array(o2_f)\n",
    "chunked_list = list()\n",
    "chunk_size = 251*5*2\n",
    "for i in range(0, len(our_list), chunk_size):\n",
    "    chunked_list.append(our_list[i:i+chunk_size])\n",
    "    \n",
    "our_listwl = np.array(absor1.nm[:1079300] / 1000)\n",
    "chunked_listwl = list()\n",
    "chunk_sizewl = 251*5*2\n",
    "for i in range(0, len(our_listwl), chunk_sizewl):\n",
    "    chunked_listwl.append(our_listwl[i:i+chunk_sizewl])\n",
    "    \n",
    "y_fit_index = np.linspace(0,429,430,dtype = int)\n",
    "wl_fit_index = [np.argmax(chunked_list[i]) for i in y_fit_index] #just for check\n",
    "\n",
    "pn_fit_non = [max(chunked_list[i]) for i in y_fit_index]\n",
    "wl_fit_non = [chunked_listwl[i][np.argmax(chunked_list[i])] for i in y_fit_index]\n",
    "interp_o2 = np.interp(wl_um/u.um,wl_fit_non,np.array(pn_fit_non))\n",
    "baseline_feat = absor1.albo2[300000]*0.5*0.5\n",
    "ind_o2 = np.where((interp_o2>0.15))"
   ]
  },
  {
   "cell_type": "code",
   "execution_count": 5,
   "id": "7019fead",
   "metadata": {},
   "outputs": [],
   "source": [
    "h2o_f=(0.3-0.3*(absor1.albH2O[:1079300]/alb_nogas[:1079300]))\n",
    "co2_f=(0.3-0.3*(absor1.albco2[:1079300]/alb_nogas[:1079300]))\n",
    "ch4_f=(0.3-0.3*(absor1.albch4[:1079300]/alb_nogas[:1079300]))\n",
    "o2_f=(0.3-0.3*(absor1.albo2[:1079300]/alb_nogas[:1079300]))\n",
    "\n",
    "\n",
    "\n",
    "our_list = np.array(h2o_f)\n",
    "chunked_list = list()\n",
    "chunk_size = 251*5*2\n",
    "for i in range(0, len(our_list), chunk_size):\n",
    "    chunked_list.append(our_list[i:i+chunk_size])\n",
    "    \n",
    "our_listwl = np.array(absor1.nm[:1079300] / 1000)\n",
    "chunked_listwl = list()\n",
    "chunk_sizewl = 251*5*2\n",
    "for i in range(0, len(our_listwl), chunk_sizewl):\n",
    "    chunked_listwl.append(our_listwl[i:i+chunk_sizewl])\n",
    "    \n",
    "y_fit_index = np.linspace(0,429,430,dtype = int)\n",
    "wl_fit_index = [np.argmax(chunked_list[i]) for i in y_fit_index] #just for check\n",
    "\n",
    "pn_fit_nonh2o = [max(chunked_list[i]) for i in y_fit_index]\n",
    "wl_fit_nonh2o = [chunked_listwl[i][np.argmax(chunked_list[i])] for i in y_fit_index]\n",
    "\n",
    "our_list = np.array(co2_f)\n",
    "chunked_list = list()\n",
    "chunk_size = 251*5*2\n",
    "for i in range(0, len(our_list), chunk_size):\n",
    "    chunked_list.append(our_list[i:i+chunk_size])\n",
    "    \n",
    "our_listwl = np.array(absor1.nm[:1079300] / 1000)\n",
    "chunked_listwl = list()\n",
    "chunk_sizewl = 251*5*2\n",
    "for i in range(0, len(our_listwl), chunk_sizewl):\n",
    "    chunked_listwl.append(our_listwl[i:i+chunk_sizewl])\n",
    "    \n",
    "y_fit_index = np.linspace(0,429,430,dtype = int)\n",
    "wl_fit_index = [np.argmax(chunked_list[i]) for i in y_fit_index] #just for check\n",
    "\n",
    "pn_fit_nonco2 = [max(chunked_list[i]) for i in y_fit_index]\n",
    "wl_fit_nonco2 = [chunked_listwl[i][np.argmax(chunked_list[i])] for i in y_fit_index]\n",
    "\n",
    "our_list = np.array(ch4_f)\n",
    "chunked_list = list()\n",
    "chunk_size = 251*5*2\n",
    "for i in range(0, len(our_list), chunk_size):\n",
    "    chunked_list.append(our_list[i:i+chunk_size])\n",
    "    \n",
    "our_listwl = np.array(absor1.nm[:1079300] / 1000)\n",
    "chunked_listwl = list()\n",
    "chunk_sizewl = 251*5*2\n",
    "for i in range(0, len(our_listwl), chunk_sizewl):\n",
    "    chunked_listwl.append(our_listwl[i:i+chunk_sizewl])\n",
    "    \n",
    "y_fit_index = np.linspace(0,429,430,dtype = int)\n",
    "wl_fit_index = [np.argmax(chunked_list[i]) for i in y_fit_index] #just for check\n",
    "\n",
    "pn_fit_nonch4 = [max(chunked_list[i]) for i in y_fit_index]\n",
    "wl_fit_nonch4 = [chunked_listwl[i][np.argmax(chunked_list[i])] for i in y_fit_index]\n",
    "\n",
    "our_list = np.array(o2_f)\n",
    "chunked_list = list()\n",
    "chunk_size = 251*5*2\n",
    "for i in range(0, len(our_list), chunk_size):\n",
    "    chunked_list.append(our_list[i:i+chunk_size])\n",
    "    \n",
    "our_listwl = np.array(absor1.nm[:1079300] / 1000)\n",
    "chunked_listwl = list()\n",
    "chunk_sizewl = 251*5*2\n",
    "for i in range(0, len(our_listwl), chunk_sizewl):\n",
    "    chunked_listwl.append(our_listwl[i:i+chunk_sizewl])\n",
    "    \n",
    "y_fit_index = np.linspace(0,429,430,dtype = int)\n",
    "wl_fit_index = [np.argmax(chunked_list[i]) for i in y_fit_index] #just for check\n",
    "\n",
    "pn_fit_nono2 = [max(chunked_list[i]) for i in y_fit_index]\n",
    "wl_fit_nono2 = [chunked_listwl[i][np.argmax(chunked_list[i])] for i in y_fit_index]"
   ]
  },
  {
   "cell_type": "code",
   "execution_count": 6,
   "id": "7737c802",
   "metadata": {},
   "outputs": [
    {
     "data": {
      "text/plain": [
       "430"
      ]
     },
     "execution_count": 6,
     "metadata": {},
     "output_type": "execute_result"
    }
   ],
   "source": [
    "len(wl_fit_nono2)"
   ]
  },
  {
   "cell_type": "code",
   "execution_count": 7,
   "id": "524eaf98",
   "metadata": {},
   "outputs": [
    {
     "data": {
      "text/plain": [
       "<matplotlib.legend.Legend at 0x16c525fa0>"
      ]
     },
     "execution_count": 7,
     "metadata": {},
     "output_type": "execute_result"
    },
    {
     "data": {
      "image/png": "[encoded data removed]",
      "text/plain": [
       "<Figure size 864x288 with 1 Axes>"
      ]
     },
     "metadata": {
      "needs_background": "light"
     },
     "output_type": "display_data"
    }
   ],
   "source": [
    "plt.figure(figsize=(12, 4))\n",
    "#plt.plot(wl_um_check, tbd_tra1_erg_check/(1/ang2_1.to(u.steradian)),'-',color = '#1f77b4', label='Blackbody flux we simulated',linewidth=3)\n",
    "#plt.plot(sim_x, sim_y,'o',color = '#ff7f0e', label ='Data come from SIMBAD')\n",
    "plt.plot(wl_fit_nonh2o,pn_fit_nonh2o,linewidth=2.5,color = '#1f77b4',label=f'Albedo of H$_2$O' )\n",
    "plt.plot(wl_fit_nonco2,pn_fit_nonco2,linewidth=2.5,color = '#421eb4',label=f'Albedo of CO$_2$' )\n",
    "plt.plot(wl_fit_nonch4,pn_fit_nonch4,linewidth=2.5,color = '#ff7f0e',label=f'Albedo of CH$_4$' )\n",
    "plt.plot(wl_fit_nono2,pn_fit_nono2,linewidth=2.5,color = '#B2B41F',label=f'Albedo of O$_2$' )\n",
    "plt.hlines(y=0.15, xmin=0.5, xmax=5.6, colors='black', linestyles='--', lw=2.5)\n",
    "#plt.plot(wl_um_rem,pn_planet_elt_rem[9][0],linewidth=3,color = 'red' )\n",
    "#plt.errorbar(wl_um[:765], pn_15e_elt_nogas[:765],\n",
    "#             yerr = dnr[15][:765],\n",
    "#             fmt ='o')\n",
    "plt.legend()\n",
    "plt.xlabel(\"Wavelength(um)\",fontdict={ 'size'   : 16})\n",
    "plt.ylabel(\"$Albedo$\",fontdict={ 'size'   : 16})\n",
    "plt.xlim(0.5,5.6)\n",
    "#plt.ylim(0,0.5e3)\n",
    "#plt.title(\"ELT-R150-TRA1\")\n",
    "plt.xticks(size = 15)\n",
    "plt.yticks(size = 15)\n",
    "plt.legend(loc='upper center', bbox_to_anchor=(0.5, 1.2),\n",
    "          fancybox=True, shadow=True, ncol=5,prop={'size': 14})"
   ]
  },
  {
   "cell_type": "code",
   "execution_count": 8,
   "id": "2699c112",
   "metadata": {},
   "outputs": [
    {
     "data": {
      "text/plain": [
       "<matplotlib.legend.Legend at 0x16c69b6a0>"
      ]
     },
     "execution_count": 8,
     "metadata": {},
     "output_type": "execute_result"
    },
    {
     "data": {
      "image/png": "[encoded data removed]",
      "text/plain": [
       "<Figure size 864x288 with 1 Axes>"
      ]
     },
     "metadata": {
      "needs_background": "light"
     },
     "output_type": "display_data"
    }
   ],
   "source": [
    "plt.figure(figsize=(12, 4))\n",
    "#plt.plot(wl_um_check, tbd_tra1_erg_check/(1/ang2_1.to(u.steradian)),'-',color = '#1f77b4', label='Blackbody flux we simulated',linewidth=3)\n",
    "#plt.plot(sim_x, sim_y,'o',color = '#ff7f0e', label ='Data come from SIMBAD')\n",
    "plt.plot(wl_fit_nonh2o,pn_fit_nonh2o,linewidth=2.5,color = '#1f77b4',label=f'Albedo of H$_2$O' )\n",
    "#plt.plot(wl_fit_nonco2,pn_fit_nonco2,linewidth=2.5,color = '#421eb4',label=f'Albedo of CO$_2$' )\n",
    "#plt.plot(wl_fit_nonch4,pn_fit_nonch4,linewidth=2.5,color = '#ff7f0e',label=f'Albedo of CH$_4$' )\n",
    "#plt.plot(wl_fit_nono2,pn_fit_nono2,linewidth=2.5,color = '#B2B41F',label=f'Albedo of O$_2$' )\n",
    "plt.hlines(y=0.15, xmin=0.5, xmax=5.6, colors='black', linestyles='--', lw=2.5)\n",
    "#plt.plot(wl_um_rem,pn_planet_elt_rem[9][0],linewidth=3,color = 'red' )\n",
    "#plt.errorbar(wl_um[:765], pn_15e_elt_nogas[:765],\n",
    "#             yerr = dnr[15][:765],\n",
    "#             fmt ='o')\n",
    "plt.legend()\n",
    "plt.xlabel(\"Wavelength(um)\",fontdict={ 'size'   : 16})\n",
    "plt.ylabel(\"$Albedo$\",fontdict={ 'size'   : 16})\n",
    "plt.xlim(0.5,5.6)\n",
    "#plt.ylim(0,0.5e3)\n",
    "#plt.title(\"ELT-R150-TRA1\")\n",
    "plt.xticks(size = 15)\n",
    "plt.yticks(size = 15)\n",
    "plt.legend(loc='upper center', bbox_to_anchor=(0.5, 1.2),\n",
    "          fancybox=True, shadow=True, ncol=5,prop={'size': 14})"
   ]
  },
  {
   "cell_type": "code",
   "execution_count": null,
   "id": "77d0c959",
   "metadata": {},
   "outputs": [],
   "source": []
  },
  {
   "cell_type": "code",
   "execution_count": 9,
   "id": "f7cebfa5",
   "metadata": {},
   "outputs": [
    {
     "data": {
      "text/plain": [
       "array([101, 102, 107, 108, 109, 110, 111, 112, 113, 114, 138, 139, 140,\n",
       "       141, 142, 143, 144, 145, 167, 169, 170, 171, 172, 173, 174, 175,\n",
       "       176, 177, 178, 179, 180, 181, 182, 183, 184, 185, 186, 187, 188,\n",
       "       189, 218, 219, 220, 221, 222, 223, 224, 225, 226, 227, 228, 229,\n",
       "       230, 231, 232, 233, 234, 235, 236, 237, 238, 239, 269, 270, 271,\n",
       "       272, 273, 274, 275, 276, 277, 278, 279, 280, 281, 282, 283, 284,\n",
       "       285, 286, 287, 288, 289, 290, 291, 292, 293, 294, 295, 296, 297,\n",
       "       298, 299, 300, 301, 302, 303, 304, 305, 306, 307, 308, 309, 310,\n",
       "       311, 312, 313, 314, 315, 316, 317, 318, 319, 320, 321, 322, 323,\n",
       "       324, 325, 326, 327, 328, 329, 330, 332, 384, 387, 388, 390, 391,\n",
       "       392, 393, 394, 395, 396, 397, 398, 399, 400, 401, 402, 403, 404,\n",
       "       405, 406, 407, 408, 409, 410, 411, 412, 413, 414, 415, 416, 417,\n",
       "       418, 419, 420, 421, 422, 423, 424, 425, 426, 427, 428, 429])"
      ]
     },
     "execution_count": 9,
     "metadata": {},
     "output_type": "execute_result"
    }
   ],
   "source": [
    "np.where(np.array(pn_fit_nonh2o)>0.15)[0]"
   ]
  },
  {
   "cell_type": "code",
   "execution_count": 10,
   "id": "539afd91",
   "metadata": {},
   "outputs": [
    {
     "name": "stdout",
     "output_type": "stream",
     "text": [
      "ratio h2o: 0.8636881402666334\n",
      "ratio ch4: 0.7349604553073901\n",
      "ratio co2: 0.7879204933347399\n",
      "ratio o2: 0.6751752757895115\n"
     ]
    }
   ],
   "source": [
    "ratio_h2o = np.sum(np.array(pn_fit_nonh2o)[np.where(np.array(pn_fit_nonh2o)>0.15)[0]]) / (np.sum (pn_fit_nonh2o))\n",
    "ratio_ch4 = np.sum(np.array(pn_fit_nonch4)[np.where(np.array(pn_fit_nonch4)>0.15)[0]]) / (np.sum (pn_fit_nonch4))\n",
    "ratio_co2 = np.sum(np.array(pn_fit_nonco2)[np.where(np.array(pn_fit_nonco2)>0.15)[0]]) / (np.sum (pn_fit_nonco2))\n",
    "ratio_o2 = np.sum(np.array(pn_fit_nono2)[np.where(np.array(pn_fit_nono2)>0.15)[0]]) / (np.sum (pn_fit_nono2))\n",
    "print(\"ratio h2o:\",ratio_h2o)\n",
    "print(\"ratio ch4:\",ratio_ch4)\n",
    "print(\"ratio co2:\",ratio_co2)\n",
    "print(\"ratio o2:\",ratio_o2)"
   ]
  },
  {
   "cell_type": "code",
   "execution_count": 11,
   "id": "9aa5a9bc",
   "metadata": {},
   "outputs": [
    {
     "data": {
      "text/plain": [
       "0.2345639088254312"
      ]
     },
     "execution_count": 11,
     "metadata": {},
     "output_type": "execute_result"
    }
   ],
   "source": [
    "1-(ratio_h2o +ratio_ch4 +ratio_co2 +ratio_o2 )/4"
   ]
  },
  {
   "cell_type": "code",
   "execution_count": 12,
   "id": "c8ffd06a",
   "metadata": {},
   "outputs": [
    {
     "data": {
      "text/plain": [
       "0.8636881402666334"
      ]
     },
     "execution_count": 12,
     "metadata": {},
     "output_type": "execute_result"
    }
   ],
   "source": [
    "np.sum(np.array(pn_fit_nonh2o)[np.where(np.array(pn_fit_nonh2o)>0.15)[0]]) / (np.sum (pn_fit_nonh2o))"
   ]
  },
  {
   "cell_type": "code",
   "execution_count": null,
   "id": "d2f7c26c",
   "metadata": {},
   "outputs": [],
   "source": []
  },
  {
   "cell_type": "code",
   "execution_count": null,
   "id": "bc3136da",
   "metadata": {},
   "outputs": [],
   "source": [
    "ind_h2o=np.where(np.array(pn_fit_nonh2o)>0.15)[0]"
   ]
  },
  {
   "cell_type": "code",
   "execution_count": null,
   "id": "807b5594",
   "metadata": {},
   "outputs": [
    {
     "data": {
      "text/plain": [
       "array([0.90027514, 0.9028389 , 0.93192996, 0.93568416, 0.94308162,\n",
       "       0.94432673, 0.9496931 , 0.95692144, 0.96077853, 0.96649651,\n",
       "       1.11520409, 1.1227947 , 1.12541929, 1.12975002, 1.13608378,\n",
       "       1.14435393, 1.14982399, 1.1589758 , 1.32012613, 1.33132911,\n",
       "       1.33599069, 1.34850771, 1.35714558, 1.36468821, 1.36859655,\n",
       "       1.38076397, 1.38388642, 1.39253285, 1.40073975, 1.40728952,\n",
       "       1.41964729, 1.43120044, 1.43778339, 1.4456377 , 1.45060933,\n",
       "       1.46033828, 1.46963834, 1.47785381, 1.48671416, 1.49141491,\n",
       "       1.76597094, 1.78126509, 1.78481233, 1.80119014, 1.80625708,\n",
       "       1.82055819, 1.83127922, 1.83995656, 1.85403775, 1.85978857,\n",
       "       1.87708776, 1.8841331 , 1.89026016, 1.90301664, 1.9137561 ,\n",
       "       1.92870404, 1.93657621, 1.94486112, 1.96335394, 1.97157635,\n",
       "       1.97992437, 1.99018113, 2.37821263, 2.39150165, 2.4069756 ,\n",
       "       2.41614886, 2.43544705, 2.44610837, 2.45134645, 2.47227455,\n",
       "       2.4842523 , 2.4946562 , 2.51640597, 2.53635891, 2.5509545 ,\n",
       "       2.56133694, 2.57355063, 2.59469742, 2.60565985, 2.62052751,\n",
       "       2.63064791, 2.65256924, 2.66718863, 2.67947515, 2.69386443,\n",
       "       2.71121363, 2.72038104, 2.74029768, 2.75507068, 2.77065689,\n",
       "       2.78821173, 2.80614917, 2.81512546, 2.8352526 , 2.8544784 ,\n",
       "       2.8717046 , 2.88801049, 2.90087335, 2.92355165, 2.94358631,\n",
       "       2.95359386, 2.97111716, 2.99684155, 3.009309  , 3.02233629,\n",
       "       3.05202994, 3.05458201, 3.08171728, 3.08961806, 3.11127069,\n",
       "       3.12708582, 3.14651498, 3.17323917, 3.19175693, 3.20937017,\n",
       "       3.23003192, 3.24708619, 3.26327609, 3.27186835, 3.29953564,\n",
       "       3.3194706 , 3.33951831, 3.36331723, 3.37153625, 3.40692708,\n",
       "       4.62592908, 4.68133775, 4.72809267, 4.78446063, 4.79063393,\n",
       "       4.84295006, 4.85323132, 4.89885963, 4.90795979, 4.95827946,\n",
       "       4.97677495, 5.00267929, 5.02038938, 5.06021943, 5.08271214,\n",
       "       5.11511558, 5.14800966, 5.17285464, 5.2137984 , 5.23566148,\n",
       "       5.27653213, 5.29230274, 5.34527817, 5.34956906, 5.38060486,\n",
       "       5.42229529, 5.4642208 , 5.4789397 , 5.52304262, 5.55686047,\n",
       "       5.57854578, 5.61611136, 5.6413863 , 5.67575913, 5.7097506 ,\n",
       "       5.74796181, 5.76923875, 5.82302398, 5.83053966, 5.88300242,\n",
       "       5.89792719, 5.93485915, 5.99064293])"
      ]
     },
     "execution_count": 22,
     "metadata": {},
     "output_type": "execute_result"
    }
   ],
   "source": [
    "(np.array(wl_fit_nonh2o)[ind_h2o])"
   ]
  },
  {
   "cell_type": "code",
   "execution_count": null,
   "id": "015fb209",
   "metadata": {},
   "outputs": [
    {
     "data": {
      "text/plain": [
       "[<matplotlib.lines.Line2D at 0x16b07d490>]"
      ]
     },
     "execution_count": 17,
     "metadata": {},
     "output_type": "execute_result"
    },
    {
     "data": {
      "image/png": "[encoded data removed]",
      "text/plain": [
       "<Figure size 432x288 with 1 Axes>"
      ]
     },
     "metadata": {
      "needs_background": "light"
     },
     "output_type": "display_data"
    }
   ],
   "source": [
    "plt.plot(np.linspace(1,100,len(np.array(absor1.nm[255273:1079300]/1000)[ind_h2o])),np.array(absor1.nm[255273:1079300]/1000)[ind_h2o],'o')"
   ]
  },
  {
   "cell_type": "code",
   "execution_count": null,
   "id": "2214c728",
   "metadata": {},
   "outputs": [
    {
     "data": {
      "text/plain": [
       "<matplotlib.legend.Legend at 0x16851e820>"
      ]
     },
     "execution_count": 11,
     "metadata": {},
     "output_type": "execute_result"
    },
    {
     "name": "stderr",
     "output_type": "stream",
     "text": [
      "/usr/local/anaconda3/envs/surf_caltech/lib/python3.9/site-packages/IPython/core/pylabtools.py:151: UserWarning: Creating legend with loc=\"best\" can be slow with large amounts of data.\n",
      "  fig.canvas.print_figure(bytes_io, **kw)\n"
     ]
    },
    {
     "data": {
      "image/png": "[encoded data removed]",
      "text/plain": [
       "<Figure size 864x432 with 1 Axes>"
      ]
     },
     "metadata": {
      "needs_background": "light"
     },
     "output_type": "display_data"
    }
   ],
   "source": [
    "plt.figure(figsize=(12, 6))\n",
    "#plt.plot(wl_um_check, tbd_tra1_erg_check/(1/ang2_1.to(u.steradian)),'-',color = '#1f77b4', label='Blackbody flux we simulated',linewidth=3)\n",
    "#plt.plot(sim_x, sim_y,'o',color = '#ff7f0e', label ='Data come from SIMBAD')\n",
    "plt.plot(absor1.nm[255273:1079300]/1000,h2o_f[255273:],linewidth=3,color = '#1f77b4' )\n",
    "plt.plot(absor1.nm[255273:1079300]/1000,ch4_f[255273:],linewidth=3,color = 'red' )\n",
    "plt.plot(absor1.nm[255273:1079300]/1000,co2_f[255273:],linewidth=3,color = 'black' )\n",
    "plt.plot(absor1.nm[255273:1079300]/1000,o2_f[255273:],linewidth=3,color = 'blue' )\n",
    "plt.hlines(y=0.15, xmin=100, xmax=175, colors='aqua', linestyles='-', lw=2, label='Single Short Line')\n",
    "#plt.plot(wl_um_rem,pn_planet_elt_rem[9][0],linewidth=3,color = 'red' )\n",
    "#plt.errorbar(wl_um[:765], pn_15e_elt_nogas[:765],\n",
    "#             yerr = dnr[15][:765],\n",
    "#             fmt ='o')\n",
    "plt.legend()\n",
    "plt.xlabel(\"Wavelength(um)\",fontdict={ 'size'   : 16})\n",
    "plt.ylabel(\"$PN$\",fontdict={ 'size'   : 16})\n",
    "plt.xlim(0.5,5.6)\n",
    "#plt.ylim(0,0.5e3)\n",
    "#plt.title(\"ELT-R150-TRA1\")\n",
    "plt.xticks(size = 15)\n",
    "plt.yticks(size = 15)\n",
    "plt.legend(prop={'size': 15})"
   ]
  },
  {
   "cell_type": "code",
   "execution_count": 6,
   "id": "f3520984",
   "metadata": {},
   "outputs": [],
   "source": [
    "f_ref_earth_fit =[]\n",
    "for i in range(len(f_tra1_fum0)):\n",
    "\n",
    "    f_ref_earth_fit.append(np.interp(absor1.nm[:1079300]/1000,f_traAng[i],f_tra1_fum0[i]))"
   ]
  },
  {
   "cell_type": "code",
   "execution_count": 7,
   "id": "09b2763b",
   "metadata": {},
   "outputs": [],
   "source": [
    "Flux_surface = []\n",
    "for i in range(len(f_ref_earth_fit)):\n",
    "    Flux_surface.append((f_ref_earth_fit[i][1:] * np.diff(absor1.nm[:1079300]/1000) * u.um).to(u.W/u.m**2))"
   ]
  },
  {
   "cell_type": "code",
   "execution_count": 8,
   "id": "35945d05",
   "metadata": {},
   "outputs": [],
   "source": [
    "df = (pts.SRadiusSun * const.R_sun / (pts.SMAAU * const.au))**2\n",
    "\n",
    "f_ref_p = np.array(Flux_surface)* np.array(df).reshape(-1,1)\n",
    "f_ref_earth = f_ref_p* np.pi * np.array(((pts.RadiusEar * const.R_earth)**2 / (4 * np.pi * (pts.DistancePC * const.pc)**2))).reshape(-1,1)\n",
    "f_ref_earth_fit = f_ref_earth \n",
    "\n",
    "modern_earth_abd_fit = np.array(my_list_norabd[1:1079300])*0.3\n",
    "f_ref_planet_earth_fit = [i * modern_earth_abd_fit for i in f_ref_earth_fit] #w/m2\n",
    "flux_tot = np.array(f_ref_planet_earth_fit)+np.array(Flux_tbd_planet_earth)\n",
    "wl_um_check = np.linspace(0.5,6,825) * u.um\n",
    "\n",
    "Range_min=wl_um_check-np.diff(wl_um_check)[1]*0.5\n",
    "Range_max=wl_um_check+np.diff(wl_um_check)[1]*0.5\n",
    "bin_range=[]\n",
    "for i in range(len(wl_um_check)):\n",
    "    bin_range.append(np.where((absor1.nm[1:1079300]/1000 < Range_max[i]/u.um) & (absor1.nm[1:1079300]/1000 > Range_min[i]/u.um)))\n",
    "flux_bin = [[],[],[],[],[],[],[],[],[],[],[],[],[],[],[],[]]#W/m**2\n",
    "for a in range(len(flux_tot)):\n",
    "    for i in range(len(bin_range)):\n",
    "        flux_bin[a].append(np.sum(flux_tot[a][bin_range[i]]))\n",
    "        \n",
    "\n",
    "# NO GAS\n",
    "my_list_Noabd = alb_nogas*0+1\n",
    "tbd_planet_no=[]\n",
    "\n",
    "for i in range(len(pts.Teq)):\n",
    "    tbd_planet_no.append(np.array(my_list_Noabd[:1079300]) * 2 * const.h *const.c**2 / ((wl_um2)**5 * (np.e**(const.c * const.h / (wl_um2 *const.k_B * pts.Teq[i] * u.K)) - 1)))\n",
    "tbd_planet_earth_no = []\n",
    "for i in range(len(tbd_planet_no)):\n",
    "    tbd_planet_earth_no.append((tbd_planet_no[i] * ste[i]).to(u.erg/(u.s * u.cm**2 * u.um)))\n",
    "Flux_tbd_planet_earth_no =[]\n",
    "for i in range(len(tbd_planet_earth_no)):\n",
    "    Flux_tbd_planet_earth_no.append((tbd_planet_earth_no[i][1:] * np.diff(wl_um2)).to(u.W/u.m**2))\n",
    "##\n",
    "modern_earth_abd_fit_no = np.array(my_list_norabd[1:1079300])*0 + 0.3\n",
    "f_ref_planet_earth_fit_no = [i * modern_earth_abd_fit_no for i in f_ref_earth_fit]\n",
    "flux_tot_no = np.array(f_ref_planet_earth_fit_no)+np.array(Flux_tbd_planet_earth_no)\n",
    "\n",
    "flux_bin_no = [[],[],[],[],[],[],[],[],[],[],[],[],[],[],[],[]]#W/m**2\n",
    "for a in range(len(flux_tot_no)):\n",
    "    for i in range(len(bin_range)):\n",
    "        flux_bin_no[a].append(np.sum(flux_tot_no[a][bin_range[i]]))"
   ]
  },
  {
   "cell_type": "markdown",
   "id": "ab9e01c5",
   "metadata": {},
   "source": [
    "---\n",
    "\n",
    "# Star"
   ]
  },
  {
   "cell_type": "code",
   "execution_count": 9,
   "id": "04d32c30",
   "metadata": {},
   "outputs": [],
   "source": [
    "import numpy as np\n",
    "import pandas as pd\n",
    "import matplotlib.pyplot as plt\n",
    "from astropy import units as u\n",
    "from astropy import constants as const\n",
    "from astropy.nddata import NDData"
   ]
  },
  {
   "cell_type": "code",
   "execution_count": 10,
   "id": "da8754ac",
   "metadata": {},
   "outputs": [],
   "source": [
    "h = const.h\n",
    "wl_um = np.linspace(0.5,6,825) * u.um\n",
    "c = const.c #unit:m/s\n",
    "wl_m = (wl_um).to(u.m)\n",
    "pe_1 = h * c / (wl_um).to(u.um)\n",
    "wl_um_check = np.linspace(0.5,6,825)*u.um"
   ]
  },
  {
   "cell_type": "code",
   "execution_count": 11,
   "id": "c5410217",
   "metadata": {},
   "outputs": [],
   "source": [
    "df_s = (pts.SRadiusSun * const.R_sun / (pts.DistancePC * const.pc))**2\n",
    "f_s = np.array(Flux_surface)*np.array(df_s).reshape(-1,1)\n",
    "f_s_fit = f_s \n",
    "flux_bin_s = [[],[],[],[],[],[],[],[],[],[],[],[],[],[],[],[]]#W/m**2\n",
    "for a in range(len(f_s_fit)):\n",
    "    for i in range(len(bin_range)):\n",
    "        flux_bin_s[a].append(np.sum(f_s_fit[a][bin_range[i]]))"
   ]
  },
  {
   "cell_type": "code",
   "execution_count": 12,
   "id": "ad3f2965",
   "metadata": {},
   "outputs": [],
   "source": [
    "R = 150.0 # here we set Reseolution = 1000\n",
    "t = 60*60.0 *u.s # here we set time = 1h with unit:s\n",
    "S = (3930 * 0.5)**2 * np.pi *u.cm * u.cm #here we set diameter as the first diameter with unit:cm"
   ]
  },
  {
   "cell_type": "code",
   "execution_count": 13,
   "id": "0ddd82e2",
   "metadata": {},
   "outputs": [],
   "source": [
    "pn_0_elt=(np.array(flux_bin_s[0])*u.W/u.m**2 *S*t*wl_um_check/(u.um*pe_1)).to(u.m/u.m)\n",
    "pn_1_elt=(np.array(flux_bin_s[1])*u.W/u.m**2 *S*t*wl_um_check/(u.um*pe_1)).to(u.m/u.m)\n",
    "pn_2_elt=(np.array(flux_bin_s[2])*u.W/u.m**2 *S*t*wl_um_check/(u.um*pe_1)).to(u.m/u.m)\n",
    "pn_3_elt=(np.array(flux_bin_s[3])*u.W/u.m**2 *S*t*wl_um_check/(u.um*pe_1)).to(u.m/u.m)\n",
    "pn_4_elt=(np.array(flux_bin_s[4])*u.W/u.m**2 *S*t*wl_um_check/(u.um*pe_1)).to(u.m/u.m)\n",
    "pn_5_elt=(np.array(flux_bin_s[5])*u.W/u.m**2 *S*t*wl_um_check/(u.um*pe_1)).to(u.m/u.m)\n",
    "pn_6_elt=(np.array(flux_bin_s[6])*u.W/u.m**2 *S*t*wl_um_check/(u.um*pe_1)).to(u.m/u.m)\n",
    "pn_7_elt=(np.array(flux_bin_s[7])*u.W/u.m**2 *S*t*wl_um_check/(u.um*pe_1)).to(u.m/u.m)\n",
    "pn_8_elt=(np.array(flux_bin_s[8])*u.W/u.m**2 *S*t*wl_um_check/(u.um*pe_1)).to(u.m/u.m)\n",
    "pn_9_elt=(np.array(flux_bin_s[9])*u.W/u.m**2 *S*t*wl_um_check/(u.um*pe_1)).to(u.m/u.m)\n",
    "pn_10_elt=(np.array(flux_bin_s[10])*u.W/u.m**2 *S*t*wl_um_check/(u.um*pe_1)).to(u.m/u.m)\n",
    "pn_11_elt=(np.array(flux_bin_s[11])*u.W/u.m**2 *S*t*wl_um_check/(u.um*pe_1)).to(u.m/u.m)\n",
    "pn_12_elt=(np.array(flux_bin_s[12])*u.W/u.m**2 *S*t*wl_um_check/(u.um*pe_1)).to(u.m/u.m)\n",
    "pn_13_elt=(np.array(flux_bin_s[13])*u.W/u.m**2 *S*t*wl_um_check/(u.um*pe_1)).to(u.m/u.m)\n",
    "pn_14_elt=(np.array(flux_bin_s[14])*u.W/u.m**2 *S*t*wl_um_check/(u.um*pe_1)).to(u.m/u.m)\n",
    "pn_15_elt=(np.array(flux_bin_s[15])*u.W/u.m**2 *S*t*wl_um_check/(u.um*pe_1)).to(u.m/u.m)"
   ]
  },
  {
   "cell_type": "code",
   "execution_count": 14,
   "id": "9bec2633",
   "metadata": {},
   "outputs": [],
   "source": [
    "phe_1e=[i * u.W/u.m**2 for i in flux_bin] #new method, f_palnet"
   ]
  },
  {
   "cell_type": "code",
   "execution_count": 15,
   "id": "f5ce9a3b",
   "metadata": {},
   "outputs": [],
   "source": [
    "pn_0e_elt=(np.array(phe_1e[0])*u.W/u.m**2 *S*t*wl_um_check/(u.um*pe_1)).to(u.m/u.m)\n",
    "pn_1e_elt=(np.array(phe_1e[1])*u.W/u.m**2 *S*t*wl_um_check/(u.um*pe_1)).to(u.m/u.m)\n",
    "pn_2e_elt=(np.array(phe_1e[2])*u.W/u.m**2 *S*t*wl_um_check/(u.um*pe_1)).to(u.m/u.m)\n",
    "pn_3e_elt=(np.array(phe_1e[3])*u.W/u.m**2 *S*t*wl_um_check/(u.um*pe_1)).to(u.m/u.m)\n",
    "pn_4e_elt=(np.array(phe_1e[4])*u.W/u.m**2 *S*t*wl_um_check/(u.um*pe_1)).to(u.m/u.m)\n",
    "pn_5e_elt=(np.array(phe_1e[5])*u.W/u.m**2 *S*t*wl_um_check/(u.um*pe_1)).to(u.m/u.m)\n",
    "pn_6e_elt=(np.array(phe_1e[6])*u.W/u.m**2 *S*t*wl_um_check/(u.um*pe_1)).to(u.m/u.m)\n",
    "pn_7e_elt=(np.array(phe_1e[7])*u.W/u.m**2 *S*t*wl_um_check/(u.um*pe_1)).to(u.m/u.m)\n",
    "pn_8e_elt=(np.array(phe_1e[8])*u.W/u.m**2 *S*t*wl_um_check/(u.um*pe_1)).to(u.m/u.m)\n",
    "pn_9e_elt=(np.array(phe_1e[9])*u.W/u.m**2 *S*t*wl_um_check/(u.um*pe_1)).to(u.m/u.m)\n",
    "pn_10e_elt=(np.array(phe_1e[10])*u.W/u.m**2 *S*t*wl_um_check/(u.um*pe_1)).to(u.m/u.m)\n",
    "pn_11e_elt=(np.array(phe_1e[11])*u.W/u.m**2 *S*t*wl_um_check/(u.um*pe_1)).to(u.m/u.m)\n",
    "pn_12e_elt=(np.array(phe_1e[12])*u.W/u.m**2 *S*t*wl_um_check/(u.um*pe_1)).to(u.m/u.m)\n",
    "pn_13e_elt=(np.array(phe_1e[13])*u.W/u.m**2 *S*t*wl_um_check/(u.um*pe_1)).to(u.m/u.m)\n",
    "pn_14e_elt=(np.array(phe_1e[14])*u.W/u.m**2 *S*t*wl_um_check/(u.um*pe_1)).to(u.m/u.m)\n",
    "pn_15e_elt=(np.array(phe_1e[15])*u.W/u.m**2 *S*t*wl_um_check/(u.um*pe_1)).to(u.m/u.m)"
   ]
  },
  {
   "cell_type": "markdown",
   "id": "4248dacf",
   "metadata": {},
   "source": [
    "# Noise"
   ]
  },
  {
   "cell_type": "code",
   "execution_count": null,
   "id": "f7f9249b",
   "metadata": {},
   "outputs": [],
   "source": [
    "pe_1 = h * c / (wl_um).to(u.um) #energy of photon\n",
    "ste_atmo2 = ((2*u.um / (39.3*u.m))**2 * u.steradian).to(u.arcsec**2) #ste\n",
    "n_s = pd.read_csv('/Users/huihaoz/Documents/reseatch/radiance.dat.txt', comment = '#', delimiter='\\s+')\n",
    "wl_ns = (np.array(n_s[\"wavelength(nm)\"])*u.nm).to(u.um)\n",
    "bri_surface = np.array(n_s[\"ph/sec/arcsec^2/um/m^2\"])*u.ph/(u.m**2 * u.s * u.arcsec**2 *u.um)\n",
    "pe_ns = (h * c /wl_ns).to(u.J)/u.ph\n",
    "st = ste_atmo2\n",
    "f_n_s = ((bri_surface *pe_ns).to(u.W/(u.m**2 * u.um * u.steradian))*st*np.diff(wl_ns)[1]).to(u.W/u.m**2)\n",
    "bin_range_n = []\n",
    "\n",
    "for i in range(len(wl_um)):\n",
    "    bin_range_n.append(np.where((wl_ns/u.um < Range_max[i]/u.um) & (wl_ns/u.um > Range_min[i]/u.um)))\n",
    "f_r_n=[]\n",
    "for i in range(len(bin_range_n)):\n",
    "    f_r_n.append(np.sum(f_n_s[bin_range_n[i]]).value)\n",
    "pe_e = (h * c / wl_um).to(u.J)\n",
    "noif_sky =(np.array(f_r_n)*u.W/u.m**2)\n",
    "pnsky_1_elt=(noif_sky*S*t*wl_um/(pe_1*u.um)).to(u.m/u.m)"
   ]
  },
  {
   "cell_type": "code",
   "execution_count": null,
   "id": "909856bc",
   "metadata": {},
   "outputs": [],
   "source": [
    "trans = pd.read_csv('/Users/huihaoz/Documents/reseatch/transmission.dat.txt', comment = '#', delimiter='\\s+')\n",
    "trans_use = np.interp(wl_um/u.um,trans[\"wavelength(nm)\"]/1000,trans[\"transmission\"])"
   ]
  },
  {
   "cell_type": "code",
   "execution_count": null,
   "id": "f1949f17",
   "metadata": {},
   "outputs": [],
   "source": [
    "pn_pla_elt=[pn_0e_elt,pn_1e_elt,pn_2e_elt,pn_3e_elt,pn_4e_elt,pn_5e_elt,pn_6e_elt,pn_7e_elt,pn_8e_elt,pn_9e_elt,pn_10e_elt,pn_11e_elt,pn_12e_elt,pn_13e_elt,pn_14e_elt,pn_15e_elt]\n",
    "pn_star_elt=[pn_0_elt,pn_1_elt,pn_2_elt,pn_3_elt,pn_4_elt,pn_5_elt,pn_6_elt,pn_7_elt,pn_8_elt,pn_9_elt,pn_10_elt,pn_11_elt,pn_12_elt,pn_13_elt,pn_14_elt,pn_15_elt]\n",
    "pnsky_1_elt"
   ]
  },
  {
   "cell_type": "code",
   "execution_count": null,
   "id": "0d189689",
   "metadata": {},
   "outputs": [],
   "source": [
    "nor_sky = np.random.normal(pnsky_1_elt,pnsky_1_elt**(1/2))"
   ]
  },
  {
   "cell_type": "code",
   "execution_count": null,
   "id": "1183e9c4",
   "metadata": {},
   "outputs": [],
   "source": [
    "modified_numbers = [0 if i < 0.01 else i for i in trans_use]"
   ]
  },
  {
   "cell_type": "code",
   "execution_count": null,
   "id": "ad2539a5",
   "metadata": {},
   "outputs": [],
   "source": [
    "# given list\n",
    "\n",
    "# use list comprehension to find all indices of '0'\n",
    "indices_rem = [i for i, x in enumerate(modified_numbers[:765]) if x == 0]\n",
    "\n",
    "print(indices_rem)"
   ]
  },
  {
   "cell_type": "code",
   "execution_count": null,
   "id": "398f3bf9",
   "metadata": {},
   "outputs": [],
   "source": [
    "import numpy as np\n",
    "\n",
    "# given numpy array\n",
    "arr = np.array([1,2,0,2,4,0,0,0,2,3,4,5,0,5])\n",
    "\n",
    "# indices to be removed\n",
    "indices = np.array([2, 5, 6, 7, 12])\n",
    "\n",
    "# remove elements\n",
    "new_arr = np.delete(arr, indices)\n",
    "\n",
    "print(new_arr)"
   ]
  },
  {
   "cell_type": "code",
   "execution_count": null,
   "id": "69c1a82a",
   "metadata": {},
   "outputs": [],
   "source": [
    "#modified_numbers=trans_use"
   ]
  },
  {
   "cell_type": "code",
   "execution_count": null,
   "id": "7e654d67",
   "metadata": {},
   "outputs": [],
   "source": [
    "f_def = (np.array(pn_pla_elt)+np.array(pn_star_elt)*10**(-4))*modified_numbers + np.array(pnsky_1_elt)\n",
    "nor_sky = np.random.normal(pnsky_1_elt,pnsky_1_elt**(1/2))\n",
    "nor_trans = np.random.normal(trans_use,trans_use*0.01)\n",
    "nor_star = np.random.normal(np.array(pn_star_elt)*10**(-4),(np.array(pn_star_elt)*10**(-4))**(1/2))\n",
    "nor_total = np.random.normal((np.array(pn_star_elt)*10**(-4)*trans_use + np.array(pnsky_1_elt)),(np.array(pn_star_elt)*10**(-4)*trans_use + np.array(pnsky_1_elt))**(1/2))\n",
    "newnor_trans = np.array([10**(100) if i==0 else i for i in nor_trans])"
   ]
  },
  {
   "cell_type": "code",
   "execution_count": null,
   "id": "abb60f4d",
   "metadata": {},
   "outputs": [],
   "source": [
    "f_rem = np.array(pn_pla_elt)*modified_numbers  + np.random.normal(0,(f_def+np.array(pn_star_elt)*10**(-4) * modified_numbers + np.array(pnsky_1_elt))**(1/2))\n",
    "f_rem2 = f_rem/(modified_numbers)"
   ]
  },
  {
   "cell_type": "code",
   "execution_count": null,
   "id": "f2fed793",
   "metadata": {},
   "outputs": [],
   "source": [
    "f_rem3 = [[],[],[],[],[],[],[],[],[],[],[],[],[],[],[],[]]\n",
    "for i in range(len(f_rem )):\n",
    "    f_rem3[i].append([0 if x in {float('inf'), float('-inf')} else x for x in f_rem2[i]])"
   ]
  },
  {
   "cell_type": "code",
   "execution_count": null,
   "id": "784289fb",
   "metadata": {},
   "outputs": [],
   "source": [
    "wl_um_rem = np.delete(wl_um[:765], indices_rem)"
   ]
  },
  {
   "cell_type": "code",
   "execution_count": null,
   "id": "806c95c4",
   "metadata": {},
   "outputs": [],
   "source": [
    "from scipy.optimize import minimize\n",
    "\n",
    "\n",
    "class GPR:\n",
    "\n",
    "    def __init__(self, optimize=True):\n",
    "        self.is_fit = False\n",
    "        self.train_X, self.train_y = None, None\n",
    "        self.params = {\"l\":(1/150), \"sigma_f\": 0.01}\n",
    "        self.optimize = optimize\n",
    "\n",
    "    def fit(self, X, y):\n",
    "        # store train data\n",
    "        self.train_X = np.asarray(X)\n",
    "        self.train_y = np.asarray(y)\n",
    "        self.is_fit = True\n",
    "\n",
    "    def predict(self, X):\n",
    "        if not self.is_fit:\n",
    "            print(\"GPR Model not fit yet.\")\n",
    "            return\n",
    "\n",
    "        X = np.asarray(X)\n",
    "        Kff = self.kernel(self.train_X, self.train_X)  # (N, N)\n",
    "        Kyy = self.kernel(X, X)  # (k, k)\n",
    "        Kfy = self.kernel(self.train_X, X)  # (N, k)\n",
    "        Kff_inv = np.linalg.inv(Kff + 1e-8 * np.eye(len(self.train_X)))  # (N, N)\n",
    "        \n",
    "        mu = Kfy.T.dot(Kff_inv).dot(self.train_y)\n",
    "        cov = Kyy - Kfy.T.dot(Kff_inv).dot(Kfy)\n",
    "        return mu, cov\n",
    "\n",
    "    def kernel(self, x1, x2):\n",
    "        dist_matrix = np.sum(x1**2, 1).reshape(-1, 1) + np.sum(x2**2, 1) - 2 * np.dot(x1, x2.T)\n",
    "        return self.params[\"sigma_f\"] ** 2 * np.exp(-0.5 / self.params[\"l\"] ** 2 * dist_matrix)\n",
    "def y(x, noise_sigma=0.0):\n",
    "    x = np.asarray(x)\n",
    "    y = np.cos(x) + np.random.normal(0, noise_sigma, size=x.shape)\n",
    "    return y.tolist()"
   ]
  },
  {
   "cell_type": "code",
   "execution_count": null,
   "id": "a7c79064",
   "metadata": {},
   "outputs": [],
   "source": [
    "x = wl_um.reshape(-1, 1)/u.um\n",
    "train_X=x\n",
    "gp_f_pla = [[],[],[],[],[],[],[],[],[],[],[],[],[],[],[],[]]\n",
    "for i in range(len(f_rem3)):\n",
    "    y = np.array(f_rem3[i]).reshape(-1, 1)\n",
    "    train_y=y\n",
    "    test_X = x\n",
    "    gpr = GPR()\n",
    "    gpr.fit(train_X, train_y)\n",
    "    mu, cov = gpr.predict(test_X)\n",
    "    test_y = mu.ravel()\n",
    "    gp_f_pla[i].append(test_y)"
   ]
  },
  {
   "cell_type": "code",
   "execution_count": null,
   "id": "296eb9dd",
   "metadata": {},
   "outputs": [],
   "source": [
    "pn_planet_elt_rem = [[],[],[],[],[],[],[],[],[],[],[],[],[],[],[],[]]\n",
    "for i in range(len(pn_planet_elt_rem)):\n",
    "    p_list = [x if x >= 0 else 0 for x in gp_f_pla[i][0][:765]]\n",
    "    pn_planet_elt_rem[i].append(np.delete(p_list, indices_rem))\n",
    "    "
   ]
  },
  {
   "cell_type": "code",
   "execution_count": null,
   "id": "537065a8",
   "metadata": {},
   "outputs": [],
   "source": [
    "#f_rem3\n",
    "#x = wl_um.reshape(-1, 1)/u.um\n",
    "#train_X=x\n",
    "## Define the function y = sin(x)\n",
    "#y = new_lst\n",
    "#train_y=y\n",
    "#test_X = x\n",
    "\n",
    "#gpr = GPR()\n",
    "#gpr.fit(train_X, train_y)\n",
    "#mu, cov = gpr.predict(test_X)\n",
    "#test_y = mu.ravel()\n",
    "#uncertainty = 1.96 * np.sqrt(np.diag(cov))\n",
    "#plt.figure()\n",
    "#plt.title(\"l=%.2f sigma_f=%.2f\" % (gpr.params[\"l\"], gpr.params[\"sigma_f\"]))\n",
    "#plt.fill_between(test_X.ravel(), test_y + uncertainty, test_y - uncertainty, alpha=0.1)\n",
    "#plt.plot(test_X, test_y, label=\"predict\")\n",
    "#plt.scatter(train_X, train_y, label=\"train\", c=\"red\", marker=\"x\")\n",
    "#plt.xlim(0.8,0.9)\n",
    "#plt.legend()"
   ]
  },
  {
   "cell_type": "code",
   "execution_count": null,
   "id": "be279303",
   "metadata": {},
   "outputs": [],
   "source": [
    "c_1 = 10**(-4)\n",
    "n_0 = (pn_0e_elt+c_1*pn_0_elt+pnsky_1_elt)**(1/2)\n",
    "n_1 = (pn_1e_elt+c_1*pn_1_elt+pnsky_1_elt)**(1/2)\n",
    "n_2 = (pn_2e_elt+c_1*pn_2_elt+pnsky_1_elt)**(1/2)\n",
    "n_3 = (pn_3e_elt+c_1*pn_3_elt+pnsky_1_elt)**(1/2)\n",
    "n_4 = (pn_4e_elt+c_1*pn_4_elt+pnsky_1_elt)**(1/2)\n",
    "n_5 = (pn_5e_elt+c_1*pn_5_elt+pnsky_1_elt)**(1/2)\n",
    "n_6 = (pn_6e_elt+c_1*pn_6_elt+pnsky_1_elt)**(1/2)\n",
    "n_7 = (pn_7e_elt+c_1*pn_7_elt+pnsky_1_elt)**(1/2)\n",
    "n_8 = (pn_8e_elt+c_1*pn_8_elt+pnsky_1_elt)**(1/2)\n",
    "n_9 = (pn_9e_elt+c_1*pn_9_elt+pnsky_1_elt)**(1/2)\n",
    "n_10 = (pn_10e_elt+c_1*pn_10_elt+pnsky_1_elt)**(1/2)\n",
    "n_11 = (pn_11e_elt+c_1*pn_11_elt+pnsky_1_elt)**(1/2)\n",
    "n_12 = (pn_12e_elt+c_1*pn_12_elt+pnsky_1_elt)**(1/2)\n",
    "n_13 = (pn_13e_elt+c_1*pn_13_elt+pnsky_1_elt)**(1/2)\n",
    "n_14 = (pn_14e_elt+c_1*pn_14_elt+pnsky_1_elt)**(1/2)\n",
    "n_15 = (pn_15e_elt+c_1*pn_15_elt+pnsky_1_elt)**(1/2)"
   ]
  },
  {
   "cell_type": "markdown",
   "id": "2fd8c43a",
   "metadata": {},
   "source": [
    "# No gas"
   ]
  },
  {
   "cell_type": "code",
   "execution_count": null,
   "id": "cb40df65",
   "metadata": {},
   "outputs": [],
   "source": [
    "phe_1e_nogas=[i * u.W/u.m**2 for i in flux_bin_no] #changed"
   ]
  },
  {
   "cell_type": "code",
   "execution_count": null,
   "id": "9078cb23",
   "metadata": {
    "scrolled": false
   },
   "outputs": [],
   "source": [
    "pn_0e_elt_nogas=(np.array(phe_1e_nogas[0])*u.W/u.m**2 *S*t*wl_um_check/(u.um*pe_1)).to(u.m/u.m)\n",
    "pn_1e_elt_nogas=(np.array(phe_1e_nogas[1])*u.W/u.m**2 *S*t*wl_um_check/(u.um*pe_1)).to(u.m/u.m)\n",
    "pn_2e_elt_nogas=(np.array(phe_1e_nogas[2])*u.W/u.m**2 *S*t*wl_um_check/(u.um*pe_1)).to(u.m/u.m)\n",
    "pn_3e_elt_nogas=(np.array(phe_1e_nogas[3])*u.W/u.m**2 *S*t*wl_um_check/(u.um*pe_1)).to(u.m/u.m)\n",
    "pn_4e_elt_nogas=(np.array(phe_1e_nogas[4])*u.W/u.m**2 *S*t*wl_um_check/(u.um*pe_1)).to(u.m/u.m)\n",
    "pn_5e_elt_nogas=(np.array(phe_1e_nogas[5])*u.W/u.m**2 *S*t*wl_um_check/(u.um*pe_1)).to(u.m/u.m)\n",
    "pn_6e_elt_nogas=(np.array(phe_1e_nogas[6])*u.W/u.m**2 *S*t*wl_um_check/(u.um*pe_1)).to(u.m/u.m)\n",
    "pn_7e_elt_nogas=(np.array(phe_1e_nogas[7])*u.W/u.m**2 *S*t*wl_um_check/(u.um*pe_1)).to(u.m/u.m)\n",
    "pn_8e_elt_nogas=(np.array(phe_1e_nogas[8])*u.W/u.m**2 *S*t*wl_um_check/(u.um*pe_1)).to(u.m/u.m)\n",
    "pn_9e_elt_nogas=(np.array(phe_1e_nogas[9])*u.W/u.m**2 *S*t*wl_um_check/(u.um*pe_1)).to(u.m/u.m)\n",
    "pn_10e_elt_nogas=(np.array(phe_1e_nogas[10])*u.W/u.m**2 *S*t*wl_um_check/(u.um*pe_1)).to(u.m/u.m)\n",
    "pn_11e_elt_nogas=(np.array(phe_1e_nogas[11])*u.W/u.m**2 *S*t*wl_um_check/(u.um*pe_1)).to(u.m/u.m)\n",
    "pn_12e_elt_nogas=(np.array(phe_1e_nogas[12])*u.W/u.m**2 *S*t*wl_um_check/(u.um*pe_1)).to(u.m/u.m)\n",
    "pn_13e_elt_nogas=(np.array(phe_1e_nogas[13])*u.W/u.m**2 *S*t*wl_um_check/(u.um*pe_1)).to(u.m/u.m)\n",
    "pn_14e_elt_nogas=(np.array(phe_1e_nogas[14])*u.W/u.m**2 *S*t*wl_um_check/(u.um*pe_1)).to(u.m/u.m)\n",
    "pn_15e_elt_nogas=(np.array(phe_1e_nogas[15])*u.W/u.m**2 *S*t*wl_um_check/(u.um*pe_1)).to(u.m/u.m)"
   ]
  },
  {
   "cell_type": "code",
   "execution_count": null,
   "id": "09fa1bf8",
   "metadata": {},
   "outputs": [],
   "source": [
    "dn = np.array([pn_0e_elt_nogas-pn_0e_elt,pn_1e_elt_nogas-pn_1e_elt,pn_2e_elt_nogas-pn_2e_elt,pn_3e_elt_nogas-pn_3e_elt,pn_4e_elt_nogas-pn_4e_elt,pn_5e_elt_nogas-pn_5e_elt,pn_6e_elt_nogas-pn_6e_elt,pn_7e_elt_nogas-pn_7e_elt,pn_8e_elt_nogas-pn_8e_elt,pn_9e_elt_nogas-pn_9e_elt,pn_10e_elt_nogas-pn_10e_elt,pn_11e_elt_nogas-pn_11e_elt,pn_12e_elt_nogas-pn_12e_elt,pn_13e_elt_nogas-pn_13e_elt,pn_14e_elt_nogas-pn_14e_elt,pn_15e_elt_nogas-pn_15e_elt])\n",
    "dnr = np.array([n_0,n_1,n_2,n_3,n_4,n_5,n_6,n_7,n_8,n_9,n_10,n_11,n_12,n_13,n_14,n_15])"
   ]
  },
  {
   "cell_type": "markdown",
   "id": "132a20b3",
   "metadata": {},
   "source": [
    "# OK, all data debuged(above)\n",
    "---"
   ]
  },
  {
   "cell_type": "markdown",
   "id": "c6c1f13b",
   "metadata": {},
   "source": [
    "O2"
   ]
  },
  {
   "cell_type": "code",
   "execution_count": null,
   "id": "c7874597",
   "metadata": {},
   "outputs": [],
   "source": [
    "# Split a Python List into Chunks using For Loops\n",
    "our_list = np.array(absor1.albo2[:1079300])\n",
    "chunked_list = list()\n",
    "chunk_size = 251*5*2\n",
    "for i in range(0, len(our_list), chunk_size):\n",
    "    chunked_list.append(our_list[i:i+chunk_size])\n",
    "    \n",
    "our_listwl = np.array(absor1.nm[:1079300] / 1000)\n",
    "chunked_listwl = list()\n",
    "chunk_sizewl = 251*5*2\n",
    "for i in range(0, len(our_listwl), chunk_sizewl):\n",
    "    chunked_listwl.append(our_listwl[i:i+chunk_sizewl])\n",
    "    \n",
    "y_fit_index = np.linspace(0,429,430,dtype = int)\n",
    "wl_fit_index = [np.argmax(chunked_list[i]) for i in y_fit_index] #just for check\n",
    "\n",
    "pn_fit_non = [min(chunked_list[i]) for i in y_fit_index]\n",
    "wl_fit_non = [chunked_listwl[i][np.argmax(chunked_list[i])] for i in y_fit_index]\n",
    "interp_o2 = np.interp(wl_um/u.um,wl_fit_non,np.array(pn_fit_non)*0.5)\n",
    "baseline_feat = absor1.albo2[300000]*0.5*0.5\n",
    "ind_o2 = np.where((interp_o2[:765]<baseline_feat))"
   ]
  },
  {
   "cell_type": "code",
   "execution_count": null,
   "id": "cfe7d85a",
   "metadata": {},
   "outputs": [],
   "source": [
    "ind_o2 "
   ]
  },
  {
   "cell_type": "code",
   "execution_count": null,
   "id": "43697343",
   "metadata": {},
   "outputs": [],
   "source": [
    "snr_o2_total=[[],[],[],[],[],[],[],[],[],[],[],[],[],[],[],[]]\n",
    "for a in range(16):\n",
    "    snr_o2_total[a].append(np.sum((dn[a][ind_o2[0]]/dnr[a][ind_o2[0]])**2)**(1/2))"
   ]
  },
  {
   "cell_type": "code",
   "execution_count": null,
   "id": "951ef41d",
   "metadata": {},
   "outputs": [],
   "source": [
    "snr_o2_total"
   ]
  },
  {
   "cell_type": "markdown",
   "id": "35336700",
   "metadata": {},
   "source": [
    "H2O"
   ]
  },
  {
   "cell_type": "code",
   "execution_count": null,
   "id": "9339ce11",
   "metadata": {},
   "outputs": [],
   "source": [
    "# Split a Python List into Chunks using For Loops\n",
    "our_list = np.array(absor1.albH2O[:1079300])\n",
    "chunked_list = list()\n",
    "chunk_size = 251*5*2\n",
    "for i in range(0, len(our_list), chunk_size):\n",
    "    chunked_list.append(our_list[i:i+chunk_size])\n",
    "    \n",
    "our_listwl = np.array(absor1.nm[:1079300] / 1000)\n",
    "chunked_listwl = list()\n",
    "chunk_sizewl = 251*5*2\n",
    "for i in range(0, len(our_listwl), chunk_sizewl):\n",
    "    chunked_listwl.append(our_listwl[i:i+chunk_sizewl])\n",
    "    \n",
    "y_fit_index = np.linspace(0,429,430,dtype = int)\n",
    "wl_fit_index = [np.argmax(chunked_list[i]) for i in y_fit_index] #just for check\n",
    "\n",
    "pn_fit_non = [min(chunked_list[i]) for i in y_fit_index]\n",
    "wl_fit_non = [chunked_listwl[i][np.argmax(chunked_list[i])] for i in y_fit_index]\n",
    "interp_h2o = np.interp(wl_um/u.um,wl_fit_non,np.array(pn_fit_non)*0.5)\n",
    "ind_h2o = np.where((interp_h2o[:765]<baseline_feat))"
   ]
  },
  {
   "cell_type": "code",
   "execution_count": null,
   "id": "3d1c19dc",
   "metadata": {},
   "outputs": [],
   "source": [
    "ind_h2o"
   ]
  },
  {
   "cell_type": "code",
   "execution_count": null,
   "id": "7f524927",
   "metadata": {},
   "outputs": [],
   "source": [
    "snr_h2o_total=[[],[],[],[],[],[],[],[],[],[],[],[],[],[],[],[]]\n",
    "for a in range(16):\n",
    "    snr_h2o_total[a].append(np.sum((dn[a][ind_h2o[0]]/dnr[a][ind_h2o[0]])**2)**(1/2))"
   ]
  },
  {
   "cell_type": "code",
   "execution_count": null,
   "id": "62381cfd",
   "metadata": {},
   "outputs": [],
   "source": [
    "snr_h2o_total"
   ]
  },
  {
   "cell_type": "markdown",
   "id": "bd4561a8",
   "metadata": {},
   "source": [
    "CH4"
   ]
  },
  {
   "cell_type": "code",
   "execution_count": null,
   "id": "b24745bd",
   "metadata": {},
   "outputs": [],
   "source": [
    "# Split a Python List into Chunks using For Loops\n",
    "our_list = np.array(absor1.albch4[:1079300])\n",
    "chunked_list = list()\n",
    "chunk_size = 251*5*2\n",
    "for i in range(0, len(our_list), chunk_size):\n",
    "    chunked_list.append(our_list[i:i+chunk_size])\n",
    "    \n",
    "our_listwl = np.array(absor1.nm[:1079300] / 1000)\n",
    "chunked_listwl = list()\n",
    "chunk_sizewl = 251*5*2\n",
    "for i in range(0, len(our_listwl), chunk_sizewl):\n",
    "    chunked_listwl.append(our_listwl[i:i+chunk_sizewl])\n",
    "    \n",
    "y_fit_index = np.linspace(0,429,430,dtype = int)\n",
    "wl_fit_index = [np.argmax(chunked_list[i]) for i in y_fit_index] #just for check\n",
    "\n",
    "pn_fit_non = [min(chunked_list[i]) for i in y_fit_index]\n",
    "wl_fit_non = [chunked_listwl[i][np.argmax(chunked_list[i])] for i in y_fit_index]\n",
    "interp_ch4 = np.interp(wl_um/u.um,wl_fit_non,np.array(pn_fit_non)*0.5)\n",
    "ind_ch4 = np.where((interp_ch4[:765]<baseline_feat))"
   ]
  },
  {
   "cell_type": "code",
   "execution_count": null,
   "id": "e4039f1b",
   "metadata": {},
   "outputs": [],
   "source": [
    "interp_ch4[:765]"
   ]
  },
  {
   "cell_type": "code",
   "execution_count": null,
   "id": "2a8bc195",
   "metadata": {},
   "outputs": [],
   "source": [
    "ind_ch4"
   ]
  },
  {
   "cell_type": "code",
   "execution_count": null,
   "id": "c438462f",
   "metadata": {},
   "outputs": [],
   "source": [
    "snr_ch4_total=[[],[],[],[],[],[],[],[],[],[],[],[],[],[],[],[]]\n",
    "for a in range(16):\n",
    "    snr_ch4_total[a].append(np.sum((dn[a][ind_ch4[0]]/dnr[a][ind_ch4[0]])**2)**(1/2))"
   ]
  },
  {
   "cell_type": "code",
   "execution_count": null,
   "id": "e1b14158",
   "metadata": {},
   "outputs": [],
   "source": [
    "snr_ch4_total"
   ]
  },
  {
   "cell_type": "markdown",
   "id": "253a3fa4",
   "metadata": {},
   "source": [
    "CO2"
   ]
  },
  {
   "cell_type": "code",
   "execution_count": null,
   "id": "efc32027",
   "metadata": {},
   "outputs": [],
   "source": [
    "# Split a Python List into Chunks using For Loops\n",
    "our_list = np.array(absor1.albco2[:1079300])\n",
    "chunked_list = list()\n",
    "chunk_size = 251*5*2\n",
    "for i in range(0, len(our_list), chunk_size):\n",
    "    chunked_list.append(our_list[i:i+chunk_size])\n",
    "    \n",
    "our_listwl = np.array(absor1.nm[:1079300] / 1000)\n",
    "chunked_listwl = list()\n",
    "chunk_sizewl = 251*5*2\n",
    "for i in range(0, len(our_listwl), chunk_sizewl):\n",
    "    chunked_listwl.append(our_listwl[i:i+chunk_sizewl])\n",
    "    \n",
    "y_fit_index = np.linspace(0,429,430,dtype = int)\n",
    "wl_fit_index = [np.argmax(chunked_list[i]) for i in y_fit_index] #just for check\n",
    "\n",
    "pn_fit_non = [min(chunked_list[i]) for i in y_fit_index]\n",
    "wl_fit_non = [chunked_listwl[i][np.argmax(chunked_list[i])] for i in y_fit_index]\n",
    "interp_co2 = np.interp(wl_um/u.um,wl_fit_non,np.array(pn_fit_non)*0.5)\n",
    "ind_co2 = np.where((interp_co2[:765]<baseline_feat))"
   ]
  },
  {
   "cell_type": "code",
   "execution_count": null,
   "id": "882f8e3c",
   "metadata": {},
   "outputs": [],
   "source": [
    "snr_co2_total=[[],[],[],[],[],[],[],[],[],[],[],[],[],[],[],[]]\n",
    "for a in range(16):\n",
    "    snr_co2_total[a].append(np.sum((dn[a][ind_co2[0]]/dnr[a][ind_co2[0]])**2)**(1/2))"
   ]
  },
  {
   "cell_type": "code",
   "execution_count": null,
   "id": "3798046d",
   "metadata": {},
   "outputs": [],
   "source": [
    "snr_co2_total"
   ]
  },
  {
   "cell_type": "code",
   "execution_count": null,
   "id": "f812b023",
   "metadata": {},
   "outputs": [],
   "source": [
    "pts"
   ]
  },
  {
   "cell_type": "code",
   "execution_count": null,
   "id": "bb4f430b",
   "metadata": {},
   "outputs": [],
   "source": [
    "Total_modern = (np.array(snr_ch4_total)**2+np.array(snr_co2_total)**2+np.array(snr_h2o_total)**2+np.array(snr_o2_total)**2)**(1/2)"
   ]
  },
  {
   "cell_type": "code",
   "execution_count": null,
   "id": "a13a3aa2",
   "metadata": {
    "scrolled": true
   },
   "outputs": [],
   "source": [
    "Total_modern"
   ]
  },
  {
   "cell_type": "markdown",
   "id": "43a930cf",
   "metadata": {},
   "source": [
    "# Total_no_OVERLEAP(SNR from datafile)"
   ]
  },
  {
   "cell_type": "code",
   "execution_count": null,
   "id": "11cfd053",
   "metadata": {},
   "outputs": [],
   "source": [
    "our_list = np.array(absor1.totalb[:1079300])\n",
    "chunked_list = list()\n",
    "chunk_size = 251*5*2\n",
    "for i in range(0, len(our_list), chunk_size):\n",
    "    chunked_list.append(our_list[i:i+chunk_size])\n",
    "    \n",
    "our_listwl = np.array(absor1.nm[:1079300] / 1000)\n",
    "chunked_listwl = list()\n",
    "chunk_sizewl = 251*5*2\n",
    "for i in range(0, len(our_listwl), chunk_sizewl):\n",
    "    chunked_listwl.append(our_listwl[i:i+chunk_sizewl])\n",
    "    \n",
    "y_fit_index = np.linspace(0,429,430,dtype = int)\n",
    "wl_fit_index = [np.argmax(chunked_list[i]) for i in y_fit_index] #just for check\n",
    "\n",
    "pn_fit_non = [min(chunked_list[i]) for i in y_fit_index]\n",
    "wl_fit_non = [chunked_listwl[i][np.argmax(chunked_list[i])] for i in y_fit_index]\n",
    "interp_tot_no = np.interp(wl_um/u.um,wl_fit_non,np.array(pn_fit_non)*0.5)\n",
    "ind_tot_no = np.where((interp_tot_no[:765]<baseline_feat))"
   ]
  },
  {
   "cell_type": "code",
   "execution_count": null,
   "id": "51c94a84",
   "metadata": {},
   "outputs": [],
   "source": [
    "snr_total=[[],[],[],[],[],[],[],[],[],[],[],[],[],[],[],[]]\n",
    "for a in range(16):\n",
    "    snr_total[a].append(np.sum((dn[a][ind_tot_no[0]]/dnr[a][ind_tot_no[0]])**2)**(1/2))"
   ]
  },
  {
   "cell_type": "code",
   "execution_count": null,
   "id": "ef63939e",
   "metadata": {},
   "outputs": [],
   "source": [
    "snr_total"
   ]
  },
  {
   "cell_type": "raw",
   "id": "77dc16dc",
   "metadata": {},
   "source": [
    "fig_4 = plt.figure(figsize=(16,8))\n",
    "\n",
    "ax_4a = fig_4.add_subplot(1,5,1)\n",
    "ax_4a.plot(x_1, y_1, color='blue', label='m_1' )\n",
    "ax_4a.plot(x_2, y_2, color='red', label='m_2')\n",
    "ax_4a.set_ylabel('y'), label='m_1' )\n",
    "ax_4d.plot(x_2, y_2, color='red', label='m_2')\n",
    "ax_4d.set_ylabel('y')\n",
    "ax_4d.set_xlabel('x')\n",
    "ax_4d.set_title('orbit')\n",
    "ax_4d.legend()\n",
    "\n",
    "ax_4e = fig_4.add_subplot(1,5,5)\n",
    "ax_4e.plot(x_1, y_1, color='blue', label='m_1' )\n",
    "ax_4e.plot(x_2, y_2, color='red', label='m_2')\n",
    "ax_4e.set_ylabel('y')\n",
    "ax_4e.set_xlabel('x')\n",
    "ax_4e.set_title('orbit')\n",
    "ax_4e.legend()"
   ]
  },
  {
   "cell_type": "markdown",
   "id": "56b6e94f",
   "metadata": {},
   "source": [
    "# Check"
   ]
  },
  {
   "cell_type": "code",
   "execution_count": null,
   "id": "201d0b32",
   "metadata": {},
   "outputs": [],
   "source": [
    "def mag(f, f_0):\n",
    "    m=-2.5 * (np.log(f/f_0)/np.log(10))\n",
    "    return m"
   ]
  },
  {
   "cell_type": "code",
   "execution_count": null,
   "id": "44b5546c",
   "metadata": {},
   "outputs": [],
   "source": [
    "mag_pt=[]\n",
    "for i in range(len(flux_bin)):\n",
    "    mag_pt.append(mag(flux_bin[i][3],2.16e-8/75))"
   ]
  },
  {
   "cell_type": "code",
   "execution_count": null,
   "id": "5ae66a90",
   "metadata": {},
   "outputs": [],
   "source": [
    "mag_pt"
   ]
  },
  {
   "cell_type": "code",
   "execution_count": null,
   "id": "9b85e4e6",
   "metadata": {},
   "outputs": [],
   "source": [
    "mag(flux_bin_s[9][3], 2.16e-8/75)"
   ]
  },
  {
   "cell_type": "code",
   "execution_count": null,
   "id": "7448fd10",
   "metadata": {},
   "outputs": [],
   "source": [
    "pts[\"SNR_o2\"]=np.array(snr_o2_total)\n",
    "pts[\"SNR_ch4\"]=np.array(snr_ch4_total)\n",
    "pts[\"SNR_h2o\"]=np.array(snr_h2o_total)\n",
    "pts[\"SNR_co2\"]=np.array(snr_co2_total)\n",
    "pts[\"SNR_total\"]=np.array(snr_total)\n",
    "#pts[\"NO_OVER\"]=np.array(snr_total)\n",
    "pts[\"mag\"]=mag_pt\n",
    "\n",
    "\n"
   ]
  },
  {
   "cell_type": "code",
   "execution_count": null,
   "id": "8d4518f7",
   "metadata": {},
   "outputs": [],
   "source": [
    "pts"
   ]
  },
  {
   "cell_type": "markdown",
   "id": "1440e95d",
   "metadata": {},
   "source": [
    "# GJ 887 b\n",
    "\n",
    "run 1 first"
   ]
  },
  {
   "cell_type": "code",
   "execution_count": null,
   "id": "6aa9d63a",
   "metadata": {},
   "outputs": [],
   "source": [
    "pn_9e_elt=(np.array(phe_1e[9])*u.W/u.m**2 *S*t*wl_um_check/(u.um*pe_1)).to(u.m/u.m)"
   ]
  },
  {
   "cell_type": "code",
   "execution_count": null,
   "id": "ce61f9c1",
   "metadata": {},
   "outputs": [],
   "source": [
    "len(gp_f_pla[9][0])"
   ]
  },
  {
   "cell_type": "code",
   "execution_count": null,
   "id": "6559846c",
   "metadata": {},
   "outputs": [],
   "source": [
    "plt.figure(figsize=(12, 6))\n",
    "#plt.plot(wl_um_check, tbd_tra1_erg_check/(1/ang2_1.to(u.steradian)),'-',color = '#1f77b4', label='Blackbody flux we simulated',linewidth=3)\n",
    "#plt.plot(sim_x, sim_y,'o',color = '#ff7f0e', label ='Data come from SIMBAD')\n",
    "plt.plot(wl_um[:765],pn_9e_elt_nogas[:765],linewidth=3,color = '#1f77b4' )\n",
    "plt.plot(wl_um_rem,pn_planet_elt_rem[9][0],linewidth=3,color = 'red' )\n",
    "#plt.errorbar(wl_um[:765], pn_15e_elt_nogas[:765],\n",
    "#             yerr = dnr[15][:765],\n",
    "#             fmt ='o')\n",
    "plt.legend()\n",
    "plt.xlabel(\"Wavelength(um)\",fontdict={ 'size'   : 16})\n",
    "plt.ylabel(\"$PN$\",fontdict={ 'size'   : 16})\n",
    "#plt.xlim(0.9,5.6)\n",
    "#plt.ylim(0,0.5e3)\n",
    "#plt.title(\"ELT-R150-TRA1\")\n",
    "plt.xticks(size = 15)\n",
    "plt.yticks(size = 15)\n",
    "plt.legend(prop={'size': 15})"
   ]
  },
  {
   "cell_type": "code",
   "execution_count": null,
   "id": "552b1cd7",
   "metadata": {
    "scrolled": false
   },
   "outputs": [],
   "source": [
    "plt.figure(figsize=(12, 6))\n",
    "#plt.plot(wl_um_check, tbd_tra1_erg_check/(1/ang2_1.to(u.steradian)),'-',color = '#1f77b4', label='Blackbody flux we simulated',linewidth=3)\n",
    "#plt.plot(sim_x, sim_y,'o',color = '#ff7f0e', label ='Data come from SIMBAD')\n",
    "plt.plot(wl_um[:765],pn_9e_elt_nogas[:765],linewidth=3,color = '#1f77b4' )\n",
    "plt.plot(wl_um[:765],pn_9e_elt[:765],linewidth=3,color = 'red' )\n",
    "plt.legend()\n",
    "plt.xlabel(\"Wavelength(um)\",fontdict={ 'size'   : 16})\n",
    "plt.ylabel(\"$PN$\",fontdict={ 'size'   : 16})\n",
    "#plt.xlim(0.9,5.6)\n",
    "#plt.title(\"ELT-R150-TRA1\")\n",
    "plt.xticks(size = 15)\n",
    "plt.yticks(size = 15)\n",
    "plt.legend(prop={'size': 15})"
   ]
  },
  {
   "cell_type": "code",
   "execution_count": null,
   "id": "2a525757",
   "metadata": {},
   "outputs": [],
   "source": [
    "plt.figure(figsize=(12, 6))\n",
    "plt.plot(wl_um, dn[9] /n_9 )\n",
    "plt.plot(wl_um[ch4_tot_ind], dn[9][ch4_tot_ind] /n_9[ch4_tot_ind],'o',color = 'red', label ='Data come from SIMBAD',ms=3)\n",
    "plt.xlim(0.9,5)\n",
    "plt.ylim(0,50)\n"
   ]
  },
  {
   "cell_type": "code",
   "execution_count": null,
   "id": "c63a54c3",
   "metadata": {},
   "outputs": [],
   "source": [
    "np.sum((dn[9][ch4_tot_ind] /n_9[ch4_tot_ind])**2)**(0.5)"
   ]
  },
  {
   "cell_type": "code",
   "execution_count": null,
   "id": "4c5d58da",
   "metadata": {},
   "outputs": [],
   "source": [
    "plt.figure(figsize=(12, 6))\n",
    "plt.plot(wl_um, pn_14e_elt /n_14 )\n",
    "plt.plot(wl_um[result], pn_14e_elt[result] /n_14[result],'o',color = 'red', label ='Data come from SIMBAD',ms=3)"
   ]
  },
  {
   "cell_type": "code",
   "execution_count": null,
   "id": "b4219863",
   "metadata": {},
   "outputs": [],
   "source": [
    "plt.figure(figsize=(12, 6))\n",
    "#plt.plot(wl_um_check, tbd_tra1_erg_check/(1/ang2_1.to(u.steradian)),'-',color = '#1f77b4', label='Blackbody flux we simulated',linewidth=3)\n",
    "#plt.plot(sim_x, sim_y,'o',color = '#ff7f0e', label ='Data come from SIMBAD')\n",
    "plt.plot(wl_um[:765],pn_9_elt[:765],linewidth=3,color = 'red' )\n",
    "plt.legend()\n",
    "plt.xlabel(\"Wavelength(um)\",fontdict={ 'size'   : 16})\n",
    "plt.ylabel(\"$PN$\",fontdict={ 'size'   : 16})\n",
    "plt.xlim(0.9,5.6)\n",
    "#plt.title(\"ELT-R150-TRA1\")\n",
    "plt.xticks(size = 15)\n",
    "plt.yticks(size = 15)\n",
    "plt.legend(prop={'size': 15})"
   ]
  },
  {
   "cell_type": "code",
   "execution_count": null,
   "id": "ebcb48a5",
   "metadata": {},
   "outputs": [],
   "source": [
    "flux_bin_the = [[],[],[],[],[],[],[],[],[],[],[],[],[],[],[]]#W/m**2\n",
    "for a in range(len(Flux_tbd_planet_earth)):\n",
    "    for i in range(len(bin_range)):\n",
    "        flux_bin_the[a].append(np.sum(Flux_tbd_planet_earth[a][bin_range[i]].value))\n",
    "        \n",
    "        "
   ]
  },
  {
   "cell_type": "code",
   "execution_count": null,
   "id": "c3fc2bdb",
   "metadata": {},
   "outputs": [],
   "source": [
    "flux_bin_ref = [[],[],[],[],[],[],[],[],[],[],[],[],[],[],[]]#W/m**2\n",
    "for a in range(len(f_ref_planet_earth_fit)):\n",
    "    for i in range(len(bin_range)):\n",
    "        flux_bin_ref[a].append(np.sum(f_ref_planet_earth_fit[a][bin_range[i]]))"
   ]
  },
  {
   "cell_type": "code",
   "execution_count": null,
   "id": "41c2664f",
   "metadata": {},
   "outputs": [],
   "source": [
    "plt.figure(figsize=(12, 6))\n",
    "#plt.plot(wl_um_check, tbd_tra1_erg_check/(1/ang2_1.to(u.steradian)),'-',color = '#1f77b4', label='Blackbody flux we simulated',linewidth=3)\n",
    "#plt.plot(sim_x, sim_y,'o',color = '#ff7f0e', label ='Data come from SIMBAD')\n",
    "plt.plot(wl_um,flux_bin_ref[9],linewidth=3,color = '#1f77b4' )\n",
    "plt.legend()\n",
    "plt.xlabel(\"Wavelength(um)\",fontdict={ 'size'   : 16})\n",
    "plt.ylabel(\"$W/m2$\",fontdict={ 'size'   : 16})\n",
    "plt.xlim(0.9,5.6)\n",
    "#plt.title(\"ELT-R150-TRA1\")\n",
    "plt.xticks(size = 15)\n",
    "plt.yticks(size = 15)\n",
    "plt.legend(prop={'size': 15})"
   ]
  },
  {
   "cell_type": "code",
   "execution_count": null,
   "id": "85f1fe0b",
   "metadata": {},
   "outputs": [],
   "source": [
    "plt.figure(figsize=(12, 6))\n",
    "#plt.plot(wl_um_check, tbd_tra1_erg_check/(1/ang2_1.to(u.steradian)),'-',color = '#1f77b4', label='Blackbody flux we simulated',linewidth=3)\n",
    "#plt.plot(sim_x, sim_y,'o',color = '#ff7f0e', label ='Data come from SIMBAD')\n",
    "plt.plot(wl_um,flux_bin_the[9],linewidth=3,color = '#1f77b4' )\n",
    "plt.legend()\n",
    "plt.xlabel(\"Wavelength(um)\",fontdict={ 'size'   : 16})\n",
    "plt.ylabel(\"$W/m2$\",fontdict={ 'size'   : 16})\n",
    "plt.xlim(0.9,5.6)\n",
    "#plt.title(\"ELT-R150-TRA1\")\n",
    "plt.xticks(size = 15)\n",
    "plt.yticks(size = 15)\n",
    "plt.legend(prop={'size': 15})"
   ]
  },
  {
   "cell_type": "code",
   "execution_count": null,
   "id": "9c4970f3",
   "metadata": {},
   "outputs": [],
   "source": [
    "plt.figure(figsize=(12, 6))\n",
    "#plt.plot(wl_um_check, tbd_tra1_erg_check/(1/ang2_1.to(u.steradian)),'-',color = '#1f77b4', label='Blackbody flux we simulated',linewidth=3)\n",
    "#plt.plot(sim_x, sim_y,'o',color = '#ff7f0e', label ='Data come from SIMBAD')\n",
    "plt.plot(wl_um,(np.array(flux_bin_the[9])+np.array(flux_bin_ref[9])),linewidth=3,color = '#1f77b4' )\n",
    "plt.legend()\n",
    "plt.xlabel(\"Wavelength(um)\",fontdict={ 'size'   : 16})\n",
    "plt.ylabel(\"$W/m2$\",fontdict={ 'size'   : 16})\n",
    "plt.xlim(0.9,5.6)\n",
    "#plt.title(\"ELT-R150-TRA1\")\n",
    "plt.xticks(size = 15)\n",
    "plt.yticks(size = 15)\n",
    "plt.legend(prop={'size': 15})"
   ]
  },
  {
   "cell_type": "markdown",
   "id": "5b72b857",
   "metadata": {},
   "source": [
    "## STAR"
   ]
  },
  {
   "cell_type": "code",
   "execution_count": null,
   "id": "d7486ff5",
   "metadata": {},
   "outputs": [],
   "source": [
    "pts"
   ]
  },
  {
   "cell_type": "code",
   "execution_count": null,
   "id": "85b9376f",
   "metadata": {},
   "outputs": [],
   "source": [
    "pts[[\"Planet\",\"SNR_o2\",\"SNR_ch4\",\"SNR_h2o\",\"SNR_co2\",\"SNR_total\"]]"
   ]
  },
  {
   "cell_type": "code",
   "execution_count": null,
   "id": "da1c7d85",
   "metadata": {},
   "outputs": [],
   "source": [
    "len(f_s[1])"
   ]
  },
  {
   "cell_type": "code",
   "execution_count": null,
   "id": "becde7ca",
   "metadata": {},
   "outputs": [],
   "source": [
    "df_s = (pts.SRadiusSun * const.R_sun / (pts.DistancePC * const.pc))**2\n",
    "f_s = np.array(Flux_surface)*np.array(df_s).reshape(-1,1)\n",
    "f_s_fit = f_s \n",
    "flux_bin_s = [[],[],[],[],[],[],[],[],[],[],[],[],[],[],[]]#W/m**2\n",
    "for a in range(len(f_s_fit)):\n",
    "    for i in range(len(bin_range)):\n",
    "        flux_bin_s[a].append(np.sum(f_s_fit[a][bin_range[i]]))"
   ]
  },
  {
   "cell_type": "code",
   "execution_count": null,
   "id": "581d97f4",
   "metadata": {},
   "outputs": [],
   "source": [
    "plt.figure(figsize=(12, 6))\n",
    "#plt.plot(wl_um_check, tbd_tra1_erg_check/(1/ang2_1.to(u.steradian)),'-',color = '#1f77b4', label='Blackbody flux we simulated',linewidth=3)\n",
    "#plt.plot(sim_x, sim_y,'o',color = '#ff7f0e', label ='Data come from SIMBAD')\n",
    "plt.plot(wl_um,flux_bin_s[9],linewidth=3,color = '#1f77b4' )\n",
    "plt.legend()\n",
    "plt.xlabel(\"Wavelength(um)\",fontdict={ 'size'   : 16})\n",
    "plt.ylabel(\"$W/m2$\",fontdict={ 'size'   : 16})\n",
    "plt.xlim(0.9,5.6)\n",
    "#plt.title(\"ELT-R150-TRA1\")\n",
    "plt.xticks(size = 15)\n",
    "plt.yticks(size = 15)\n",
    "plt.legend(prop={'size': 15})"
   ]
  },
  {
   "cell_type": "code",
   "execution_count": null,
   "id": "a6fa5687",
   "metadata": {},
   "outputs": [],
   "source": [
    "#AT EARTH\n",
    "plt.figure(figsize=(12, 6))\n",
    "#plt.plot(wl_um_check, tbd_tra1_erg_check/(1/ang2_1.to(u.steradian)),'-',color = '#1f77b4', label='Blackbody flux we simulated',linewidth=3)\n",
    "#plt.plot(sim_x, sim_y,'o',color = '#ff7f0e', label ='Data come from SIMBAD')\n",
    "plt.plot(absor1.nm[1:1079300]/1000,f_s[9],linewidth=3,color = '#1f77b4' )\n",
    "plt.legend()\n",
    "plt.xlabel(\"Wavelength(um)\",fontdict={ 'size'   : 16})\n",
    "plt.ylabel(\"$W/m2$\",fontdict={ 'size'   : 16})\n",
    "plt.xlim(0.9,5.6)\n",
    "#plt.title(\"ELT-R150-TRA1\")\n",
    "plt.xticks(size = 15)\n",
    "plt.yticks(size = 15)\n",
    "plt.legend(prop={'size': 15})"
   ]
  },
  {
   "cell_type": "code",
   "execution_count": null,
   "id": "25401e4c",
   "metadata": {},
   "outputs": [],
   "source": [
    "#SURFACE\n",
    "plt.figure(figsize=(12, 6))\n",
    "#plt.plot(wl_um_check, tbd_tra1_erg_check/(1/ang2_1.to(u.steradian)),'-',color = '#1f77b4', label='Blackbody flux we simulated',linewidth=3)\n",
    "#plt.plot(sim_x, sim_y,'o',color = '#ff7f0e', label ='Data come from SIMBAD')\n",
    "plt.plot(f_traAng[9],f_tra1_fum0[9],linewidth=3,color = '#1f77b4' )\n",
    "plt.legend()\n",
    "plt.xlabel(\"Wavelength(um)\",fontdict={ 'size'   : 16})\n",
    "plt.ylabel(\"$erg/ s\\ cm^2\\ A$\",fontdict={ 'size'   : 16})\n",
    "plt.xlim(0.9,5.6)\n",
    "#plt.title(\"ELT-R150-TRA1\")\n",
    "plt.xticks(size = 15)\n",
    "plt.yticks(size = 15)\n",
    "plt.legend(prop={'size': 15})"
   ]
  },
  {
   "cell_type": "code",
   "execution_count": null,
   "id": "790a3e66",
   "metadata": {},
   "outputs": [],
   "source": [
    "\n",
    "plt.figure(figsize=(12, 6))\n",
    "#plt.plot(wl_um_check, tbd_tra1_erg_check/(1/ang2_1.to(u.steradian)),'-',color = '#1f77b4', label='Blackbody flux we simulated',linewidth=3)\n",
    "#plt.plot(sim_x, sim_y,'o',color = '#ff7f0e', label ='Data come from SIMBAD')\n",
    "plt.plot(wl_um,n_9,linewidth=3,color = '#1f77b4' )\n",
    "plt.legend()\n",
    "plt.xlabel(\"Wavelength(um)\",fontdict={ 'size'   : 16})\n",
    "plt.ylabel(\"$PN$\",fontdict={ 'size'   : 16})\n",
    "plt.xlim(0.9,5.6)\n",
    "#plt.ylim(0,0.00006)\n",
    "#plt.title(\"ELT-R150-TRA1\")\n",
    "plt.xticks(size = 15)\n",
    "plt.yticks(size = 15)\n",
    "plt.legend(prop={'size': 15})"
   ]
  },
  {
   "cell_type": "markdown",
   "id": "e8c487e9",
   "metadata": {},
   "source": [
    "# check contrast form 10-3 to 10-6"
   ]
  },
  {
   "cell_type": "code",
   "execution_count": null,
   "id": "c5eb921e",
   "metadata": {},
   "outputs": [],
   "source": [
    "n_9_3=(pn_9e_elt+10**(-3) *pn_9_elt+pnsky_1_elt)**(1/2)\n",
    "n_9_6=(pn_9e_elt+10**(-6) *pn_9_elt+pnsky_1_elt)**(1/2)\n",
    "n_9_5=(pn_9e_elt+10**(-5) *pn_9_elt+pnsky_1_elt)**(1/2)"
   ]
  },
  {
   "cell_type": "code",
   "execution_count": null,
   "id": "bd42536f",
   "metadata": {},
   "outputs": [],
   "source": [
    "print(\"SNR(h2o) with instrument contrast 10-3:\",np.sum((dn[9][ind_h2o]/n_9_3[ind_h2o])**2)**(1/2))\n",
    "print(\"SNR(h2o) with instrument contrast 10-5:\",np.sum((dn[9][ind_h2o]/n_9_5[ind_h2o])**2)**(1/2))\n",
    "print(\"SNR(h2o) with instrument contrast 10-6:\",np.sum((dn[9][ind_h2o]/n_9_6[ind_h2o])**2)**(1/2))"
   ]
  },
  {
   "cell_type": "code",
   "execution_count": null,
   "id": "bd3a7c6d",
   "metadata": {},
   "outputs": [],
   "source": [
    "print(\"SNR(ch4) with instrument contrast 10-3:\",np.sum((dn[9][ind_ch4]/n_9_3[ind_ch4])**2)**(1/2))\n",
    "print(\"SNR(ch4) with instrument contrast 10-5:\",np.sum((dn[9][ind_ch4]/n_9_5[ind_ch4])**2)**(1/2))\n",
    "print(\"SNR(ch4) with instrument contrast 10-6:\",np.sum((dn[9][ind_ch4]/n_9_6[ind_ch4])**2)**(1/2))"
   ]
  },
  {
   "cell_type": "code",
   "execution_count": null,
   "id": "dab392f4",
   "metadata": {},
   "outputs": [],
   "source": [
    "print(\"SNR(o2) with instrument contrast 10-3:\",np.sum((dn[9][ind_o2]/n_9_3[ind_o2])**2)**(1/2))\n",
    "print(\"SNR(o2) with instrument contrast 10-5:\",np.sum((dn[9][ind_o2]/n_9_5[ind_o2])**2)**(1/2))\n",
    "print(\"SNR(o2) with instrument contrast 10-6:\",np.sum((dn[9][ind_o2]/n_9_6[ind_o2])**2)**(1/2))"
   ]
  },
  {
   "cell_type": "code",
   "execution_count": null,
   "id": "382a6b86",
   "metadata": {},
   "outputs": [],
   "source": [
    "print(\"SNR(co2) with instrument contrast 10-3:\",np.sum((dn[9][ind_co2]/n_9_3[ind_co2])**2)**(1/2))\n",
    "print(\"SNR(co2) with instrument contrast 10-5:\",np.sum((dn[9][ind_co2]/n_9_5[ind_co2])**2)**(1/2))\n",
    "print(\"SNR(co2) with instrument contrast 10-6:\",np.sum((dn[9][ind_co2]/n_9_6[ind_co2])**2)**(1/2))"
   ]
  },
  {
   "cell_type": "code",
   "execution_count": null,
   "id": "ff75e550",
   "metadata": {},
   "outputs": [],
   "source": [
    "print(\"SNR(total) with instrument contrast 10-3:\",np.sum((dn[9][ind_tot_no]/n_9_3[ind_tot_no])**2)**(1/2))\n",
    "print(\"SNR(total) with instrument contrast 10-5:\",np.sum((dn[9][ind_tot_no]/n_9_5[ind_tot_no])**2)**(1/2))\n",
    "print(\"SNR(total) with instrument contrast 10-6:\",np.sum((dn[9][ind_tot_no]/n_9_6[ind_tot_no])**2)**(1/2))"
   ]
  },
  {
   "cell_type": "markdown",
   "id": "8d6a13df",
   "metadata": {},
   "source": [
    "# TRAPPIST-1"
   ]
  },
  {
   "cell_type": "code",
   "execution_count": null,
   "id": "5015ae71",
   "metadata": {},
   "outputs": [],
   "source": [
    "pts"
   ]
  },
  {
   "cell_type": "code",
   "execution_count": null,
   "id": "74200d89",
   "metadata": {},
   "outputs": [],
   "source": [
    "pts.DistancePC[14]*u.pc"
   ]
  },
  {
   "cell_type": "code",
   "execution_count": null,
   "id": "3f945553",
   "metadata": {},
   "outputs": [],
   "source": [
    "pts.RadiusEar[14]*u.R_earth"
   ]
  },
  {
   "cell_type": "code",
   "execution_count": null,
   "id": "91baa90c",
   "metadata": {},
   "outputs": [],
   "source": [
    "pts.SMAAU[14]*u.au"
   ]
  },
  {
   "cell_type": "code",
   "execution_count": null,
   "id": "895e76ec",
   "metadata": {},
   "outputs": [],
   "source": [
    "((pts.RadiusEar[14]*u.R_earth / (pts.SMAAU[14]*u.au))**2).to(u.m/u.m)"
   ]
  },
  {
   "cell_type": "markdown",
   "id": "4a33cfdc",
   "metadata": {},
   "source": [
    "## Sep"
   ]
  },
  {
   "cell_type": "markdown",
   "id": "a963c2ba",
   "metadata": {},
   "source": [
    "### arctan(a / D)"
   ]
  },
  {
   "cell_type": "code",
   "execution_count": null,
   "id": "4d5540c4",
   "metadata": {},
   "outputs": [],
   "source": [
    "np.arctan((pts.SMAAU[14]*u.au/(pts.DistancePC[14]*u.pc)).to(u.m/u.m)).to(u.arcsec)"
   ]
  },
  {
   "cell_type": "markdown",
   "id": "5ce7ce57",
   "metadata": {},
   "source": [
    "## Contrast"
   ]
  },
  {
   "cell_type": "code",
   "execution_count": null,
   "id": "b3140957",
   "metadata": {},
   "outputs": [],
   "source": [
    "((((pts.RadiusEar[14]*u.R_earth / (pts.SMAAU[14]*u.au))**2).to(u.m/u.m)))*0.3"
   ]
  },
  {
   "cell_type": "markdown",
   "id": "16be4cf0",
   "metadata": {},
   "source": [
    "# H"
   ]
  },
  {
   "cell_type": "code",
   "execution_count": null,
   "id": "3cc34d40",
   "metadata": {},
   "outputs": [],
   "source": [
    "np.arctan((pts.SMAAU[15]*u.au/(pts.DistancePC[15]*u.pc)).to(u.m/u.m)).to(u.arcsec)"
   ]
  },
  {
   "cell_type": "code",
   "execution_count": null,
   "id": "b3c56f0c",
   "metadata": {},
   "outputs": [],
   "source": [
    "((((pts.RadiusEar[15]*u.R_earth / (pts.SMAAU[15]*u.au))**2).to(u.m/u.m)))*0.3"
   ]
  },
  {
   "cell_type": "code",
   "execution_count": null,
   "id": "4c8b8e0f",
   "metadata": {},
   "outputs": [],
   "source": []
  }
 ],
 "metadata": {
  "kernelspec": {
   "display_name": "Python 3 (ipykernel)",
   "language": "python",
   "name": "python3"
  },
  "language_info": {
   "codemirror_mode": {
    "name": "ipython",
    "version": 3
   },
   "file_extension": ".py",
   "mimetype": "text/x-python",
   "name": "python",
   "nbconvert_exporter": "python",
   "pygments_lexer": "ipython3",
   "version": "3.9.12"
  }
 },
 "nbformat": 4,
 "nbformat_minor": 5
}
