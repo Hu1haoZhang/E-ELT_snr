{
 "cells": [
  {
   "cell_type": "code",
   "execution_count": 1,
   "id": "a9ae7237",
   "metadata": {
    "scrolled": true
   },
   "outputs": [
    {
     "name": "stderr",
     "output_type": "stream",
     "text": [
      "/var/folders/6t/cpjtlkn10wv603vnph9nr3sh0000gn/T/ipykernel_889/499863125.py:69: VisibleDeprecationWarning: Creating an ndarray from ragged nested sequences (which is a list-or-tuple of lists-or-tuples-or ndarrays with different lengths or shapes) is deprecated. If you meant to do this, you must specify 'dtype=object' when creating the ndarray.\n",
      "  f_traErgsseccmA=np.array([np.array(f_tra0.ErgsseccmA),np.array(f_tra1.ErgsseccmA),np.array(f_tra7.ErgsseccmA),np.array(f_tra8.ErgsseccmA),np.array(f_tra9.ErgsseccmA),np.array(f_tra10.ErgsseccmA),np.array(f_tra13.ErgsseccmA),np.array(f_tra14.ErgsseccmA),np.array(f_tra15.ErgsseccmA),np.array(f_tra16.ErgsseccmA),np.array(f_tra17.ErgsseccmA),np.array(f_tra18.ErgsseccmA)])\n",
      "/var/folders/6t/cpjtlkn10wv603vnph9nr3sh0000gn/T/ipykernel_889/499863125.py:71: VisibleDeprecationWarning: Creating an ndarray from ragged nested sequences (which is a list-or-tuple of lists-or-tuples-or ndarrays with different lengths or shapes) is deprecated. If you meant to do this, you must specify 'dtype=object' when creating the ndarray.\n",
      "  f_traAng=np.array([np.array(f_tra0.Angstroem / 10000),np.array(f_tra1.Angstroem / 10000),np.array(f_tra7.Angstroem / 10000),np.array(f_tra8.Angstroem / 10000),np.array(f_tra9.Angstroem / 10000),np.array(f_tra10.Angstroem / 10000),np.array(f_tra13.Angstroem / 10000),np.array(f_tra14.Angstroem / 10000),np.array(f_tra15.Angstroem / 10000), np.array(f_tra16.Angstroem / 10000),np.array(f_tra17.Angstroem / 10000),np.array(f_tra18.Angstroem / 10000)])\n"
     ]
    }
   ],
   "source": [
    "import numpy as np\n",
    "import pandas as pd\n",
    "import matplotlib.pyplot as plt\n",
    "from astropy import units as u\n",
    "from astropy import constants as const\n",
    "absor1 = pd.read_csv('/Users/huihaoz/Downloads/GeometricA_Earth_HighCloud_UltraRes1.dat', comment = '#', delimiter='\\s+')\n",
    "absor2 = pd.read_csv('/Users/huihaoz/Downloads/mktrans_zmnq_16_15.dat', comment = '#', delimiter='\\s+')\n",
    "pts=pd.read_csv('/Users/huihaoz/Downloads/PT_PES.txt', sep=',')\n",
    "pts[\"Teq\"] = (pts.STK * ((pts.SRadiusSun *  const.R_sun/(2*pts.SMAAU * const.au)))**(1/2) * (1-0.3)**(0.25))\n",
    "pts.iloc[0,8]=181.7\n",
    "pts.iloc[4,8]=468\n",
    "pts.iloc[9,8]=230.9\n",
    "sep_arr = ((np.array(pts[\"SMAAU\"]) * u.AU / (np.array(pts[\"DistancePC\"] )* u.pc)).to(u.m/u.m)* u.radian).to(u.arcsec)\n",
    "sep_lim_um  = (((sep_arr).to(u.radian) / u.radian) * 39.3*u.meter).to(u.micron)\n",
    "# Split a Python List into Chunks using For Loops\n",
    "our_list = np.array(absor1.albH2O[:1079300])\n",
    "chunked_list = list()\n",
    "chunk_size = 251*2*5\n",
    "for i in range(0, len(our_list), chunk_size):\n",
    "    chunked_list.append(our_list[i:i+chunk_size])\n",
    "    \n",
    "our_listwl = np.array(absor1.nm[:1079300] / 1000)\n",
    "chunked_listwl = list()\n",
    "chunk_sizewl = 251*2*5\n",
    "for i in range(0, len(our_listwl), chunk_sizewl):\n",
    "    chunked_listwl.append(our_listwl[i:i+chunk_sizewl])\n",
    "    \n",
    "y_fit_index = np.linspace(0,429,430,dtype = int)\n",
    "wl_fit_index = [np.argmax(chunked_list[i]) for i in y_fit_index] #just for check\n",
    "\n",
    "pn_fit_non = [max(chunked_list[i]) for i in y_fit_index]\n",
    "wl_fit_non = [chunked_listwl[i][np.argmax(chunked_list[i])] for i in y_fit_index]\n",
    "alb_nogas = np.interp(absor1.nm/1000,wl_fit_non,np.array(pn_fit_non))\n",
    "wl_um2 = np.array(absor1.nm[:1079300])/1000 * u.um\n",
    "my_list_norabd = (absor1.totalb / alb_nogas)\n",
    "\n",
    "# Iterate over the list and replace any value greater than 1 with 1\n",
    "for i in range(len(my_list_norabd)):\n",
    "    if my_list_norabd[i] > 1:\n",
    "        my_list_norabd[i] = 1\n",
    "tbd_planet=[]\n",
    "\n",
    "for i in range(len(pts.Teq)):\n",
    "    tbd_planet.append(np.array(my_list_norabd[:1079300]) * 2 * const.h *const.c**2 / ((wl_um2)**5 * (np.e**(const.c * const.h / (wl_um2 *const.k_B * pts.Teq[i] * u.K)) - 1)))\n",
    "dis_2 = pts.DistancePC* const.pc\n",
    "d_s_2 = pts.RadiusEar * const.R_earth\n",
    "ste = (d_s_2**2 * np.pi / dis_2**2)\n",
    "tbd_planet_earth = []\n",
    "for i in range(len(tbd_planet)):\n",
    "\n",
    "    tbd_planet_earth.append((tbd_planet[i] * ste[i]).to(u.erg/(u.s * u.cm**2 * u.um)))\n",
    "Flux_tbd_planet_earth =[]\n",
    "for i in range(len(tbd_planet_earth)):\n",
    "    Flux_tbd_planet_earth.append((tbd_planet_earth[i][1:] * np.diff(wl_um2)).to(u.W/u.m**2))\n",
    "\n",
    "\n",
    "f_tra0 = pd.read_csv('/Users/huihaoz/Downloads/lte030.0-5.0-0.0a+0.0.BT-Settl.spec.7.txt', comment = '#', delimiter='\\s+')\n",
    "f_tra1 = pd.read_csv('/Users/huihaoz/Downloads/lte030.0-5.0-0.0a+0.0.BT-Settl.spec.7.txt', comment = '#', delimiter='\\s+')\n",
    "f_tra7 = pd.read_csv('/Users/huihaoz/Downloads/lte034.0-4.5-0.0a+0.0.BT-Settl.spec.7.txt', comment = '#', delimiter='\\s+')\n",
    "f_tra8 = pd.read_csv('/Users/huihaoz/Downloads/lte030.0-5.0-0.0a+0.0.BT-Settl.spec.7.txt', comment = '#', delimiter='\\s+')\n",
    "f_tra9 = pd.read_csv('/Users/huihaoz/Downloads/lte037.0-5.0-0.0a+0.0.BT-Settl.spec.7.txt', comment = '#', delimiter='\\s+')\n",
    "f_tra10 = pd.read_csv('/Users/huihaoz/Downloads/lte029.0-5.0-0.0a+0.0.BT-Settl.spec.7.txt', comment = '#', delimiter='\\s+')\n",
    "f_tra13 = pd.read_csv('/Users/huihaoz/Downloads/lte033.0-5.0-0.0a+0.0.BT-Settl.spec.7.txt', comment = '#', delimiter='\\s+')\n",
    "f_tra14 = pd.read_csv('/Users/huihaoz/Downloads/lte026.0-5.0-0.0a+0.0.BT-Settl.spec.7.txt', comment = '#', delimiter='\\s+')\n",
    "f_tra15 = pd.read_csv('/Users/huihaoz/Downloads/lte026.0-5.0-0.0a+0.0.BT-Settl.spec.7.txt', comment = '#', delimiter='\\s+')\n",
    "f_tra16 = pd.read_csv('/Users/huihaoz/Downloads/lte030.0-5.0-0.0a+0.0.BT-Settl.spec.7.txt', comment = '#', delimiter='\\s+')\n",
    "f_tra17 = pd.read_csv('/Users/huihaoz/Downloads/lte033.0-5.0-0.0a+0.0.BT-Settl.spec.7.txt', comment = '#', delimiter='\\s+')\n",
    "f_tra18 = pd.read_csv('/Users/huihaoz/Downloads/lte030.0-5.0-0.0a+0.0.BT-Settl.spec.7.txt', comment = '#', delimiter='\\s+')\n",
    "f_traErgsseccmA=np.array([np.array(f_tra0.ErgsseccmA),np.array(f_tra1.ErgsseccmA),np.array(f_tra7.ErgsseccmA),np.array(f_tra8.ErgsseccmA),np.array(f_tra9.ErgsseccmA),np.array(f_tra10.ErgsseccmA),np.array(f_tra13.ErgsseccmA),np.array(f_tra14.ErgsseccmA),np.array(f_tra15.ErgsseccmA),np.array(f_tra16.ErgsseccmA),np.array(f_tra17.ErgsseccmA),np.array(f_tra18.ErgsseccmA)])\n",
    "f_tra1_fum0=[10**(i-8) * u.erg/(u.s * u.cm**2 *u.Angstrom) for i in f_traErgsseccmA]\n",
    "f_traAng=np.array([np.array(f_tra0.Angstroem / 10000),np.array(f_tra1.Angstroem / 10000),np.array(f_tra7.Angstroem / 10000),np.array(f_tra8.Angstroem / 10000),np.array(f_tra9.Angstroem / 10000),np.array(f_tra10.Angstroem / 10000),np.array(f_tra13.Angstroem / 10000),np.array(f_tra14.Angstroem / 10000),np.array(f_tra15.Angstroem / 10000), np.array(f_tra16.Angstroem / 10000),np.array(f_tra17.Angstroem / 10000),np.array(f_tra18.Angstroem / 10000)])\n"
   ]
  },
  {
   "cell_type": "code",
   "execution_count": 2,
   "id": "b045ee4a",
   "metadata": {},
   "outputs": [
    {
     "data": {
      "text/html": [
       "<div>\n",
       "<style scoped>\n",
       "    .dataframe tbody tr th:only-of-type {\n",
       "        vertical-align: middle;\n",
       "    }\n",
       "\n",
       "    .dataframe tbody tr th {\n",
       "        vertical-align: top;\n",
       "    }\n",
       "\n",
       "    .dataframe thead th {\n",
       "        text-align: right;\n",
       "    }\n",
       "</style>\n",
       "<table border=\"1\" class=\"dataframe\">\n",
       "  <thead>\n",
       "    <tr style=\"text-align: right;\">\n",
       "      <th></th>\n",
       "      <th>nm</th>\n",
       "      <th>totalb</th>\n",
       "      <th>albH2O</th>\n",
       "      <th>albco2</th>\n",
       "      <th>albn2o</th>\n",
       "      <th>albch4</th>\n",
       "      <th>albo2</th>\n",
       "      <th>albo3</th>\n",
       "    </tr>\n",
       "  </thead>\n",
       "  <tbody>\n",
       "    <tr>\n",
       "      <th>0</th>\n",
       "      <td>500.000000</td>\n",
       "      <td>0.529546</td>\n",
       "      <td>0.551133</td>\n",
       "      <td>0.551133</td>\n",
       "      <td>0.551133</td>\n",
       "      <td>0.551133</td>\n",
       "      <td>0.551133</td>\n",
       "      <td>0.529546</td>\n",
       "    </tr>\n",
       "    <tr>\n",
       "      <th>1</th>\n",
       "      <td>500.001151</td>\n",
       "      <td>0.529549</td>\n",
       "      <td>0.551138</td>\n",
       "      <td>0.551138</td>\n",
       "      <td>0.551138</td>\n",
       "      <td>0.551138</td>\n",
       "      <td>0.551138</td>\n",
       "      <td>0.529549</td>\n",
       "    </tr>\n",
       "    <tr>\n",
       "      <th>2</th>\n",
       "      <td>500.002303</td>\n",
       "      <td>0.529552</td>\n",
       "      <td>0.551143</td>\n",
       "      <td>0.551143</td>\n",
       "      <td>0.551143</td>\n",
       "      <td>0.551143</td>\n",
       "      <td>0.551143</td>\n",
       "      <td>0.529552</td>\n",
       "    </tr>\n",
       "    <tr>\n",
       "      <th>3</th>\n",
       "      <td>500.003454</td>\n",
       "      <td>0.529555</td>\n",
       "      <td>0.551149</td>\n",
       "      <td>0.551149</td>\n",
       "      <td>0.551149</td>\n",
       "      <td>0.551149</td>\n",
       "      <td>0.551149</td>\n",
       "      <td>0.529555</td>\n",
       "    </tr>\n",
       "    <tr>\n",
       "      <th>4</th>\n",
       "      <td>500.004605</td>\n",
       "      <td>0.529559</td>\n",
       "      <td>0.551154</td>\n",
       "      <td>0.551154</td>\n",
       "      <td>0.551154</td>\n",
       "      <td>0.551154</td>\n",
       "      <td>0.551154</td>\n",
       "      <td>0.529559</td>\n",
       "    </tr>\n",
       "    <tr>\n",
       "      <th>...</th>\n",
       "      <td>...</td>\n",
       "      <td>...</td>\n",
       "      <td>...</td>\n",
       "      <td>...</td>\n",
       "      <td>...</td>\n",
       "      <td>...</td>\n",
       "      <td>...</td>\n",
       "      <td>...</td>\n",
       "    </tr>\n",
       "    <tr>\n",
       "      <th>1699995</th>\n",
       "      <td>24999.770081</td>\n",
       "      <td>237.124200</td>\n",
       "      <td>237.124200</td>\n",
       "      <td>120.289100</td>\n",
       "      <td>120.289100</td>\n",
       "      <td>120.289100</td>\n",
       "      <td>120.289100</td>\n",
       "      <td>120.289100</td>\n",
       "    </tr>\n",
       "    <tr>\n",
       "      <th>1699996</th>\n",
       "      <td>24999.827561</td>\n",
       "      <td>236.584200</td>\n",
       "      <td>236.584200</td>\n",
       "      <td>120.290300</td>\n",
       "      <td>120.290300</td>\n",
       "      <td>120.290300</td>\n",
       "      <td>120.290300</td>\n",
       "      <td>120.290300</td>\n",
       "    </tr>\n",
       "    <tr>\n",
       "      <th>1699997</th>\n",
       "      <td>24999.885040</td>\n",
       "      <td>236.046700</td>\n",
       "      <td>236.046600</td>\n",
       "      <td>120.291500</td>\n",
       "      <td>120.291500</td>\n",
       "      <td>120.291500</td>\n",
       "      <td>120.291500</td>\n",
       "      <td>120.291500</td>\n",
       "    </tr>\n",
       "    <tr>\n",
       "      <th>1699998</th>\n",
       "      <td>24999.942520</td>\n",
       "      <td>235.417900</td>\n",
       "      <td>235.417900</td>\n",
       "      <td>120.292700</td>\n",
       "      <td>120.292700</td>\n",
       "      <td>120.292700</td>\n",
       "      <td>120.292700</td>\n",
       "      <td>120.292700</td>\n",
       "    </tr>\n",
       "    <tr>\n",
       "      <th>1699999</th>\n",
       "      <td>25000.000000</td>\n",
       "      <td>234.885300</td>\n",
       "      <td>234.885300</td>\n",
       "      <td>120.293900</td>\n",
       "      <td>120.293900</td>\n",
       "      <td>120.293900</td>\n",
       "      <td>120.293900</td>\n",
       "      <td>120.293900</td>\n",
       "    </tr>\n",
       "  </tbody>\n",
       "</table>\n",
       "<p>1700000 rows × 8 columns</p>\n",
       "</div>"
      ],
      "text/plain": [
       "                   nm      totalb      albH2O      albco2      albn2o  \\\n",
       "0          500.000000    0.529546    0.551133    0.551133    0.551133   \n",
       "1          500.001151    0.529549    0.551138    0.551138    0.551138   \n",
       "2          500.002303    0.529552    0.551143    0.551143    0.551143   \n",
       "3          500.003454    0.529555    0.551149    0.551149    0.551149   \n",
       "4          500.004605    0.529559    0.551154    0.551154    0.551154   \n",
       "...               ...         ...         ...         ...         ...   \n",
       "1699995  24999.770081  237.124200  237.124200  120.289100  120.289100   \n",
       "1699996  24999.827561  236.584200  236.584200  120.290300  120.290300   \n",
       "1699997  24999.885040  236.046700  236.046600  120.291500  120.291500   \n",
       "1699998  24999.942520  235.417900  235.417900  120.292700  120.292700   \n",
       "1699999  25000.000000  234.885300  234.885300  120.293900  120.293900   \n",
       "\n",
       "             albch4       albo2       albo3  \n",
       "0          0.551133    0.551133    0.529546  \n",
       "1          0.551138    0.551138    0.529549  \n",
       "2          0.551143    0.551143    0.529552  \n",
       "3          0.551149    0.551149    0.529555  \n",
       "4          0.551154    0.551154    0.529559  \n",
       "...             ...         ...         ...  \n",
       "1699995  120.289100  120.289100  120.289100  \n",
       "1699996  120.290300  120.290300  120.290300  \n",
       "1699997  120.291500  120.291500  120.291500  \n",
       "1699998  120.292700  120.292700  120.292700  \n",
       "1699999  120.293900  120.293900  120.293900  \n",
       "\n",
       "[1700000 rows x 8 columns]"
      ]
     },
     "execution_count": 2,
     "metadata": {},
     "output_type": "execute_result"
    }
   ],
   "source": [
    "absor1"
   ]
  },
  {
   "cell_type": "code",
   "execution_count": 3,
   "id": "a881409a",
   "metadata": {},
   "outputs": [],
   "source": [
    "pts[\"limit_wl\"] = sep_lim_um.value"
   ]
  },
  {
   "cell_type": "code",
   "execution_count": 4,
   "id": "008a4974",
   "metadata": {},
   "outputs": [
    {
     "data": {
      "text/html": [
       "<div>\n",
       "<style scoped>\n",
       "    .dataframe tbody tr th:only-of-type {\n",
       "        vertical-align: middle;\n",
       "    }\n",
       "\n",
       "    .dataframe tbody tr th {\n",
       "        vertical-align: top;\n",
       "    }\n",
       "\n",
       "    .dataframe thead th {\n",
       "        text-align: right;\n",
       "    }\n",
       "</style>\n",
       "<table border=\"1\" class=\"dataframe\">\n",
       "  <thead>\n",
       "    <tr style=\"text-align: right;\">\n",
       "      <th></th>\n",
       "      <th>Planet</th>\n",
       "      <th>MassEar</th>\n",
       "      <th>RadiusEar</th>\n",
       "      <th>SMAAU</th>\n",
       "      <th>DistancePC</th>\n",
       "      <th>SRadiusSun</th>\n",
       "      <th>Slogg</th>\n",
       "      <th>STK</th>\n",
       "      <th>Teq</th>\n",
       "      <th>limit_wl</th>\n",
       "    </tr>\n",
       "  </thead>\n",
       "  <tbody>\n",
       "    <tr>\n",
       "      <th>0</th>\n",
       "      <td>GJ 1002 c</td>\n",
       "      <td>1.360</td>\n",
       "      <td>1.089911</td>\n",
       "      <td>0.07380</td>\n",
       "      <td>4.84867</td>\n",
       "      <td>0.1400</td>\n",
       "      <td>5.10</td>\n",
       "      <td>3024.0</td>\n",
       "      <td>181.700000</td>\n",
       "      <td>2.900021</td>\n",
       "    </tr>\n",
       "    <tr>\n",
       "      <th>1</th>\n",
       "      <td>GJ 1061 d</td>\n",
       "      <td>1.640</td>\n",
       "      <td>1.148567</td>\n",
       "      <td>0.05400</td>\n",
       "      <td>3.67278</td>\n",
       "      <td>0.1600</td>\n",
       "      <td>5.16</td>\n",
       "      <td>2953.0</td>\n",
       "      <td>224.199359</td>\n",
       "      <td>2.801343</td>\n",
       "    </tr>\n",
       "    <tr>\n",
       "      <th>2</th>\n",
       "      <td>GJ 667 C c</td>\n",
       "      <td>3.800</td>\n",
       "      <td>1.819741</td>\n",
       "      <td>0.12500</td>\n",
       "      <td>7.24396</td>\n",
       "      <td>0.3300</td>\n",
       "      <td>4.69</td>\n",
       "      <td>3350.0</td>\n",
       "      <td>240.079224</td>\n",
       "      <td>3.287770</td>\n",
       "    </tr>\n",
       "    <tr>\n",
       "      <th>3</th>\n",
       "      <td>GJ 682 b</td>\n",
       "      <td>4.400</td>\n",
       "      <td>1.984149</td>\n",
       "      <td>0.08000</td>\n",
       "      <td>5.00671</td>\n",
       "      <td>0.3000</td>\n",
       "      <td>4.93</td>\n",
       "      <td>3028.0</td>\n",
       "      <td>258.630246</td>\n",
       "      <td>3.044423</td>\n",
       "    </tr>\n",
       "    <tr>\n",
       "      <th>4</th>\n",
       "      <td>GJ 887 b</td>\n",
       "      <td>4.200</td>\n",
       "      <td>1.930431</td>\n",
       "      <td>0.06800</td>\n",
       "      <td>3.29000</td>\n",
       "      <td>0.4700</td>\n",
       "      <td>4.78</td>\n",
       "      <td>3688.0</td>\n",
       "      <td>468.000000</td>\n",
       "      <td>3.938043</td>\n",
       "    </tr>\n",
       "    <tr>\n",
       "      <th>5</th>\n",
       "      <td>Proxima Cen b</td>\n",
       "      <td>1.070</td>\n",
       "      <td>1.019125</td>\n",
       "      <td>0.04856</td>\n",
       "      <td>1.30119</td>\n",
       "      <td>0.1400</td>\n",
       "      <td>5.16</td>\n",
       "      <td>2900.0</td>\n",
       "      <td>217.185329</td>\n",
       "      <td>7.110586</td>\n",
       "    </tr>\n",
       "    <tr>\n",
       "      <th>6</th>\n",
       "      <td>Wolf 1061 c</td>\n",
       "      <td>3.410</td>\n",
       "      <td>1.707113</td>\n",
       "      <td>0.08900</td>\n",
       "      <td>4.30592</td>\n",
       "      <td>0.3100</td>\n",
       "      <td>4.90</td>\n",
       "      <td>3342.0</td>\n",
       "      <td>275.106022</td>\n",
       "      <td>3.938143</td>\n",
       "    </tr>\n",
       "    <tr>\n",
       "      <th>7</th>\n",
       "      <td>TRAPPIST-1 e</td>\n",
       "      <td>0.692</td>\n",
       "      <td>0.920000</td>\n",
       "      <td>0.02925</td>\n",
       "      <td>12.10000</td>\n",
       "      <td>0.1192</td>\n",
       "      <td>5.24</td>\n",
       "      <td>2566.0</td>\n",
       "      <td>228.475508</td>\n",
       "      <td>0.460583</td>\n",
       "    </tr>\n",
       "    <tr>\n",
       "      <th>8</th>\n",
       "      <td>TRAPPIST-1 h</td>\n",
       "      <td>0.326</td>\n",
       "      <td>0.755000</td>\n",
       "      <td>0.06189</td>\n",
       "      <td>12.10000</td>\n",
       "      <td>0.1192</td>\n",
       "      <td>5.24</td>\n",
       "      <td>2566.0</td>\n",
       "      <td>157.069675</td>\n",
       "      <td>0.974546</td>\n",
       "    </tr>\n",
       "    <tr>\n",
       "      <th>9</th>\n",
       "      <td>GJ 1002 b</td>\n",
       "      <td>1.080</td>\n",
       "      <td>1.021946</td>\n",
       "      <td>0.04570</td>\n",
       "      <td>4.84867</td>\n",
       "      <td>0.1400</td>\n",
       "      <td>5.10</td>\n",
       "      <td>3024.0</td>\n",
       "      <td>230.900000</td>\n",
       "      <td>1.795812</td>\n",
       "    </tr>\n",
       "    <tr>\n",
       "      <th>10</th>\n",
       "      <td>Wolf 1061 b</td>\n",
       "      <td>1.910</td>\n",
       "      <td>1.198668</td>\n",
       "      <td>0.03750</td>\n",
       "      <td>4.30592</td>\n",
       "      <td>0.3100</td>\n",
       "      <td>4.90</td>\n",
       "      <td>3342.0</td>\n",
       "      <td>423.818067</td>\n",
       "      <td>1.659330</td>\n",
       "    </tr>\n",
       "    <tr>\n",
       "      <th>11</th>\n",
       "      <td>GJ 1061 c</td>\n",
       "      <td>1.740</td>\n",
       "      <td>1.167483</td>\n",
       "      <td>0.03500</td>\n",
       "      <td>3.67278</td>\n",
       "      <td>0.1600</td>\n",
       "      <td>5.16</td>\n",
       "      <td>2953.0</td>\n",
       "      <td>278.482061</td>\n",
       "      <td>1.815685</td>\n",
       "    </tr>\n",
       "  </tbody>\n",
       "</table>\n",
       "</div>"
      ],
      "text/plain": [
       "           Planet  MassEar  RadiusEar    SMAAU  DistancePC  SRadiusSun  Slogg  \\\n",
       "0       GJ 1002 c    1.360   1.089911  0.07380     4.84867      0.1400   5.10   \n",
       "1       GJ 1061 d    1.640   1.148567  0.05400     3.67278      0.1600   5.16   \n",
       "2      GJ 667 C c    3.800   1.819741  0.12500     7.24396      0.3300   4.69   \n",
       "3        GJ 682 b    4.400   1.984149  0.08000     5.00671      0.3000   4.93   \n",
       "4        GJ 887 b    4.200   1.930431  0.06800     3.29000      0.4700   4.78   \n",
       "5   Proxima Cen b    1.070   1.019125  0.04856     1.30119      0.1400   5.16   \n",
       "6     Wolf 1061 c    3.410   1.707113  0.08900     4.30592      0.3100   4.90   \n",
       "7    TRAPPIST-1 e    0.692   0.920000  0.02925    12.10000      0.1192   5.24   \n",
       "8    TRAPPIST-1 h    0.326   0.755000  0.06189    12.10000      0.1192   5.24   \n",
       "9       GJ 1002 b    1.080   1.021946  0.04570     4.84867      0.1400   5.10   \n",
       "10    Wolf 1061 b    1.910   1.198668  0.03750     4.30592      0.3100   4.90   \n",
       "11      GJ 1061 c    1.740   1.167483  0.03500     3.67278      0.1600   5.16   \n",
       "\n",
       "       STK         Teq  limit_wl  \n",
       "0   3024.0  181.700000  2.900021  \n",
       "1   2953.0  224.199359  2.801343  \n",
       "2   3350.0  240.079224  3.287770  \n",
       "3   3028.0  258.630246  3.044423  \n",
       "4   3688.0  468.000000  3.938043  \n",
       "5   2900.0  217.185329  7.110586  \n",
       "6   3342.0  275.106022  3.938143  \n",
       "7   2566.0  228.475508  0.460583  \n",
       "8   2566.0  157.069675  0.974546  \n",
       "9   3024.0  230.900000  1.795812  \n",
       "10  3342.0  423.818067  1.659330  \n",
       "11  2953.0  278.482061  1.815685  "
      ]
     },
     "execution_count": 4,
     "metadata": {},
     "output_type": "execute_result"
    }
   ],
   "source": [
    "pts"
   ]
  },
  {
   "cell_type": "code",
   "execution_count": 5,
   "id": "ade43156",
   "metadata": {},
   "outputs": [
    {
     "data": {
      "text/latex": [
       "$[2.9000211,~2.8013428,~3.2877697,~3.0444228,~3.9380428,~7.1105858,~3.9381429,~0.46058301,~0.97454642,~1.7958125,~1.6593299,~1.8156852] \\; \\mathrm{\\mu m}$"
      ],
      "text/plain": [
       "<Quantity [2.90002106, 2.80134284, 3.28776968, 3.04442281, 3.9380428 ,\n",
       "           7.11058575, 3.93814286, 0.46058301, 0.97454642, 1.7958125 ,\n",
       "           1.65932986, 1.81568517] micron>"
      ]
     },
     "execution_count": 5,
     "metadata": {},
     "output_type": "execute_result"
    }
   ],
   "source": [
    "sep_lim_um "
   ]
  },
  {
   "cell_type": "code",
   "execution_count": 6,
   "id": "eea9a1fb",
   "metadata": {},
   "outputs": [
    {
     "data": {
      "text/html": [
       "<div>\n",
       "<style scoped>\n",
       "    .dataframe tbody tr th:only-of-type {\n",
       "        vertical-align: middle;\n",
       "    }\n",
       "\n",
       "    .dataframe tbody tr th {\n",
       "        vertical-align: top;\n",
       "    }\n",
       "\n",
       "    .dataframe thead th {\n",
       "        text-align: right;\n",
       "    }\n",
       "</style>\n",
       "<table border=\"1\" class=\"dataframe\">\n",
       "  <thead>\n",
       "    <tr style=\"text-align: right;\">\n",
       "      <th></th>\n",
       "      <th>Planet</th>\n",
       "      <th>MassEar</th>\n",
       "      <th>RadiusEar</th>\n",
       "      <th>SMAAU</th>\n",
       "      <th>DistancePC</th>\n",
       "      <th>SRadiusSun</th>\n",
       "      <th>Slogg</th>\n",
       "      <th>STK</th>\n",
       "      <th>Teq</th>\n",
       "      <th>limit_wl</th>\n",
       "    </tr>\n",
       "  </thead>\n",
       "  <tbody>\n",
       "    <tr>\n",
       "      <th>0</th>\n",
       "      <td>GJ 1002 c</td>\n",
       "      <td>1.360</td>\n",
       "      <td>1.089911</td>\n",
       "      <td>0.07380</td>\n",
       "      <td>4.84867</td>\n",
       "      <td>0.1400</td>\n",
       "      <td>5.10</td>\n",
       "      <td>3024.0</td>\n",
       "      <td>181.700000</td>\n",
       "      <td>2.900021</td>\n",
       "    </tr>\n",
       "    <tr>\n",
       "      <th>1</th>\n",
       "      <td>GJ 1061 d</td>\n",
       "      <td>1.640</td>\n",
       "      <td>1.148567</td>\n",
       "      <td>0.05400</td>\n",
       "      <td>3.67278</td>\n",
       "      <td>0.1600</td>\n",
       "      <td>5.16</td>\n",
       "      <td>2953.0</td>\n",
       "      <td>224.199359</td>\n",
       "      <td>2.801343</td>\n",
       "    </tr>\n",
       "    <tr>\n",
       "      <th>2</th>\n",
       "      <td>GJ 667 C c</td>\n",
       "      <td>3.800</td>\n",
       "      <td>1.819741</td>\n",
       "      <td>0.12500</td>\n",
       "      <td>7.24396</td>\n",
       "      <td>0.3300</td>\n",
       "      <td>4.69</td>\n",
       "      <td>3350.0</td>\n",
       "      <td>240.079224</td>\n",
       "      <td>3.287770</td>\n",
       "    </tr>\n",
       "    <tr>\n",
       "      <th>3</th>\n",
       "      <td>GJ 682 b</td>\n",
       "      <td>4.400</td>\n",
       "      <td>1.984149</td>\n",
       "      <td>0.08000</td>\n",
       "      <td>5.00671</td>\n",
       "      <td>0.3000</td>\n",
       "      <td>4.93</td>\n",
       "      <td>3028.0</td>\n",
       "      <td>258.630246</td>\n",
       "      <td>3.044423</td>\n",
       "    </tr>\n",
       "    <tr>\n",
       "      <th>4</th>\n",
       "      <td>GJ 887 b</td>\n",
       "      <td>4.200</td>\n",
       "      <td>1.930431</td>\n",
       "      <td>0.06800</td>\n",
       "      <td>3.29000</td>\n",
       "      <td>0.4700</td>\n",
       "      <td>4.78</td>\n",
       "      <td>3688.0</td>\n",
       "      <td>468.000000</td>\n",
       "      <td>3.938043</td>\n",
       "    </tr>\n",
       "    <tr>\n",
       "      <th>5</th>\n",
       "      <td>Proxima Cen b</td>\n",
       "      <td>1.070</td>\n",
       "      <td>1.019125</td>\n",
       "      <td>0.04856</td>\n",
       "      <td>1.30119</td>\n",
       "      <td>0.1400</td>\n",
       "      <td>5.16</td>\n",
       "      <td>2900.0</td>\n",
       "      <td>217.185329</td>\n",
       "      <td>7.110586</td>\n",
       "    </tr>\n",
       "    <tr>\n",
       "      <th>6</th>\n",
       "      <td>Wolf 1061 c</td>\n",
       "      <td>3.410</td>\n",
       "      <td>1.707113</td>\n",
       "      <td>0.08900</td>\n",
       "      <td>4.30592</td>\n",
       "      <td>0.3100</td>\n",
       "      <td>4.90</td>\n",
       "      <td>3342.0</td>\n",
       "      <td>275.106022</td>\n",
       "      <td>3.938143</td>\n",
       "    </tr>\n",
       "    <tr>\n",
       "      <th>7</th>\n",
       "      <td>TRAPPIST-1 e</td>\n",
       "      <td>0.692</td>\n",
       "      <td>0.920000</td>\n",
       "      <td>0.02925</td>\n",
       "      <td>12.10000</td>\n",
       "      <td>0.1192</td>\n",
       "      <td>5.24</td>\n",
       "      <td>2566.0</td>\n",
       "      <td>228.475508</td>\n",
       "      <td>0.460583</td>\n",
       "    </tr>\n",
       "    <tr>\n",
       "      <th>8</th>\n",
       "      <td>TRAPPIST-1 h</td>\n",
       "      <td>0.326</td>\n",
       "      <td>0.755000</td>\n",
       "      <td>0.06189</td>\n",
       "      <td>12.10000</td>\n",
       "      <td>0.1192</td>\n",
       "      <td>5.24</td>\n",
       "      <td>2566.0</td>\n",
       "      <td>157.069675</td>\n",
       "      <td>0.974546</td>\n",
       "    </tr>\n",
       "    <tr>\n",
       "      <th>9</th>\n",
       "      <td>GJ 1002 b</td>\n",
       "      <td>1.080</td>\n",
       "      <td>1.021946</td>\n",
       "      <td>0.04570</td>\n",
       "      <td>4.84867</td>\n",
       "      <td>0.1400</td>\n",
       "      <td>5.10</td>\n",
       "      <td>3024.0</td>\n",
       "      <td>230.900000</td>\n",
       "      <td>1.795812</td>\n",
       "    </tr>\n",
       "    <tr>\n",
       "      <th>10</th>\n",
       "      <td>Wolf 1061 b</td>\n",
       "      <td>1.910</td>\n",
       "      <td>1.198668</td>\n",
       "      <td>0.03750</td>\n",
       "      <td>4.30592</td>\n",
       "      <td>0.3100</td>\n",
       "      <td>4.90</td>\n",
       "      <td>3342.0</td>\n",
       "      <td>423.818067</td>\n",
       "      <td>1.659330</td>\n",
       "    </tr>\n",
       "    <tr>\n",
       "      <th>11</th>\n",
       "      <td>GJ 1061 c</td>\n",
       "      <td>1.740</td>\n",
       "      <td>1.167483</td>\n",
       "      <td>0.03500</td>\n",
       "      <td>3.67278</td>\n",
       "      <td>0.1600</td>\n",
       "      <td>5.16</td>\n",
       "      <td>2953.0</td>\n",
       "      <td>278.482061</td>\n",
       "      <td>1.815685</td>\n",
       "    </tr>\n",
       "  </tbody>\n",
       "</table>\n",
       "</div>"
      ],
      "text/plain": [
       "           Planet  MassEar  RadiusEar    SMAAU  DistancePC  SRadiusSun  Slogg  \\\n",
       "0       GJ 1002 c    1.360   1.089911  0.07380     4.84867      0.1400   5.10   \n",
       "1       GJ 1061 d    1.640   1.148567  0.05400     3.67278      0.1600   5.16   \n",
       "2      GJ 667 C c    3.800   1.819741  0.12500     7.24396      0.3300   4.69   \n",
       "3        GJ 682 b    4.400   1.984149  0.08000     5.00671      0.3000   4.93   \n",
       "4        GJ 887 b    4.200   1.930431  0.06800     3.29000      0.4700   4.78   \n",
       "5   Proxima Cen b    1.070   1.019125  0.04856     1.30119      0.1400   5.16   \n",
       "6     Wolf 1061 c    3.410   1.707113  0.08900     4.30592      0.3100   4.90   \n",
       "7    TRAPPIST-1 e    0.692   0.920000  0.02925    12.10000      0.1192   5.24   \n",
       "8    TRAPPIST-1 h    0.326   0.755000  0.06189    12.10000      0.1192   5.24   \n",
       "9       GJ 1002 b    1.080   1.021946  0.04570     4.84867      0.1400   5.10   \n",
       "10    Wolf 1061 b    1.910   1.198668  0.03750     4.30592      0.3100   4.90   \n",
       "11      GJ 1061 c    1.740   1.167483  0.03500     3.67278      0.1600   5.16   \n",
       "\n",
       "       STK         Teq  limit_wl  \n",
       "0   3024.0  181.700000  2.900021  \n",
       "1   2953.0  224.199359  2.801343  \n",
       "2   3350.0  240.079224  3.287770  \n",
       "3   3028.0  258.630246  3.044423  \n",
       "4   3688.0  468.000000  3.938043  \n",
       "5   2900.0  217.185329  7.110586  \n",
       "6   3342.0  275.106022  3.938143  \n",
       "7   2566.0  228.475508  0.460583  \n",
       "8   2566.0  157.069675  0.974546  \n",
       "9   3024.0  230.900000  1.795812  \n",
       "10  3342.0  423.818067  1.659330  \n",
       "11  2953.0  278.482061  1.815685  "
      ]
     },
     "execution_count": 6,
     "metadata": {},
     "output_type": "execute_result"
    }
   ],
   "source": [
    "pts"
   ]
  },
  {
   "cell_type": "code",
   "execution_count": 7,
   "id": "ee6542ee",
   "metadata": {},
   "outputs": [
    {
     "data": {
      "text/html": [
       "<div>\n",
       "<style scoped>\n",
       "    .dataframe tbody tr th:only-of-type {\n",
       "        vertical-align: middle;\n",
       "    }\n",
       "\n",
       "    .dataframe tbody tr th {\n",
       "        vertical-align: top;\n",
       "    }\n",
       "\n",
       "    .dataframe thead th {\n",
       "        text-align: right;\n",
       "    }\n",
       "</style>\n",
       "<table border=\"1\" class=\"dataframe\">\n",
       "  <thead>\n",
       "    <tr style=\"text-align: right;\">\n",
       "      <th></th>\n",
       "      <th>nm</th>\n",
       "      <th>totalb</th>\n",
       "      <th>albH2O</th>\n",
       "      <th>albco2</th>\n",
       "      <th>albn2o</th>\n",
       "      <th>albch4</th>\n",
       "      <th>albo2</th>\n",
       "      <th>albo3</th>\n",
       "    </tr>\n",
       "  </thead>\n",
       "  <tbody>\n",
       "    <tr>\n",
       "      <th>0</th>\n",
       "      <td>500.000000</td>\n",
       "      <td>0.529546</td>\n",
       "      <td>0.551133</td>\n",
       "      <td>0.551133</td>\n",
       "      <td>0.551133</td>\n",
       "      <td>0.551133</td>\n",
       "      <td>0.551133</td>\n",
       "      <td>0.529546</td>\n",
       "    </tr>\n",
       "    <tr>\n",
       "      <th>1</th>\n",
       "      <td>500.001151</td>\n",
       "      <td>0.529549</td>\n",
       "      <td>0.551138</td>\n",
       "      <td>0.551138</td>\n",
       "      <td>0.551138</td>\n",
       "      <td>0.551138</td>\n",
       "      <td>0.551138</td>\n",
       "      <td>0.529549</td>\n",
       "    </tr>\n",
       "    <tr>\n",
       "      <th>2</th>\n",
       "      <td>500.002303</td>\n",
       "      <td>0.529552</td>\n",
       "      <td>0.551143</td>\n",
       "      <td>0.551143</td>\n",
       "      <td>0.551143</td>\n",
       "      <td>0.551143</td>\n",
       "      <td>0.551143</td>\n",
       "      <td>0.529552</td>\n",
       "    </tr>\n",
       "    <tr>\n",
       "      <th>3</th>\n",
       "      <td>500.003454</td>\n",
       "      <td>0.529555</td>\n",
       "      <td>0.551149</td>\n",
       "      <td>0.551149</td>\n",
       "      <td>0.551149</td>\n",
       "      <td>0.551149</td>\n",
       "      <td>0.551149</td>\n",
       "      <td>0.529555</td>\n",
       "    </tr>\n",
       "    <tr>\n",
       "      <th>4</th>\n",
       "      <td>500.004605</td>\n",
       "      <td>0.529559</td>\n",
       "      <td>0.551154</td>\n",
       "      <td>0.551154</td>\n",
       "      <td>0.551154</td>\n",
       "      <td>0.551154</td>\n",
       "      <td>0.551154</td>\n",
       "      <td>0.529559</td>\n",
       "    </tr>\n",
       "    <tr>\n",
       "      <th>...</th>\n",
       "      <td>...</td>\n",
       "      <td>...</td>\n",
       "      <td>...</td>\n",
       "      <td>...</td>\n",
       "      <td>...</td>\n",
       "      <td>...</td>\n",
       "      <td>...</td>\n",
       "      <td>...</td>\n",
       "    </tr>\n",
       "    <tr>\n",
       "      <th>1699995</th>\n",
       "      <td>24999.770081</td>\n",
       "      <td>237.124200</td>\n",
       "      <td>237.124200</td>\n",
       "      <td>120.289100</td>\n",
       "      <td>120.289100</td>\n",
       "      <td>120.289100</td>\n",
       "      <td>120.289100</td>\n",
       "      <td>120.289100</td>\n",
       "    </tr>\n",
       "    <tr>\n",
       "      <th>1699996</th>\n",
       "      <td>24999.827561</td>\n",
       "      <td>236.584200</td>\n",
       "      <td>236.584200</td>\n",
       "      <td>120.290300</td>\n",
       "      <td>120.290300</td>\n",
       "      <td>120.290300</td>\n",
       "      <td>120.290300</td>\n",
       "      <td>120.290300</td>\n",
       "    </tr>\n",
       "    <tr>\n",
       "      <th>1699997</th>\n",
       "      <td>24999.885040</td>\n",
       "      <td>236.046700</td>\n",
       "      <td>236.046600</td>\n",
       "      <td>120.291500</td>\n",
       "      <td>120.291500</td>\n",
       "      <td>120.291500</td>\n",
       "      <td>120.291500</td>\n",
       "      <td>120.291500</td>\n",
       "    </tr>\n",
       "    <tr>\n",
       "      <th>1699998</th>\n",
       "      <td>24999.942520</td>\n",
       "      <td>235.417900</td>\n",
       "      <td>235.417900</td>\n",
       "      <td>120.292700</td>\n",
       "      <td>120.292700</td>\n",
       "      <td>120.292700</td>\n",
       "      <td>120.292700</td>\n",
       "      <td>120.292700</td>\n",
       "    </tr>\n",
       "    <tr>\n",
       "      <th>1699999</th>\n",
       "      <td>25000.000000</td>\n",
       "      <td>234.885300</td>\n",
       "      <td>234.885300</td>\n",
       "      <td>120.293900</td>\n",
       "      <td>120.293900</td>\n",
       "      <td>120.293900</td>\n",
       "      <td>120.293900</td>\n",
       "      <td>120.293900</td>\n",
       "    </tr>\n",
       "  </tbody>\n",
       "</table>\n",
       "<p>1700000 rows × 8 columns</p>\n",
       "</div>"
      ],
      "text/plain": [
       "                   nm      totalb      albH2O      albco2      albn2o  \\\n",
       "0          500.000000    0.529546    0.551133    0.551133    0.551133   \n",
       "1          500.001151    0.529549    0.551138    0.551138    0.551138   \n",
       "2          500.002303    0.529552    0.551143    0.551143    0.551143   \n",
       "3          500.003454    0.529555    0.551149    0.551149    0.551149   \n",
       "4          500.004605    0.529559    0.551154    0.551154    0.551154   \n",
       "...               ...         ...         ...         ...         ...   \n",
       "1699995  24999.770081  237.124200  237.124200  120.289100  120.289100   \n",
       "1699996  24999.827561  236.584200  236.584200  120.290300  120.290300   \n",
       "1699997  24999.885040  236.046700  236.046600  120.291500  120.291500   \n",
       "1699998  24999.942520  235.417900  235.417900  120.292700  120.292700   \n",
       "1699999  25000.000000  234.885300  234.885300  120.293900  120.293900   \n",
       "\n",
       "             albch4       albo2       albo3  \n",
       "0          0.551133    0.551133    0.529546  \n",
       "1          0.551138    0.551138    0.529549  \n",
       "2          0.551143    0.551143    0.529552  \n",
       "3          0.551149    0.551149    0.529555  \n",
       "4          0.551154    0.551154    0.529559  \n",
       "...             ...         ...         ...  \n",
       "1699995  120.289100  120.289100  120.289100  \n",
       "1699996  120.290300  120.290300  120.290300  \n",
       "1699997  120.291500  120.291500  120.291500  \n",
       "1699998  120.292700  120.292700  120.292700  \n",
       "1699999  120.293900  120.293900  120.293900  \n",
       "\n",
       "[1700000 rows x 8 columns]"
      ]
     },
     "execution_count": 7,
     "metadata": {},
     "output_type": "execute_result"
    }
   ],
   "source": [
    "absor1"
   ]
  },
  {
   "cell_type": "code",
   "execution_count": 8,
   "id": "60b2af7b",
   "metadata": {},
   "outputs": [
    {
     "data": {
      "text/plain": [
       "(0.0, 1.5)"
      ]
     },
     "execution_count": 8,
     "metadata": {},
     "output_type": "execute_result"
    },
    {
     "data": {
      "image/png": "[encoded data removed]",
      "text/plain": [
       "<Figure size 432x288 with 1 Axes>"
      ]
     },
     "metadata": {
      "needs_background": "light"
     },
     "output_type": "display_data"
    }
   ],
   "source": [
    "plt.plot(absor1.nm,absor1.totalb)\n",
    "plt.plot(absor1.nm,alb_nogas)\n",
    "plt.xlim(600,1500)\n",
    "plt.ylim(0,1.5)"
   ]
  },
  {
   "cell_type": "code",
   "execution_count": 9,
   "id": "f3520984",
   "metadata": {},
   "outputs": [],
   "source": [
    "f_ref_earth_fit =[]\n",
    "for i in range(len(f_tra1_fum0)):\n",
    "    f_ref_earth_fit.append(np.interp(absor1.nm[:1079300]/1000,f_traAng[i],f_tra1_fum0[i]))"
   ]
  },
  {
   "cell_type": "code",
   "execution_count": 10,
   "id": "09b2763b",
   "metadata": {},
   "outputs": [],
   "source": [
    "Flux_surface = []\n",
    "for i in range(len(f_ref_earth_fit)):\n",
    "    Flux_surface.append((f_ref_earth_fit[i][1:] * np.diff(absor1.nm[:1079300]/1000) * u.um).to(u.W/u.m**2))"
   ]
  },
  {
   "cell_type": "code",
   "execution_count": 11,
   "id": "35945d05",
   "metadata": {},
   "outputs": [],
   "source": [
    "df = (pts.SRadiusSun * const.R_sun / (pts.SMAAU * const.au))**2\n",
    "\n",
    "f_ref_p = np.array(Flux_surface)* np.array(df).reshape(-1,1)\n",
    "f_ref_earth = f_ref_p* np.pi * np.array(((pts.RadiusEar * const.R_earth)**2 / (4 * np.pi * (pts.DistancePC * const.pc)**2))).reshape(-1,1)\n",
    "f_ref_earth_fit = f_ref_earth \n",
    "\n",
    "modern_earth_abd_fit = np.array(my_list_norabd[1:1079300])*0.3\n",
    "f_ref_planet_earth_fit = [i * modern_earth_abd_fit for i in f_ref_earth_fit] #w/m2\n",
    "flux_tot = np.array(f_ref_planet_earth_fit)+np.array(Flux_tbd_planet_earth)\n",
    "wl_um_check = np.linspace(0.5,2.45,1950) * u.um\n",
    "\n",
    "Range_min=wl_um_check-np.diff(wl_um_check)[1]*0.5\n",
    "Range_max=wl_um_check+np.diff(wl_um_check)[1]*0.5\n",
    "bin_range=[]\n",
    "for i in range(len(wl_um_check)):\n",
    "    bin_range.append(np.where((absor1.nm[1:1079300]/1000 < Range_max[i]/u.um) & (absor1.nm[1:1079300]/1000 > Range_min[i]/u.um)))\n",
    "flux_bin = [[],[],[],[],[],[],[],[],[],[],[],[]]#W/m**2\n",
    "for a in range(len(flux_tot)):\n",
    "    for i in range(len(bin_range)):\n",
    "        flux_bin[a].append(np.sum(flux_tot[a][bin_range[i]]))\n",
    "        \n",
    "\n",
    "# NO GAS\n",
    "my_list_Noabd = alb_nogas*0+1\n",
    "tbd_planet_no=[]\n",
    "\n",
    "for i in range(len(pts.Teq)):\n",
    "    tbd_planet_no.append(np.array(my_list_Noabd[:1079300]) * 2 * const.h *const.c**2 / ((wl_um2)**5 * (np.e**(const.c * const.h / (wl_um2 *const.k_B * pts.Teq[i] * u.K)) - 1)))\n",
    "tbd_planet_earth_no = []\n",
    "for i in range(len(tbd_planet_no)):\n",
    "    tbd_planet_earth_no.append((tbd_planet_no[i] * ste[i]).to(u.erg/(u.s * u.cm**2 * u.um)))\n",
    "Flux_tbd_planet_earth_no =[]\n",
    "for i in range(len(tbd_planet_earth_no)):\n",
    "    Flux_tbd_planet_earth_no.append((tbd_planet_earth_no[i][1:] * np.diff(wl_um2)).to(u.W/u.m**2))\n",
    "##\n",
    "modern_earth_abd_fit_no = np.array(my_list_norabd[1:1079300])*0 + 0.3\n",
    "f_ref_planet_earth_fit_no = [i * modern_earth_abd_fit_no for i in f_ref_earth_fit]\n",
    "flux_tot_no = np.array(f_ref_planet_earth_fit_no)+np.array(Flux_tbd_planet_earth_no)\n",
    "\n",
    "flux_bin_no = [[],[],[],[],[],[],[],[],[],[],[],[]]#W/m**2\n",
    "for a in range(len(flux_tot_no)):\n",
    "    for i in range(len(bin_range)):\n",
    "        flux_bin_no[a].append(np.sum(flux_tot_no[a][bin_range[i]]))"
   ]
  },
  {
   "cell_type": "markdown",
   "id": "ab9e01c5",
   "metadata": {},
   "source": [
    "---\n",
    "\n",
    "# Star"
   ]
  },
  {
   "cell_type": "code",
   "execution_count": 12,
   "id": "04d32c30",
   "metadata": {},
   "outputs": [],
   "source": [
    "import numpy as np\n",
    "import pandas as pd\n",
    "import matplotlib.pyplot as plt\n",
    "from astropy import units as u\n",
    "from astropy import constants as const\n",
    "from astropy.nddata import NDData"
   ]
  },
  {
   "cell_type": "code",
   "execution_count": 13,
   "id": "da8754ac",
   "metadata": {},
   "outputs": [],
   "source": [
    "h = const.h\n",
    "wl_um = np.linspace(0.5,2.45,1950) * u.um\n",
    "c = const.c #unit:m/s\n",
    "wl_m = (wl_um).to(u.m)\n",
    "pe_1 = h * c / (wl_um).to(u.um)\n",
    "wl_um_check = np.linspace(0.5,2.45,1950)*u.um"
   ]
  },
  {
   "cell_type": "code",
   "execution_count": 14,
   "id": "c5410217",
   "metadata": {},
   "outputs": [],
   "source": [
    "df_s = (pts.SRadiusSun * const.R_sun / (pts.DistancePC * const.pc))**2\n",
    "f_s = np.array(Flux_surface)*np.array(df_s).reshape(-1,1)\n",
    "f_s_fit = f_s \n",
    "flux_bin_s = [[],[],[],[],[],[],[],[],[],[],[],[]]#W/m**2\n",
    "for a in range(len(f_s_fit)):\n",
    "    for i in range(len(bin_range)):\n",
    "        flux_bin_s[a].append(np.sum(f_s_fit[a][bin_range[i]]))"
   ]
  },
  {
   "cell_type": "code",
   "execution_count": 15,
   "id": "ad3f2965",
   "metadata": {},
   "outputs": [],
   "source": [
    "pts=pd.read_csv('/Users/huihaoz/Downloads/PT_PES.txt', sep=',')\n",
    "R = 3500 # here we set Reseolution = 1000\n",
    "t = 10*60*60*u.s # here we set time = 1h with unit:s\n",
    "S = (3930 * 0.5)**2 * np.pi *u.cm * u.cm #here we set diameter as the first diameter with unit:cm\n",
    "tele_tp = 0.1"
   ]
  },
  {
   "cell_type": "code",
   "execution_count": 16,
   "id": "48ae2ddf",
   "metadata": {},
   "outputs": [
    {
     "data": {
      "text/latex": [
       "$[3.9728917 \\times 10^{-25},~3.9649577 \\times 10^{-25},~3.9570554 \\times 10^{-25},~\\dots,~8.1145698 \\times 10^{-26},~8.1112547 \\times 10^{-26},~8.1079423 \\times 10^{-26}] \\; \\mathrm{\\frac{J\\,m}{\\mu m}}$"
      ],
      "text/plain": [
       "<Quantity [3.97289171e-25, 3.96495773e-25, 3.95705537e-25, ...,\n",
       "           8.11456981e-26, 8.11125469e-26, 8.10794227e-26] J m / um>"
      ]
     },
     "execution_count": 16,
     "metadata": {},
     "output_type": "execute_result"
    }
   ],
   "source": [
    "pe_1"
   ]
  },
  {
   "cell_type": "code",
   "execution_count": 17,
   "id": "42ba738e",
   "metadata": {},
   "outputs": [
    {
     "data": {
      "text/latex": [
       "$[0.5,~0.50100051,~0.50200103,~\\dots,~2.447999,~2.4489995,~2.45] \\; \\mathrm{\\mu m}$"
      ],
      "text/plain": [
       "<Quantity [0.5       , 0.50100051, 0.50200103, ..., 2.44799897, 2.44899949,\n",
       "           2.45      ] um>"
      ]
     },
     "execution_count": 17,
     "metadata": {},
     "output_type": "execute_result"
    }
   ],
   "source": [
    "wl_um_check"
   ]
  },
  {
   "cell_type": "code",
   "execution_count": 18,
   "id": "0ddd82e2",
   "metadata": {},
   "outputs": [],
   "source": [
    "pn_0_elt=(np.array(flux_bin_s[0])*u.W/u.m**2 *tele_tp*S*t/(pe_1)).to(u.m/u.m)\n",
    "pn_1_elt=(np.array(flux_bin_s[1])*u.W/u.m**2 *tele_tp*S*t/(pe_1)).to(u.m/u.m)\n",
    "pn_2_elt=(np.array(flux_bin_s[2])*u.W/u.m**2 *tele_tp*S*t/(pe_1)).to(u.m/u.m)\n",
    "pn_3_elt=(np.array(flux_bin_s[3])*u.W/u.m**2 *tele_tp*S*t/(pe_1)).to(u.m/u.m)\n",
    "pn_4_elt=(np.array(flux_bin_s[4])*u.W/u.m**2 *tele_tp*S*t/(pe_1)).to(u.m/u.m)\n",
    "pn_5_elt=(np.array(flux_bin_s[5])*u.W/u.m**2 *tele_tp*S*t/(pe_1)).to(u.m/u.m)\n",
    "pn_6_elt=(np.array(flux_bin_s[6])*u.W/u.m**2 *tele_tp*S*t/(pe_1)).to(u.m/u.m)\n",
    "pn_7_elt=(np.array(flux_bin_s[7])*u.W/u.m**2 *tele_tp*S*t/(pe_1)).to(u.m/u.m)\n",
    "pn_8_elt=(np.array(flux_bin_s[8])*u.W/u.m**2 *tele_tp*S*t/(pe_1)).to(u.m/u.m)\n",
    "pn_9_elt=(np.array(flux_bin_s[9])*u.W/u.m**2 *tele_tp*S*t/(pe_1)).to(u.m/u.m)\n",
    "pn_10_elt=(np.array(flux_bin_s[10])*u.W/u.m**2 *tele_tp*S*t/(pe_1)).to(u.m/u.m)\n",
    "pn_11_elt=(np.array(flux_bin_s[11])*u.W/u.m**2 *tele_tp*S*t/(pe_1)).to(u.m/u.m)"
   ]
  },
  {
   "cell_type": "code",
   "execution_count": 19,
   "id": "9bec2633",
   "metadata": {},
   "outputs": [],
   "source": [
    "phe_1e=[i * u.W/u.m**2 for i in flux_bin] #new method, f_palnet"
   ]
  },
  {
   "cell_type": "code",
   "execution_count": 20,
   "id": "f5ce9a3b",
   "metadata": {},
   "outputs": [],
   "source": [
    "pn_0e_elt=(np.array(phe_1e[0])*u.W/u.m**2 *tele_tp*S*t/(pe_1)).to(u.m/u.m)\n",
    "pn_1e_elt=(np.array(phe_1e[1])*u.W/u.m**2 *tele_tp*S*t/(pe_1)).to(u.m/u.m)\n",
    "pn_2e_elt=(np.array(phe_1e[2])*u.W/u.m**2 *tele_tp*S*t/(pe_1)).to(u.m/u.m)\n",
    "pn_3e_elt=(np.array(phe_1e[3])*u.W/u.m**2 *tele_tp*S*t/(pe_1)).to(u.m/u.m)\n",
    "pn_4e_elt=(np.array(phe_1e[4])*u.W/u.m**2 *tele_tp*S*t/(pe_1)).to(u.m/u.m)\n",
    "pn_5e_elt=(np.array(phe_1e[5])*u.W/u.m**2 *tele_tp*S*t/(pe_1)).to(u.m/u.m)\n",
    "pn_6e_elt=(np.array(phe_1e[6])*u.W/u.m**2 *tele_tp*S*t/(pe_1)).to(u.m/u.m)\n",
    "pn_7e_elt=(np.array(phe_1e[7])*u.W/u.m**2 *tele_tp*S*t/(pe_1)).to(u.m/u.m)\n",
    "pn_8e_elt=(np.array(phe_1e[8])*u.W/u.m**2 *tele_tp*S*t/(pe_1)).to(u.m/u.m)\n",
    "pn_9e_elt=(np.array(phe_1e[9])*u.W/u.m**2 *tele_tp*S*t/(pe_1)).to(u.m/u.m)\n",
    "pn_10e_elt=(np.array(phe_1e[10])*u.W/u.m**2 *tele_tp*S*t/(pe_1)).to(u.m/u.m)\n",
    "pn_11e_elt=(np.array(phe_1e[11])*u.W/u.m**2 *tele_tp*S*t/(pe_1)).to(u.m/u.m)"
   ]
  },
  {
   "cell_type": "markdown",
   "id": "4248dacf",
   "metadata": {},
   "source": [
    "# Noise"
   ]
  },
  {
   "cell_type": "code",
   "execution_count": 21,
   "id": "f7f9249b",
   "metadata": {},
   "outputs": [],
   "source": [
    "pe_1 = h * c / (wl_um).to(u.um) #energy of photon\n",
    "ste_atmo2 = ((2*u.um / (39.3*u.m))**2 * u.steradian).to(u.arcsec**2) #ste\n",
    "n_s = pd.read_csv('/Users/huihaoz/Documents/reseatch/radiance.dat.txt', comment = '#', delimiter='\\s+')\n",
    "wl_ns = (np.array(n_s[\"wavelength(nm)\"])*u.nm).to(u.um)\n",
    "bri_surface = np.array(n_s[\"ph/sec/arcsec^2/um/m^2\"])*u.ph/(u.m**2 * u.s * u.arcsec**2 *u.um)\n",
    "pe_ns = (h * c /wl_ns).to(u.J)/u.ph\n",
    "st = ste_atmo2\n",
    "f_n_s = ((bri_surface *pe_ns).to(u.W/(u.m**2 * u.um * u.steradian))*st*np.diff(wl_ns)[1]).to(u.W/u.m**2)\n",
    "bin_range_n = []\n",
    "\n",
    "for i in range(len(wl_um)):\n",
    "    bin_range_n.append(np.where((wl_ns/u.um < Range_max[i]/u.um) & (wl_ns/u.um > Range_min[i]/u.um)))\n",
    "f_r_n=[]\n",
    "for i in range(len(bin_range_n)):\n",
    "    f_r_n.append(np.sum(f_n_s[bin_range_n[i]]).value)\n",
    "pe_e = (h * c / wl_um).to(u.J)\n",
    "noif_sky =(np.array(f_r_n)*u.W/u.m**2)\n",
    "pnsky_1_elt=(tele_tp*noif_sky*S*t*wl_um/(pe_1*u.um)).to(u.m/u.m)"
   ]
  },
  {
   "cell_type": "code",
   "execution_count": 22,
   "id": "e7f4445b",
   "metadata": {},
   "outputs": [],
   "source": [
    "trans = pd.read_csv('/Users/huihaoz/Documents/reseatch/transmission.dat.txt', comment = '#', delimiter='\\s+')\n",
    "trans_use = np.interp(wl_um/u.um,trans[\"wavelength(nm)\"]/1000,trans[\"transmission\"])\n",
    "pn_pla_elt=[pn_0e_elt,pn_1e_elt,pn_2e_elt,pn_3e_elt,pn_4e_elt,pn_5e_elt,pn_6e_elt,pn_7e_elt,pn_8e_elt,pn_9e_elt,pn_10e_elt,pn_11e_elt]\n",
    "pn_star_elt=[pn_0_elt,pn_1_elt,pn_2_elt,pn_3_elt,pn_4_elt,pn_5_elt,pn_6_elt,pn_7_elt,pn_8_elt,pn_9_elt,pn_10_elt,pn_11_elt]\n",
    "nor_trans = np.random.normal(trans_use,0.001*trans_use)"
   ]
  },
  {
   "cell_type": "code",
   "execution_count": 23,
   "id": "be279303",
   "metadata": {},
   "outputs": [],
   "source": [
    "\n",
    "c_1 = 10**(-3)\n",
    "n_0 = ((((pn_0e_elt+2*c_1*pn_0_elt)*trans_use+2*pnsky_1_elt)**(1/2) / nor_trans)**2 + (0.001)**2 * pn_0e_elt**2)**(1/2)\n",
    "n_1 = ((((pn_1e_elt+2*c_1*pn_1_elt)*trans_use+2*pnsky_1_elt)**(1/2) / nor_trans)**2 + (0.001)**2 * pn_1e_elt**2)**(1/2)\n",
    "n_2 = ((((pn_2e_elt+2*c_1*pn_2_elt)*trans_use+2*pnsky_1_elt)**(1/2) / nor_trans)**2 + (0.001)**2 * pn_2e_elt**2)**(1/2)\n",
    "n_3 = ((((pn_3e_elt+2*c_1*pn_3_elt)*trans_use+2*pnsky_1_elt)**(1/2) / nor_trans)**2 + (0.001)**2 * pn_3e_elt**2)**(1/2)\n",
    "n_4 = ((((pn_4e_elt+2*c_1*pn_4_elt)*trans_use+2*pnsky_1_elt)**(1/2) / nor_trans)**2 + (0.001)**2 * pn_4e_elt**2)**(1/2)\n",
    "n_5 = ((((pn_5e_elt+2*c_1*pn_5_elt)*trans_use+2*pnsky_1_elt)**(1/2) / nor_trans)**2 + (0.001)**2 * pn_5e_elt**2)**(1/2)\n",
    "n_6 = ((((pn_6e_elt+2*c_1*pn_6_elt)*trans_use+2*pnsky_1_elt)**(1/2) / nor_trans)**2 + (0.001)**2 * pn_6e_elt**2)**(1/2)\n",
    "n_7 = ((((pn_7e_elt+2*c_1*pn_7_elt)*trans_use+2*pnsky_1_elt)**(1/2) / nor_trans)**2 + (0.001)**2 * pn_7e_elt**2)**(1/2)\n",
    "n_8 = ((((pn_8e_elt+2*c_1*pn_8_elt)*trans_use+2*pnsky_1_elt)**(1/2) / nor_trans)**2 + (0.001)**2 * pn_8e_elt**2)**(1/2)\n",
    "n_9 = ((((pn_9e_elt+2*c_1*pn_9_elt)*trans_use+2*pnsky_1_elt)**(1/2) / nor_trans)**2 + (0.001)**2 * pn_9e_elt**2)**(1/2)\n",
    "n_10 = ((((pn_10e_elt+2*c_1*pn_10_elt)*trans_use+2*pnsky_1_elt)**(1/2) / nor_trans)**2 + (0.001)**2 * pn_10e_elt**2)**(1/2)\n",
    "n_11 = ((((pn_11e_elt+2*c_1*pn_11_elt)*trans_use+2*pnsky_1_elt)**(1/2) / nor_trans)**2 + (0.001)**2 * pn_11e_elt**2)**(1/2)"
   ]
  },
  {
   "cell_type": "markdown",
   "id": "2fd8c43a",
   "metadata": {},
   "source": [
    "# No gas"
   ]
  },
  {
   "cell_type": "code",
   "execution_count": 24,
   "id": "cb40df65",
   "metadata": {},
   "outputs": [],
   "source": [
    "phe_1e_nogas=[i * u.W/u.m**2 for i in flux_bin_no] #changed"
   ]
  },
  {
   "cell_type": "code",
   "execution_count": 25,
   "id": "9078cb23",
   "metadata": {
    "scrolled": false
   },
   "outputs": [],
   "source": [
    "pn_0e_elt_nogas=(np.array(phe_1e_nogas[0])*u.W/u.m**2 *tele_tp*S*t/(pe_1)).to(u.m/u.m)\n",
    "pn_1e_elt_nogas=(np.array(phe_1e_nogas[1])*u.W/u.m**2 *tele_tp*S*t/(pe_1)).to(u.m/u.m)\n",
    "pn_2e_elt_nogas=(np.array(phe_1e_nogas[2])*u.W/u.m**2 *tele_tp*S*t/(pe_1)).to(u.m/u.m)\n",
    "pn_3e_elt_nogas=(np.array(phe_1e_nogas[3])*u.W/u.m**2 *tele_tp*S*t/(pe_1)).to(u.m/u.m)\n",
    "pn_4e_elt_nogas=(np.array(phe_1e_nogas[4])*u.W/u.m**2 *tele_tp*S*t/(pe_1)).to(u.m/u.m)\n",
    "pn_5e_elt_nogas=(np.array(phe_1e_nogas[5])*u.W/u.m**2 *tele_tp*S*t/(pe_1)).to(u.m/u.m)\n",
    "pn_6e_elt_nogas=(np.array(phe_1e_nogas[6])*u.W/u.m**2 *tele_tp*S*t/(pe_1)).to(u.m/u.m)\n",
    "pn_7e_elt_nogas=(np.array(phe_1e_nogas[7])*u.W/u.m**2 *tele_tp*S*t/(pe_1)).to(u.m/u.m)\n",
    "pn_8e_elt_nogas=(np.array(phe_1e_nogas[8])*u.W/u.m**2 *tele_tp*S*t/(pe_1)).to(u.m/u.m)\n",
    "pn_9e_elt_nogas=(np.array(phe_1e_nogas[9])*u.W/u.m**2 *tele_tp*S*t/(pe_1)).to(u.m/u.m)\n",
    "pn_10e_elt_nogas=(np.array(phe_1e_nogas[10])*u.W/u.m**2 *tele_tp*S*t/(pe_1)).to(u.m/u.m)\n",
    "pn_11e_elt_nogas=(np.array(phe_1e_nogas[11])*u.W/u.m**2 *tele_tp*S*t/(pe_1)).to(u.m/u.m)"
   ]
  },
  {
   "cell_type": "code",
   "execution_count": 26,
   "id": "09fa1bf8",
   "metadata": {},
   "outputs": [],
   "source": [
    "dn = np.array([pn_0e_elt_nogas-pn_0e_elt,pn_1e_elt_nogas-pn_1e_elt,pn_2e_elt_nogas-pn_2e_elt,pn_3e_elt_nogas-pn_3e_elt,pn_4e_elt_nogas-pn_4e_elt,pn_5e_elt_nogas-pn_5e_elt,pn_6e_elt_nogas-pn_6e_elt,pn_7e_elt_nogas-pn_7e_elt,pn_8e_elt_nogas-pn_8e_elt,pn_9e_elt_nogas-pn_9e_elt,pn_10e_elt_nogas-pn_10e_elt,pn_11e_elt_nogas-pn_11e_elt])\n",
    "dnr = np.array([n_0,n_1,n_2,n_3,n_4,n_5,n_6,n_7,n_8,n_9,n_10,n_11])"
   ]
  },
  {
   "cell_type": "raw",
   "id": "6847209a",
   "metadata": {},
   "source": [
    "(((pn_0e_elt+2*c_1*pn_0_elt)*trans_use+2*pnsky_1_elt)**(1/2) / nor_trans)**2\n",
    "pn_e_elt  = np.array([pn_0e_elt,pn_1e_elt,pn_2e_elt,pn_3e_elt,pn_4e_elt,pn_5e_elt,pn_6e_elt,pn_7e_elt,pn_8e_elt,pn_9e_elt,pn_10e_elt,pn_11e_elt,pn_12e_elt,pn_13e_elt,pn_14e_elt,pn_15e_elt])\n",
    "pn_e_elt_not  = np.array([pn_0e_elt,pn_1e_elt,pn_2e_elt,pn_3e_elt,pn_4e_elt,pn_5e_elt,pn_6e_elt,pn_7e_elt,pn_8e_elt,pn_9e_elt,pn_10e_elt,pn_11e_elt,pn_12e_elt,pn_13e_elt,pn_14e_elt,pn_15e_elt])/t\n",
    "pn__elt_not = np.array([pn_0_elt,pn_1_elt,pn_2_elt,pn_3_elt,pn_4_elt,pn_5_elt,pn_6_elt,pn_7_elt,pn_8_elt,pn_9_elt,pn_10_elt,pn_11_elt,pn_12_elt,pn_13_elt,pn_14_elt,pn_15_elt])/t\n",
    "SN = 5\n",
    "pnsky_1_elt_not = pnsky_1_elt / t"
   ]
  },
  {
   "cell_type": "raw",
   "id": "2640b2f2",
   "metadata": {},
   "source": [
    "\n",
    "np.array(((nor_trans)**2 / ((pn_e_elt_not+2*c_1*pn__elt_not)*trans_use+2*pnsky_1_elt_not)))\n",
    "np.array(((dn/ (t * SN))**2) -((0.001 * pn_e_elt_not)**2))"
   ]
  },
  {
   "cell_type": "markdown",
   "id": "132a20b3",
   "metadata": {},
   "source": [
    "# OK, all data debuged(above)\n",
    "---"
   ]
  },
  {
   "cell_type": "code",
   "execution_count": 27,
   "id": "a10bca2a",
   "metadata": {},
   "outputs": [],
   "source": [
    "h2o_f=(0.3-0.3*(absor1.albH2O[:1079300]/alb_nogas[:1079300]))\n",
    "co2_f=(0.3-0.3*(absor1.albco2[:1079300]/alb_nogas[:1079300]))\n",
    "ch4_f=(0.3-0.3*(absor1.albch4[:1079300]/alb_nogas[:1079300]))\n",
    "o2_f=(0.3-0.3*(absor1.albo2[:1079300]/alb_nogas[:1079300]))"
   ]
  },
  {
   "cell_type": "markdown",
   "id": "c6c1f13b",
   "metadata": {},
   "source": [
    "O2"
   ]
  },
  {
   "cell_type": "code",
   "execution_count": 28,
   "id": "c7874597",
   "metadata": {},
   "outputs": [],
   "source": [
    "# Split a Python List into Chunks using For Loops\n",
    "our_list = np.array(o2_f)\n",
    "chunked_list = list()\n",
    "chunk_size = 251*5*2\n",
    "for i in range(0, len(our_list), chunk_size):\n",
    "    chunked_list.append(our_list[i:i+chunk_size])\n",
    "    \n",
    "our_listwl = np.array(absor1.nm[:1079300] / 1000)\n",
    "chunked_listwl = list()\n",
    "chunk_sizewl = 251*5*2\n",
    "for i in range(0, len(our_listwl), chunk_sizewl):\n",
    "    chunked_listwl.append(our_listwl[i:i+chunk_sizewl])\n",
    "    \n",
    "y_fit_index = np.linspace(0,429,430,dtype = int)\n",
    "wl_fit_index = [np.argmax(chunked_list[i]) for i in y_fit_index] #just for check\n",
    "\n",
    "pn_fit_non = [max(chunked_list[i]) for i in y_fit_index]\n",
    "wl_fit_non = [chunked_listwl[i][np.argmax(chunked_list[i])] for i in y_fit_index]\n",
    "interp_o2 = np.interp(wl_um/u.um,wl_fit_non,np.array(pn_fit_non))\n",
    "baseline_feat = absor1.albo2[300000]*0.5*0.5\n",
    "ind_o2 = np.where((interp_o2>0.15))"
   ]
  },
  {
   "cell_type": "code",
   "execution_count": 29,
   "id": "9339ce11",
   "metadata": {},
   "outputs": [],
   "source": [
    "# Split a Python List into Chunks using For Loops\n",
    "our_list = np.array(h2o_f)\n",
    "chunked_list = list()\n",
    "chunk_size = 251*5*2\n",
    "for i in range(0, len(our_list), chunk_size):\n",
    "    chunked_list.append(our_list[i:i+chunk_size])\n",
    "    \n",
    "our_listwl = np.array(absor1.nm[:1079300] / 1000)\n",
    "chunked_listwl = list()\n",
    "chunk_sizewl = 251*5*2\n",
    "for i in range(0, len(our_listwl), chunk_sizewl):\n",
    "    chunked_listwl.append(our_listwl[i:i+chunk_sizewl])\n",
    "    \n",
    "y_fit_index = np.linspace(0,429,430,dtype = int)\n",
    "wl_fit_index = [np.argmax(chunked_list[i]) for i in y_fit_index] #just for check\n",
    "\n",
    "pn_fit_non = [max(chunked_list[i]) for i in y_fit_index]\n",
    "wl_fit_non = [chunked_listwl[i][np.argmax(chunked_list[i])] for i in y_fit_index]\n",
    "interp_h2o = np.interp(wl_um/u.um,wl_fit_non,np.array(pn_fit_non))\n",
    "ind_h2o = np.where((interp_h2o>0.15))"
   ]
  },
  {
   "cell_type": "code",
   "execution_count": 30,
   "id": "856343ba",
   "metadata": {},
   "outputs": [
    {
     "data": {
      "text/plain": [
       "1950"
      ]
     },
     "execution_count": 30,
     "metadata": {},
     "output_type": "execute_result"
    }
   ],
   "source": [
    "len(interp_h2o)"
   ]
  },
  {
   "cell_type": "code",
   "execution_count": 31,
   "id": "1ef92e7c",
   "metadata": {},
   "outputs": [
    {
     "data": {
      "text/latex": [
       "$[0.5,~0.50100051,~0.50200103,~\\dots,~2.447999,~2.4489995,~2.45] \\; \\mathrm{\\mu m}$"
      ],
      "text/plain": [
       "<Quantity [0.5       , 0.50100051, 0.50200103, ..., 2.44799897, 2.44899949,\n",
       "           2.45      ] um>"
      ]
     },
     "execution_count": 31,
     "metadata": {},
     "output_type": "execute_result"
    }
   ],
   "source": [
    "wl_um"
   ]
  },
  {
   "cell_type": "code",
   "execution_count": 32,
   "id": "30c2aafe",
   "metadata": {},
   "outputs": [
    {
     "data": {
      "text/latex": [
       "$[0.90020523,~0.90120575,~0.90220626,~\\dots,~2.447999,~2.4489995,~2.45] \\; \\mathrm{\\mu m}$"
      ],
      "text/plain": [
       "<Quantity [0.90020523, 0.90120575, 0.90220626, 0.90320677, 0.93022063,\n",
       "           0.93122114, 0.93222165, 0.93322217, 0.93422268, 0.93522319,\n",
       "           0.9362237 , 0.93722422, 0.93822473, 0.93922524, 0.94022576,\n",
       "           0.94122627, 0.94222678, 0.9432273 , 0.94422781, 0.94522832,\n",
       "           0.94622884, 0.94722935, 0.94822986, 0.94923037, 0.95023089,\n",
       "           0.9512314 , 0.95223191, 0.95323243, 0.95423294, 0.95523345,\n",
       "           0.95623397, 0.95723448, 0.95823499, 0.95923551, 0.96023602,\n",
       "           0.96123653, 0.96223704, 0.96323756, 0.96423807, 0.96523858,\n",
       "           0.9662391 , 0.96723961, 1.11431503, 1.11531555, 1.11631606,\n",
       "           1.11731657, 1.11831709, 1.1193176 , 1.12031811, 1.12131862,\n",
       "           1.12231914, 1.12331965, 1.12432016, 1.12532068, 1.12632119,\n",
       "           1.1273217 , 1.12832222, 1.12932273, 1.13032324, 1.13132376,\n",
       "           1.13232427, 1.13332478, 1.1343253 , 1.13532581, 1.13632632,\n",
       "           1.13732683, 1.13832735, 1.13932786, 1.14032837, 1.14132889,\n",
       "           1.1423294 , 1.14332991, 1.14433043, 1.14533094, 1.14633145,\n",
       "           1.14733197, 1.14833248, 1.14933299, 1.1503335 , 1.15133402,\n",
       "           1.15233453, 1.15333504, 1.15433556, 1.15533607, 1.15633658,\n",
       "           1.1573371 , 1.15833761, 1.15933812, 1.16033864, 1.31641868,\n",
       "           1.31741919, 1.3184197 , 1.31942022, 1.32042073, 1.32742432,\n",
       "           1.32842483, 1.32942535, 1.33042586, 1.33142637, 1.33242689,\n",
       "           1.3334274 , 1.33442791, 1.33542842, 1.33642894, 1.33742945,\n",
       "           1.33842996, 1.33943048, 1.34043099, 1.3414315 , 1.34243202,\n",
       "           1.34343253, 1.34443304, 1.34543356, 1.34643407, 1.34743458,\n",
       "           1.34843509, 1.34943561, 1.35043612, 1.35143663, 1.35243715,\n",
       "           1.35343766, 1.35443817, 1.35543869, 1.3564392 , 1.35743971,\n",
       "           1.35844023, 1.35944074, 1.36044125, 1.36144177, 1.36244228,\n",
       "           1.36344279, 1.3644433 , 1.36544382, 1.36644433, 1.36744484,\n",
       "           1.36844536, 1.36944587, 1.37044638, 1.3714469 , 1.37244741,\n",
       "           1.37344792, 1.37444844, 1.37544895, 1.37644946, 1.37744997,\n",
       "           1.37845049, 1.379451  , 1.38045151, 1.38145203, 1.38245254,\n",
       "           1.38345305, 1.38445357, 1.38545408, 1.38645459, 1.38745511,\n",
       "           1.38845562, 1.38945613, 1.39045664, 1.39145716, 1.39245767,\n",
       "           1.39345818, 1.3944587 , 1.39545921, 1.39645972, 1.39746024,\n",
       "           1.39846075, 1.39946126, 1.40046178, 1.40146229, 1.4024628 ,\n",
       "           1.40346331, 1.40446383, 1.40546434, 1.40646485, 1.40746537,\n",
       "           1.40846588, 1.40946639, 1.41046691, 1.41146742, 1.41246793,\n",
       "           1.41346845, 1.41446896, 1.41546947, 1.41646998, 1.4174705 ,\n",
       "           1.41847101, 1.41947152, 1.42047204, 1.42147255, 1.42247306,\n",
       "           1.42347358, 1.42447409, 1.4254746 , 1.42647512, 1.42747563,\n",
       "           1.42847614, 1.42947665, 1.43047717, 1.43147768, 1.43247819,\n",
       "           1.43347871, 1.43447922, 1.43547973, 1.43648025, 1.43748076,\n",
       "           1.43848127, 1.43948179, 1.4404823 , 1.44148281, 1.44248332,\n",
       "           1.44348384, 1.44448435, 1.44548486, 1.44648538, 1.44748589,\n",
       "           1.4484864 , 1.44948692, 1.45048743, 1.45148794, 1.45248846,\n",
       "           1.45348897, 1.45448948, 1.45548999, 1.45649051, 1.45749102,\n",
       "           1.45849153, 1.45949205, 1.46049256, 1.46149307, 1.46249359,\n",
       "           1.4634941 , 1.46449461, 1.46549513, 1.46649564, 1.46749615,\n",
       "           1.46849666, 1.46949718, 1.47049769, 1.4714982 , 1.47249872,\n",
       "           1.47349923, 1.47449974, 1.47550026, 1.47650077, 1.47750128,\n",
       "           1.4785018 , 1.47950231, 1.48050282, 1.48150334, 1.48250385,\n",
       "           1.48350436, 1.48450487, 1.48550539, 1.4865059 , 1.48750641,\n",
       "           1.48850693, 1.48950744, 1.49050795, 1.49150847, 1.49250898,\n",
       "           1.49350949, 1.49451001, 1.49551052, 1.49651103, 1.761647  ,\n",
       "           1.76264751, 1.76364802, 1.76464854, 1.76564905, 1.76664956,\n",
       "           1.76765008, 1.76865059, 1.7696511 , 1.77065162, 1.77165213,\n",
       "           1.77265264, 1.77365316, 1.77465367, 1.77565418, 1.77665469,\n",
       "           1.77765521, 1.77865572, 1.77965623, 1.78065675, 1.78165726,\n",
       "           1.78265777, 1.78365829, 1.7846588 , 1.78565931, 1.78665983,\n",
       "           1.78766034, 1.78866085, 1.78966136, 1.79066188, 1.79166239,\n",
       "           1.7926629 , 1.79366342, 1.79466393, 1.79566444, 1.79666496,\n",
       "           1.79766547, 1.79866598, 1.7996665 , 1.80066701, 1.80166752,\n",
       "           1.80266803, 1.80366855, 1.80466906, 1.80566957, 1.80667009,\n",
       "           1.8076706 , 1.80867111, 1.80967163, 1.81067214, 1.81167265,\n",
       "           1.81267317, 1.81367368, 1.81467419, 1.8156747 , 1.81667522,\n",
       "           1.81767573, 1.81867624, 1.81967676, 1.82067727, 1.82167778,\n",
       "           1.8226783 , 1.82367881, 1.82467932, 1.82567984, 1.82668035,\n",
       "           1.82768086, 1.82868138, 1.82968189, 1.8306824 , 1.83168291,\n",
       "           1.83268343, 1.83368394, 1.83468445, 1.83568497, 1.83668548,\n",
       "           1.83768599, 1.83868651, 1.83968702, 1.84068753, 1.84168805,\n",
       "           1.84268856, 1.84368907, 1.84468958, 1.8456901 , 1.84669061,\n",
       "           1.84769112, 1.84869164, 1.84969215, 1.85069266, 1.85169318,\n",
       "           1.85269369, 1.8536942 , 1.85469472, 1.85569523, 1.85669574,\n",
       "           1.85769625, 1.85869677, 1.85969728, 1.86069779, 1.86169831,\n",
       "           1.86269882, 1.86369933, 1.86469985, 1.86570036, 1.86670087,\n",
       "           1.86770139, 1.8687019 , 1.86970241, 1.87070292, 1.87170344,\n",
       "           1.87270395, 1.87370446, 1.87470498, 1.87570549, 1.876706  ,\n",
       "           1.87770652, 1.87870703, 1.87970754, 1.88070806, 1.88170857,\n",
       "           1.88270908, 1.88370959, 1.88471011, 1.88571062, 1.88671113,\n",
       "           1.88771165, 1.88871216, 1.88971267, 1.89071319, 1.8917137 ,\n",
       "           1.89271421, 1.89371473, 1.89471524, 1.89571575, 1.89671626,\n",
       "           1.89771678, 1.89871729, 1.8997178 , 1.90071832, 1.90171883,\n",
       "           1.90271934, 1.90371986, 1.90472037, 1.90572088, 1.9067214 ,\n",
       "           1.90772191, 1.90872242, 1.90972293, 1.91072345, 1.91172396,\n",
       "           1.91272447, 1.91372499, 1.9147255 , 1.91572601, 1.91672653,\n",
       "           1.91772704, 1.91872755, 1.91972807, 1.92072858, 1.92172909,\n",
       "           1.9227296 , 1.92373012, 1.92473063, 1.92573114, 1.92673166,\n",
       "           1.92773217, 1.92873268, 1.9297332 , 1.93073371, 1.93173422,\n",
       "           1.93273474, 1.93373525, 1.93473576, 1.93573628, 1.93673679,\n",
       "           1.9377373 , 1.93873781, 1.93973833, 1.94073884, 1.94173935,\n",
       "           1.94273987, 1.94374038, 1.94474089, 1.94574141, 1.94674192,\n",
       "           1.94774243, 1.94874295, 1.94974346, 1.95074397, 1.95174448,\n",
       "           1.952745  , 1.95374551, 1.95474602, 1.95574654, 1.95674705,\n",
       "           1.95774756, 1.95874808, 1.95974859, 1.9607491 , 1.96174962,\n",
       "           1.96275013, 1.96375064, 1.96475115, 1.96575167, 1.96675218,\n",
       "           1.96775269, 1.96875321, 1.96975372, 1.97075423, 1.97175475,\n",
       "           1.97275526, 1.97375577, 1.97475629, 1.9757568 , 1.97675731,\n",
       "           1.97775782, 1.97875834, 1.97975885, 1.98075936, 1.98175988,\n",
       "           1.98276039, 1.9837609 , 1.98476142, 1.98576193, 1.98676244,\n",
       "           1.98776296, 1.98876347, 1.98976398, 2.37596203, 2.37696254,\n",
       "           2.37796306, 2.37896357, 2.37996408, 2.3809646 , 2.38196511,\n",
       "           2.38296562, 2.38396614, 2.38496665, 2.38596716, 2.38696768,\n",
       "           2.38796819, 2.3889687 , 2.38996921, 2.39096973, 2.39197024,\n",
       "           2.39297075, 2.39397127, 2.39497178, 2.39597229, 2.39697281,\n",
       "           2.39797332, 2.39897383, 2.39997435, 2.40097486, 2.40197537,\n",
       "           2.40297589, 2.4039764 , 2.40497691, 2.40597742, 2.40697794,\n",
       "           2.40797845, 2.40897896, 2.40997948, 2.41097999, 2.4119805 ,\n",
       "           2.41298102, 2.41398153, 2.41498204, 2.41598256, 2.41698307,\n",
       "           2.41798358, 2.41898409, 2.41998461, 2.42098512, 2.42198563,\n",
       "           2.42298615, 2.42398666, 2.42498717, 2.42598769, 2.4269882 ,\n",
       "           2.42798871, 2.42898923, 2.42998974, 2.43099025, 2.43199076,\n",
       "           2.43299128, 2.43399179, 2.4349923 , 2.43599282, 2.43699333,\n",
       "           2.43799384, 2.43899436, 2.43999487, 2.44099538, 2.4419959 ,\n",
       "           2.44299641, 2.44399692, 2.44499743, 2.44599795, 2.44699846,\n",
       "           2.44799897, 2.44899949, 2.45      ] um>"
      ]
     },
     "execution_count": 32,
     "metadata": {},
     "output_type": "execute_result"
    }
   ],
   "source": [
    "wl_um[ind_h2o]"
   ]
  },
  {
   "cell_type": "code",
   "execution_count": 33,
   "id": "43c3c5fa",
   "metadata": {},
   "outputs": [
    {
     "data": {
      "text/html": [
       "<div>\n",
       "<style scoped>\n",
       "    .dataframe tbody tr th:only-of-type {\n",
       "        vertical-align: middle;\n",
       "    }\n",
       "\n",
       "    .dataframe tbody tr th {\n",
       "        vertical-align: top;\n",
       "    }\n",
       "\n",
       "    .dataframe thead th {\n",
       "        text-align: right;\n",
       "    }\n",
       "</style>\n",
       "<table border=\"1\" class=\"dataframe\">\n",
       "  <thead>\n",
       "    <tr style=\"text-align: right;\">\n",
       "      <th></th>\n",
       "      <th>Planet</th>\n",
       "      <th>MassEar</th>\n",
       "      <th>RadiusEar</th>\n",
       "      <th>SMAAU</th>\n",
       "      <th>DistancePC</th>\n",
       "      <th>SRadiusSun</th>\n",
       "      <th>Slogg</th>\n",
       "      <th>STK</th>\n",
       "    </tr>\n",
       "  </thead>\n",
       "  <tbody>\n",
       "    <tr>\n",
       "      <th>0</th>\n",
       "      <td>GJ 1002 c</td>\n",
       "      <td>1.360</td>\n",
       "      <td>1.089911</td>\n",
       "      <td>0.07380</td>\n",
       "      <td>4.84867</td>\n",
       "      <td>0.1400</td>\n",
       "      <td>5.10</td>\n",
       "      <td>3024.0</td>\n",
       "    </tr>\n",
       "    <tr>\n",
       "      <th>1</th>\n",
       "      <td>GJ 1061 d</td>\n",
       "      <td>1.640</td>\n",
       "      <td>1.148567</td>\n",
       "      <td>0.05400</td>\n",
       "      <td>3.67278</td>\n",
       "      <td>0.1600</td>\n",
       "      <td>5.16</td>\n",
       "      <td>2953.0</td>\n",
       "    </tr>\n",
       "    <tr>\n",
       "      <th>2</th>\n",
       "      <td>GJ 667 C c</td>\n",
       "      <td>3.800</td>\n",
       "      <td>1.819741</td>\n",
       "      <td>0.12500</td>\n",
       "      <td>7.24396</td>\n",
       "      <td>0.3300</td>\n",
       "      <td>4.69</td>\n",
       "      <td>3350.0</td>\n",
       "    </tr>\n",
       "    <tr>\n",
       "      <th>3</th>\n",
       "      <td>GJ 682 b</td>\n",
       "      <td>4.400</td>\n",
       "      <td>1.984149</td>\n",
       "      <td>0.08000</td>\n",
       "      <td>5.00671</td>\n",
       "      <td>0.3000</td>\n",
       "      <td>4.93</td>\n",
       "      <td>3028.0</td>\n",
       "    </tr>\n",
       "    <tr>\n",
       "      <th>4</th>\n",
       "      <td>GJ 887 b</td>\n",
       "      <td>4.200</td>\n",
       "      <td>1.930431</td>\n",
       "      <td>0.06800</td>\n",
       "      <td>3.29000</td>\n",
       "      <td>0.4700</td>\n",
       "      <td>4.78</td>\n",
       "      <td>3688.0</td>\n",
       "    </tr>\n",
       "    <tr>\n",
       "      <th>5</th>\n",
       "      <td>Proxima Cen b</td>\n",
       "      <td>1.070</td>\n",
       "      <td>1.019125</td>\n",
       "      <td>0.04856</td>\n",
       "      <td>1.30119</td>\n",
       "      <td>0.1400</td>\n",
       "      <td>5.16</td>\n",
       "      <td>2900.0</td>\n",
       "    </tr>\n",
       "    <tr>\n",
       "      <th>6</th>\n",
       "      <td>Wolf 1061 c</td>\n",
       "      <td>3.410</td>\n",
       "      <td>1.707113</td>\n",
       "      <td>0.08900</td>\n",
       "      <td>4.30592</td>\n",
       "      <td>0.3100</td>\n",
       "      <td>4.90</td>\n",
       "      <td>3342.0</td>\n",
       "    </tr>\n",
       "    <tr>\n",
       "      <th>7</th>\n",
       "      <td>TRAPPIST-1 e</td>\n",
       "      <td>0.692</td>\n",
       "      <td>0.920000</td>\n",
       "      <td>0.02925</td>\n",
       "      <td>12.10000</td>\n",
       "      <td>0.1192</td>\n",
       "      <td>5.24</td>\n",
       "      <td>2566.0</td>\n",
       "    </tr>\n",
       "    <tr>\n",
       "      <th>8</th>\n",
       "      <td>TRAPPIST-1 h</td>\n",
       "      <td>0.326</td>\n",
       "      <td>0.755000</td>\n",
       "      <td>0.06189</td>\n",
       "      <td>12.10000</td>\n",
       "      <td>0.1192</td>\n",
       "      <td>5.24</td>\n",
       "      <td>2566.0</td>\n",
       "    </tr>\n",
       "    <tr>\n",
       "      <th>9</th>\n",
       "      <td>GJ 1002 b</td>\n",
       "      <td>1.080</td>\n",
       "      <td>1.021946</td>\n",
       "      <td>0.04570</td>\n",
       "      <td>4.84867</td>\n",
       "      <td>0.1400</td>\n",
       "      <td>5.10</td>\n",
       "      <td>3024.0</td>\n",
       "    </tr>\n",
       "    <tr>\n",
       "      <th>10</th>\n",
       "      <td>Wolf 1061 b</td>\n",
       "      <td>1.910</td>\n",
       "      <td>1.198668</td>\n",
       "      <td>0.03750</td>\n",
       "      <td>4.30592</td>\n",
       "      <td>0.3100</td>\n",
       "      <td>4.90</td>\n",
       "      <td>3342.0</td>\n",
       "    </tr>\n",
       "    <tr>\n",
       "      <th>11</th>\n",
       "      <td>GJ 1061 c</td>\n",
       "      <td>1.740</td>\n",
       "      <td>1.167483</td>\n",
       "      <td>0.03500</td>\n",
       "      <td>3.67278</td>\n",
       "      <td>0.1600</td>\n",
       "      <td>5.16</td>\n",
       "      <td>2953.0</td>\n",
       "    </tr>\n",
       "  </tbody>\n",
       "</table>\n",
       "</div>"
      ],
      "text/plain": [
       "           Planet  MassEar  RadiusEar    SMAAU  DistancePC  SRadiusSun  Slogg  \\\n",
       "0       GJ 1002 c    1.360   1.089911  0.07380     4.84867      0.1400   5.10   \n",
       "1       GJ 1061 d    1.640   1.148567  0.05400     3.67278      0.1600   5.16   \n",
       "2      GJ 667 C c    3.800   1.819741  0.12500     7.24396      0.3300   4.69   \n",
       "3        GJ 682 b    4.400   1.984149  0.08000     5.00671      0.3000   4.93   \n",
       "4        GJ 887 b    4.200   1.930431  0.06800     3.29000      0.4700   4.78   \n",
       "5   Proxima Cen b    1.070   1.019125  0.04856     1.30119      0.1400   5.16   \n",
       "6     Wolf 1061 c    3.410   1.707113  0.08900     4.30592      0.3100   4.90   \n",
       "7    TRAPPIST-1 e    0.692   0.920000  0.02925    12.10000      0.1192   5.24   \n",
       "8    TRAPPIST-1 h    0.326   0.755000  0.06189    12.10000      0.1192   5.24   \n",
       "9       GJ 1002 b    1.080   1.021946  0.04570     4.84867      0.1400   5.10   \n",
       "10    Wolf 1061 b    1.910   1.198668  0.03750     4.30592      0.3100   4.90   \n",
       "11      GJ 1061 c    1.740   1.167483  0.03500     3.67278      0.1600   5.16   \n",
       "\n",
       "       STK  \n",
       "0   3024.0  \n",
       "1   2953.0  \n",
       "2   3350.0  \n",
       "3   3028.0  \n",
       "4   3688.0  \n",
       "5   2900.0  \n",
       "6   3342.0  \n",
       "7   2566.0  \n",
       "8   2566.0  \n",
       "9   3024.0  \n",
       "10  3342.0  \n",
       "11  2953.0  "
      ]
     },
     "execution_count": 33,
     "metadata": {},
     "output_type": "execute_result"
    }
   ],
   "source": [
    "pts"
   ]
  },
  {
   "cell_type": "code",
   "execution_count": 34,
   "id": "b24745bd",
   "metadata": {},
   "outputs": [],
   "source": [
    "# Split a Python List into Chunks using For Loops\n",
    "our_list = np.array(ch4_f)\n",
    "chunked_list = list()\n",
    "chunk_size = 251*5*2\n",
    "for i in range(0, len(our_list), chunk_size):\n",
    "    chunked_list.append(our_list[i:i+chunk_size])\n",
    "    \n",
    "our_listwl = np.array(absor1.nm[:1079300] / 1000)\n",
    "chunked_listwl = list()\n",
    "chunk_sizewl = 251*5*2\n",
    "for i in range(0, len(our_listwl), chunk_sizewl):\n",
    "    chunked_listwl.append(our_listwl[i:i+chunk_sizewl])\n",
    "    \n",
    "y_fit_index = np.linspace(0,429,430,dtype = int)\n",
    "wl_fit_index = [np.argmax(chunked_list[i]) for i in y_fit_index] #just for check\n",
    "\n",
    "pn_fit_non = [max(chunked_list[i]) for i in y_fit_index]\n",
    "wl_fit_non = [chunked_listwl[i][np.argmax(chunked_list[i])] for i in y_fit_index]\n",
    "interp_ch4 = np.interp(wl_um/u.um,wl_fit_non,np.array(pn_fit_non))\n",
    "ind_ch4 = np.where((interp_ch4>0.15))"
   ]
  },
  {
   "cell_type": "code",
   "execution_count": 35,
   "id": "efc32027",
   "metadata": {},
   "outputs": [],
   "source": [
    "# Split a Python List into Chunks using For Loops\n",
    "our_list = np.array(co2_f)\n",
    "chunked_list = list()\n",
    "chunk_size = 251*5*2\n",
    "for i in range(0, len(our_list), chunk_size):\n",
    "    chunked_list.append(our_list[i:i+chunk_size])\n",
    "    \n",
    "our_listwl = np.array(absor1.nm[:1079300] / 1000)\n",
    "chunked_listwl = list()\n",
    "chunk_sizewl = 251*5*2\n",
    "for i in range(0, len(our_listwl), chunk_sizewl):\n",
    "    chunked_listwl.append(our_listwl[i:i+chunk_sizewl])\n",
    "    \n",
    "y_fit_index = np.linspace(0,429,430,dtype = int)\n",
    "wl_fit_index = [np.argmax(chunked_list[i]) for i in y_fit_index] #just for check\n",
    "\n",
    "pn_fit_non = [max(chunked_list[i]) for i in y_fit_index]\n",
    "wl_fit_non = [chunked_listwl[i][np.argmax(chunked_list[i])] for i in y_fit_index]\n",
    "interp_co2 = np.interp(wl_um/u.um,wl_fit_non,np.array(pn_fit_non))\n",
    "ind_co2 = np.where((interp_co2>0.15))"
   ]
  },
  {
   "cell_type": "code",
   "execution_count": 36,
   "id": "c7a96aa1",
   "metadata": {},
   "outputs": [],
   "source": [
    "lisco2 = ind_co2[0].tolist()\n",
    "lish2o = ind_h2o[0].tolist()\n",
    "liso2 = ind_o2[0].tolist()\n",
    "lisch4 = ind_ch4[0].tolist()\n",
    "set1 = set(lisco2)\n",
    "set2 = set(lish2o)\n",
    "set3 = set(liso2)\n",
    "set4 = set(lisch4)\n",
    "common = set1 & set2 | set1 & set3 | set1 & set4 | set2 & set3 | set2 & set4 | set3 & set4"
   ]
  },
  {
   "cell_type": "code",
   "execution_count": 37,
   "id": "da8ff9f8",
   "metadata": {},
   "outputs": [],
   "source": [
    "set1 -= common\n",
    "set2 -= common\n",
    "set3 -= common\n",
    "set4 -= common\n",
    "\n",
    "indco2 = list(set1)\n",
    "indh2o = list(set2)\n",
    "indo2 = list(set3)\n",
    "indch4 = list(set4)"
   ]
  },
  {
   "cell_type": "code",
   "execution_count": 38,
   "id": "36bc775e",
   "metadata": {},
   "outputs": [],
   "source": [
    "indco2.sort()\n",
    "indh2o.sort()\n",
    "indo2.sort()\n",
    "indch4.sort()"
   ]
  },
  {
   "cell_type": "code",
   "execution_count": 39,
   "id": "e4245cc9",
   "metadata": {},
   "outputs": [],
   "source": [
    "pts[\"limit_wl\"] = sep_lim_um.value"
   ]
  },
  {
   "cell_type": "code",
   "execution_count": 40,
   "id": "5d7381b9",
   "metadata": {},
   "outputs": [],
   "source": [
    "ind_ues_h2o = []\n",
    "for i in range(len(pts[\"limit_wl\"])):\n",
    "    ind_ues_h2o.append(np.where( wl_um[indh2o].value < pts[\"limit_wl\"][i]))"
   ]
  },
  {
   "cell_type": "code",
   "execution_count": 41,
   "id": "3853ed81",
   "metadata": {},
   "outputs": [],
   "source": [
    "ind_ues_co2 = []\n",
    "for i in range(len(pts[\"limit_wl\"])):\n",
    "    ind_ues_co2.append(np.where( wl_um[indco2].value < pts[\"limit_wl\"][i]))"
   ]
  },
  {
   "cell_type": "code",
   "execution_count": 42,
   "id": "b82ea531",
   "metadata": {},
   "outputs": [],
   "source": [
    "ind_ues_ch4 = []\n",
    "for i in range(len(pts[\"limit_wl\"])):\n",
    "    ind_ues_ch4.append(np.where( wl_um[indch4].value < pts[\"limit_wl\"][i]))"
   ]
  },
  {
   "cell_type": "code",
   "execution_count": 43,
   "id": "3ba08d46",
   "metadata": {},
   "outputs": [],
   "source": [
    "ind_ues_o2 = []\n",
    "for i in range(len(pts[\"limit_wl\"])):\n",
    "    ind_ues_o2.append(np.where( wl_um[indo2].value < pts[\"limit_wl\"][i]))"
   ]
  },
  {
   "cell_type": "code",
   "execution_count": 44,
   "id": "869b9ab4",
   "metadata": {},
   "outputs": [],
   "source": [
    "ind_ues_totno =[[],[],[],[],[],[],[],[],[],[],[],[]]\n",
    "for i in range(len(ind_ues_o2)):\n",
    "    ind_ues_totno[i].append(ind_ues_o2[i][0].tolist()+ind_ues_ch4[i][0].tolist()+ind_ues_co2[i][0].tolist()+ind_ues_h2o[i][0].tolist())"
   ]
  },
  {
   "cell_type": "code",
   "execution_count": 45,
   "id": "6c3205be",
   "metadata": {},
   "outputs": [
    {
     "data": {
      "text/latex": [
       "$[1.6806054] \\; \\mathrm{\\mu m}$"
      ],
      "text/plain": [
       "<Quantity [1.68060544] um>"
      ]
     },
     "execution_count": 45,
     "metadata": {},
     "output_type": "execute_result"
    }
   ],
   "source": [
    "wl_um[np.array(indch4)[np.where(np.diff(wl_um[indch4]).value>0.001259)[0]]]"
   ]
  },
  {
   "cell_type": "code",
   "execution_count": 46,
   "id": "bda5704c",
   "metadata": {},
   "outputs": [
    {
     "data": {
      "text/plain": [
       "[1069,\n",
       " 1070,\n",
       " 1071,\n",
       " 1072,\n",
       " 1073,\n",
       " 1074,\n",
       " 1075,\n",
       " 1076,\n",
       " 1077,\n",
       " 1078,\n",
       " 1079,\n",
       " 1080,\n",
       " 1081,\n",
       " 1082,\n",
       " 1083,\n",
       " 1084,\n",
       " 1085,\n",
       " 1086,\n",
       " 1087,\n",
       " 1100,\n",
       " 1101,\n",
       " 1102,\n",
       " 1103,\n",
       " 1104,\n",
       " 1105,\n",
       " 1106,\n",
       " 1107,\n",
       " 1108,\n",
       " 1109,\n",
       " 1110,\n",
       " 1111,\n",
       " 1112,\n",
       " 1490,\n",
       " 1491,\n",
       " 1492,\n",
       " 1493,\n",
       " 1494,\n",
       " 1495,\n",
       " 1496,\n",
       " 1497,\n",
       " 1498,\n",
       " 1499,\n",
       " 1500,\n",
       " 1501,\n",
       " 1502,\n",
       " 1503,\n",
       " 1504,\n",
       " 1505,\n",
       " 1506,\n",
       " 1507,\n",
       " 1508,\n",
       " 1509,\n",
       " 1510,\n",
       " 1511,\n",
       " 1512,\n",
       " 1513,\n",
       " 1514,\n",
       " 1515,\n",
       " 1516,\n",
       " 1517,\n",
       " 1518,\n",
       " 1519,\n",
       " 1520,\n",
       " 1521,\n",
       " 1522,\n",
       " 1523,\n",
       " 1524,\n",
       " 1525,\n",
       " 1526,\n",
       " 1527,\n",
       " 1528,\n",
       " 1529,\n",
       " 1530,\n",
       " 1531,\n",
       " 1532,\n",
       " 1533,\n",
       " 1534,\n",
       " 1535,\n",
       " 1536,\n",
       " 1537,\n",
       " 1538,\n",
       " 1539,\n",
       " 1540,\n",
       " 1541,\n",
       " 1542,\n",
       " 1543,\n",
       " 1544,\n",
       " 1545,\n",
       " 1546,\n",
       " 1547,\n",
       " 1548,\n",
       " 1549,\n",
       " 1550,\n",
       " 1551,\n",
       " 1552,\n",
       " 1553,\n",
       " 1554,\n",
       " 1555,\n",
       " 1556,\n",
       " 1557,\n",
       " 1558,\n",
       " 1559,\n",
       " 1560,\n",
       " 1561,\n",
       " 1562,\n",
       " 1563,\n",
       " 1564,\n",
       " 1565,\n",
       " 1566,\n",
       " 1567,\n",
       " 1568,\n",
       " 1569,\n",
       " 1570,\n",
       " 1571,\n",
       " 1572,\n",
       " 1573,\n",
       " 1574,\n",
       " 1575,\n",
       " 1576,\n",
       " 1577,\n",
       " 1578,\n",
       " 1579,\n",
       " 1580,\n",
       " 1581,\n",
       " 1582,\n",
       " 1583,\n",
       " 1584,\n",
       " 1585,\n",
       " 1586,\n",
       " 1587,\n",
       " 1588,\n",
       " 1589]"
      ]
     },
     "execution_count": 46,
     "metadata": {},
     "output_type": "execute_result"
    }
   ],
   "source": [
    "indco2"
   ]
  },
  {
   "cell_type": "code",
   "execution_count": 47,
   "id": "c6cf82b3",
   "metadata": {},
   "outputs": [],
   "source": [
    "\n",
    "indtotno = indco2+ indh2o + indo2 + indch4"
   ]
  },
  {
   "cell_type": "code",
   "execution_count": 48,
   "id": "43697343",
   "metadata": {},
   "outputs": [],
   "source": [
    "\n",
    "snr_o2_total=[[],[],[],[],[],[],[],[],[],[],[],[]]\n",
    "for a in range(12):\n",
    "    snr_o2_total[a].append(np.sum((dn[a][ind_ues_o2[a]]/dnr[a][ind_ues_o2[a]])**2)**(1/2))"
   ]
  },
  {
   "cell_type": "code",
   "execution_count": 49,
   "id": "951ef41d",
   "metadata": {},
   "outputs": [
    {
     "data": {
      "text/plain": [
       "[[0.014838032480079241],\n",
       " [0.04643574794473119],\n",
       " [0.05499473313094938],\n",
       " [0.0868438367617419],\n",
       " [1.0186372854267658],\n",
       " [0.08689565970734903],\n",
       " [0.13338559173726594],\n",
       " [0.0],\n",
       " [0.00035683152589167005],\n",
       " [0.034019443598031225],\n",
       " [0.3704166238081181],\n",
       " [0.11420451077661664]]"
      ]
     },
     "execution_count": 49,
     "metadata": {},
     "output_type": "execute_result"
    }
   ],
   "source": [
    "snr_o2_total"
   ]
  },
  {
   "cell_type": "markdown",
   "id": "35336700",
   "metadata": {},
   "source": [
    "H2O"
   ]
  },
  {
   "cell_type": "code",
   "execution_count": 50,
   "id": "7f524927",
   "metadata": {},
   "outputs": [],
   "source": [
    "snr_h2o_total=[[],[],[],[],[],[],[],[],[],[],[],[]]\n",
    "for a in range(12):\n",
    "    snr_h2o_total[a].append(np.sum((dn[a][ind_ues_h2o[a]]/dnr[a][ind_ues_h2o[a]])**2)**(1/2))"
   ]
  },
  {
   "cell_type": "code",
   "execution_count": 51,
   "id": "62381cfd",
   "metadata": {},
   "outputs": [
    {
     "data": {
      "text/plain": [
       "[[0.06083117273734296],\n",
       " [0.19037164681344043],\n",
       " [0.1750514804844088],\n",
       " [0.3560318728758612],\n",
       " [3.177122919995503],\n",
       " [0.3850613145760402],\n",
       " [0.43349748050894304],\n",
       " [0.0],\n",
       " [0.0008049820602989741],\n",
       " [0.12336308134968912],\n",
       " [0.9403415494950884],\n",
       " [0.414776462536347]]"
      ]
     },
     "execution_count": 51,
     "metadata": {},
     "output_type": "execute_result"
    }
   ],
   "source": [
    "snr_h2o_total"
   ]
  },
  {
   "cell_type": "code",
   "execution_count": 52,
   "id": "993c70de",
   "metadata": {},
   "outputs": [
    {
     "data": {
      "text/html": [
       "<div>\n",
       "<style scoped>\n",
       "    .dataframe tbody tr th:only-of-type {\n",
       "        vertical-align: middle;\n",
       "    }\n",
       "\n",
       "    .dataframe tbody tr th {\n",
       "        vertical-align: top;\n",
       "    }\n",
       "\n",
       "    .dataframe thead th {\n",
       "        text-align: right;\n",
       "    }\n",
       "</style>\n",
       "<table border=\"1\" class=\"dataframe\">\n",
       "  <thead>\n",
       "    <tr style=\"text-align: right;\">\n",
       "      <th></th>\n",
       "      <th>Planet</th>\n",
       "      <th>MassEar</th>\n",
       "      <th>RadiusEar</th>\n",
       "      <th>SMAAU</th>\n",
       "      <th>DistancePC</th>\n",
       "      <th>SRadiusSun</th>\n",
       "      <th>Slogg</th>\n",
       "      <th>STK</th>\n",
       "      <th>limit_wl</th>\n",
       "    </tr>\n",
       "  </thead>\n",
       "  <tbody>\n",
       "    <tr>\n",
       "      <th>0</th>\n",
       "      <td>GJ 1002 c</td>\n",
       "      <td>1.360</td>\n",
       "      <td>1.089911</td>\n",
       "      <td>0.07380</td>\n",
       "      <td>4.84867</td>\n",
       "      <td>0.1400</td>\n",
       "      <td>5.10</td>\n",
       "      <td>3024.0</td>\n",
       "      <td>2.900021</td>\n",
       "    </tr>\n",
       "    <tr>\n",
       "      <th>1</th>\n",
       "      <td>GJ 1061 d</td>\n",
       "      <td>1.640</td>\n",
       "      <td>1.148567</td>\n",
       "      <td>0.05400</td>\n",
       "      <td>3.67278</td>\n",
       "      <td>0.1600</td>\n",
       "      <td>5.16</td>\n",
       "      <td>2953.0</td>\n",
       "      <td>2.801343</td>\n",
       "    </tr>\n",
       "    <tr>\n",
       "      <th>2</th>\n",
       "      <td>GJ 667 C c</td>\n",
       "      <td>3.800</td>\n",
       "      <td>1.819741</td>\n",
       "      <td>0.12500</td>\n",
       "      <td>7.24396</td>\n",
       "      <td>0.3300</td>\n",
       "      <td>4.69</td>\n",
       "      <td>3350.0</td>\n",
       "      <td>3.287770</td>\n",
       "    </tr>\n",
       "    <tr>\n",
       "      <th>3</th>\n",
       "      <td>GJ 682 b</td>\n",
       "      <td>4.400</td>\n",
       "      <td>1.984149</td>\n",
       "      <td>0.08000</td>\n",
       "      <td>5.00671</td>\n",
       "      <td>0.3000</td>\n",
       "      <td>4.93</td>\n",
       "      <td>3028.0</td>\n",
       "      <td>3.044423</td>\n",
       "    </tr>\n",
       "    <tr>\n",
       "      <th>4</th>\n",
       "      <td>GJ 887 b</td>\n",
       "      <td>4.200</td>\n",
       "      <td>1.930431</td>\n",
       "      <td>0.06800</td>\n",
       "      <td>3.29000</td>\n",
       "      <td>0.4700</td>\n",
       "      <td>4.78</td>\n",
       "      <td>3688.0</td>\n",
       "      <td>3.938043</td>\n",
       "    </tr>\n",
       "    <tr>\n",
       "      <th>5</th>\n",
       "      <td>Proxima Cen b</td>\n",
       "      <td>1.070</td>\n",
       "      <td>1.019125</td>\n",
       "      <td>0.04856</td>\n",
       "      <td>1.30119</td>\n",
       "      <td>0.1400</td>\n",
       "      <td>5.16</td>\n",
       "      <td>2900.0</td>\n",
       "      <td>7.110586</td>\n",
       "    </tr>\n",
       "    <tr>\n",
       "      <th>6</th>\n",
       "      <td>Wolf 1061 c</td>\n",
       "      <td>3.410</td>\n",
       "      <td>1.707113</td>\n",
       "      <td>0.08900</td>\n",
       "      <td>4.30592</td>\n",
       "      <td>0.3100</td>\n",
       "      <td>4.90</td>\n",
       "      <td>3342.0</td>\n",
       "      <td>3.938143</td>\n",
       "    </tr>\n",
       "    <tr>\n",
       "      <th>7</th>\n",
       "      <td>TRAPPIST-1 e</td>\n",
       "      <td>0.692</td>\n",
       "      <td>0.920000</td>\n",
       "      <td>0.02925</td>\n",
       "      <td>12.10000</td>\n",
       "      <td>0.1192</td>\n",
       "      <td>5.24</td>\n",
       "      <td>2566.0</td>\n",
       "      <td>0.460583</td>\n",
       "    </tr>\n",
       "    <tr>\n",
       "      <th>8</th>\n",
       "      <td>TRAPPIST-1 h</td>\n",
       "      <td>0.326</td>\n",
       "      <td>0.755000</td>\n",
       "      <td>0.06189</td>\n",
       "      <td>12.10000</td>\n",
       "      <td>0.1192</td>\n",
       "      <td>5.24</td>\n",
       "      <td>2566.0</td>\n",
       "      <td>0.974546</td>\n",
       "    </tr>\n",
       "    <tr>\n",
       "      <th>9</th>\n",
       "      <td>GJ 1002 b</td>\n",
       "      <td>1.080</td>\n",
       "      <td>1.021946</td>\n",
       "      <td>0.04570</td>\n",
       "      <td>4.84867</td>\n",
       "      <td>0.1400</td>\n",
       "      <td>5.10</td>\n",
       "      <td>3024.0</td>\n",
       "      <td>1.795812</td>\n",
       "    </tr>\n",
       "    <tr>\n",
       "      <th>10</th>\n",
       "      <td>Wolf 1061 b</td>\n",
       "      <td>1.910</td>\n",
       "      <td>1.198668</td>\n",
       "      <td>0.03750</td>\n",
       "      <td>4.30592</td>\n",
       "      <td>0.3100</td>\n",
       "      <td>4.90</td>\n",
       "      <td>3342.0</td>\n",
       "      <td>1.659330</td>\n",
       "    </tr>\n",
       "    <tr>\n",
       "      <th>11</th>\n",
       "      <td>GJ 1061 c</td>\n",
       "      <td>1.740</td>\n",
       "      <td>1.167483</td>\n",
       "      <td>0.03500</td>\n",
       "      <td>3.67278</td>\n",
       "      <td>0.1600</td>\n",
       "      <td>5.16</td>\n",
       "      <td>2953.0</td>\n",
       "      <td>1.815685</td>\n",
       "    </tr>\n",
       "  </tbody>\n",
       "</table>\n",
       "</div>"
      ],
      "text/plain": [
       "           Planet  MassEar  RadiusEar    SMAAU  DistancePC  SRadiusSun  Slogg  \\\n",
       "0       GJ 1002 c    1.360   1.089911  0.07380     4.84867      0.1400   5.10   \n",
       "1       GJ 1061 d    1.640   1.148567  0.05400     3.67278      0.1600   5.16   \n",
       "2      GJ 667 C c    3.800   1.819741  0.12500     7.24396      0.3300   4.69   \n",
       "3        GJ 682 b    4.400   1.984149  0.08000     5.00671      0.3000   4.93   \n",
       "4        GJ 887 b    4.200   1.930431  0.06800     3.29000      0.4700   4.78   \n",
       "5   Proxima Cen b    1.070   1.019125  0.04856     1.30119      0.1400   5.16   \n",
       "6     Wolf 1061 c    3.410   1.707113  0.08900     4.30592      0.3100   4.90   \n",
       "7    TRAPPIST-1 e    0.692   0.920000  0.02925    12.10000      0.1192   5.24   \n",
       "8    TRAPPIST-1 h    0.326   0.755000  0.06189    12.10000      0.1192   5.24   \n",
       "9       GJ 1002 b    1.080   1.021946  0.04570     4.84867      0.1400   5.10   \n",
       "10    Wolf 1061 b    1.910   1.198668  0.03750     4.30592      0.3100   4.90   \n",
       "11      GJ 1061 c    1.740   1.167483  0.03500     3.67278      0.1600   5.16   \n",
       "\n",
       "       STK  limit_wl  \n",
       "0   3024.0  2.900021  \n",
       "1   2953.0  2.801343  \n",
       "2   3350.0  3.287770  \n",
       "3   3028.0  3.044423  \n",
       "4   3688.0  3.938043  \n",
       "5   2900.0  7.110586  \n",
       "6   3342.0  3.938143  \n",
       "7   2566.0  0.460583  \n",
       "8   2566.0  0.974546  \n",
       "9   3024.0  1.795812  \n",
       "10  3342.0  1.659330  \n",
       "11  2953.0  1.815685  "
      ]
     },
     "execution_count": 52,
     "metadata": {},
     "output_type": "execute_result"
    }
   ],
   "source": [
    "\n",
    "\n",
    "pts"
   ]
  },
  {
   "cell_type": "markdown",
   "id": "bd4561a8",
   "metadata": {},
   "source": [
    "CH4"
   ]
  },
  {
   "cell_type": "code",
   "execution_count": 53,
   "id": "c438462f",
   "metadata": {},
   "outputs": [],
   "source": [
    "snr_ch4_total=[[],[],[],[],[],[],[],[],[],[],[],[]]\n",
    "for a in range(12):\n",
    "    snr_ch4_total[a].append(np.sum((dn[a][ind_ues_ch4[a]]/dnr[a][ind_ues_ch4[a]])**2)**(1/2))"
   ]
  },
  {
   "cell_type": "code",
   "execution_count": 54,
   "id": "e1b14158",
   "metadata": {},
   "outputs": [
    {
     "data": {
      "text/plain": [
       "[[0.03878943838204847],\n",
       " [0.12139247424149972],\n",
       " [0.13896729752559317],\n",
       " [0.22702785037085987],\n",
       " [2.7376552568505828],\n",
       " [0.23058437589218914],\n",
       " [0.33811519369596665],\n",
       " [0.0],\n",
       " [0.0],\n",
       " [0.02591263829246155],\n",
       " [0.12044346504169938],\n",
       " [0.08698958387837569]]"
      ]
     },
     "execution_count": 54,
     "metadata": {},
     "output_type": "execute_result"
    }
   ],
   "source": [
    "snr_ch4_total"
   ]
  },
  {
   "cell_type": "markdown",
   "id": "253a3fa4",
   "metadata": {},
   "source": [
    "CO2"
   ]
  },
  {
   "cell_type": "code",
   "execution_count": 55,
   "id": "882f8e3c",
   "metadata": {},
   "outputs": [],
   "source": [
    "snr_co2_total=[[],[],[],[],[],[],[],[],[],[],[],[]]\n",
    "for a in range(12):\n",
    "    snr_co2_total[a].append(np.sum((dn[a][ind_ues_co2[a]]/dnr[a][ind_ues_co2[a]])**2)**(1/2))"
   ]
  },
  {
   "cell_type": "code",
   "execution_count": 56,
   "id": "3798046d",
   "metadata": {
    "scrolled": true
   },
   "outputs": [
    {
     "data": {
      "text/plain": [
       "[[0.03196953159595698],\n",
       " [0.10004968387585962],\n",
       " [0.11991620664344815],\n",
       " [0.18711282211872157],\n",
       " [2.4046034702536385],\n",
       " [0.187370359104662],\n",
       " [0.2911550403923433],\n",
       " [0.0],\n",
       " [0.0],\n",
       " [0.01835154261957103],\n",
       " [0.19568106195895704],\n",
       " [0.0616067998195634]]"
      ]
     },
     "execution_count": 56,
     "metadata": {},
     "output_type": "execute_result"
    }
   ],
   "source": [
    "snr_co2_total"
   ]
  },
  {
   "cell_type": "code",
   "execution_count": 57,
   "id": "6a57fd19",
   "metadata": {},
   "outputs": [],
   "source": [
    "\n",
    "\n",
    "#pts[['Planet', 'Teq','SNR_o2','SNR_ch4','SNR_h2o','SNR_co2','SNR_total']]"
   ]
  },
  {
   "cell_type": "code",
   "execution_count": 58,
   "id": "bb4f430b",
   "metadata": {},
   "outputs": [],
   "source": [
    "Total_modern = (np.array(snr_ch4_total)**2+np.array(snr_co2_total)**2+np.array(snr_h2o_total)**2+np.array(snr_o2_total)**2)**(1/2)"
   ]
  },
  {
   "cell_type": "code",
   "execution_count": 59,
   "id": "a13a3aa2",
   "metadata": {
    "scrolled": true
   },
   "outputs": [
    {
     "data": {
      "text/plain": [
       "array([[8.02948956e-02],\n",
       "       [2.51284131e-01],\n",
       "       [2.59536602e-01],\n",
       "       [4.69950422e-01],\n",
       "       [4.94050667e+00],\n",
       "       [4.94064649e-01],\n",
       "       [6.36242818e-01],\n",
       "       [0.00000000e+00],\n",
       "       [8.80525329e-04],\n",
       "       [1.31848460e-01],\n",
       "       [1.03645956e+00],\n",
       "       [4.43220904e-01]])"
      ]
     },
     "execution_count": 59,
     "metadata": {},
     "output_type": "execute_result"
    }
   ],
   "source": [
    "Total_modern"
   ]
  },
  {
   "cell_type": "markdown",
   "id": "43a930cf",
   "metadata": {},
   "source": [
    "# Total_no_OVERLEAP(SNR from datafile)"
   ]
  },
  {
   "cell_type": "raw",
   "id": "695a133b",
   "metadata": {},
   "source": [
    "total_f = (0.3-0.3*(absor1.totalb[:1079300]/alb_nogas[:1079300]))\n",
    "our_list = np.array(total_f)\n",
    "chunked_list = list()\n",
    "chunk_size = 251*5*2\n",
    "for i in range(0, len(our_list), chunk_size):\n",
    "    chunked_list.append(our_list[i:i+chunk_size])\n",
    "    \n",
    "our_listwl = np.array(absor1.nm[:1079300] / 1000)\n",
    "chunked_listwl = list()\n",
    "chunk_sizewl = 251*5*2\n",
    "for i in range(0, len(our_listwl), chunk_sizewl):\n",
    "    chunked_listwl.append(our_listwl[i:i+chunk_sizewl])\n",
    "    \n",
    "y_fit_index = np.linspace(0,429,430,dtype = int)\n",
    "wl_fit_index = [np.argmax(chunked_list[i]) for i in y_fit_index] #just for check\n",
    "\n",
    "pn_fit_non = [max(chunked_list[i]) for i in y_fit_index]\n",
    "wl_fit_non = [chunked_listwl[i][np.argmax(chunked_list[i])] for i in y_fit_index]\n",
    "interp_tot_no = np.interp(wl_um/u.um,wl_fit_non,np.array(pn_fit_non))\n",
    "ind_tot_no = np.where((interp_tot_no>0.15))"
   ]
  },
  {
   "cell_type": "raw",
   "id": "300be49e",
   "metadata": {},
   "source": [
    "snr_total=[[],[],[],[],[],[],[],[],[],[],[],[],[],[],[],[]]\n",
    "for a in range(16):\n",
    "    snr_total[a].append(np.sum((dn[a][ind_tot_no[0]]/dnr[a][ind_tot_no[0]])**2)**(1/2))"
   ]
  },
  {
   "cell_type": "raw",
   "id": "04d867e1",
   "metadata": {},
   "source": [
    "snr_total"
   ]
  },
  {
   "cell_type": "raw",
   "id": "77dc16dc",
   "metadata": {},
   "source": [
    "fig_4 = plt.figure(figsize=(16,8))\n",
    "\n",
    "ax_4a = fig_4.add_subplot(1,5,1)\n",
    "ax_4a.plot(x_1, y_1, color='blue', label='m_1' )\n",
    "ax_4a.plot(x_2, y_2, color='red', label='m_2')\n",
    "ax_4a.set_ylabel('y'), label='m_1' )\n",
    "ax_4d.plot(x_2, y_2, color='red', label='m_2')\n",
    "ax_4d.set_ylabel('y')\n",
    "ax_4d.set_xlabel('x')\n",
    "ax_4d.set_title('orbit')\n",
    "ax_4d.legend()\n",
    "\n",
    "ax_4e = fig_4.add_subplot(1,5,5)\n",
    "ax_4e.plot(x_1, y_1, color='blue', label='m_1' )\n",
    "ax_4e.plot(x_2, y_2, color='red', label='m_2')\n",
    "ax_4e.set_ylabel('y')\n",
    "ax_4e.set_xlabel('x')\n",
    "ax_4e.set_title('orbit')\n",
    "ax_4e.legend()"
   ]
  },
  {
   "cell_type": "markdown",
   "id": "56b6e94f",
   "metadata": {},
   "source": [
    "# Check"
   ]
  },
  {
   "cell_type": "code",
   "execution_count": 60,
   "id": "201d0b32",
   "metadata": {},
   "outputs": [],
   "source": [
    "def mag(f, f_0):\n",
    "    m=-2.5 * (np.log(f/f_0)/np.log(10))\n",
    "    return m"
   ]
  },
  {
   "cell_type": "code",
   "execution_count": 61,
   "id": "44b5546c",
   "metadata": {},
   "outputs": [],
   "source": [
    "mag_pt=[]\n",
    "for i in range(len(flux_bin)):\n",
    "    mag_pt.append(mag(flux_bin[i][3],2.16e-8/75))"
   ]
  },
  {
   "cell_type": "code",
   "execution_count": 62,
   "id": "5ae66a90",
   "metadata": {},
   "outputs": [
    {
     "data": {
      "text/plain": [
       "[35.163311145466885,\n",
       " 33.478072923762085,\n",
       " 32.04928595916195,\n",
       " 32.452245044300525,\n",
       " 27.08265310475643,\n",
       " 32.13035426557722,\n",
       " 30.760834005008384,\n",
       " 38.70358167143527,\n",
       " 40.760259111390184,\n",
       " 34.262424430337724,\n",
       " 29.65185797129221,\n",
       " 32.50097365055943]"
      ]
     },
     "execution_count": 62,
     "metadata": {},
     "output_type": "execute_result"
    }
   ],
   "source": [
    "mag_pt"
   ]
  },
  {
   "cell_type": "code",
   "execution_count": 63,
   "id": "9b85e4e6",
   "metadata": {},
   "outputs": [
    {
     "data": {
      "text/plain": [
       "16.290144316349917"
      ]
     },
     "execution_count": 63,
     "metadata": {},
     "output_type": "execute_result"
    }
   ],
   "source": [
    "mag(flux_bin_s[9][3], 2.16e-8/75)"
   ]
  },
  {
   "cell_type": "code",
   "execution_count": 64,
   "id": "7448fd10",
   "metadata": {},
   "outputs": [
    {
     "data": {
      "text/html": [
       "<div>\n",
       "<style scoped>\n",
       "    .dataframe tbody tr th:only-of-type {\n",
       "        vertical-align: middle;\n",
       "    }\n",
       "\n",
       "    .dataframe tbody tr th {\n",
       "        vertical-align: top;\n",
       "    }\n",
       "\n",
       "    .dataframe thead th {\n",
       "        text-align: right;\n",
       "    }\n",
       "</style>\n",
       "<table border=\"1\" class=\"dataframe\">\n",
       "  <thead>\n",
       "    <tr style=\"text-align: right;\">\n",
       "      <th></th>\n",
       "      <th>Planet</th>\n",
       "      <th>SNR_total</th>\n",
       "    </tr>\n",
       "  </thead>\n",
       "  <tbody>\n",
       "    <tr>\n",
       "      <th>0</th>\n",
       "      <td>GJ 1002 c</td>\n",
       "      <td>0.080295</td>\n",
       "    </tr>\n",
       "    <tr>\n",
       "      <th>1</th>\n",
       "      <td>GJ 1061 d</td>\n",
       "      <td>0.251284</td>\n",
       "    </tr>\n",
       "    <tr>\n",
       "      <th>2</th>\n",
       "      <td>GJ 667 C c</td>\n",
       "      <td>0.259537</td>\n",
       "    </tr>\n",
       "    <tr>\n",
       "      <th>3</th>\n",
       "      <td>GJ 682 b</td>\n",
       "      <td>0.469950</td>\n",
       "    </tr>\n",
       "    <tr>\n",
       "      <th>4</th>\n",
       "      <td>GJ 887 b</td>\n",
       "      <td>4.940507</td>\n",
       "    </tr>\n",
       "    <tr>\n",
       "      <th>5</th>\n",
       "      <td>Proxima Cen b</td>\n",
       "      <td>0.494065</td>\n",
       "    </tr>\n",
       "    <tr>\n",
       "      <th>6</th>\n",
       "      <td>Wolf 1061 c</td>\n",
       "      <td>0.636243</td>\n",
       "    </tr>\n",
       "    <tr>\n",
       "      <th>7</th>\n",
       "      <td>TRAPPIST-1 e</td>\n",
       "      <td>0.000000</td>\n",
       "    </tr>\n",
       "    <tr>\n",
       "      <th>8</th>\n",
       "      <td>TRAPPIST-1 h</td>\n",
       "      <td>0.000881</td>\n",
       "    </tr>\n",
       "    <tr>\n",
       "      <th>9</th>\n",
       "      <td>GJ 1002 b</td>\n",
       "      <td>0.131848</td>\n",
       "    </tr>\n",
       "    <tr>\n",
       "      <th>10</th>\n",
       "      <td>Wolf 1061 b</td>\n",
       "      <td>1.036460</td>\n",
       "    </tr>\n",
       "    <tr>\n",
       "      <th>11</th>\n",
       "      <td>GJ 1061 c</td>\n",
       "      <td>0.443221</td>\n",
       "    </tr>\n",
       "  </tbody>\n",
       "</table>\n",
       "</div>"
      ],
      "text/plain": [
       "           Planet  SNR_total\n",
       "0       GJ 1002 c   0.080295\n",
       "1       GJ 1061 d   0.251284\n",
       "2      GJ 667 C c   0.259537\n",
       "3        GJ 682 b   0.469950\n",
       "4        GJ 887 b   4.940507\n",
       "5   Proxima Cen b   0.494065\n",
       "6     Wolf 1061 c   0.636243\n",
       "7    TRAPPIST-1 e   0.000000\n",
       "8    TRAPPIST-1 h   0.000881\n",
       "9       GJ 1002 b   0.131848\n",
       "10    Wolf 1061 b   1.036460\n",
       "11      GJ 1061 c   0.443221"
      ]
     },
     "execution_count": 64,
     "metadata": {},
     "output_type": "execute_result"
    }
   ],
   "source": [
    "pts[\"SNR_o2\"]=np.array(snr_o2_total)\n",
    "pts[\"SNR_ch4\"]=np.array(snr_ch4_total)\n",
    "pts[\"SNR_h2o\"]=np.array(snr_h2o_total)\n",
    "pts[\"SNR_co2\"]=np.array(snr_co2_total)\n",
    "pts[\"SNR_total\"]=np.array(Total_modern)\n",
    "#pts[\"NO_OVER\"]=np.array(snr_total)\n",
    "pts[\"mag\"]=mag_pt\n",
    "\n",
    "\n",
    "pts[['Planet','SNR_total']]"
   ]
  },
  {
   "cell_type": "code",
   "execution_count": 65,
   "id": "14566294",
   "metadata": {},
   "outputs": [
    {
     "name": "stderr",
     "output_type": "stream",
     "text": [
      "/var/folders/6t/cpjtlkn10wv603vnph9nr3sh0000gn/T/ipykernel_889/3979437420.py:3: FutureWarning: In future versions `DataFrame.to_latex` is expected to utilise the base implementation of `Styler.to_latex` for formatting and rendering. The arguments signature may therefore change. It is recommended instead to use `DataFrame.style.to_latex` which also contains additional functionality.\n",
      "  SNR_table.to_latex()\n"
     ]
    },
    {
     "data": {
      "text/plain": [
       "'\\\\begin{tabular}{llrrrrr}\\n\\\\toprule\\n{} &         Planet &  SNR\\\\_total &  SNR\\\\_h2o &  SNR\\\\_ch4 &  SNR\\\\_co2 &   SNR\\\\_o2 \\\\\\\\\\n\\\\midrule\\n4  &       GJ 887 b &    4.94051 &  3.17712 &  2.73766 &  2.40460 &  1.01864 \\\\\\\\\\n10 &    Wolf 1061 b &    1.03646 &  0.94034 &  0.12044 &  0.19568 &  0.37042 \\\\\\\\\\n6  &    Wolf 1061 c &    0.63624 &  0.43350 &  0.33812 &  0.29116 &  0.13339 \\\\\\\\\\n5  &  Proxima Cen b &    0.49406 &  0.38506 &  0.23058 &  0.18737 &  0.08690 \\\\\\\\\\n3  &       GJ 682 b &    0.46995 &  0.35603 &  0.22703 &  0.18711 &  0.08684 \\\\\\\\\\n11 &      GJ 1061 c &    0.44322 &  0.41478 &  0.08699 &  0.06161 &  0.11420 \\\\\\\\\\n2  &     GJ 667 C c &    0.25954 &  0.17505 &  0.13897 &  0.11992 &  0.05499 \\\\\\\\\\n1  &      GJ 1061 d &    0.25128 &  0.19037 &  0.12139 &  0.10005 &  0.04644 \\\\\\\\\\n9  &      GJ 1002 b &    0.13185 &  0.12336 &  0.02591 &  0.01835 &  0.03402 \\\\\\\\\\n0  &      GJ 1002 c &    0.08029 &  0.06083 &  0.03879 &  0.03197 &  0.01484 \\\\\\\\\\n8  &   TRAPPIST-1 h &    0.00088 &  0.00080 &  0.00000 &  0.00000 &  0.00036 \\\\\\\\\\n7  &   TRAPPIST-1 e &    0.00000 &  0.00000 &  0.00000 &  0.00000 &  0.00000 \\\\\\\\\\n\\\\bottomrule\\n\\\\end{tabular}\\n'"
      ]
     },
     "execution_count": 65,
     "metadata": {},
     "output_type": "execute_result"
    }
   ],
   "source": [
    "SNR_table  = pts[['Planet','SNR_total','SNR_h2o','SNR_ch4','SNR_co2','SNR_o2']].sort_values(by='SNR_total',ascending=False).round(5)\n",
    "#pts[['Planet','SNR_total']]\n",
    "SNR_table.to_latex()"
   ]
  },
  {
   "cell_type": "code",
   "execution_count": 66,
   "id": "c9e09362",
   "metadata": {},
   "outputs": [
    {
     "data": {
      "text/html": [
       "<div>\n",
       "<style scoped>\n",
       "    .dataframe tbody tr th:only-of-type {\n",
       "        vertical-align: middle;\n",
       "    }\n",
       "\n",
       "    .dataframe tbody tr th {\n",
       "        vertical-align: top;\n",
       "    }\n",
       "\n",
       "    .dataframe thead th {\n",
       "        text-align: right;\n",
       "    }\n",
       "</style>\n",
       "<table border=\"1\" class=\"dataframe\">\n",
       "  <thead>\n",
       "    <tr style=\"text-align: right;\">\n",
       "      <th></th>\n",
       "      <th>Planet</th>\n",
       "      <th>SNR_total</th>\n",
       "      <th>SNR_h2o</th>\n",
       "      <th>SNR_ch4</th>\n",
       "      <th>SNR_co2</th>\n",
       "      <th>SNR_o2</th>\n",
       "    </tr>\n",
       "  </thead>\n",
       "  <tbody>\n",
       "    <tr>\n",
       "      <th>4</th>\n",
       "      <td>GJ 887 b</td>\n",
       "      <td>4.94051</td>\n",
       "      <td>3.17712</td>\n",
       "      <td>2.73766</td>\n",
       "      <td>2.40460</td>\n",
       "      <td>1.01864</td>\n",
       "    </tr>\n",
       "    <tr>\n",
       "      <th>10</th>\n",
       "      <td>Wolf 1061 b</td>\n",
       "      <td>1.03646</td>\n",
       "      <td>0.94034</td>\n",
       "      <td>0.12044</td>\n",
       "      <td>0.19568</td>\n",
       "      <td>0.37042</td>\n",
       "    </tr>\n",
       "    <tr>\n",
       "      <th>6</th>\n",
       "      <td>Wolf 1061 c</td>\n",
       "      <td>0.63624</td>\n",
       "      <td>0.43350</td>\n",
       "      <td>0.33812</td>\n",
       "      <td>0.29116</td>\n",
       "      <td>0.13339</td>\n",
       "    </tr>\n",
       "    <tr>\n",
       "      <th>5</th>\n",
       "      <td>Proxima Cen b</td>\n",
       "      <td>0.49406</td>\n",
       "      <td>0.38506</td>\n",
       "      <td>0.23058</td>\n",
       "      <td>0.18737</td>\n",
       "      <td>0.08690</td>\n",
       "    </tr>\n",
       "    <tr>\n",
       "      <th>3</th>\n",
       "      <td>GJ 682 b</td>\n",
       "      <td>0.46995</td>\n",
       "      <td>0.35603</td>\n",
       "      <td>0.22703</td>\n",
       "      <td>0.18711</td>\n",
       "      <td>0.08684</td>\n",
       "    </tr>\n",
       "    <tr>\n",
       "      <th>11</th>\n",
       "      <td>GJ 1061 c</td>\n",
       "      <td>0.44322</td>\n",
       "      <td>0.41478</td>\n",
       "      <td>0.08699</td>\n",
       "      <td>0.06161</td>\n",
       "      <td>0.11420</td>\n",
       "    </tr>\n",
       "    <tr>\n",
       "      <th>2</th>\n",
       "      <td>GJ 667 C c</td>\n",
       "      <td>0.25954</td>\n",
       "      <td>0.17505</td>\n",
       "      <td>0.13897</td>\n",
       "      <td>0.11992</td>\n",
       "      <td>0.05499</td>\n",
       "    </tr>\n",
       "    <tr>\n",
       "      <th>1</th>\n",
       "      <td>GJ 1061 d</td>\n",
       "      <td>0.25128</td>\n",
       "      <td>0.19037</td>\n",
       "      <td>0.12139</td>\n",
       "      <td>0.10005</td>\n",
       "      <td>0.04644</td>\n",
       "    </tr>\n",
       "    <tr>\n",
       "      <th>9</th>\n",
       "      <td>GJ 1002 b</td>\n",
       "      <td>0.13185</td>\n",
       "      <td>0.12336</td>\n",
       "      <td>0.02591</td>\n",
       "      <td>0.01835</td>\n",
       "      <td>0.03402</td>\n",
       "    </tr>\n",
       "    <tr>\n",
       "      <th>0</th>\n",
       "      <td>GJ 1002 c</td>\n",
       "      <td>0.08029</td>\n",
       "      <td>0.06083</td>\n",
       "      <td>0.03879</td>\n",
       "      <td>0.03197</td>\n",
       "      <td>0.01484</td>\n",
       "    </tr>\n",
       "    <tr>\n",
       "      <th>8</th>\n",
       "      <td>TRAPPIST-1 h</td>\n",
       "      <td>0.00088</td>\n",
       "      <td>0.00080</td>\n",
       "      <td>0.00000</td>\n",
       "      <td>0.00000</td>\n",
       "      <td>0.00036</td>\n",
       "    </tr>\n",
       "    <tr>\n",
       "      <th>7</th>\n",
       "      <td>TRAPPIST-1 e</td>\n",
       "      <td>0.00000</td>\n",
       "      <td>0.00000</td>\n",
       "      <td>0.00000</td>\n",
       "      <td>0.00000</td>\n",
       "      <td>0.00000</td>\n",
       "    </tr>\n",
       "  </tbody>\n",
       "</table>\n",
       "</div>"
      ],
      "text/plain": [
       "           Planet  SNR_total  SNR_h2o  SNR_ch4  SNR_co2   SNR_o2\n",
       "4        GJ 887 b    4.94051  3.17712  2.73766  2.40460  1.01864\n",
       "10    Wolf 1061 b    1.03646  0.94034  0.12044  0.19568  0.37042\n",
       "6     Wolf 1061 c    0.63624  0.43350  0.33812  0.29116  0.13339\n",
       "5   Proxima Cen b    0.49406  0.38506  0.23058  0.18737  0.08690\n",
       "3        GJ 682 b    0.46995  0.35603  0.22703  0.18711  0.08684\n",
       "11      GJ 1061 c    0.44322  0.41478  0.08699  0.06161  0.11420\n",
       "2      GJ 667 C c    0.25954  0.17505  0.13897  0.11992  0.05499\n",
       "1       GJ 1061 d    0.25128  0.19037  0.12139  0.10005  0.04644\n",
       "9       GJ 1002 b    0.13185  0.12336  0.02591  0.01835  0.03402\n",
       "0       GJ 1002 c    0.08029  0.06083  0.03879  0.03197  0.01484\n",
       "8    TRAPPIST-1 h    0.00088  0.00080  0.00000  0.00000  0.00036\n",
       "7    TRAPPIST-1 e    0.00000  0.00000  0.00000  0.00000  0.00000"
      ]
     },
     "execution_count": 66,
     "metadata": {},
     "output_type": "execute_result"
    }
   ],
   "source": [
    "SNR_table"
   ]
  },
  {
   "cell_type": "markdown",
   "id": "cfdd5a45",
   "metadata": {},
   "source": [
    "---"
   ]
  },
  {
   "cell_type": "markdown",
   "id": "1440e95d",
   "metadata": {},
   "source": [
    "# GJ 887 b\n",
    "\n",
    "run 1 first"
   ]
  },
  {
   "cell_type": "code",
   "execution_count": 67,
   "id": "3a493c7e",
   "metadata": {},
   "outputs": [
    {
     "data": {
      "text/html": [
       "<div>\n",
       "<style scoped>\n",
       "    .dataframe tbody tr th:only-of-type {\n",
       "        vertical-align: middle;\n",
       "    }\n",
       "\n",
       "    .dataframe tbody tr th {\n",
       "        vertical-align: top;\n",
       "    }\n",
       "\n",
       "    .dataframe thead th {\n",
       "        text-align: right;\n",
       "    }\n",
       "</style>\n",
       "<table border=\"1\" class=\"dataframe\">\n",
       "  <thead>\n",
       "    <tr style=\"text-align: right;\">\n",
       "      <th></th>\n",
       "      <th>Planet</th>\n",
       "      <th>MassEar</th>\n",
       "      <th>RadiusEar</th>\n",
       "      <th>SMAAU</th>\n",
       "      <th>DistancePC</th>\n",
       "      <th>SRadiusSun</th>\n",
       "      <th>Slogg</th>\n",
       "      <th>STK</th>\n",
       "      <th>limit_wl</th>\n",
       "      <th>SNR_o2</th>\n",
       "      <th>SNR_ch4</th>\n",
       "      <th>SNR_h2o</th>\n",
       "      <th>SNR_co2</th>\n",
       "      <th>SNR_total</th>\n",
       "      <th>mag</th>\n",
       "    </tr>\n",
       "  </thead>\n",
       "  <tbody>\n",
       "    <tr>\n",
       "      <th>0</th>\n",
       "      <td>GJ 1002 c</td>\n",
       "      <td>1.360</td>\n",
       "      <td>1.089911</td>\n",
       "      <td>0.07380</td>\n",
       "      <td>4.84867</td>\n",
       "      <td>0.1400</td>\n",
       "      <td>5.10</td>\n",
       "      <td>3024.0</td>\n",
       "      <td>2.900021</td>\n",
       "      <td>0.014838</td>\n",
       "      <td>0.038789</td>\n",
       "      <td>0.060831</td>\n",
       "      <td>0.031970</td>\n",
       "      <td>0.080295</td>\n",
       "      <td>35.163311</td>\n",
       "    </tr>\n",
       "    <tr>\n",
       "      <th>1</th>\n",
       "      <td>GJ 1061 d</td>\n",
       "      <td>1.640</td>\n",
       "      <td>1.148567</td>\n",
       "      <td>0.05400</td>\n",
       "      <td>3.67278</td>\n",
       "      <td>0.1600</td>\n",
       "      <td>5.16</td>\n",
       "      <td>2953.0</td>\n",
       "      <td>2.801343</td>\n",
       "      <td>0.046436</td>\n",
       "      <td>0.121392</td>\n",
       "      <td>0.190372</td>\n",
       "      <td>0.100050</td>\n",
       "      <td>0.251284</td>\n",
       "      <td>33.478073</td>\n",
       "    </tr>\n",
       "    <tr>\n",
       "      <th>2</th>\n",
       "      <td>GJ 667 C c</td>\n",
       "      <td>3.800</td>\n",
       "      <td>1.819741</td>\n",
       "      <td>0.12500</td>\n",
       "      <td>7.24396</td>\n",
       "      <td>0.3300</td>\n",
       "      <td>4.69</td>\n",
       "      <td>3350.0</td>\n",
       "      <td>3.287770</td>\n",
       "      <td>0.054995</td>\n",
       "      <td>0.138967</td>\n",
       "      <td>0.175051</td>\n",
       "      <td>0.119916</td>\n",
       "      <td>0.259537</td>\n",
       "      <td>32.049286</td>\n",
       "    </tr>\n",
       "    <tr>\n",
       "      <th>3</th>\n",
       "      <td>GJ 682 b</td>\n",
       "      <td>4.400</td>\n",
       "      <td>1.984149</td>\n",
       "      <td>0.08000</td>\n",
       "      <td>5.00671</td>\n",
       "      <td>0.3000</td>\n",
       "      <td>4.93</td>\n",
       "      <td>3028.0</td>\n",
       "      <td>3.044423</td>\n",
       "      <td>0.086844</td>\n",
       "      <td>0.227028</td>\n",
       "      <td>0.356032</td>\n",
       "      <td>0.187113</td>\n",
       "      <td>0.469950</td>\n",
       "      <td>32.452245</td>\n",
       "    </tr>\n",
       "    <tr>\n",
       "      <th>4</th>\n",
       "      <td>GJ 887 b</td>\n",
       "      <td>4.200</td>\n",
       "      <td>1.930431</td>\n",
       "      <td>0.06800</td>\n",
       "      <td>3.29000</td>\n",
       "      <td>0.4700</td>\n",
       "      <td>4.78</td>\n",
       "      <td>3688.0</td>\n",
       "      <td>3.938043</td>\n",
       "      <td>1.018637</td>\n",
       "      <td>2.737655</td>\n",
       "      <td>3.177123</td>\n",
       "      <td>2.404603</td>\n",
       "      <td>4.940507</td>\n",
       "      <td>27.082653</td>\n",
       "    </tr>\n",
       "    <tr>\n",
       "      <th>5</th>\n",
       "      <td>Proxima Cen b</td>\n",
       "      <td>1.070</td>\n",
       "      <td>1.019125</td>\n",
       "      <td>0.04856</td>\n",
       "      <td>1.30119</td>\n",
       "      <td>0.1400</td>\n",
       "      <td>5.16</td>\n",
       "      <td>2900.0</td>\n",
       "      <td>7.110586</td>\n",
       "      <td>0.086896</td>\n",
       "      <td>0.230584</td>\n",
       "      <td>0.385061</td>\n",
       "      <td>0.187370</td>\n",
       "      <td>0.494065</td>\n",
       "      <td>32.130354</td>\n",
       "    </tr>\n",
       "    <tr>\n",
       "      <th>6</th>\n",
       "      <td>Wolf 1061 c</td>\n",
       "      <td>3.410</td>\n",
       "      <td>1.707113</td>\n",
       "      <td>0.08900</td>\n",
       "      <td>4.30592</td>\n",
       "      <td>0.3100</td>\n",
       "      <td>4.90</td>\n",
       "      <td>3342.0</td>\n",
       "      <td>3.938143</td>\n",
       "      <td>0.133386</td>\n",
       "      <td>0.338115</td>\n",
       "      <td>0.433497</td>\n",
       "      <td>0.291155</td>\n",
       "      <td>0.636243</td>\n",
       "      <td>30.760834</td>\n",
       "    </tr>\n",
       "    <tr>\n",
       "      <th>7</th>\n",
       "      <td>TRAPPIST-1 e</td>\n",
       "      <td>0.692</td>\n",
       "      <td>0.920000</td>\n",
       "      <td>0.02925</td>\n",
       "      <td>12.10000</td>\n",
       "      <td>0.1192</td>\n",
       "      <td>5.24</td>\n",
       "      <td>2566.0</td>\n",
       "      <td>0.460583</td>\n",
       "      <td>0.000000</td>\n",
       "      <td>0.000000</td>\n",
       "      <td>0.000000</td>\n",
       "      <td>0.000000</td>\n",
       "      <td>0.000000</td>\n",
       "      <td>38.703582</td>\n",
       "    </tr>\n",
       "    <tr>\n",
       "      <th>8</th>\n",
       "      <td>TRAPPIST-1 h</td>\n",
       "      <td>0.326</td>\n",
       "      <td>0.755000</td>\n",
       "      <td>0.06189</td>\n",
       "      <td>12.10000</td>\n",
       "      <td>0.1192</td>\n",
       "      <td>5.24</td>\n",
       "      <td>2566.0</td>\n",
       "      <td>0.974546</td>\n",
       "      <td>0.000357</td>\n",
       "      <td>0.000000</td>\n",
       "      <td>0.000805</td>\n",
       "      <td>0.000000</td>\n",
       "      <td>0.000881</td>\n",
       "      <td>40.760259</td>\n",
       "    </tr>\n",
       "    <tr>\n",
       "      <th>9</th>\n",
       "      <td>GJ 1002 b</td>\n",
       "      <td>1.080</td>\n",
       "      <td>1.021946</td>\n",
       "      <td>0.04570</td>\n",
       "      <td>4.84867</td>\n",
       "      <td>0.1400</td>\n",
       "      <td>5.10</td>\n",
       "      <td>3024.0</td>\n",
       "      <td>1.795812</td>\n",
       "      <td>0.034019</td>\n",
       "      <td>0.025913</td>\n",
       "      <td>0.123363</td>\n",
       "      <td>0.018352</td>\n",
       "      <td>0.131848</td>\n",
       "      <td>34.262424</td>\n",
       "    </tr>\n",
       "    <tr>\n",
       "      <th>10</th>\n",
       "      <td>Wolf 1061 b</td>\n",
       "      <td>1.910</td>\n",
       "      <td>1.198668</td>\n",
       "      <td>0.03750</td>\n",
       "      <td>4.30592</td>\n",
       "      <td>0.3100</td>\n",
       "      <td>4.90</td>\n",
       "      <td>3342.0</td>\n",
       "      <td>1.659330</td>\n",
       "      <td>0.370417</td>\n",
       "      <td>0.120443</td>\n",
       "      <td>0.940342</td>\n",
       "      <td>0.195681</td>\n",
       "      <td>1.036460</td>\n",
       "      <td>29.651858</td>\n",
       "    </tr>\n",
       "    <tr>\n",
       "      <th>11</th>\n",
       "      <td>GJ 1061 c</td>\n",
       "      <td>1.740</td>\n",
       "      <td>1.167483</td>\n",
       "      <td>0.03500</td>\n",
       "      <td>3.67278</td>\n",
       "      <td>0.1600</td>\n",
       "      <td>5.16</td>\n",
       "      <td>2953.0</td>\n",
       "      <td>1.815685</td>\n",
       "      <td>0.114205</td>\n",
       "      <td>0.086990</td>\n",
       "      <td>0.414776</td>\n",
       "      <td>0.061607</td>\n",
       "      <td>0.443221</td>\n",
       "      <td>32.500974</td>\n",
       "    </tr>\n",
       "  </tbody>\n",
       "</table>\n",
       "</div>"
      ],
      "text/plain": [
       "           Planet  MassEar  RadiusEar    SMAAU  DistancePC  SRadiusSun  Slogg  \\\n",
       "0       GJ 1002 c    1.360   1.089911  0.07380     4.84867      0.1400   5.10   \n",
       "1       GJ 1061 d    1.640   1.148567  0.05400     3.67278      0.1600   5.16   \n",
       "2      GJ 667 C c    3.800   1.819741  0.12500     7.24396      0.3300   4.69   \n",
       "3        GJ 682 b    4.400   1.984149  0.08000     5.00671      0.3000   4.93   \n",
       "4        GJ 887 b    4.200   1.930431  0.06800     3.29000      0.4700   4.78   \n",
       "5   Proxima Cen b    1.070   1.019125  0.04856     1.30119      0.1400   5.16   \n",
       "6     Wolf 1061 c    3.410   1.707113  0.08900     4.30592      0.3100   4.90   \n",
       "7    TRAPPIST-1 e    0.692   0.920000  0.02925    12.10000      0.1192   5.24   \n",
       "8    TRAPPIST-1 h    0.326   0.755000  0.06189    12.10000      0.1192   5.24   \n",
       "9       GJ 1002 b    1.080   1.021946  0.04570     4.84867      0.1400   5.10   \n",
       "10    Wolf 1061 b    1.910   1.198668  0.03750     4.30592      0.3100   4.90   \n",
       "11      GJ 1061 c    1.740   1.167483  0.03500     3.67278      0.1600   5.16   \n",
       "\n",
       "       STK  limit_wl    SNR_o2   SNR_ch4   SNR_h2o   SNR_co2  SNR_total  \\\n",
       "0   3024.0  2.900021  0.014838  0.038789  0.060831  0.031970   0.080295   \n",
       "1   2953.0  2.801343  0.046436  0.121392  0.190372  0.100050   0.251284   \n",
       "2   3350.0  3.287770  0.054995  0.138967  0.175051  0.119916   0.259537   \n",
       "3   3028.0  3.044423  0.086844  0.227028  0.356032  0.187113   0.469950   \n",
       "4   3688.0  3.938043  1.018637  2.737655  3.177123  2.404603   4.940507   \n",
       "5   2900.0  7.110586  0.086896  0.230584  0.385061  0.187370   0.494065   \n",
       "6   3342.0  3.938143  0.133386  0.338115  0.433497  0.291155   0.636243   \n",
       "7   2566.0  0.460583  0.000000  0.000000  0.000000  0.000000   0.000000   \n",
       "8   2566.0  0.974546  0.000357  0.000000  0.000805  0.000000   0.000881   \n",
       "9   3024.0  1.795812  0.034019  0.025913  0.123363  0.018352   0.131848   \n",
       "10  3342.0  1.659330  0.370417  0.120443  0.940342  0.195681   1.036460   \n",
       "11  2953.0  1.815685  0.114205  0.086990  0.414776  0.061607   0.443221   \n",
       "\n",
       "          mag  \n",
       "0   35.163311  \n",
       "1   33.478073  \n",
       "2   32.049286  \n",
       "3   32.452245  \n",
       "4   27.082653  \n",
       "5   32.130354  \n",
       "6   30.760834  \n",
       "7   38.703582  \n",
       "8   40.760259  \n",
       "9   34.262424  \n",
       "10  29.651858  \n",
       "11  32.500974  "
      ]
     },
     "execution_count": 67,
     "metadata": {},
     "output_type": "execute_result"
    }
   ],
   "source": [
    "pts"
   ]
  },
  {
   "cell_type": "code",
   "execution_count": 68,
   "id": "6aa9d63a",
   "metadata": {},
   "outputs": [],
   "source": [
    "pn_9e_elt=(np.array(phe_1e[9])*u.W/u.m**2 *S*t/(pe_1)).to(u.m/u.m)"
   ]
  },
  {
   "cell_type": "code",
   "execution_count": 69,
   "id": "ce61f9c1",
   "metadata": {},
   "outputs": [],
   "source": [
    "#len(gp_f_pla[9][0])"
   ]
  },
  {
   "cell_type": "code",
   "execution_count": 70,
   "id": "6559846c",
   "metadata": {},
   "outputs": [
    {
     "name": "stderr",
     "output_type": "stream",
     "text": [
      "No artists with labels found to put in legend.  Note that artists whose label start with an underscore are ignored when legend() is called with no argument.\n"
     ]
    },
    {
     "name": "stderr",
     "output_type": "stream",
     "text": [
      "No artists with labels found to put in legend.  Note that artists whose label start with an underscore are ignored when legend() is called with no argument.\n"
     ]
    },
    {
     "data": {
      "text/plain": [
       "<matplotlib.legend.Legend at 0x168fe7a90>"
      ]
     },
     "execution_count": 70,
     "metadata": {},
     "output_type": "execute_result"
    },
    {
     "data": {
      "image/png": "[encoded data removed]",
      "text/plain": [
       "<Figure size 864x432 with 1 Axes>"
      ]
     },
     "metadata": {
      "needs_background": "light"
     },
     "output_type": "display_data"
    }
   ],
   "source": [
    "plt.figure(figsize=(12, 6))\n",
    "#plt.plot(wl_um_check, tbd_tra1_erg_check/(1/ang2_1.to(u.steradian)),'-',color = '#1f77b4', label='Blackbody flux we simulated',linewidth=3)\n",
    "#plt.plot(sim_x, sim_y,'o',color = '#ff7f0e', label ='Data come from SIMBAD')\n",
    "plt.plot(wl_um,pn_9e_elt_nogas,linewidth=3,color = '#1f77b4' )\n",
    "#plt.plot(wl_um_rem,pn_planet_elt_rem[9][0],linewidth=3,color = 'red' )\n",
    "#plt.errorbar(wl_um[:765], pn_15e_elt_nogas[:765],\n",
    "#             yerr = dnr[15][:765],\n",
    "#             fmt ='o')\n",
    "plt.legend()\n",
    "plt.xlabel(\"Wavelength(um)\",fontdict={ 'size'   : 16})\n",
    "plt.ylabel(\"$PN$\",fontdict={ 'size'   : 16})\n",
    "#plt.xlim(0.9,5.6)\n",
    "#plt.ylim(0,0.5e3)\n",
    "#plt.title(\"ELT-R150-TRA1\")\n",
    "plt.xticks(size = 15)\n",
    "plt.yticks(size = 15)\n",
    "plt.legend(prop={'size': 15})"
   ]
  },
  {
   "cell_type": "code",
   "execution_count": 71,
   "id": "552b1cd7",
   "metadata": {
    "scrolled": false
   },
   "outputs": [
    {
     "name": "stderr",
     "output_type": "stream",
     "text": [
      "No artists with labels found to put in legend.  Note that artists whose label start with an underscore are ignored when legend() is called with no argument.\n",
      "No artists with labels found to put in legend.  Note that artists whose label start with an underscore are ignored when legend() is called with no argument.\n"
     ]
    },
    {
     "data": {
      "text/plain": [
       "<matplotlib.legend.Legend at 0x169087fa0>"
      ]
     },
     "execution_count": 71,
     "metadata": {},
     "output_type": "execute_result"
    },
    {
     "data": {
      "image/png": "[encoded data removed]",
      "text/plain": [
       "<Figure size 864x432 with 1 Axes>"
      ]
     },
     "metadata": {
      "needs_background": "light"
     },
     "output_type": "display_data"
    }
   ],
   "source": [
    "plt.figure(figsize=(12, 6))\n",
    "#plt.plot(wl_um_check, tbd_tra1_erg_check/(1/ang2_1.to(u.steradian)),'-',color = '#1f77b4', label='Blackbody flux we simulated',linewidth=3)\n",
    "#plt.plot(sim_x, sim_y,'o',color = '#ff7f0e', label ='Data come from SIMBAD')\n",
    "plt.plot(wl_um,pn_9e_elt_nogas,linewidth=3,color = '#1f77b4' )\n",
    "plt.plot(wl_um,pn_9e_elt,linewidth=3,color = 'red' )\n",
    "plt.legend()\n",
    "plt.xlabel(\"Wavelength(um)\",fontdict={ 'size'   : 16})\n",
    "plt.ylabel(\"$PN$\",fontdict={ 'size'   : 16})\n",
    "#plt.xlim(0.9,5.6)\n",
    "#plt.title(\"ELT-R150-TRA1\")\n",
    "plt.xticks(size = 15)\n",
    "plt.yticks(size = 15)\n",
    "plt.legend(prop={'size': 15})"
   ]
  },
  {
   "cell_type": "code",
   "execution_count": 72,
   "id": "ebcb48a5",
   "metadata": {},
   "outputs": [],
   "source": [
    "flux_bin_the = [[],[],[],[],[],[],[],[],[],[],[],[],[],[],[]]#W/m**2\n",
    "for a in range(len(Flux_tbd_planet_earth)):\n",
    "    for i in range(len(bin_range)):\n",
    "        flux_bin_the[a].append(np.sum(Flux_tbd_planet_earth[a][bin_range[i]].value))\n",
    "        \n",
    "        "
   ]
  },
  {
   "cell_type": "code",
   "execution_count": 73,
   "id": "c3fc2bdb",
   "metadata": {},
   "outputs": [],
   "source": [
    "flux_bin_ref = [[],[],[],[],[],[],[],[],[],[],[],[],[],[],[]]#W/m**2\n",
    "for a in range(len(f_ref_planet_earth_fit)):\n",
    "    for i in range(len(bin_range)):\n",
    "        flux_bin_ref[a].append(np.sum(f_ref_planet_earth_fit[a][bin_range[i]]))"
   ]
  },
  {
   "cell_type": "code",
   "execution_count": 74,
   "id": "41c2664f",
   "metadata": {},
   "outputs": [
    {
     "name": "stderr",
     "output_type": "stream",
     "text": [
      "No artists with labels found to put in legend.  Note that artists whose label start with an underscore are ignored when legend() is called with no argument.\n",
      "No artists with labels found to put in legend.  Note that artists whose label start with an underscore are ignored when legend() is called with no argument.\n"
     ]
    },
    {
     "data": {
      "text/plain": [
       "<matplotlib.legend.Legend at 0x167d39580>"
      ]
     },
     "execution_count": 74,
     "metadata": {},
     "output_type": "execute_result"
    },
    {
     "data": {
      "image/png": "[encoded data removed]",
      "text/plain": [
       "<Figure size 864x432 with 1 Axes>"
      ]
     },
     "metadata": {
      "needs_background": "light"
     },
     "output_type": "display_data"
    }
   ],
   "source": [
    "plt.figure(figsize=(12, 6))\n",
    "#plt.plot(wl_um_check, tbd_tra1_erg_check/(1/ang2_1.to(u.steradian)),'-',color = '#1f77b4', label='Blackbody flux we simulated',linewidth=3)\n",
    "#plt.plot(sim_x, sim_y,'o',color = '#ff7f0e', label ='Data come from SIMBAD')\n",
    "plt.plot(wl_um,flux_bin_ref[9],linewidth=3,color = '#1f77b4' )\n",
    "plt.legend()\n",
    "plt.xlabel(\"Wavelength(um)\",fontdict={ 'size'   : 16})\n",
    "plt.ylabel(\"$W/m2$\",fontdict={ 'size'   : 16})\n",
    "plt.xlim(0.9,5.6)\n",
    "#plt.title(\"ELT-R150-TRA1\")\n",
    "plt.xticks(size = 15)\n",
    "plt.yticks(size = 15)\n",
    "plt.legend(prop={'size': 15})"
   ]
  },
  {
   "cell_type": "code",
   "execution_count": 75,
   "id": "85f1fe0b",
   "metadata": {},
   "outputs": [
    {
     "name": "stderr",
     "output_type": "stream",
     "text": [
      "No artists with labels found to put in legend.  Note that artists whose label start with an underscore are ignored when legend() is called with no argument.\n",
      "No artists with labels found to put in legend.  Note that artists whose label start with an underscore are ignored when legend() is called with no argument.\n"
     ]
    },
    {
     "data": {
      "text/plain": [
       "<matplotlib.legend.Legend at 0x1692f0250>"
      ]
     },
     "execution_count": 75,
     "metadata": {},
     "output_type": "execute_result"
    },
    {
     "data": {
      "image/png": "[encoded data removed]",
      "text/plain": [
       "<Figure size 864x432 with 1 Axes>"
      ]
     },
     "metadata": {
      "needs_background": "light"
     },
     "output_type": "display_data"
    }
   ],
   "source": [
    "plt.figure(figsize=(12, 6))\n",
    "#plt.plot(wl_um_check, tbd_tra1_erg_check/(1/ang2_1.to(u.steradian)),'-',color = '#1f77b4', label='Blackbody flux we simulated',linewidth=3)\n",
    "#plt.plot(sim_x, sim_y,'o',color = '#ff7f0e', label ='Data come from SIMBAD')\n",
    "plt.plot(wl_um,flux_bin_the[9],linewidth=3,color = '#1f77b4' )\n",
    "plt.legend()\n",
    "plt.xlabel(\"Wavelength(um)\",fontdict={ 'size'   : 16})\n",
    "plt.ylabel(\"$W/m2$\",fontdict={ 'size'   : 16})\n",
    "plt.xlim(0.9,5.6)\n",
    "#plt.title(\"ELT-R150-TRA1\")\n",
    "plt.xticks(size = 15)\n",
    "plt.yticks(size = 15)\n",
    "plt.legend(prop={'size': 15})"
   ]
  },
  {
   "cell_type": "code",
   "execution_count": 76,
   "id": "9c4970f3",
   "metadata": {},
   "outputs": [
    {
     "name": "stderr",
     "output_type": "stream",
     "text": [
      "No artists with labels found to put in legend.  Note that artists whose label start with an underscore are ignored when legend() is called with no argument.\n",
      "No artists with labels found to put in legend.  Note that artists whose label start with an underscore are ignored when legend() is called with no argument.\n"
     ]
    },
    {
     "data": {
      "text/plain": [
       "<matplotlib.legend.Legend at 0x167d0ad60>"
      ]
     },
     "execution_count": 76,
     "metadata": {},
     "output_type": "execute_result"
    },
    {
     "data": {
      "image/png": "[encoded data removed]",
      "text/plain": [
       "<Figure size 864x432 with 1 Axes>"
      ]
     },
     "metadata": {
      "needs_background": "light"
     },
     "output_type": "display_data"
    }
   ],
   "source": [
    "plt.figure(figsize=(12, 6))\n",
    "#plt.plot(wl_um_check, tbd_tra1_erg_check/(1/ang2_1.to(u.steradian)),'-',color = '#1f77b4', label='Blackbody flux we simulated',linewidth=3)\n",
    "#plt.plot(sim_x, sim_y,'o',color = '#ff7f0e', label ='Data come from SIMBAD')\n",
    "plt.plot(wl_um,(np.array(flux_bin_the[9])+np.array(flux_bin_ref[9])),linewidth=3,color = '#1f77b4' )\n",
    "plt.legend()\n",
    "plt.xlabel(\"Wavelength(um)\",fontdict={ 'size'   : 16})\n",
    "plt.ylabel(\"$W/m2$\",fontdict={ 'size'   : 16})\n",
    "plt.xlim(0.9,5.6)\n",
    "#plt.title(\"ELT-R150-TRA1\")\n",
    "plt.xticks(size = 15)\n",
    "plt.yticks(size = 15)\n",
    "plt.legend(prop={'size': 15})"
   ]
  },
  {
   "cell_type": "markdown",
   "id": "5b72b857",
   "metadata": {},
   "source": [
    "## STAR"
   ]
  },
  {
   "cell_type": "code",
   "execution_count": 77,
   "id": "d7486ff5",
   "metadata": {},
   "outputs": [
    {
     "data": {
      "text/html": [
       "<div>\n",
       "<style scoped>\n",
       "    .dataframe tbody tr th:only-of-type {\n",
       "        vertical-align: middle;\n",
       "    }\n",
       "\n",
       "    .dataframe tbody tr th {\n",
       "        vertical-align: top;\n",
       "    }\n",
       "\n",
       "    .dataframe thead th {\n",
       "        text-align: right;\n",
       "    }\n",
       "</style>\n",
       "<table border=\"1\" class=\"dataframe\">\n",
       "  <thead>\n",
       "    <tr style=\"text-align: right;\">\n",
       "      <th></th>\n",
       "      <th>Planet</th>\n",
       "      <th>MassEar</th>\n",
       "      <th>RadiusEar</th>\n",
       "      <th>SMAAU</th>\n",
       "      <th>DistancePC</th>\n",
       "      <th>SRadiusSun</th>\n",
       "      <th>Slogg</th>\n",
       "      <th>STK</th>\n",
       "      <th>limit_wl</th>\n",
       "      <th>SNR_o2</th>\n",
       "      <th>SNR_ch4</th>\n",
       "      <th>SNR_h2o</th>\n",
       "      <th>SNR_co2</th>\n",
       "      <th>SNR_total</th>\n",
       "      <th>mag</th>\n",
       "    </tr>\n",
       "  </thead>\n",
       "  <tbody>\n",
       "    <tr>\n",
       "      <th>0</th>\n",
       "      <td>GJ 1002 c</td>\n",
       "      <td>1.360</td>\n",
       "      <td>1.089911</td>\n",
       "      <td>0.07380</td>\n",
       "      <td>4.84867</td>\n",
       "      <td>0.1400</td>\n",
       "      <td>5.10</td>\n",
       "      <td>3024.0</td>\n",
       "      <td>2.900021</td>\n",
       "      <td>0.014838</td>\n",
       "      <td>0.038789</td>\n",
       "      <td>0.060831</td>\n",
       "      <td>0.031970</td>\n",
       "      <td>0.080295</td>\n",
       "      <td>35.163311</td>\n",
       "    </tr>\n",
       "    <tr>\n",
       "      <th>1</th>\n",
       "      <td>GJ 1061 d</td>\n",
       "      <td>1.640</td>\n",
       "      <td>1.148567</td>\n",
       "      <td>0.05400</td>\n",
       "      <td>3.67278</td>\n",
       "      <td>0.1600</td>\n",
       "      <td>5.16</td>\n",
       "      <td>2953.0</td>\n",
       "      <td>2.801343</td>\n",
       "      <td>0.046436</td>\n",
       "      <td>0.121392</td>\n",
       "      <td>0.190372</td>\n",
       "      <td>0.100050</td>\n",
       "      <td>0.251284</td>\n",
       "      <td>33.478073</td>\n",
       "    </tr>\n",
       "    <tr>\n",
       "      <th>2</th>\n",
       "      <td>GJ 667 C c</td>\n",
       "      <td>3.800</td>\n",
       "      <td>1.819741</td>\n",
       "      <td>0.12500</td>\n",
       "      <td>7.24396</td>\n",
       "      <td>0.3300</td>\n",
       "      <td>4.69</td>\n",
       "      <td>3350.0</td>\n",
       "      <td>3.287770</td>\n",
       "      <td>0.054995</td>\n",
       "      <td>0.138967</td>\n",
       "      <td>0.175051</td>\n",
       "      <td>0.119916</td>\n",
       "      <td>0.259537</td>\n",
       "      <td>32.049286</td>\n",
       "    </tr>\n",
       "    <tr>\n",
       "      <th>3</th>\n",
       "      <td>GJ 682 b</td>\n",
       "      <td>4.400</td>\n",
       "      <td>1.984149</td>\n",
       "      <td>0.08000</td>\n",
       "      <td>5.00671</td>\n",
       "      <td>0.3000</td>\n",
       "      <td>4.93</td>\n",
       "      <td>3028.0</td>\n",
       "      <td>3.044423</td>\n",
       "      <td>0.086844</td>\n",
       "      <td>0.227028</td>\n",
       "      <td>0.356032</td>\n",
       "      <td>0.187113</td>\n",
       "      <td>0.469950</td>\n",
       "      <td>32.452245</td>\n",
       "    </tr>\n",
       "    <tr>\n",
       "      <th>4</th>\n",
       "      <td>GJ 887 b</td>\n",
       "      <td>4.200</td>\n",
       "      <td>1.930431</td>\n",
       "      <td>0.06800</td>\n",
       "      <td>3.29000</td>\n",
       "      <td>0.4700</td>\n",
       "      <td>4.78</td>\n",
       "      <td>3688.0</td>\n",
       "      <td>3.938043</td>\n",
       "      <td>1.018637</td>\n",
       "      <td>2.737655</td>\n",
       "      <td>3.177123</td>\n",
       "      <td>2.404603</td>\n",
       "      <td>4.940507</td>\n",
       "      <td>27.082653</td>\n",
       "    </tr>\n",
       "    <tr>\n",
       "      <th>5</th>\n",
       "      <td>Proxima Cen b</td>\n",
       "      <td>1.070</td>\n",
       "      <td>1.019125</td>\n",
       "      <td>0.04856</td>\n",
       "      <td>1.30119</td>\n",
       "      <td>0.1400</td>\n",
       "      <td>5.16</td>\n",
       "      <td>2900.0</td>\n",
       "      <td>7.110586</td>\n",
       "      <td>0.086896</td>\n",
       "      <td>0.230584</td>\n",
       "      <td>0.385061</td>\n",
       "      <td>0.187370</td>\n",
       "      <td>0.494065</td>\n",
       "      <td>32.130354</td>\n",
       "    </tr>\n",
       "    <tr>\n",
       "      <th>6</th>\n",
       "      <td>Wolf 1061 c</td>\n",
       "      <td>3.410</td>\n",
       "      <td>1.707113</td>\n",
       "      <td>0.08900</td>\n",
       "      <td>4.30592</td>\n",
       "      <td>0.3100</td>\n",
       "      <td>4.90</td>\n",
       "      <td>3342.0</td>\n",
       "      <td>3.938143</td>\n",
       "      <td>0.133386</td>\n",
       "      <td>0.338115</td>\n",
       "      <td>0.433497</td>\n",
       "      <td>0.291155</td>\n",
       "      <td>0.636243</td>\n",
       "      <td>30.760834</td>\n",
       "    </tr>\n",
       "    <tr>\n",
       "      <th>7</th>\n",
       "      <td>TRAPPIST-1 e</td>\n",
       "      <td>0.692</td>\n",
       "      <td>0.920000</td>\n",
       "      <td>0.02925</td>\n",
       "      <td>12.10000</td>\n",
       "      <td>0.1192</td>\n",
       "      <td>5.24</td>\n",
       "      <td>2566.0</td>\n",
       "      <td>0.460583</td>\n",
       "      <td>0.000000</td>\n",
       "      <td>0.000000</td>\n",
       "      <td>0.000000</td>\n",
       "      <td>0.000000</td>\n",
       "      <td>0.000000</td>\n",
       "      <td>38.703582</td>\n",
       "    </tr>\n",
       "    <tr>\n",
       "      <th>8</th>\n",
       "      <td>TRAPPIST-1 h</td>\n",
       "      <td>0.326</td>\n",
       "      <td>0.755000</td>\n",
       "      <td>0.06189</td>\n",
       "      <td>12.10000</td>\n",
       "      <td>0.1192</td>\n",
       "      <td>5.24</td>\n",
       "      <td>2566.0</td>\n",
       "      <td>0.974546</td>\n",
       "      <td>0.000357</td>\n",
       "      <td>0.000000</td>\n",
       "      <td>0.000805</td>\n",
       "      <td>0.000000</td>\n",
       "      <td>0.000881</td>\n",
       "      <td>40.760259</td>\n",
       "    </tr>\n",
       "    <tr>\n",
       "      <th>9</th>\n",
       "      <td>GJ 1002 b</td>\n",
       "      <td>1.080</td>\n",
       "      <td>1.021946</td>\n",
       "      <td>0.04570</td>\n",
       "      <td>4.84867</td>\n",
       "      <td>0.1400</td>\n",
       "      <td>5.10</td>\n",
       "      <td>3024.0</td>\n",
       "      <td>1.795812</td>\n",
       "      <td>0.034019</td>\n",
       "      <td>0.025913</td>\n",
       "      <td>0.123363</td>\n",
       "      <td>0.018352</td>\n",
       "      <td>0.131848</td>\n",
       "      <td>34.262424</td>\n",
       "    </tr>\n",
       "    <tr>\n",
       "      <th>10</th>\n",
       "      <td>Wolf 1061 b</td>\n",
       "      <td>1.910</td>\n",
       "      <td>1.198668</td>\n",
       "      <td>0.03750</td>\n",
       "      <td>4.30592</td>\n",
       "      <td>0.3100</td>\n",
       "      <td>4.90</td>\n",
       "      <td>3342.0</td>\n",
       "      <td>1.659330</td>\n",
       "      <td>0.370417</td>\n",
       "      <td>0.120443</td>\n",
       "      <td>0.940342</td>\n",
       "      <td>0.195681</td>\n",
       "      <td>1.036460</td>\n",
       "      <td>29.651858</td>\n",
       "    </tr>\n",
       "    <tr>\n",
       "      <th>11</th>\n",
       "      <td>GJ 1061 c</td>\n",
       "      <td>1.740</td>\n",
       "      <td>1.167483</td>\n",
       "      <td>0.03500</td>\n",
       "      <td>3.67278</td>\n",
       "      <td>0.1600</td>\n",
       "      <td>5.16</td>\n",
       "      <td>2953.0</td>\n",
       "      <td>1.815685</td>\n",
       "      <td>0.114205</td>\n",
       "      <td>0.086990</td>\n",
       "      <td>0.414776</td>\n",
       "      <td>0.061607</td>\n",
       "      <td>0.443221</td>\n",
       "      <td>32.500974</td>\n",
       "    </tr>\n",
       "  </tbody>\n",
       "</table>\n",
       "</div>"
      ],
      "text/plain": [
       "           Planet  MassEar  RadiusEar    SMAAU  DistancePC  SRadiusSun  Slogg  \\\n",
       "0       GJ 1002 c    1.360   1.089911  0.07380     4.84867      0.1400   5.10   \n",
       "1       GJ 1061 d    1.640   1.148567  0.05400     3.67278      0.1600   5.16   \n",
       "2      GJ 667 C c    3.800   1.819741  0.12500     7.24396      0.3300   4.69   \n",
       "3        GJ 682 b    4.400   1.984149  0.08000     5.00671      0.3000   4.93   \n",
       "4        GJ 887 b    4.200   1.930431  0.06800     3.29000      0.4700   4.78   \n",
       "5   Proxima Cen b    1.070   1.019125  0.04856     1.30119      0.1400   5.16   \n",
       "6     Wolf 1061 c    3.410   1.707113  0.08900     4.30592      0.3100   4.90   \n",
       "7    TRAPPIST-1 e    0.692   0.920000  0.02925    12.10000      0.1192   5.24   \n",
       "8    TRAPPIST-1 h    0.326   0.755000  0.06189    12.10000      0.1192   5.24   \n",
       "9       GJ 1002 b    1.080   1.021946  0.04570     4.84867      0.1400   5.10   \n",
       "10    Wolf 1061 b    1.910   1.198668  0.03750     4.30592      0.3100   4.90   \n",
       "11      GJ 1061 c    1.740   1.167483  0.03500     3.67278      0.1600   5.16   \n",
       "\n",
       "       STK  limit_wl    SNR_o2   SNR_ch4   SNR_h2o   SNR_co2  SNR_total  \\\n",
       "0   3024.0  2.900021  0.014838  0.038789  0.060831  0.031970   0.080295   \n",
       "1   2953.0  2.801343  0.046436  0.121392  0.190372  0.100050   0.251284   \n",
       "2   3350.0  3.287770  0.054995  0.138967  0.175051  0.119916   0.259537   \n",
       "3   3028.0  3.044423  0.086844  0.227028  0.356032  0.187113   0.469950   \n",
       "4   3688.0  3.938043  1.018637  2.737655  3.177123  2.404603   4.940507   \n",
       "5   2900.0  7.110586  0.086896  0.230584  0.385061  0.187370   0.494065   \n",
       "6   3342.0  3.938143  0.133386  0.338115  0.433497  0.291155   0.636243   \n",
       "7   2566.0  0.460583  0.000000  0.000000  0.000000  0.000000   0.000000   \n",
       "8   2566.0  0.974546  0.000357  0.000000  0.000805  0.000000   0.000881   \n",
       "9   3024.0  1.795812  0.034019  0.025913  0.123363  0.018352   0.131848   \n",
       "10  3342.0  1.659330  0.370417  0.120443  0.940342  0.195681   1.036460   \n",
       "11  2953.0  1.815685  0.114205  0.086990  0.414776  0.061607   0.443221   \n",
       "\n",
       "          mag  \n",
       "0   35.163311  \n",
       "1   33.478073  \n",
       "2   32.049286  \n",
       "3   32.452245  \n",
       "4   27.082653  \n",
       "5   32.130354  \n",
       "6   30.760834  \n",
       "7   38.703582  \n",
       "8   40.760259  \n",
       "9   34.262424  \n",
       "10  29.651858  \n",
       "11  32.500974  "
      ]
     },
     "execution_count": 77,
     "metadata": {},
     "output_type": "execute_result"
    }
   ],
   "source": [
    "pts"
   ]
  },
  {
   "cell_type": "code",
   "execution_count": 78,
   "id": "85b9376f",
   "metadata": {},
   "outputs": [
    {
     "data": {
      "text/html": [
       "<div>\n",
       "<style scoped>\n",
       "    .dataframe tbody tr th:only-of-type {\n",
       "        vertical-align: middle;\n",
       "    }\n",
       "\n",
       "    .dataframe tbody tr th {\n",
       "        vertical-align: top;\n",
       "    }\n",
       "\n",
       "    .dataframe thead th {\n",
       "        text-align: right;\n",
       "    }\n",
       "</style>\n",
       "<table border=\"1\" class=\"dataframe\">\n",
       "  <thead>\n",
       "    <tr style=\"text-align: right;\">\n",
       "      <th></th>\n",
       "      <th>Planet</th>\n",
       "      <th>SNR_h2o</th>\n",
       "      <th>SNR_ch4</th>\n",
       "      <th>SNR_co2</th>\n",
       "      <th>SNR_o2</th>\n",
       "      <th>SNR_total</th>\n",
       "    </tr>\n",
       "  </thead>\n",
       "  <tbody>\n",
       "    <tr>\n",
       "      <th>0</th>\n",
       "      <td>GJ 1002 c</td>\n",
       "      <td>0.060831</td>\n",
       "      <td>0.038789</td>\n",
       "      <td>0.031970</td>\n",
       "      <td>0.014838</td>\n",
       "      <td>0.080295</td>\n",
       "    </tr>\n",
       "    <tr>\n",
       "      <th>1</th>\n",
       "      <td>GJ 1061 d</td>\n",
       "      <td>0.190372</td>\n",
       "      <td>0.121392</td>\n",
       "      <td>0.100050</td>\n",
       "      <td>0.046436</td>\n",
       "      <td>0.251284</td>\n",
       "    </tr>\n",
       "    <tr>\n",
       "      <th>2</th>\n",
       "      <td>GJ 667 C c</td>\n",
       "      <td>0.175051</td>\n",
       "      <td>0.138967</td>\n",
       "      <td>0.119916</td>\n",
       "      <td>0.054995</td>\n",
       "      <td>0.259537</td>\n",
       "    </tr>\n",
       "    <tr>\n",
       "      <th>3</th>\n",
       "      <td>GJ 682 b</td>\n",
       "      <td>0.356032</td>\n",
       "      <td>0.227028</td>\n",
       "      <td>0.187113</td>\n",
       "      <td>0.086844</td>\n",
       "      <td>0.469950</td>\n",
       "    </tr>\n",
       "    <tr>\n",
       "      <th>4</th>\n",
       "      <td>GJ 887 b</td>\n",
       "      <td>3.177123</td>\n",
       "      <td>2.737655</td>\n",
       "      <td>2.404603</td>\n",
       "      <td>1.018637</td>\n",
       "      <td>4.940507</td>\n",
       "    </tr>\n",
       "    <tr>\n",
       "      <th>5</th>\n",
       "      <td>Proxima Cen b</td>\n",
       "      <td>0.385061</td>\n",
       "      <td>0.230584</td>\n",
       "      <td>0.187370</td>\n",
       "      <td>0.086896</td>\n",
       "      <td>0.494065</td>\n",
       "    </tr>\n",
       "    <tr>\n",
       "      <th>6</th>\n",
       "      <td>Wolf 1061 c</td>\n",
       "      <td>0.433497</td>\n",
       "      <td>0.338115</td>\n",
       "      <td>0.291155</td>\n",
       "      <td>0.133386</td>\n",
       "      <td>0.636243</td>\n",
       "    </tr>\n",
       "    <tr>\n",
       "      <th>7</th>\n",
       "      <td>TRAPPIST-1 e</td>\n",
       "      <td>0.000000</td>\n",
       "      <td>0.000000</td>\n",
       "      <td>0.000000</td>\n",
       "      <td>0.000000</td>\n",
       "      <td>0.000000</td>\n",
       "    </tr>\n",
       "    <tr>\n",
       "      <th>8</th>\n",
       "      <td>TRAPPIST-1 h</td>\n",
       "      <td>0.000805</td>\n",
       "      <td>0.000000</td>\n",
       "      <td>0.000000</td>\n",
       "      <td>0.000357</td>\n",
       "      <td>0.000881</td>\n",
       "    </tr>\n",
       "    <tr>\n",
       "      <th>9</th>\n",
       "      <td>GJ 1002 b</td>\n",
       "      <td>0.123363</td>\n",
       "      <td>0.025913</td>\n",
       "      <td>0.018352</td>\n",
       "      <td>0.034019</td>\n",
       "      <td>0.131848</td>\n",
       "    </tr>\n",
       "    <tr>\n",
       "      <th>10</th>\n",
       "      <td>Wolf 1061 b</td>\n",
       "      <td>0.940342</td>\n",
       "      <td>0.120443</td>\n",
       "      <td>0.195681</td>\n",
       "      <td>0.370417</td>\n",
       "      <td>1.036460</td>\n",
       "    </tr>\n",
       "    <tr>\n",
       "      <th>11</th>\n",
       "      <td>GJ 1061 c</td>\n",
       "      <td>0.414776</td>\n",
       "      <td>0.086990</td>\n",
       "      <td>0.061607</td>\n",
       "      <td>0.114205</td>\n",
       "      <td>0.443221</td>\n",
       "    </tr>\n",
       "  </tbody>\n",
       "</table>\n",
       "</div>"
      ],
      "text/plain": [
       "           Planet   SNR_h2o   SNR_ch4   SNR_co2    SNR_o2  SNR_total\n",
       "0       GJ 1002 c  0.060831  0.038789  0.031970  0.014838   0.080295\n",
       "1       GJ 1061 d  0.190372  0.121392  0.100050  0.046436   0.251284\n",
       "2      GJ 667 C c  0.175051  0.138967  0.119916  0.054995   0.259537\n",
       "3        GJ 682 b  0.356032  0.227028  0.187113  0.086844   0.469950\n",
       "4        GJ 887 b  3.177123  2.737655  2.404603  1.018637   4.940507\n",
       "5   Proxima Cen b  0.385061  0.230584  0.187370  0.086896   0.494065\n",
       "6     Wolf 1061 c  0.433497  0.338115  0.291155  0.133386   0.636243\n",
       "7    TRAPPIST-1 e  0.000000  0.000000  0.000000  0.000000   0.000000\n",
       "8    TRAPPIST-1 h  0.000805  0.000000  0.000000  0.000357   0.000881\n",
       "9       GJ 1002 b  0.123363  0.025913  0.018352  0.034019   0.131848\n",
       "10    Wolf 1061 b  0.940342  0.120443  0.195681  0.370417   1.036460\n",
       "11      GJ 1061 c  0.414776  0.086990  0.061607  0.114205   0.443221"
      ]
     },
     "execution_count": 78,
     "metadata": {},
     "output_type": "execute_result"
    }
   ],
   "source": [
    "pts[[\"Planet\",\"SNR_h2o\",\"SNR_ch4\",\"SNR_co2\",\"SNR_o2\",\"SNR_total\"]]\n",
    "#pts[['Planet','SNR_total']].sort_values(by='SNR_total',ascending=False).to_latex()"
   ]
  },
  {
   "cell_type": "code",
   "execution_count": 79,
   "id": "da1c7d85",
   "metadata": {},
   "outputs": [
    {
     "data": {
      "text/plain": [
       "1079299"
      ]
     },
     "execution_count": 79,
     "metadata": {},
     "output_type": "execute_result"
    }
   ],
   "source": [
    "len(f_s[1])"
   ]
  },
  {
   "cell_type": "code",
   "execution_count": 80,
   "id": "becde7ca",
   "metadata": {},
   "outputs": [],
   "source": [
    "df_s = (pts.SRadiusSun * const.R_sun / (pts.DistancePC * const.pc))**2\n",
    "f_s = np.array(Flux_surface)*np.array(df_s).reshape(-1,1)\n",
    "f_s_fit = f_s \n",
    "flux_bin_s = [[],[],[],[],[],[],[],[],[],[],[],[],[],[],[]]#W/m**2\n",
    "for a in range(len(f_s_fit)):\n",
    "    for i in range(len(bin_range)):\n",
    "        flux_bin_s[a].append(np.sum(f_s_fit[a][bin_range[i]]))"
   ]
  },
  {
   "cell_type": "code",
   "execution_count": 81,
   "id": "581d97f4",
   "metadata": {},
   "outputs": [
    {
     "name": "stderr",
     "output_type": "stream",
     "text": [
      "No artists with labels found to put in legend.  Note that artists whose label start with an underscore are ignored when legend() is called with no argument.\n",
      "No artists with labels found to put in legend.  Note that artists whose label start with an underscore are ignored when legend() is called with no argument.\n"
     ]
    },
    {
     "data": {
      "text/plain": [
       "<matplotlib.legend.Legend at 0x168a43070>"
      ]
     },
     "execution_count": 81,
     "metadata": {},
     "output_type": "execute_result"
    },
    {
     "data": {
      "image/png": "[encoded data removed]",
      "text/plain": [
       "<Figure size 864x432 with 1 Axes>"
      ]
     },
     "metadata": {
      "needs_background": "light"
     },
     "output_type": "display_data"
    }
   ],
   "source": [
    "plt.figure(figsize=(12, 6))\n",
    "#plt.plot(wl_um_check, tbd_tra1_erg_check/(1/ang2_1.to(u.steradian)),'-',color = '#1f77b4', label='Blackbody flux we simulated',linewidth=3)\n",
    "#plt.plot(sim_x, sim_y,'o',color = '#ff7f0e', label ='Data come from SIMBAD')\n",
    "plt.plot(wl_um,flux_bin_s[9],linewidth=3,color = '#1f77b4' )\n",
    "plt.legend()\n",
    "plt.xlabel(\"Wavelength(um)\",fontdict={ 'size'   : 16})\n",
    "plt.ylabel(\"$W/m2$\",fontdict={ 'size'   : 16})\n",
    "plt.xlim(0.9,5.6)\n",
    "#plt.title(\"ELT-R150-TRA1\")\n",
    "plt.xticks(size = 15)\n",
    "plt.yticks(size = 15)\n",
    "plt.legend(prop={'size': 15})"
   ]
  },
  {
   "cell_type": "code",
   "execution_count": 82,
   "id": "a6fa5687",
   "metadata": {},
   "outputs": [
    {
     "name": "stderr",
     "output_type": "stream",
     "text": [
      "No artists with labels found to put in legend.  Note that artists whose label start with an underscore are ignored when legend() is called with no argument.\n",
      "No artists with labels found to put in legend.  Note that artists whose label start with an underscore are ignored when legend() is called with no argument.\n"
     ]
    },
    {
     "data": {
      "text/plain": [
       "<matplotlib.legend.Legend at 0x1693fcd90>"
      ]
     },
     "execution_count": 82,
     "metadata": {},
     "output_type": "execute_result"
    },
    {
     "data": {
      "image/png": "[encoded data removed]",
      "text/plain": [
       "<Figure size 864x432 with 1 Axes>"
      ]
     },
     "metadata": {
      "needs_background": "light"
     },
     "output_type": "display_data"
    }
   ],
   "source": [
    "#AT EARTH\n",
    "plt.figure(figsize=(12, 6))\n",
    "#plt.plot(wl_um_check, tbd_tra1_erg_check/(1/ang2_1.to(u.steradian)),'-',color = '#1f77b4', label='Blackbody flux we simulated',linewidth=3)\n",
    "#plt.plot(sim_x, sim_y,'o',color = '#ff7f0e', label ='Data come from SIMBAD')\n",
    "plt.plot(absor1.nm[1:1079300]/1000,f_s[9],linewidth=3,color = '#1f77b4' )\n",
    "plt.legend()\n",
    "plt.xlabel(\"Wavelength(um)\",fontdict={ 'size'   : 16})\n",
    "plt.ylabel(\"$W/m2$\",fontdict={ 'size'   : 16})\n",
    "plt.xlim(0.9,5.6)\n",
    "#plt.title(\"ELT-R150-TRA1\")\n",
    "plt.xticks(size = 15)\n",
    "plt.yticks(size = 15)\n",
    "plt.legend(prop={'size': 15})"
   ]
  },
  {
   "cell_type": "code",
   "execution_count": 83,
   "id": "25401e4c",
   "metadata": {},
   "outputs": [
    {
     "name": "stderr",
     "output_type": "stream",
     "text": [
      "No artists with labels found to put in legend.  Note that artists whose label start with an underscore are ignored when legend() is called with no argument.\n",
      "No artists with labels found to put in legend.  Note that artists whose label start with an underscore are ignored when legend() is called with no argument.\n"
     ]
    },
    {
     "data": {
      "text/plain": [
       "<matplotlib.legend.Legend at 0x168a51640>"
      ]
     },
     "execution_count": 83,
     "metadata": {},
     "output_type": "execute_result"
    },
    {
     "data": {
      "image/png": "[encoded data removed]",
      "text/plain": [
       "<Figure size 864x432 with 1 Axes>"
      ]
     },
     "metadata": {
      "needs_background": "light"
     },
     "output_type": "display_data"
    }
   ],
   "source": [
    "#SURFACE\n",
    "plt.figure(figsize=(12, 6))\n",
    "#plt.plot(wl_um_check, tbd_tra1_erg_check/(1/ang2_1.to(u.steradian)),'-',color = '#1f77b4', label='Blackbody flux we simulated',linewidth=3)\n",
    "#plt.plot(sim_x, sim_y,'o',color = '#ff7f0e', label ='Data come from SIMBAD')\n",
    "plt.plot(f_traAng[9],f_tra1_fum0[9],linewidth=3,color = '#1f77b4' )\n",
    "plt.legend()\n",
    "plt.xlabel(\"Wavelength(um)\",fontdict={ 'size'   : 16})\n",
    "plt.ylabel(\"$erg/ s\\ cm^2\\ A$\",fontdict={ 'size'   : 16})\n",
    "plt.xlim(0.9,5.6)\n",
    "#plt.title(\"ELT-R150-TRA1\")\n",
    "plt.xticks(size = 15)\n",
    "plt.yticks(size = 15)\n",
    "plt.legend(prop={'size': 15})"
   ]
  },
  {
   "cell_type": "code",
   "execution_count": 84,
   "id": "790a3e66",
   "metadata": {},
   "outputs": [
    {
     "name": "stderr",
     "output_type": "stream",
     "text": [
      "No artists with labels found to put in legend.  Note that artists whose label start with an underscore are ignored when legend() is called with no argument.\n",
      "No artists with labels found to put in legend.  Note that artists whose label start with an underscore are ignored when legend() is called with no argument.\n"
     ]
    },
    {
     "data": {
      "text/plain": [
       "<matplotlib.legend.Legend at 0x169459820>"
      ]
     },
     "execution_count": 84,
     "metadata": {},
     "output_type": "execute_result"
    },
    {
     "data": {
      "image/png": "[encoded data removed]",
      "text/plain": [
       "<Figure size 864x432 with 1 Axes>"
      ]
     },
     "metadata": {
      "needs_background": "light"
     },
     "output_type": "display_data"
    }
   ],
   "source": [
    "\n",
    "plt.figure(figsize=(12, 6))\n",
    "#plt.plot(wl_um_check, tbd_tra1_erg_check/(1/ang2_1.to(u.steradian)),'-',color = '#1f77b4', label='Blackbody flux we simulated',linewidth=3)\n",
    "#plt.plot(sim_x, sim_y,'o',color = '#ff7f0e', label ='Data come from SIMBAD')\n",
    "plt.plot(wl_um,n_9,linewidth=3,color = '#1f77b4' )\n",
    "plt.legend()\n",
    "plt.xlabel(\"Wavelength(um)\",fontdict={ 'size'   : 16})\n",
    "plt.ylabel(\"$PN$\",fontdict={ 'size'   : 16})\n",
    "plt.xlim(0.9,5.6)\n",
    "#plt.ylim(0,0.00006)\n",
    "#plt.title(\"ELT-R150-TRA1\")\n",
    "plt.xticks(size = 15)\n",
    "plt.yticks(size = 15)\n",
    "plt.legend(prop={'size': 15})"
   ]
  },
  {
   "cell_type": "markdown",
   "id": "e8c487e9",
   "metadata": {},
   "source": [
    "# check contrast form 10-3 to 10-6"
   ]
  },
  {
   "cell_type": "code",
   "execution_count": 85,
   "id": "c5eb921e",
   "metadata": {},
   "outputs": [],
   "source": [
    "n_9_3=((((pn_4e_elt+2* 10**(-2) *pn_4_elt)*trans_use+2*pnsky_1_elt)**(1/2) / nor_trans)**2 + (0.001)**2 * pn_4e_elt**2)**(1/2)\n",
    "n_9_4=((((pn_4e_elt+2* 10**(-3) *pn_4_elt)*trans_use+2*pnsky_1_elt)**(1/2) / nor_trans)**2 + (0.001)**2 * pn_4e_elt**2)**(1/2)\n",
    "n_9_5=((((pn_4e_elt+2* 10**(-4) *pn_4_elt)*trans_use+2*pnsky_1_elt)**(1/2) / nor_trans)**2 + (0.001)**2 * pn_4e_elt**2)**(1/2)\n",
    "n_9_6=((((pn_4e_elt+2* 10**(-5) *pn_4_elt)*trans_use+2*pnsky_1_elt)**(1/2) / nor_trans)**2 + (0.001)**2 * pn_4e_elt**2)**(1/2)"
   ]
  },
  {
   "cell_type": "code",
   "execution_count": 86,
   "id": "bd42536f",
   "metadata": {},
   "outputs": [
    {
     "name": "stdout",
     "output_type": "stream",
     "text": [
      "SNR(h2o) with instrument contrast 10-2: 1.0047171362944312\n",
      "SNR(h2o) with instrument contrast 10-3: 3.177122919995503\n",
      "SNR(h2o) with instrument contrast 10-4: 10.044680397759986\n",
      "SNR(h2o) with instrument contrast 10-5: 31.69273102101024\n"
     ]
    }
   ],
   "source": [
    "print(\"SNR(h2o) with instrument contrast 10-2:\",np.sum((dn[4][ind_ues_h2o[4]]/n_9_3[ind_ues_h2o[4]])**2)**(1/2))\n",
    "print(\"SNR(h2o) with instrument contrast 10-3:\",np.sum((dn[4][ind_ues_h2o[4]]/n_9_4[ind_ues_h2o[4]])**2)**(1/2))\n",
    "print(\"SNR(h2o) with instrument contrast 10-4:\",np.sum((dn[4][ind_ues_h2o[4]]/n_9_5[ind_ues_h2o[4]])**2)**(1/2))\n",
    "print(\"SNR(h2o) with instrument contrast 10-5:\",np.sum((dn[4][ind_ues_h2o[4]]/n_9_6[ind_ues_h2o[4]])**2)**(1/2))"
   ]
  },
  {
   "cell_type": "code",
   "execution_count": 87,
   "id": "bd3a7c6d",
   "metadata": {},
   "outputs": [
    {
     "name": "stdout",
     "output_type": "stream",
     "text": [
      "SNR(ch4) with instrument contrast 10-2: 0.8657425941854417\n",
      "SNR(ch4) with instrument contrast 10-3: 2.7376552568505828\n",
      "SNR(ch4) with instrument contrast 10-4: 8.655228004664044\n",
      "SNR(ch4) with instrument contrast 10-5: 27.307290486340925\n"
     ]
    }
   ],
   "source": [
    "print(\"SNR(ch4) with instrument contrast 10-2:\",np.sum((dn[4][ind_ues_ch4[4]]/n_9_3[ind_ues_ch4[4]])**2)**(1/2))\n",
    "print(\"SNR(ch4) with instrument contrast 10-3:\",np.sum((dn[4][ind_ues_ch4[4]]/n_9_4[ind_ues_ch4[4]])**2)**(1/2))\n",
    "print(\"SNR(ch4) with instrument contrast 10-4:\",np.sum((dn[4][ind_ues_ch4[4]]/n_9_5[ind_ues_ch4[4]])**2)**(1/2))\n",
    "print(\"SNR(ch4) with instrument contrast 10-5:\",np.sum((dn[4][ind_ues_ch4[4]]/n_9_6[ind_ues_ch4[4]])**2)**(1/2))"
   ]
  },
  {
   "cell_type": "code",
   "execution_count": 88,
   "id": "dab392f4",
   "metadata": {},
   "outputs": [
    {
     "name": "stdout",
     "output_type": "stream",
     "text": [
      "SNR(co2) with instrument contrast 10-2: 0.7604196293312732\n",
      "SNR(co2) with instrument contrast 10-3: 2.4046034702536385\n",
      "SNR(co2) with instrument contrast 10-4: 7.6022999034978085\n",
      "SNR(co2) with instrument contrast 10-5: 23.986270939626873\n"
     ]
    }
   ],
   "source": [
    "print(\"SNR(co2) with instrument contrast 10-2:\",np.sum((dn[4][ind_ues_co2[4]]/n_9_3[ind_ues_co2[4]])**2)**(1/2))\n",
    "print(\"SNR(co2) with instrument contrast 10-3:\",np.sum((dn[4][ind_ues_co2[4]]/n_9_4[ind_ues_co2[4]])**2)**(1/2))\n",
    "print(\"SNR(co2) with instrument contrast 10-4:\",np.sum((dn[4][ind_ues_co2[4]]/n_9_5[ind_ues_co2[4]])**2)**(1/2))\n",
    "print(\"SNR(co2) with instrument contrast 10-5:\",np.sum((dn[4][ind_ues_co2[4]]/n_9_6[ind_ues_co2[4]])**2)**(1/2))"
   ]
  },
  {
   "cell_type": "code",
   "execution_count": 89,
   "id": "382a6b86",
   "metadata": {},
   "outputs": [
    {
     "name": "stdout",
     "output_type": "stream",
     "text": [
      "SNR(o2) with instrument contrast 10-2: 0.32212899903810116\n",
      "SNR(o2) with instrument contrast 10-3: 1.0186372854267658\n",
      "SNR(o2) with instrument contrast 10-4: 3.2204536391953806\n",
      "SNR(o2) with instrument contrast 10-5: 10.160019331864717\n"
     ]
    }
   ],
   "source": [
    "print(\"SNR(o2) with instrument contrast 10-2:\",np.sum((dn[4][ind_ues_o2[4]]/n_9_3[ind_ues_o2[4]])**2)**(1/2))\n",
    "print(\"SNR(o2) with instrument contrast 10-3:\",np.sum((dn[4][ind_ues_o2[4]]/n_9_4[ind_ues_o2[4]])**2)**(1/2))\n",
    "print(\"SNR(o2) with instrument contrast 10-4:\",np.sum((dn[4][ind_ues_o2[4]]/n_9_5[ind_ues_o2[4]])**2)**(1/2))\n",
    "print(\"SNR(o2) with instrument contrast 10-5:\",np.sum((dn[4][ind_ues_o2[4]]/n_9_6[ind_ues_o2[4]])**2)**(1/2))"
   ]
  },
  {
   "cell_type": "code",
   "execution_count": 90,
   "id": "ff75e550",
   "metadata": {},
   "outputs": [
    {
     "name": "stdout",
     "output_type": "stream",
     "text": [
      "SNR(total) with instrument contrast 10-2: 1.5623609915906824\n",
      "SNR(total) with instrument contrast 10-3: 4.9405066665818635\n",
      "SNR(total) with instrument contrast 10-4: 15.61969466957642\n",
      "SNR(total) with instrument contrast 10-5: 49.281685235882144\n"
     ]
    },
    {
     "name": "stderr",
     "output_type": "stream",
     "text": [
      "/var/folders/6t/cpjtlkn10wv603vnph9nr3sh0000gn/T/ipykernel_889/3574435090.py:1: FutureWarning: Using a non-tuple sequence for multidimensional indexing is deprecated; use `arr[tuple(seq)]` instead of `arr[seq]`. In the future this will be interpreted as an array index, `arr[np.array(seq)]`, which will result either in an error or a different result.\n",
      "  print(\"SNR(total) with instrument contrast 10-2:\",np.sum((dn[4][ind_ues_totno[4]]/n_9_3[ind_ues_totno[4]])**2)**(1/2))\n",
      "/usr/local/anaconda3/envs/5300-env/lib/python3.9/site-packages/astropy/units/quantity.py:1294: FutureWarning: Using a non-tuple sequence for multidimensional indexing is deprecated; use `arr[tuple(seq)]` instead of `arr[seq]`. In the future this will be interpreted as an array index, `arr[np.array(seq)]`, which will result either in an error or a different result.\n",
      "  out = super().__getitem__(key)\n",
      "/var/folders/6t/cpjtlkn10wv603vnph9nr3sh0000gn/T/ipykernel_889/3574435090.py:2: FutureWarning: Using a non-tuple sequence for multidimensional indexing is deprecated; use `arr[tuple(seq)]` instead of `arr[seq]`. In the future this will be interpreted as an array index, `arr[np.array(seq)]`, which will result either in an error or a different result.\n",
      "  print(\"SNR(total) with instrument contrast 10-3:\",np.sum((dn[4][ind_ues_totno[4]]/n_9_4[ind_ues_totno[4]])**2)**(1/2))\n",
      "/var/folders/6t/cpjtlkn10wv603vnph9nr3sh0000gn/T/ipykernel_889/3574435090.py:3: FutureWarning: Using a non-tuple sequence for multidimensional indexing is deprecated; use `arr[tuple(seq)]` instead of `arr[seq]`. In the future this will be interpreted as an array index, `arr[np.array(seq)]`, which will result either in an error or a different result.\n",
      "  print(\"SNR(total) with instrument contrast 10-4:\",np.sum((dn[4][ind_ues_totno[4]]/n_9_5[ind_ues_totno[4]])**2)**(1/2))\n",
      "/var/folders/6t/cpjtlkn10wv603vnph9nr3sh0000gn/T/ipykernel_889/3574435090.py:4: FutureWarning: Using a non-tuple sequence for multidimensional indexing is deprecated; use `arr[tuple(seq)]` instead of `arr[seq]`. In the future this will be interpreted as an array index, `arr[np.array(seq)]`, which will result either in an error or a different result.\n",
      "  print(\"SNR(total) with instrument contrast 10-5:\",np.sum((dn[4][ind_ues_totno[4]]/n_9_6[ind_ues_totno[4]])**2)**(1/2))\n"
     ]
    }
   ],
   "source": [
    "print(\"SNR(total) with instrument contrast 10-2:\",np.sum((dn[4][ind_ues_totno[4]]/n_9_3[ind_ues_totno[4]])**2)**(1/2))\n",
    "print(\"SNR(total) with instrument contrast 10-3:\",np.sum((dn[4][ind_ues_totno[4]]/n_9_4[ind_ues_totno[4]])**2)**(1/2))\n",
    "print(\"SNR(total) with instrument contrast 10-4:\",np.sum((dn[4][ind_ues_totno[4]]/n_9_5[ind_ues_totno[4]])**2)**(1/2))\n",
    "print(\"SNR(total) with instrument contrast 10-5:\",np.sum((dn[4][ind_ues_totno[4]]/n_9_6[ind_ues_totno[4]])**2)**(1/2))"
   ]
  },
  {
   "cell_type": "markdown",
   "id": "8d6a13df",
   "metadata": {},
   "source": [
    "# TRAPPIST-1"
   ]
  },
  {
   "cell_type": "code",
   "execution_count": null,
   "id": "5015ae71",
   "metadata": {},
   "outputs": [],
   "source": [
    "pts"
   ]
  },
  {
   "cell_type": "code",
   "execution_count": null,
   "id": "74200d89",
   "metadata": {},
   "outputs": [],
   "source": [
    "pts.DistancePC[14]*u.pc"
   ]
  },
  {
   "cell_type": "code",
   "execution_count": null,
   "id": "3f945553",
   "metadata": {},
   "outputs": [],
   "source": [
    "pts.RadiusEar[14]*u.R_earth"
   ]
  },
  {
   "cell_type": "code",
   "execution_count": null,
   "id": "91baa90c",
   "metadata": {},
   "outputs": [],
   "source": [
    "pts.SMAAU[14]*u.au"
   ]
  },
  {
   "cell_type": "code",
   "execution_count": null,
   "id": "895e76ec",
   "metadata": {},
   "outputs": [],
   "source": [
    "((pts.RadiusEar[14]*u.R_earth / (pts.SMAAU[14]*u.au))**2).to(u.m/u.m)"
   ]
  },
  {
   "cell_type": "markdown",
   "id": "4a33cfdc",
   "metadata": {},
   "source": [
    "## Sep"
   ]
  },
  {
   "cell_type": "markdown",
   "id": "a963c2ba",
   "metadata": {},
   "source": [
    "### arctan(a / D)"
   ]
  },
  {
   "cell_type": "code",
   "execution_count": null,
   "id": "4d5540c4",
   "metadata": {},
   "outputs": [],
   "source": [
    "np.arctan((pts.SMAAU[14]*u.au/(pts.DistancePC[14]*u.pc)).to(u.m/u.m)).to(u.arcsec)"
   ]
  },
  {
   "cell_type": "markdown",
   "id": "5ce7ce57",
   "metadata": {},
   "source": [
    "## Contrast"
   ]
  },
  {
   "cell_type": "code",
   "execution_count": null,
   "id": "b3140957",
   "metadata": {},
   "outputs": [],
   "source": [
    "((((pts.RadiusEar[14]*u.R_earth / (pts.SMAAU[14]*u.au))**2).to(u.m/u.m)))*0.3"
   ]
  },
  {
   "cell_type": "markdown",
   "id": "16be4cf0",
   "metadata": {},
   "source": [
    "# H"
   ]
  },
  {
   "cell_type": "code",
   "execution_count": null,
   "id": "3cc34d40",
   "metadata": {},
   "outputs": [],
   "source": [
    "np.arctan((pts.SMAAU[15]*u.au/(pts.DistancePC[15]*u.pc)).to(u.m/u.m)).to(u.arcsec)"
   ]
  },
  {
   "cell_type": "code",
   "execution_count": null,
   "id": "b3c56f0c",
   "metadata": {},
   "outputs": [],
   "source": [
    "((((pts.RadiusEar[15]*u.R_earth / (pts.SMAAU[15]*u.au))**2).to(u.m/u.m)))*0.3"
   ]
  },
  {
   "cell_type": "code",
   "execution_count": null,
   "id": "4c8b8e0f",
   "metadata": {},
   "outputs": [],
   "source": []
  }
 ],
 "metadata": {
  "kernelspec": {
   "display_name": "Python 3 (ipykernel)",
   "language": "python",
   "name": "python3"
  },
  "language_info": {
   "codemirror_mode": {
    "name": "ipython",
    "version": 3
   },
   "file_extension": ".py",
   "mimetype": "text/x-python",
   "name": "python",
   "nbconvert_exporter": "python",
   "pygments_lexer": "ipython3",
   "version": "3.9.12"
  }
 },
 "nbformat": 4,
 "nbformat_minor": 5
}
